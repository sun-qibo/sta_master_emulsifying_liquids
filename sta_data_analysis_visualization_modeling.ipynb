{
 "cells": [
  {
   "cell_type": "code",
   "execution_count": 0,
   "metadata": {
    "application/vnd.databricks.v1+cell": {
     "cellMetadata": {
      "byteLimit": 2048000,
      "rowLimit": 10000
     },
     "inputWidgets": {},
     "nuid": "9c70cf0f-288a-48ef-af26-8e7676bf13af",
     "showTitle": false,
     "title": ""
    }
   },
   "outputs": [
    {
     "output_type": "stream",
     "name": "stdout",
     "output_type": "stream",
     "text": [
      "Requirement already satisfied: pip in /databricks/python3/lib/python3.9/site-packages (21.2.4)\nCollecting pip\n  Downloading pip-23.2.1-py3-none-any.whl (2.1 MB)\nInstalling collected packages: pip\n  Attempting uninstall: pip\n    Found existing installation: pip 21.2.4\n    Uninstalling pip-21.2.4:\n      Successfully uninstalled pip-21.2.4\nSuccessfully installed pip-23.2.1\n/bin/bash: line 1: fg: no job control\n"
     ]
    }
   ],
   "source": [
    "%sh\n",
    "/databricks/python3/bin/python -m pip install --upgrade pip\n",
    "%pip install graphviz"
   ]
  },
  {
   "cell_type": "code",
   "execution_count": 0,
   "metadata": {
    "application/vnd.databricks.v1+cell": {
     "cellMetadata": {
      "byteLimit": 2048000,
      "rowLimit": 10000
     },
     "inputWidgets": {},
     "nuid": "e2d57f50-b93d-47f6-8590-69ac21f3e3af",
     "showTitle": false,
     "title": ""
    }
   },
   "outputs": [
    {
     "output_type": "stream",
     "name": "stdout",
     "output_type": "stream",
     "text": [
      "Python interpreter will be restarted.\nRequirement already satisfied: dtreeviz in /local_disk0/.ephemeral_nfs/envs/pythonEnv-51535c33-8fdc-47b2-b860-5965d621034b/lib/python3.9/site-packages (2.2.2)\nRequirement already satisfied: numpy in /databricks/python3/lib/python3.9/site-packages (from dtreeviz) (1.21.5)\nRequirement already satisfied: pandas in /databricks/python3/lib/python3.9/site-packages (from dtreeviz) (1.4.2)\nRequirement already satisfied: matplotlib in /databricks/python3/lib/python3.9/site-packages (from dtreeviz) (3.5.1)\nRequirement already satisfied: pytest in /local_disk0/.ephemeral_nfs/envs/pythonEnv-51535c33-8fdc-47b2-b860-5965d621034b/lib/python3.9/site-packages (from dtreeviz) (7.4.0)\nRequirement already satisfied: scikit-learn in /databricks/python3/lib/python3.9/site-packages (from dtreeviz) (1.0.2)\nRequirement already satisfied: colour in /local_disk0/.ephemeral_nfs/envs/pythonEnv-51535c33-8fdc-47b2-b860-5965d621034b/lib/python3.9/site-packages (from dtreeviz) (0.1.5)\nRequirement already satisfied: graphviz>=0.9 in /local_disk0/.ephemeral_nfs/envs/pythonEnv-51535c33-8fdc-47b2-b860-5965d621034b/lib/python3.9/site-packages (from dtreeviz) (0.20.1)\nRequirement already satisfied: packaging>=20.0 in /databricks/python3/lib/python3.9/site-packages (from matplotlib->dtreeviz) (21.3)\nRequirement already satisfied: python-dateutil>=2.7 in /databricks/python3/lib/python3.9/site-packages (from matplotlib->dtreeviz) (2.8.2)\nRequirement already satisfied: fonttools>=4.22.0 in /databricks/python3/lib/python3.9/site-packages (from matplotlib->dtreeviz) (4.25.0)\nRequirement already satisfied: kiwisolver>=1.0.1 in /databricks/python3/lib/python3.9/site-packages (from matplotlib->dtreeviz) (1.3.2)\nRequirement already satisfied: pyparsing>=2.2.1 in /databricks/python3/lib/python3.9/site-packages (from matplotlib->dtreeviz) (3.0.4)\nRequirement already satisfied: cycler>=0.10 in /databricks/python3/lib/python3.9/site-packages (from matplotlib->dtreeviz) (0.11.0)\nRequirement already satisfied: pillow>=6.2.0 in /databricks/python3/lib/python3.9/site-packages (from matplotlib->dtreeviz) (9.0.1)\nRequirement already satisfied: six>=1.5 in /databricks/python3/lib/python3.9/site-packages (from python-dateutil>=2.7->matplotlib->dtreeviz) (1.16.0)\nRequirement already satisfied: pytz>=2020.1 in /databricks/python3/lib/python3.9/site-packages (from pandas->dtreeviz) (2021.3)\nRequirement already satisfied: pluggy<2.0,>=0.12 in /databricks/python3/lib/python3.9/site-packages (from pytest->dtreeviz) (1.0.0)\nRequirement already satisfied: iniconfig in /local_disk0/.ephemeral_nfs/envs/pythonEnv-51535c33-8fdc-47b2-b860-5965d621034b/lib/python3.9/site-packages (from pytest->dtreeviz) (2.0.0)\nRequirement already satisfied: tomli>=1.0.0 in /databricks/python3/lib/python3.9/site-packages (from pytest->dtreeviz) (1.2.2)\nRequirement already satisfied: exceptiongroup>=1.0.0rc8 in /local_disk0/.ephemeral_nfs/envs/pythonEnv-51535c33-8fdc-47b2-b860-5965d621034b/lib/python3.9/site-packages (from pytest->dtreeviz) (1.1.3)\nRequirement already satisfied: threadpoolctl>=2.0.0 in /databricks/python3/lib/python3.9/site-packages (from scikit-learn->dtreeviz) (2.2.0)\nRequirement already satisfied: scipy>=1.1.0 in /databricks/python3/lib/python3.9/site-packages (from scikit-learn->dtreeviz) (1.7.3)\nRequirement already satisfied: joblib>=0.11 in /databricks/python3/lib/python3.9/site-packages (from scikit-learn->dtreeviz) (1.1.1)\nPython interpreter will be restarted.\n"
     ]
    }
   ],
   "source": [
    "%pip install dtreeviz"
   ]
  },
  {
   "cell_type": "code",
   "execution_count": 0,
   "metadata": {
    "application/vnd.databricks.v1+cell": {
     "cellMetadata": {
      "byteLimit": 2048000,
      "rowLimit": 10000
     },
     "inputWidgets": {},
     "nuid": "4fae7389-524a-42f5-9f7b-5a4cc76d009c",
     "showTitle": false,
     "title": ""
    }
   },
   "outputs": [
    {
     "output_type": "display_data",
     "data": {
      "application/vnd.databricks.v1+bamboolib_hint": "{\"pd.DataFrames\": [], \"version\": \"0.0.1\"}",
      "text/plain": []
     },
     "metadata": {},
     "output_type": "display_data"
    }
   ],
   "source": [
    "import os \n",
    "\n",
    "import numpy as np\n",
    "import pandas as pd\n",
    "from scipy import ndimage\n",
    "from matplotlib import pyplot as plt\n",
    "from pandas.core.computation.check import NUMEXPR_INSTALLED\n",
    "import glob\n",
    "import re\n",
    "from pathlib import Path\n",
    "import seaborn as sns\n",
    "\n",
    "import sklearn\n",
    "from sklearn.tree import DecisionTreeClassifier\n",
    "from sklearn.metrics import accuracy_score \n",
    "from sklearn.tree import plot_tree \n",
    "from sklearn.tree import DecisionTreeClassifier\n",
    "from sklearn import tree"
   ]
  },
  {
   "cell_type": "code",
   "execution_count": 0,
   "metadata": {
    "application/vnd.databricks.v1+cell": {
     "cellMetadata": {
      "byteLimit": 2048000,
      "rowLimit": 10000
     },
     "inputWidgets": {},
     "nuid": "0db7b6e7-5012-49c8-af49-a3269ca14533",
     "showTitle": false,
     "title": ""
    }
   },
   "outputs": [],
   "source": [
    "path_data = r'/dbfs/mnt/rniRaw/SN/STA/data/sta_matrix_raw.txt'\n",
    "path_curated = r'/dbfs/mnt/rniCurated/SN/STA/'\n",
    "path_res_all = r'/dbfs/mnt/rniProduced/SN/STA/res_all'\n",
    "path_res_by_cluster = r'/dbfs/mnt/rniProduced/SN/STA/res_by_cluster'"
   ]
  },
  {
   "cell_type": "code",
   "execution_count": 0,
   "metadata": {
    "application/vnd.databricks.v1+cell": {
     "cellMetadata": {
      "byteLimit": 2048000,
      "rowLimit": 10000
     },
     "inputWidgets": {},
     "nuid": "9bc89ac9-d784-4565-8a69-f0ba8d3eaf9a",
     "showTitle": false,
     "title": ""
    }
   },
   "outputs": [
    {
     "output_type": "display_data",
     "data": {
      "text/html": [
       "<svg  width=\"220\" height=\"55\"><rect x=\"0\" y=\"0\" width=\"55\" height=\"55\" style=\"fill:#4471b2;stroke-width:2;stroke:rgb(255,255,255)\"/><rect x=\"55\" y=\"0\" width=\"55\" height=\"55\" style=\"fill:#7ecca5;stroke-width:2;stroke:rgb(255,255,255)\"/><rect x=\"110\" y=\"0\" width=\"55\" height=\"55\" style=\"fill:#fec877;stroke-width:2;stroke:rgb(255,255,255)\"/><rect x=\"165\" y=\"0\" width=\"55\" height=\"55\" style=\"fill:#ed6246;stroke-width:2;stroke:rgb(255,255,255)\"/></svg>"
      ]
     },
     "metadata": {
      "application/vnd.databricks.v1+output": {
       "addedWidgets": {},
       "arguments": {},
       "data": "<svg  width=\"220\" height=\"55\"><rect x=\"0\" y=\"0\" width=\"55\" height=\"55\" style=\"fill:#4471b2;stroke-width:2;stroke:rgb(255,255,255)\"/><rect x=\"55\" y=\"0\" width=\"55\" height=\"55\" style=\"fill:#7ecca5;stroke-width:2;stroke:rgb(255,255,255)\"/><rect x=\"110\" y=\"0\" width=\"55\" height=\"55\" style=\"fill:#fec877;stroke-width:2;stroke:rgb(255,255,255)\"/><rect x=\"165\" y=\"0\" width=\"55\" height=\"55\" style=\"fill:#ed6246;stroke-width:2;stroke:rgb(255,255,255)\"/></svg>",
       "datasetInfos": [],
       "metadata": {},
       "removedWidgets": [],
       "textData": null,
       "type": "htmlSandbox"
      }
     },
     "output_type": "display_data"
    }
   ],
   "source": [
    "palette_spc = sns.color_palette(\"Spectral\",n_colors=16)\n",
    "palette_spc.reverse()\n",
    "palette = sns.color_palette([palette_spc[0], palette_spc[3], palette_spc[10], palette_spc[-3]])\n",
    "palette"
   ]
  },
  {
   "cell_type": "code",
   "execution_count": 0,
   "metadata": {
    "application/vnd.databricks.v1+cell": {
     "cellMetadata": {
      "byteLimit": 2048000,
      "rowLimit": 10000
     },
     "inputWidgets": {},
     "nuid": "bc92f84b-7927-413e-90bc-7596dc39c2ef",
     "showTitle": false,
     "title": ""
    }
   },
   "outputs": [
    {
     "output_type": "display_data",
     "data": {
      "text/html": [
       "<div>\n",
       "<style scoped>\n",
       "    .dataframe tbody tr th:only-of-type {\n",
       "        vertical-align: middle;\n",
       "    }\n",
       "\n",
       "    .dataframe tbody tr th {\n",
       "        vertical-align: top;\n",
       "    }\n",
       "\n",
       "    .dataframe thead th {\n",
       "        text-align: right;\n",
       "    }\n",
       "</style>\n",
       "<table border=\"1\" class=\"dataframe\">\n",
       "  <thead>\n",
       "    <tr style=\"text-align: right;\">\n",
       "      <th></th>\n",
       "      <th>pds_code</th>\n",
       "      <th>General|Category no empty cell/not merged</th>\n",
       "      <th>General|Product type  no empty cell/not merged</th>\n",
       "      <th>General|Subcategory no empty cell/not merged</th>\n",
       "      <th>Emulsifier and oil|Ratio total oil/emulsifier</th>\n",
       "      <th>Emulsifier and oil|Phospholipids g/100mL</th>\n",
       "      <th>Total Lipids g/100g product</th>\n",
       "      <th>FA_Sat g/100gFA</th>\n",
       "      <th>FA_Mono unsat g/100gFA</th>\n",
       "      <th>FA_Poly unsatg/100gFA</th>\n",
       "      <th>Pasteurization  homo|P Pasto/homo bar</th>\n",
       "      <th>Pasteurization  homo|T°C Pasto/Homo</th>\n",
       "      <th>Pasteurization|T°C Pasto</th>\n",
       "      <th>Pasteurization|Time Pasto sec</th>\n",
       "      <th>Sterilization US homo|P Sterilization US bar</th>\n",
       "      <th>Sterilization US homo|T°C Steril US</th>\n",
       "      <th>SterilizationDS homo|P Steril DS</th>\n",
       "      <th>SterilizationDS homo|T°C Steril DS</th>\n",
       "      <th>Sterilization|Direct/indirect Ste</th>\n",
       "      <th>Sterilization|F0</th>\n",
       "      <th>Sterilization|T°C Steril</th>\n",
       "      <th>Sterilization|Time Ste sec</th>\n",
       "      <th>Protein|Type of protein</th>\n",
       "      <th>Protein|intact / hydrolysate/am acids</th>\n",
       "      <th>Protein|Prot level Nx6,25 g/100g product</th>\n",
       "      <th>Protein|casein Nx6,25g/100g product</th>\n",
       "      <th>Protein|whey protNx6,25g/100g product</th>\n",
       "      <th>Protein|SOY prot g/100g productNx6,25</th>\n",
       "      <th>Protein|PEA prot g/100g productNx6,25</th>\n",
       "      <th>Protein|Content kg/L</th>\n",
       "      <th>Stabilizers  thickners|Type</th>\n",
       "      <th>Stabilizers  thickners|Amount kg/1000L</th>\n",
       "      <th>Calcium minerals|Ca levelg/100g</th>\n",
       "      <th>Product KPI  at T=0 |dry matter g/100g</th>\n",
       "      <th>Product KPI  at T=0 |pH / Acidity</th>\n",
       "      <th>Product KPI  at T=0 |Viscosity mPas</th>\n",
       "      <th>target</th>\n",
       "      <th>Emulsifier and oil|Emulsifier_Citrem LIQUID  E472c</th>\n",
       "      <th>Emulsifier and oil|Emulsifier_Citrem POWDER  E472c</th>\n",
       "      <th>Emulsifier and oil|Emulsifier_DIMODAN  E471</th>\n",
       "      <th>...</th>\n",
       "      <th>Polysaccharides_Starch</th>\n",
       "      <th>Polysaccharides_Sucrose</th>\n",
       "      <th>Polysaccharides_Sugar</th>\n",
       "      <th>Polysaccharides_total_amount</th>\n",
       "      <th>Protein_Calcium caseinates</th>\n",
       "      <th>Protein_Casein hydrolysate</th>\n",
       "      <th>Protein_Concentrated skimmed milk</th>\n",
       "      <th>Protein_Demineralized whey permeate 125% protein ORGANIC</th>\n",
       "      <th>Protein_Demineralized whey permeate 90</th>\n",
       "      <th>Protein_IP LQD DCI 12% No premix UF</th>\n",
       "      <th>Protein_IP PWD HYDR ACID WHEY</th>\n",
       "      <th>Protein_LIsoleucine</th>\n",
       "      <th>Protein_LLeucine</th>\n",
       "      <th>Protein_LValine</th>\n",
       "      <th>Protein_Lactofidus BP POF P1</th>\n",
       "      <th>Protein_Milk Casein Isolate</th>\n",
       "      <th>Protein_Milk Protein Concentrate</th>\n",
       "      <th>Protein_Milk Protein Isolate</th>\n",
       "      <th>Protein_Milk minerals concentrates</th>\n",
       "      <th>Protein_Pea protein</th>\n",
       "      <th>Protein_Pea protein isolate</th>\n",
       "      <th>Protein_Pepti permeate</th>\n",
       "      <th>Protein_Potassium caseinate</th>\n",
       "      <th>Protein_Skimmed milk Liquid</th>\n",
       "      <th>Protein_Skimmed milk Powder ORGANIC</th>\n",
       "      <th>Protein_Sodium caseinate</th>\n",
       "      <th>Protein_Soy protein isolate</th>\n",
       "      <th>Protein_WPC</th>\n",
       "      <th>Protein_WPC80 Native</th>\n",
       "      <th>Protein_WPC80 Native low Lactose</th>\n",
       "      <th>Protein_WPC83 Native</th>\n",
       "      <th>Protein_WPI Acid</th>\n",
       "      <th>Protein_WPI Native</th>\n",
       "      <th>Protein_WPI neutralized</th>\n",
       "      <th>Protein_WPI sweet</th>\n",
       "      <th>Protein_Whey protein hydrolysate</th>\n",
       "      <th>Protein_Whey rich in milk calcium</th>\n",
       "      <th>Protein_Yoghurt powder</th>\n",
       "      <th>Protein_whey protein hydrolysate</th>\n",
       "      <th>Protein_total_amount</th>\n",
       "    </tr>\n",
       "  </thead>\n",
       "  <tbody>\n",
       "    <tr>\n",
       "      <th>0</th>\n",
       "      <td>10103262</td>\n",
       "      <td>Adult ONS</td>\n",
       "      <td>CUBITAN</td>\n",
       "      <td>NaN</td>\n",
       "      <td>30.882353</td>\n",
       "      <td>NaN</td>\n",
       "      <td>3.225499</td>\n",
       "      <td>14.388776</td>\n",
       "      <td>57.052004</td>\n",
       "      <td>28.559220</td>\n",
       "      <td>550+50</td>\n",
       "      <td>60</td>\n",
       "      <td>95.0</td>\n",
       "      <td>30.0</td>\n",
       "      <td>NaN</td>\n",
       "      <td>NaN</td>\n",
       "      <td>100+0</td>\n",
       "      <td>60.0</td>\n",
       "      <td>Indirect</td>\n",
       "      <td>15.561806</td>\n",
       "      <td>127.0</td>\n",
       "      <td>240.0</td>\n",
       "      <td>Dairy</td>\n",
       "      <td>Intact</td>\n",
       "      <td>9.634344</td>\n",
       "      <td>NaN</td>\n",
       "      <td>NaN</td>\n",
       "      <td>NaN</td>\n",
       "      <td>NaN</td>\n",
       "      <td>8.850000</td>\n",
       "      <td>NaN</td>\n",
       "      <td>NaN</td>\n",
       "      <td>0.207374</td>\n",
       "      <td>27.087772</td>\n",
       "      <td>6.70</td>\n",
       "      <td>40.0</td>\n",
       "      <td>2.0</td>\n",
       "      <td>0.0</td>\n",
       "      <td>0.0</td>\n",
       "      <td>0.0</td>\n",
       "      <td>...</td>\n",
       "      <td>0.0</td>\n",
       "      <td>0.0</td>\n",
       "      <td>0.249377</td>\n",
       "      <td>240.600</td>\n",
       "      <td>0.0</td>\n",
       "      <td>0.0</td>\n",
       "      <td>0.0</td>\n",
       "      <td>0.0</td>\n",
       "      <td>0.0</td>\n",
       "      <td>0.0</td>\n",
       "      <td>0.0</td>\n",
       "      <td>0.0</td>\n",
       "      <td>0.0</td>\n",
       "      <td>0.0</td>\n",
       "      <td>0.0</td>\n",
       "      <td>0.0</td>\n",
       "      <td>0.0</td>\n",
       "      <td>0.0</td>\n",
       "      <td>0.0</td>\n",
       "      <td>0.0</td>\n",
       "      <td>0.000000</td>\n",
       "      <td>0.0</td>\n",
       "      <td>0.0</td>\n",
       "      <td>1.0</td>\n",
       "      <td>0.0</td>\n",
       "      <td>0.0</td>\n",
       "      <td>0.000000</td>\n",
       "      <td>0.0</td>\n",
       "      <td>0.0</td>\n",
       "      <td>0.0</td>\n",
       "      <td>0.0</td>\n",
       "      <td>0.0</td>\n",
       "      <td>0.0</td>\n",
       "      <td>0.0</td>\n",
       "      <td>0.0</td>\n",
       "      <td>0.0</td>\n",
       "      <td>0.0</td>\n",
       "      <td>0.0</td>\n",
       "      <td>0.0</td>\n",
       "      <td>81.100</td>\n",
       "    </tr>\n",
       "    <tr>\n",
       "      <th>1</th>\n",
       "      <td>10103271</td>\n",
       "      <td>Adult ONS</td>\n",
       "      <td>CUBITAN</td>\n",
       "      <td>NaN</td>\n",
       "      <td>31.142857</td>\n",
       "      <td>NaN</td>\n",
       "      <td>1.255000</td>\n",
       "      <td>12.616000</td>\n",
       "      <td>57.950000</td>\n",
       "      <td>29.434000</td>\n",
       "      <td>550+50</td>\n",
       "      <td>60</td>\n",
       "      <td>95.0</td>\n",
       "      <td>30.0</td>\n",
       "      <td>NaN</td>\n",
       "      <td>NaN</td>\n",
       "      <td>100+0</td>\n",
       "      <td>60.0</td>\n",
       "      <td>Indirect</td>\n",
       "      <td>15.561806</td>\n",
       "      <td>127.0</td>\n",
       "      <td>240.0</td>\n",
       "      <td>Dairy</td>\n",
       "      <td>Intact</td>\n",
       "      <td>3.577000</td>\n",
       "      <td>2.155</td>\n",
       "      <td>0.538719</td>\n",
       "      <td>0.000037</td>\n",
       "      <td>0.000000</td>\n",
       "      <td>8.810000</td>\n",
       "      <td>NaN</td>\n",
       "      <td>NaN</td>\n",
       "      <td>NaN</td>\n",
       "      <td>NaN</td>\n",
       "      <td>6.80</td>\n",
       "      <td>15.0</td>\n",
       "      <td>2.0</td>\n",
       "      <td>0.0</td>\n",
       "      <td>0.0</td>\n",
       "      <td>0.0</td>\n",
       "      <td>...</td>\n",
       "      <td>0.0</td>\n",
       "      <td>0.0</td>\n",
       "      <td>0.321668</td>\n",
       "      <td>155.440</td>\n",
       "      <td>0.0</td>\n",
       "      <td>0.0</td>\n",
       "      <td>0.0</td>\n",
       "      <td>0.0</td>\n",
       "      <td>0.0</td>\n",
       "      <td>0.0</td>\n",
       "      <td>0.0</td>\n",
       "      <td>0.0</td>\n",
       "      <td>0.0</td>\n",
       "      <td>0.0</td>\n",
       "      <td>0.0</td>\n",
       "      <td>0.0</td>\n",
       "      <td>0.0</td>\n",
       "      <td>0.0</td>\n",
       "      <td>0.0</td>\n",
       "      <td>0.0</td>\n",
       "      <td>0.000000</td>\n",
       "      <td>0.0</td>\n",
       "      <td>0.0</td>\n",
       "      <td>1.0</td>\n",
       "      <td>0.0</td>\n",
       "      <td>0.0</td>\n",
       "      <td>0.000000</td>\n",
       "      <td>0.0</td>\n",
       "      <td>0.0</td>\n",
       "      <td>0.0</td>\n",
       "      <td>0.0</td>\n",
       "      <td>0.0</td>\n",
       "      <td>0.0</td>\n",
       "      <td>0.0</td>\n",
       "      <td>0.0</td>\n",
       "      <td>0.0</td>\n",
       "      <td>0.0</td>\n",
       "      <td>0.0</td>\n",
       "      <td>0.0</td>\n",
       "      <td>83.700</td>\n",
       "    </tr>\n",
       "    <tr>\n",
       "      <th>2</th>\n",
       "      <td>10103278</td>\n",
       "      <td>Tube</td>\n",
       "      <td>PEPTISON MARS</td>\n",
       "      <td>NaN</td>\n",
       "      <td>NaN</td>\n",
       "      <td>NaN</td>\n",
       "      <td>1.548203</td>\n",
       "      <td>58.257486</td>\n",
       "      <td>12.068911</td>\n",
       "      <td>29.673604</td>\n",
       "      <td>250+50</td>\n",
       "      <td>60</td>\n",
       "      <td>80.0</td>\n",
       "      <td>0.0</td>\n",
       "      <td>NaN</td>\n",
       "      <td>NaN</td>\n",
       "      <td>100+0</td>\n",
       "      <td>60.0</td>\n",
       "      <td>Indirect</td>\n",
       "      <td>0.039089</td>\n",
       "      <td>101.0</td>\n",
       "      <td>240.0</td>\n",
       "      <td>Dairy</td>\n",
       "      <td>Hydrolyzed</td>\n",
       "      <td>3.625735</td>\n",
       "      <td>NaN</td>\n",
       "      <td>3.596682</td>\n",
       "      <td>NaN</td>\n",
       "      <td>NaN</td>\n",
       "      <td>NaN</td>\n",
       "      <td>Modified starch</td>\n",
       "      <td>20.0</td>\n",
       "      <td>0.073756</td>\n",
       "      <td>22.688308</td>\n",
       "      <td>4.00</td>\n",
       "      <td>8.0</td>\n",
       "      <td>3.0</td>\n",
       "      <td>NaN</td>\n",
       "      <td>NaN</td>\n",
       "      <td>NaN</td>\n",
       "      <td>...</td>\n",
       "      <td>0.0</td>\n",
       "      <td>0.0</td>\n",
       "      <td>0.000000</td>\n",
       "      <td>215.177</td>\n",
       "      <td>0.0</td>\n",
       "      <td>0.0</td>\n",
       "      <td>0.0</td>\n",
       "      <td>0.0</td>\n",
       "      <td>0.0</td>\n",
       "      <td>0.0</td>\n",
       "      <td>0.0</td>\n",
       "      <td>0.0</td>\n",
       "      <td>0.0</td>\n",
       "      <td>0.0</td>\n",
       "      <td>0.0</td>\n",
       "      <td>0.0</td>\n",
       "      <td>0.0</td>\n",
       "      <td>0.0</td>\n",
       "      <td>0.0</td>\n",
       "      <td>0.0</td>\n",
       "      <td>0.000000</td>\n",
       "      <td>0.0</td>\n",
       "      <td>0.0</td>\n",
       "      <td>0.0</td>\n",
       "      <td>0.0</td>\n",
       "      <td>0.0</td>\n",
       "      <td>0.000000</td>\n",
       "      <td>0.0</td>\n",
       "      <td>0.0</td>\n",
       "      <td>0.0</td>\n",
       "      <td>0.0</td>\n",
       "      <td>0.0</td>\n",
       "      <td>0.0</td>\n",
       "      <td>0.0</td>\n",
       "      <td>0.0</td>\n",
       "      <td>1.0</td>\n",
       "      <td>0.0</td>\n",
       "      <td>0.0</td>\n",
       "      <td>0.0</td>\n",
       "      <td>48.000</td>\n",
       "    </tr>\n",
       "    <tr>\n",
       "      <th>3</th>\n",
       "      <td>10103281</td>\n",
       "      <td>Adult ONS</td>\n",
       "      <td>CUBITAN</td>\n",
       "      <td>NaN</td>\n",
       "      <td>31.142857</td>\n",
       "      <td>NaN</td>\n",
       "      <td>1.369000</td>\n",
       "      <td>17.854000</td>\n",
       "      <td>54.973000</td>\n",
       "      <td>27.172000</td>\n",
       "      <td>550+50</td>\n",
       "      <td>60</td>\n",
       "      <td>95.0</td>\n",
       "      <td>30.0</td>\n",
       "      <td>NaN</td>\n",
       "      <td>NaN</td>\n",
       "      <td>100+0</td>\n",
       "      <td>60.0</td>\n",
       "      <td>Indirect</td>\n",
       "      <td>15.561806</td>\n",
       "      <td>127.0</td>\n",
       "      <td>240.0</td>\n",
       "      <td>Dairy</td>\n",
       "      <td>Intact</td>\n",
       "      <td>10.004000</td>\n",
       "      <td>7.295</td>\n",
       "      <td>1.824000</td>\n",
       "      <td>0.000037</td>\n",
       "      <td>0.000000</td>\n",
       "      <td>8.810000</td>\n",
       "      <td>NaN</td>\n",
       "      <td>NaN</td>\n",
       "      <td>NaN</td>\n",
       "      <td>NaN</td>\n",
       "      <td>6.80</td>\n",
       "      <td>15.0</td>\n",
       "      <td>2.0</td>\n",
       "      <td>0.0</td>\n",
       "      <td>0.0</td>\n",
       "      <td>0.0</td>\n",
       "      <td>...</td>\n",
       "      <td>0.0</td>\n",
       "      <td>0.0</td>\n",
       "      <td>0.321647</td>\n",
       "      <td>155.450</td>\n",
       "      <td>0.0</td>\n",
       "      <td>0.0</td>\n",
       "      <td>0.0</td>\n",
       "      <td>0.0</td>\n",
       "      <td>0.0</td>\n",
       "      <td>0.0</td>\n",
       "      <td>0.0</td>\n",
       "      <td>0.0</td>\n",
       "      <td>0.0</td>\n",
       "      <td>0.0</td>\n",
       "      <td>0.0</td>\n",
       "      <td>0.0</td>\n",
       "      <td>0.0</td>\n",
       "      <td>0.0</td>\n",
       "      <td>0.0</td>\n",
       "      <td>0.0</td>\n",
       "      <td>0.000000</td>\n",
       "      <td>0.0</td>\n",
       "      <td>0.0</td>\n",
       "      <td>1.0</td>\n",
       "      <td>0.0</td>\n",
       "      <td>0.0</td>\n",
       "      <td>0.000000</td>\n",
       "      <td>0.0</td>\n",
       "      <td>0.0</td>\n",
       "      <td>0.0</td>\n",
       "      <td>0.0</td>\n",
       "      <td>0.0</td>\n",
       "      <td>0.0</td>\n",
       "      <td>0.0</td>\n",
       "      <td>0.0</td>\n",
       "      <td>0.0</td>\n",
       "      <td>0.0</td>\n",
       "      <td>0.0</td>\n",
       "      <td>0.0</td>\n",
       "      <td>83.700</td>\n",
       "    </tr>\n",
       "    <tr>\n",
       "      <th>4</th>\n",
       "      <td>10103290</td>\n",
       "      <td>Adult ONS</td>\n",
       "      <td>FORTIMEL</td>\n",
       "      <td>NaN</td>\n",
       "      <td>35.660377</td>\n",
       "      <td>NaN</td>\n",
       "      <td>NaN</td>\n",
       "      <td>NaN</td>\n",
       "      <td>NaN</td>\n",
       "      <td>NaN</td>\n",
       "      <td>550+50</td>\n",
       "      <td>60</td>\n",
       "      <td>95.0</td>\n",
       "      <td>30.0</td>\n",
       "      <td>NaN</td>\n",
       "      <td>NaN</td>\n",
       "      <td>100+0</td>\n",
       "      <td>60.0</td>\n",
       "      <td>Indirect</td>\n",
       "      <td>15.561806</td>\n",
       "      <td>127.0</td>\n",
       "      <td>240.0</td>\n",
       "      <td>Dairy</td>\n",
       "      <td>Intact</td>\n",
       "      <td>NaN</td>\n",
       "      <td>NaN</td>\n",
       "      <td>NaN</td>\n",
       "      <td>NaN</td>\n",
       "      <td>NaN</td>\n",
       "      <td>NaN</td>\n",
       "      <td>NaN</td>\n",
       "      <td>NaN</td>\n",
       "      <td>NaN</td>\n",
       "      <td>NaN</td>\n",
       "      <td>6.75</td>\n",
       "      <td>7.4</td>\n",
       "      <td>1.0</td>\n",
       "      <td>0.0</td>\n",
       "      <td>0.0</td>\n",
       "      <td>0.0</td>\n",
       "      <td>...</td>\n",
       "      <td>0.0</td>\n",
       "      <td>0.0</td>\n",
       "      <td>0.586496</td>\n",
       "      <td>72.720</td>\n",
       "      <td>0.0</td>\n",
       "      <td>0.0</td>\n",
       "      <td>0.0</td>\n",
       "      <td>0.0</td>\n",
       "      <td>0.0</td>\n",
       "      <td>0.0</td>\n",
       "      <td>0.0</td>\n",
       "      <td>0.0</td>\n",
       "      <td>0.0</td>\n",
       "      <td>0.0</td>\n",
       "      <td>0.0</td>\n",
       "      <td>0.0</td>\n",
       "      <td>0.0</td>\n",
       "      <td>0.0</td>\n",
       "      <td>0.0</td>\n",
       "      <td>0.0</td>\n",
       "      <td>0.000000</td>\n",
       "      <td>0.0</td>\n",
       "      <td>0.0</td>\n",
       "      <td>1.0</td>\n",
       "      <td>0.0</td>\n",
       "      <td>0.0</td>\n",
       "      <td>0.000000</td>\n",
       "      <td>0.0</td>\n",
       "      <td>0.0</td>\n",
       "      <td>0.0</td>\n",
       "      <td>0.0</td>\n",
       "      <td>0.0</td>\n",
       "      <td>0.0</td>\n",
       "      <td>0.0</td>\n",
       "      <td>0.0</td>\n",
       "      <td>0.0</td>\n",
       "      <td>0.0</td>\n",
       "      <td>0.0</td>\n",
       "      <td>0.0</td>\n",
       "      <td>106.380</td>\n",
       "    </tr>\n",
       "    <tr>\n",
       "      <th>...</th>\n",
       "      <td>...</td>\n",
       "      <td>...</td>\n",
       "      <td>...</td>\n",
       "      <td>...</td>\n",
       "      <td>...</td>\n",
       "      <td>...</td>\n",
       "      <td>...</td>\n",
       "      <td>...</td>\n",
       "      <td>...</td>\n",
       "      <td>...</td>\n",
       "      <td>...</td>\n",
       "      <td>...</td>\n",
       "      <td>...</td>\n",
       "      <td>...</td>\n",
       "      <td>...</td>\n",
       "      <td>...</td>\n",
       "      <td>...</td>\n",
       "      <td>...</td>\n",
       "      <td>...</td>\n",
       "      <td>...</td>\n",
       "      <td>...</td>\n",
       "      <td>...</td>\n",
       "      <td>...</td>\n",
       "      <td>...</td>\n",
       "      <td>...</td>\n",
       "      <td>...</td>\n",
       "      <td>...</td>\n",
       "      <td>...</td>\n",
       "      <td>...</td>\n",
       "      <td>...</td>\n",
       "      <td>...</td>\n",
       "      <td>...</td>\n",
       "      <td>...</td>\n",
       "      <td>...</td>\n",
       "      <td>...</td>\n",
       "      <td>...</td>\n",
       "      <td>...</td>\n",
       "      <td>...</td>\n",
       "      <td>...</td>\n",
       "      <td>...</td>\n",
       "      <td>...</td>\n",
       "      <td>...</td>\n",
       "      <td>...</td>\n",
       "      <td>...</td>\n",
       "      <td>...</td>\n",
       "      <td>...</td>\n",
       "      <td>...</td>\n",
       "      <td>...</td>\n",
       "      <td>...</td>\n",
       "      <td>...</td>\n",
       "      <td>...</td>\n",
       "      <td>...</td>\n",
       "      <td>...</td>\n",
       "      <td>...</td>\n",
       "      <td>...</td>\n",
       "      <td>...</td>\n",
       "      <td>...</td>\n",
       "      <td>...</td>\n",
       "      <td>...</td>\n",
       "      <td>...</td>\n",
       "      <td>...</td>\n",
       "      <td>...</td>\n",
       "      <td>...</td>\n",
       "      <td>...</td>\n",
       "      <td>...</td>\n",
       "      <td>...</td>\n",
       "      <td>...</td>\n",
       "      <td>...</td>\n",
       "      <td>...</td>\n",
       "      <td>...</td>\n",
       "      <td>...</td>\n",
       "      <td>...</td>\n",
       "      <td>...</td>\n",
       "      <td>...</td>\n",
       "      <td>...</td>\n",
       "      <td>...</td>\n",
       "      <td>...</td>\n",
       "      <td>...</td>\n",
       "      <td>...</td>\n",
       "      <td>...</td>\n",
       "      <td>...</td>\n",
       "    </tr>\n",
       "    <tr>\n",
       "      <th>125</th>\n",
       "      <td>Only trial available</td>\n",
       "      <td>Adult ONS</td>\n",
       "      <td>Plant based ONS</td>\n",
       "      <td>plant proteins</td>\n",
       "      <td>NaN</td>\n",
       "      <td>NaN</td>\n",
       "      <td>5.800000</td>\n",
       "      <td>10.452771</td>\n",
       "      <td>56.219348</td>\n",
       "      <td>33.327880</td>\n",
       "      <td>NaN</td>\n",
       "      <td>NaN</td>\n",
       "      <td>NaN</td>\n",
       "      <td>NaN</td>\n",
       "      <td>NaN</td>\n",
       "      <td>NaN</td>\n",
       "      <td>NaN</td>\n",
       "      <td>NaN</td>\n",
       "      <td>NaN</td>\n",
       "      <td>NaN</td>\n",
       "      <td>NaN</td>\n",
       "      <td>NaN</td>\n",
       "      <td>NaN</td>\n",
       "      <td>Intact</td>\n",
       "      <td>5.482320</td>\n",
       "      <td>NaN</td>\n",
       "      <td>NaN</td>\n",
       "      <td>1.762135</td>\n",
       "      <td>3.712082</td>\n",
       "      <td>NaN</td>\n",
       "      <td>NaN</td>\n",
       "      <td>NaN</td>\n",
       "      <td>0.114215</td>\n",
       "      <td>28.240000</td>\n",
       "      <td>7.40</td>\n",
       "      <td>41.0</td>\n",
       "      <td>3.0</td>\n",
       "      <td>NaN</td>\n",
       "      <td>NaN</td>\n",
       "      <td>NaN</td>\n",
       "      <td>...</td>\n",
       "      <td>NaN</td>\n",
       "      <td>NaN</td>\n",
       "      <td>NaN</td>\n",
       "      <td>NaN</td>\n",
       "      <td>NaN</td>\n",
       "      <td>NaN</td>\n",
       "      <td>NaN</td>\n",
       "      <td>NaN</td>\n",
       "      <td>NaN</td>\n",
       "      <td>NaN</td>\n",
       "      <td>NaN</td>\n",
       "      <td>NaN</td>\n",
       "      <td>NaN</td>\n",
       "      <td>NaN</td>\n",
       "      <td>NaN</td>\n",
       "      <td>NaN</td>\n",
       "      <td>NaN</td>\n",
       "      <td>NaN</td>\n",
       "      <td>NaN</td>\n",
       "      <td>NaN</td>\n",
       "      <td>NaN</td>\n",
       "      <td>NaN</td>\n",
       "      <td>NaN</td>\n",
       "      <td>NaN</td>\n",
       "      <td>NaN</td>\n",
       "      <td>NaN</td>\n",
       "      <td>NaN</td>\n",
       "      <td>NaN</td>\n",
       "      <td>NaN</td>\n",
       "      <td>NaN</td>\n",
       "      <td>NaN</td>\n",
       "      <td>NaN</td>\n",
       "      <td>NaN</td>\n",
       "      <td>NaN</td>\n",
       "      <td>NaN</td>\n",
       "      <td>NaN</td>\n",
       "      <td>NaN</td>\n",
       "      <td>NaN</td>\n",
       "      <td>NaN</td>\n",
       "      <td>NaN</td>\n",
       "    </tr>\n",
       "    <tr>\n",
       "      <th>126</th>\n",
       "      <td>N/A Fortimel Plant based ONS</td>\n",
       "      <td>Adult ONS</td>\n",
       "      <td>Fortimel Plant based ONS</td>\n",
       "      <td>HEHP. plant proteins</td>\n",
       "      <td>30.477302</td>\n",
       "      <td>0.10</td>\n",
       "      <td>7.800000</td>\n",
       "      <td>NaN</td>\n",
       "      <td>NaN</td>\n",
       "      <td>NaN</td>\n",
       "      <td>NaN</td>\n",
       "      <td>NaN</td>\n",
       "      <td>NaN</td>\n",
       "      <td>NaN</td>\n",
       "      <td>NaN</td>\n",
       "      <td>NaN</td>\n",
       "      <td>NaN</td>\n",
       "      <td>NaN</td>\n",
       "      <td>NaN</td>\n",
       "      <td>NaN</td>\n",
       "      <td>NaN</td>\n",
       "      <td>NaN</td>\n",
       "      <td>Plant based</td>\n",
       "      <td>Intact</td>\n",
       "      <td>NaN</td>\n",
       "      <td>NaN</td>\n",
       "      <td>NaN</td>\n",
       "      <td>NaN</td>\n",
       "      <td>NaN</td>\n",
       "      <td>0.079771</td>\n",
       "      <td>NaN</td>\n",
       "      <td>NaN</td>\n",
       "      <td>NaN</td>\n",
       "      <td>36.799000</td>\n",
       "      <td>7.80</td>\n",
       "      <td>60.0</td>\n",
       "      <td>4.0</td>\n",
       "      <td>0.0</td>\n",
       "      <td>0.0</td>\n",
       "      <td>0.0</td>\n",
       "      <td>...</td>\n",
       "      <td>0.0</td>\n",
       "      <td>0.0</td>\n",
       "      <td>0.000000</td>\n",
       "      <td>229.571</td>\n",
       "      <td>0.0</td>\n",
       "      <td>0.0</td>\n",
       "      <td>0.0</td>\n",
       "      <td>0.0</td>\n",
       "      <td>0.0</td>\n",
       "      <td>0.0</td>\n",
       "      <td>0.0</td>\n",
       "      <td>0.0</td>\n",
       "      <td>0.0</td>\n",
       "      <td>0.0</td>\n",
       "      <td>0.0</td>\n",
       "      <td>0.0</td>\n",
       "      <td>0.0</td>\n",
       "      <td>0.0</td>\n",
       "      <td>0.0</td>\n",
       "      <td>0.0</td>\n",
       "      <td>0.323952</td>\n",
       "      <td>0.0</td>\n",
       "      <td>0.0</td>\n",
       "      <td>0.0</td>\n",
       "      <td>0.0</td>\n",
       "      <td>0.0</td>\n",
       "      <td>0.676048</td>\n",
       "      <td>0.0</td>\n",
       "      <td>0.0</td>\n",
       "      <td>0.0</td>\n",
       "      <td>0.0</td>\n",
       "      <td>0.0</td>\n",
       "      <td>0.0</td>\n",
       "      <td>0.0</td>\n",
       "      <td>0.0</td>\n",
       "      <td>0.0</td>\n",
       "      <td>0.0</td>\n",
       "      <td>0.0</td>\n",
       "      <td>0.0</td>\n",
       "      <td>117.996</td>\n",
       "    </tr>\n",
       "    <tr>\n",
       "      <th>127</th>\n",
       "      <td>10435023</td>\n",
       "      <td>Paeds</td>\n",
       "      <td>GMP2.0</td>\n",
       "      <td>PKU</td>\n",
       "      <td>NaN</td>\n",
       "      <td>NaN</td>\n",
       "      <td>0.140000</td>\n",
       "      <td>20.914817</td>\n",
       "      <td>24.280094</td>\n",
       "      <td>54.805088</td>\n",
       "      <td>NaN</td>\n",
       "      <td>NaN</td>\n",
       "      <td>NaN</td>\n",
       "      <td>NaN</td>\n",
       "      <td>NaN</td>\n",
       "      <td>NaN</td>\n",
       "      <td>NaN</td>\n",
       "      <td>NaN</td>\n",
       "      <td>NaN</td>\n",
       "      <td>NaN</td>\n",
       "      <td>NaN</td>\n",
       "      <td>NaN</td>\n",
       "      <td>Dairy</td>\n",
       "      <td>Intact</td>\n",
       "      <td>NaN</td>\n",
       "      <td>NaN</td>\n",
       "      <td>NaN</td>\n",
       "      <td>NaN</td>\n",
       "      <td>NaN</td>\n",
       "      <td>0.064050</td>\n",
       "      <td>Cellulose gum</td>\n",
       "      <td>6.3</td>\n",
       "      <td>NaN</td>\n",
       "      <td>12.033152</td>\n",
       "      <td>7.00</td>\n",
       "      <td>40.0</td>\n",
       "      <td>2.0</td>\n",
       "      <td>NaN</td>\n",
       "      <td>NaN</td>\n",
       "      <td>NaN</td>\n",
       "      <td>...</td>\n",
       "      <td>NaN</td>\n",
       "      <td>NaN</td>\n",
       "      <td>NaN</td>\n",
       "      <td>NaN</td>\n",
       "      <td>NaN</td>\n",
       "      <td>NaN</td>\n",
       "      <td>NaN</td>\n",
       "      <td>NaN</td>\n",
       "      <td>NaN</td>\n",
       "      <td>NaN</td>\n",
       "      <td>NaN</td>\n",
       "      <td>NaN</td>\n",
       "      <td>NaN</td>\n",
       "      <td>NaN</td>\n",
       "      <td>NaN</td>\n",
       "      <td>NaN</td>\n",
       "      <td>NaN</td>\n",
       "      <td>NaN</td>\n",
       "      <td>NaN</td>\n",
       "      <td>NaN</td>\n",
       "      <td>NaN</td>\n",
       "      <td>NaN</td>\n",
       "      <td>NaN</td>\n",
       "      <td>NaN</td>\n",
       "      <td>NaN</td>\n",
       "      <td>NaN</td>\n",
       "      <td>NaN</td>\n",
       "      <td>NaN</td>\n",
       "      <td>NaN</td>\n",
       "      <td>NaN</td>\n",
       "      <td>NaN</td>\n",
       "      <td>NaN</td>\n",
       "      <td>NaN</td>\n",
       "      <td>NaN</td>\n",
       "      <td>NaN</td>\n",
       "      <td>NaN</td>\n",
       "      <td>NaN</td>\n",
       "      <td>NaN</td>\n",
       "      <td>NaN</td>\n",
       "      <td>NaN</td>\n",
       "    </tr>\n",
       "    <tr>\n",
       "      <th>128</th>\n",
       "      <td>10457046</td>\n",
       "      <td>Tube</td>\n",
       "      <td>Nutrison PlantBased 2kcal HP</td>\n",
       "      <td>HEHP. plant proteins</td>\n",
       "      <td>16.371817</td>\n",
       "      <td>0.32</td>\n",
       "      <td>9.570000</td>\n",
       "      <td>24.116248</td>\n",
       "      <td>55.146434</td>\n",
       "      <td>20.737318</td>\n",
       "      <td>180+50</td>\n",
       "      <td>60</td>\n",
       "      <td>85.0</td>\n",
       "      <td>30.0</td>\n",
       "      <td>NaN</td>\n",
       "      <td>NaN</td>\n",
       "      <td>100+0</td>\n",
       "      <td>60.0</td>\n",
       "      <td>Direct</td>\n",
       "      <td>NaN</td>\n",
       "      <td>150.0</td>\n",
       "      <td>4.0</td>\n",
       "      <td>Plant based</td>\n",
       "      <td>Intact</td>\n",
       "      <td>NaN</td>\n",
       "      <td>NaN</td>\n",
       "      <td>NaN</td>\n",
       "      <td>NaN</td>\n",
       "      <td>NaN</td>\n",
       "      <td>0.056613</td>\n",
       "      <td>Cellulose gum</td>\n",
       "      <td>1.5</td>\n",
       "      <td>NaN</td>\n",
       "      <td>35.855000</td>\n",
       "      <td>7.60</td>\n",
       "      <td>70.0</td>\n",
       "      <td>4.0</td>\n",
       "      <td>0.0</td>\n",
       "      <td>0.0</td>\n",
       "      <td>0.0</td>\n",
       "      <td>...</td>\n",
       "      <td>0.0</td>\n",
       "      <td>0.0</td>\n",
       "      <td>0.000000</td>\n",
       "      <td>270.306</td>\n",
       "      <td>0.0</td>\n",
       "      <td>0.0</td>\n",
       "      <td>0.0</td>\n",
       "      <td>0.0</td>\n",
       "      <td>0.0</td>\n",
       "      <td>0.0</td>\n",
       "      <td>0.0</td>\n",
       "      <td>0.0</td>\n",
       "      <td>0.0</td>\n",
       "      <td>0.0</td>\n",
       "      <td>0.0</td>\n",
       "      <td>0.0</td>\n",
       "      <td>0.0</td>\n",
       "      <td>0.0</td>\n",
       "      <td>0.0</td>\n",
       "      <td>0.0</td>\n",
       "      <td>0.473868</td>\n",
       "      <td>0.0</td>\n",
       "      <td>0.0</td>\n",
       "      <td>0.0</td>\n",
       "      <td>0.0</td>\n",
       "      <td>0.0</td>\n",
       "      <td>0.526132</td>\n",
       "      <td>0.0</td>\n",
       "      <td>0.0</td>\n",
       "      <td>0.0</td>\n",
       "      <td>0.0</td>\n",
       "      <td>0.0</td>\n",
       "      <td>0.0</td>\n",
       "      <td>0.0</td>\n",
       "      <td>0.0</td>\n",
       "      <td>0.0</td>\n",
       "      <td>0.0</td>\n",
       "      <td>0.0</td>\n",
       "      <td>0.0</td>\n",
       "      <td>119.470</td>\n",
       "    </tr>\n",
       "    <tr>\n",
       "      <th>129</th>\n",
       "      <td>10457045</td>\n",
       "      <td>Tube</td>\n",
       "      <td>Nutrison PlantBased 2kcal HP Multi Fibre</td>\n",
       "      <td>HEHP. plant proteins</td>\n",
       "      <td>16.328984</td>\n",
       "      <td>0.31</td>\n",
       "      <td>9.270000</td>\n",
       "      <td>24.103979</td>\n",
       "      <td>55.035926</td>\n",
       "      <td>20.860095</td>\n",
       "      <td>180+50</td>\n",
       "      <td>60</td>\n",
       "      <td>85.0</td>\n",
       "      <td>30.0</td>\n",
       "      <td>NaN</td>\n",
       "      <td>NaN</td>\n",
       "      <td>100+0</td>\n",
       "      <td>60.0</td>\n",
       "      <td>Direct</td>\n",
       "      <td>NaN</td>\n",
       "      <td>150.0</td>\n",
       "      <td>4.0</td>\n",
       "      <td>Plant based</td>\n",
       "      <td>Intact</td>\n",
       "      <td>NaN</td>\n",
       "      <td>NaN</td>\n",
       "      <td>NaN</td>\n",
       "      <td>NaN</td>\n",
       "      <td>NaN</td>\n",
       "      <td>0.056243</td>\n",
       "      <td>Cellulose gum</td>\n",
       "      <td>1.5</td>\n",
       "      <td>NaN</td>\n",
       "      <td>36.815000</td>\n",
       "      <td>7.60</td>\n",
       "      <td>80.0</td>\n",
       "      <td>4.0</td>\n",
       "      <td>0.0</td>\n",
       "      <td>0.0</td>\n",
       "      <td>0.0</td>\n",
       "      <td>...</td>\n",
       "      <td>0.0</td>\n",
       "      <td>0.0</td>\n",
       "      <td>0.000000</td>\n",
       "      <td>269.197</td>\n",
       "      <td>0.0</td>\n",
       "      <td>0.0</td>\n",
       "      <td>0.0</td>\n",
       "      <td>0.0</td>\n",
       "      <td>0.0</td>\n",
       "      <td>0.0</td>\n",
       "      <td>0.0</td>\n",
       "      <td>0.0</td>\n",
       "      <td>0.0</td>\n",
       "      <td>0.0</td>\n",
       "      <td>0.0</td>\n",
       "      <td>0.0</td>\n",
       "      <td>0.0</td>\n",
       "      <td>0.0</td>\n",
       "      <td>0.0</td>\n",
       "      <td>0.0</td>\n",
       "      <td>0.472233</td>\n",
       "      <td>0.0</td>\n",
       "      <td>0.0</td>\n",
       "      <td>0.0</td>\n",
       "      <td>0.0</td>\n",
       "      <td>0.0</td>\n",
       "      <td>0.527767</td>\n",
       "      <td>0.0</td>\n",
       "      <td>0.0</td>\n",
       "      <td>0.0</td>\n",
       "      <td>0.0</td>\n",
       "      <td>0.0</td>\n",
       "      <td>0.0</td>\n",
       "      <td>0.0</td>\n",
       "      <td>0.0</td>\n",
       "      <td>0.0</td>\n",
       "      <td>0.0</td>\n",
       "      <td>0.0</td>\n",
       "      <td>0.0</td>\n",
       "      <td>119.100</td>\n",
       "    </tr>\n",
       "  </tbody>\n",
       "</table>\n",
       "<p>130 rows × 118 columns</p>\n",
       "</div>"
      ]
     },
     "metadata": {
      "application/vnd.databricks.v1+output": {
       "addedWidgets": {},
       "arguments": {},
       "data": "<div>\n<style scoped>\n    .dataframe tbody tr th:only-of-type {\n        vertical-align: middle;\n    }\n\n    .dataframe tbody tr th {\n        vertical-align: top;\n    }\n\n    .dataframe thead th {\n        text-align: right;\n    }\n</style>\n<table border=\"1\" class=\"dataframe\">\n  <thead>\n    <tr style=\"text-align: right;\">\n      <th></th>\n      <th>pds_code</th>\n      <th>General|Category no empty cell/not merged</th>\n      <th>General|Product type  no empty cell/not merged</th>\n      <th>General|Subcategory no empty cell/not merged</th>\n      <th>Emulsifier and oil|Ratio total oil/emulsifier</th>\n      <th>Emulsifier and oil|Phospholipids g/100mL</th>\n      <th>Total Lipids g/100g product</th>\n      <th>FA_Sat g/100gFA</th>\n      <th>FA_Mono unsat g/100gFA</th>\n      <th>FA_Poly unsatg/100gFA</th>\n      <th>Pasteurization  homo|P Pasto/homo bar</th>\n      <th>Pasteurization  homo|T°C Pasto/Homo</th>\n      <th>Pasteurization|T°C Pasto</th>\n      <th>Pasteurization|Time Pasto sec</th>\n      <th>Sterilization US homo|P Sterilization US bar</th>\n      <th>Sterilization US homo|T°C Steril US</th>\n      <th>SterilizationDS homo|P Steril DS</th>\n      <th>SterilizationDS homo|T°C Steril DS</th>\n      <th>Sterilization|Direct/indirect Ste</th>\n      <th>Sterilization|F0</th>\n      <th>Sterilization|T°C Steril</th>\n      <th>Sterilization|Time Ste sec</th>\n      <th>Protein|Type of protein</th>\n      <th>Protein|intact / hydrolysate/am acids</th>\n      <th>Protein|Prot level Nx6,25 g/100g product</th>\n      <th>Protein|casein Nx6,25g/100g product</th>\n      <th>Protein|whey protNx6,25g/100g product</th>\n      <th>Protein|SOY prot g/100g productNx6,25</th>\n      <th>Protein|PEA prot g/100g productNx6,25</th>\n      <th>Protein|Content kg/L</th>\n      <th>Stabilizers  thickners|Type</th>\n      <th>Stabilizers  thickners|Amount kg/1000L</th>\n      <th>Calcium minerals|Ca levelg/100g</th>\n      <th>Product KPI  at T=0 |dry matter g/100g</th>\n      <th>Product KPI  at T=0 |pH / Acidity</th>\n      <th>Product KPI  at T=0 |Viscosity mPas</th>\n      <th>target</th>\n      <th>Emulsifier and oil|Emulsifier_Citrem LIQUID  E472c</th>\n      <th>Emulsifier and oil|Emulsifier_Citrem POWDER  E472c</th>\n      <th>Emulsifier and oil|Emulsifier_DIMODAN  E471</th>\n      <th>...</th>\n      <th>Polysaccharides_Starch</th>\n      <th>Polysaccharides_Sucrose</th>\n      <th>Polysaccharides_Sugar</th>\n      <th>Polysaccharides_total_amount</th>\n      <th>Protein_Calcium caseinates</th>\n      <th>Protein_Casein hydrolysate</th>\n      <th>Protein_Concentrated skimmed milk</th>\n      <th>Protein_Demineralized whey permeate 125% protein ORGANIC</th>\n      <th>Protein_Demineralized whey permeate 90</th>\n      <th>Protein_IP LQD DCI 12% No premix UF</th>\n      <th>Protein_IP PWD HYDR ACID WHEY</th>\n      <th>Protein_LIsoleucine</th>\n      <th>Protein_LLeucine</th>\n      <th>Protein_LValine</th>\n      <th>Protein_Lactofidus BP POF P1</th>\n      <th>Protein_Milk Casein Isolate</th>\n      <th>Protein_Milk Protein Concentrate</th>\n      <th>Protein_Milk Protein Isolate</th>\n      <th>Protein_Milk minerals concentrates</th>\n      <th>Protein_Pea protein</th>\n      <th>Protein_Pea protein isolate</th>\n      <th>Protein_Pepti permeate</th>\n      <th>Protein_Potassium caseinate</th>\n      <th>Protein_Skimmed milk Liquid</th>\n      <th>Protein_Skimmed milk Powder ORGANIC</th>\n      <th>Protein_Sodium caseinate</th>\n      <th>Protein_Soy protein isolate</th>\n      <th>Protein_WPC</th>\n      <th>Protein_WPC80 Native</th>\n      <th>Protein_WPC80 Native low Lactose</th>\n      <th>Protein_WPC83 Native</th>\n      <th>Protein_WPI Acid</th>\n      <th>Protein_WPI Native</th>\n      <th>Protein_WPI neutralized</th>\n      <th>Protein_WPI sweet</th>\n      <th>Protein_Whey protein hydrolysate</th>\n      <th>Protein_Whey rich in milk calcium</th>\n      <th>Protein_Yoghurt powder</th>\n      <th>Protein_whey protein hydrolysate</th>\n      <th>Protein_total_amount</th>\n    </tr>\n  </thead>\n  <tbody>\n    <tr>\n      <th>0</th>\n      <td>10103262</td>\n      <td>Adult ONS</td>\n      <td>CUBITAN</td>\n      <td>NaN</td>\n      <td>30.882353</td>\n      <td>NaN</td>\n      <td>3.225499</td>\n      <td>14.388776</td>\n      <td>57.052004</td>\n      <td>28.559220</td>\n      <td>550+50</td>\n      <td>60</td>\n      <td>95.0</td>\n      <td>30.0</td>\n      <td>NaN</td>\n      <td>NaN</td>\n      <td>100+0</td>\n      <td>60.0</td>\n      <td>Indirect</td>\n      <td>15.561806</td>\n      <td>127.0</td>\n      <td>240.0</td>\n      <td>Dairy</td>\n      <td>Intact</td>\n      <td>9.634344</td>\n      <td>NaN</td>\n      <td>NaN</td>\n      <td>NaN</td>\n      <td>NaN</td>\n      <td>8.850000</td>\n      <td>NaN</td>\n      <td>NaN</td>\n      <td>0.207374</td>\n      <td>27.087772</td>\n      <td>6.70</td>\n      <td>40.0</td>\n      <td>2.0</td>\n      <td>0.0</td>\n      <td>0.0</td>\n      <td>0.0</td>\n      <td>...</td>\n      <td>0.0</td>\n      <td>0.0</td>\n      <td>0.249377</td>\n      <td>240.600</td>\n      <td>0.0</td>\n      <td>0.0</td>\n      <td>0.0</td>\n      <td>0.0</td>\n      <td>0.0</td>\n      <td>0.0</td>\n      <td>0.0</td>\n      <td>0.0</td>\n      <td>0.0</td>\n      <td>0.0</td>\n      <td>0.0</td>\n      <td>0.0</td>\n      <td>0.0</td>\n      <td>0.0</td>\n      <td>0.0</td>\n      <td>0.0</td>\n      <td>0.000000</td>\n      <td>0.0</td>\n      <td>0.0</td>\n      <td>1.0</td>\n      <td>0.0</td>\n      <td>0.0</td>\n      <td>0.000000</td>\n      <td>0.0</td>\n      <td>0.0</td>\n      <td>0.0</td>\n      <td>0.0</td>\n      <td>0.0</td>\n      <td>0.0</td>\n      <td>0.0</td>\n      <td>0.0</td>\n      <td>0.0</td>\n      <td>0.0</td>\n      <td>0.0</td>\n      <td>0.0</td>\n      <td>81.100</td>\n    </tr>\n    <tr>\n      <th>1</th>\n      <td>10103271</td>\n      <td>Adult ONS</td>\n      <td>CUBITAN</td>\n      <td>NaN</td>\n      <td>31.142857</td>\n      <td>NaN</td>\n      <td>1.255000</td>\n      <td>12.616000</td>\n      <td>57.950000</td>\n      <td>29.434000</td>\n      <td>550+50</td>\n      <td>60</td>\n      <td>95.0</td>\n      <td>30.0</td>\n      <td>NaN</td>\n      <td>NaN</td>\n      <td>100+0</td>\n      <td>60.0</td>\n      <td>Indirect</td>\n      <td>15.561806</td>\n      <td>127.0</td>\n      <td>240.0</td>\n      <td>Dairy</td>\n      <td>Intact</td>\n      <td>3.577000</td>\n      <td>2.155</td>\n      <td>0.538719</td>\n      <td>0.000037</td>\n      <td>0.000000</td>\n      <td>8.810000</td>\n      <td>NaN</td>\n      <td>NaN</td>\n      <td>NaN</td>\n      <td>NaN</td>\n      <td>6.80</td>\n      <td>15.0</td>\n      <td>2.0</td>\n      <td>0.0</td>\n      <td>0.0</td>\n      <td>0.0</td>\n      <td>...</td>\n      <td>0.0</td>\n      <td>0.0</td>\n      <td>0.321668</td>\n      <td>155.440</td>\n      <td>0.0</td>\n      <td>0.0</td>\n      <td>0.0</td>\n      <td>0.0</td>\n      <td>0.0</td>\n      <td>0.0</td>\n      <td>0.0</td>\n      <td>0.0</td>\n      <td>0.0</td>\n      <td>0.0</td>\n      <td>0.0</td>\n      <td>0.0</td>\n      <td>0.0</td>\n      <td>0.0</td>\n      <td>0.0</td>\n      <td>0.0</td>\n      <td>0.000000</td>\n      <td>0.0</td>\n      <td>0.0</td>\n      <td>1.0</td>\n      <td>0.0</td>\n      <td>0.0</td>\n      <td>0.000000</td>\n      <td>0.0</td>\n      <td>0.0</td>\n      <td>0.0</td>\n      <td>0.0</td>\n      <td>0.0</td>\n      <td>0.0</td>\n      <td>0.0</td>\n      <td>0.0</td>\n      <td>0.0</td>\n      <td>0.0</td>\n      <td>0.0</td>\n      <td>0.0</td>\n      <td>83.700</td>\n    </tr>\n    <tr>\n      <th>2</th>\n      <td>10103278</td>\n      <td>Tube</td>\n      <td>PEPTISON MARS</td>\n      <td>NaN</td>\n      <td>NaN</td>\n      <td>NaN</td>\n      <td>1.548203</td>\n      <td>58.257486</td>\n      <td>12.068911</td>\n      <td>29.673604</td>\n      <td>250+50</td>\n      <td>60</td>\n      <td>80.0</td>\n      <td>0.0</td>\n      <td>NaN</td>\n      <td>NaN</td>\n      <td>100+0</td>\n      <td>60.0</td>\n      <td>Indirect</td>\n      <td>0.039089</td>\n      <td>101.0</td>\n      <td>240.0</td>\n      <td>Dairy</td>\n      <td>Hydrolyzed</td>\n      <td>3.625735</td>\n      <td>NaN</td>\n      <td>3.596682</td>\n      <td>NaN</td>\n      <td>NaN</td>\n      <td>NaN</td>\n      <td>Modified starch</td>\n      <td>20.0</td>\n      <td>0.073756</td>\n      <td>22.688308</td>\n      <td>4.00</td>\n      <td>8.0</td>\n      <td>3.0</td>\n      <td>NaN</td>\n      <td>NaN</td>\n      <td>NaN</td>\n      <td>...</td>\n      <td>0.0</td>\n      <td>0.0</td>\n      <td>0.000000</td>\n      <td>215.177</td>\n      <td>0.0</td>\n      <td>0.0</td>\n      <td>0.0</td>\n      <td>0.0</td>\n      <td>0.0</td>\n      <td>0.0</td>\n      <td>0.0</td>\n      <td>0.0</td>\n      <td>0.0</td>\n      <td>0.0</td>\n      <td>0.0</td>\n      <td>0.0</td>\n      <td>0.0</td>\n      <td>0.0</td>\n      <td>0.0</td>\n      <td>0.0</td>\n      <td>0.000000</td>\n      <td>0.0</td>\n      <td>0.0</td>\n      <td>0.0</td>\n      <td>0.0</td>\n      <td>0.0</td>\n      <td>0.000000</td>\n      <td>0.0</td>\n      <td>0.0</td>\n      <td>0.0</td>\n      <td>0.0</td>\n      <td>0.0</td>\n      <td>0.0</td>\n      <td>0.0</td>\n      <td>0.0</td>\n      <td>1.0</td>\n      <td>0.0</td>\n      <td>0.0</td>\n      <td>0.0</td>\n      <td>48.000</td>\n    </tr>\n    <tr>\n      <th>3</th>\n      <td>10103281</td>\n      <td>Adult ONS</td>\n      <td>CUBITAN</td>\n      <td>NaN</td>\n      <td>31.142857</td>\n      <td>NaN</td>\n      <td>1.369000</td>\n      <td>17.854000</td>\n      <td>54.973000</td>\n      <td>27.172000</td>\n      <td>550+50</td>\n      <td>60</td>\n      <td>95.0</td>\n      <td>30.0</td>\n      <td>NaN</td>\n      <td>NaN</td>\n      <td>100+0</td>\n      <td>60.0</td>\n      <td>Indirect</td>\n      <td>15.561806</td>\n      <td>127.0</td>\n      <td>240.0</td>\n      <td>Dairy</td>\n      <td>Intact</td>\n      <td>10.004000</td>\n      <td>7.295</td>\n      <td>1.824000</td>\n      <td>0.000037</td>\n      <td>0.000000</td>\n      <td>8.810000</td>\n      <td>NaN</td>\n      <td>NaN</td>\n      <td>NaN</td>\n      <td>NaN</td>\n      <td>6.80</td>\n      <td>15.0</td>\n      <td>2.0</td>\n      <td>0.0</td>\n      <td>0.0</td>\n      <td>0.0</td>\n      <td>...</td>\n      <td>0.0</td>\n      <td>0.0</td>\n      <td>0.321647</td>\n      <td>155.450</td>\n      <td>0.0</td>\n      <td>0.0</td>\n      <td>0.0</td>\n      <td>0.0</td>\n      <td>0.0</td>\n      <td>0.0</td>\n      <td>0.0</td>\n      <td>0.0</td>\n      <td>0.0</td>\n      <td>0.0</td>\n      <td>0.0</td>\n      <td>0.0</td>\n      <td>0.0</td>\n      <td>0.0</td>\n      <td>0.0</td>\n      <td>0.0</td>\n      <td>0.000000</td>\n      <td>0.0</td>\n      <td>0.0</td>\n      <td>1.0</td>\n      <td>0.0</td>\n      <td>0.0</td>\n      <td>0.000000</td>\n      <td>0.0</td>\n      <td>0.0</td>\n      <td>0.0</td>\n      <td>0.0</td>\n      <td>0.0</td>\n      <td>0.0</td>\n      <td>0.0</td>\n      <td>0.0</td>\n      <td>0.0</td>\n      <td>0.0</td>\n      <td>0.0</td>\n      <td>0.0</td>\n      <td>83.700</td>\n    </tr>\n    <tr>\n      <th>4</th>\n      <td>10103290</td>\n      <td>Adult ONS</td>\n      <td>FORTIMEL</td>\n      <td>NaN</td>\n      <td>35.660377</td>\n      <td>NaN</td>\n      <td>NaN</td>\n      <td>NaN</td>\n      <td>NaN</td>\n      <td>NaN</td>\n      <td>550+50</td>\n      <td>60</td>\n      <td>95.0</td>\n      <td>30.0</td>\n      <td>NaN</td>\n      <td>NaN</td>\n      <td>100+0</td>\n      <td>60.0</td>\n      <td>Indirect</td>\n      <td>15.561806</td>\n      <td>127.0</td>\n      <td>240.0</td>\n      <td>Dairy</td>\n      <td>Intact</td>\n      <td>NaN</td>\n      <td>NaN</td>\n      <td>NaN</td>\n      <td>NaN</td>\n      <td>NaN</td>\n      <td>NaN</td>\n      <td>NaN</td>\n      <td>NaN</td>\n      <td>NaN</td>\n      <td>NaN</td>\n      <td>6.75</td>\n      <td>7.4</td>\n      <td>1.0</td>\n      <td>0.0</td>\n      <td>0.0</td>\n      <td>0.0</td>\n      <td>...</td>\n      <td>0.0</td>\n      <td>0.0</td>\n      <td>0.586496</td>\n      <td>72.720</td>\n      <td>0.0</td>\n      <td>0.0</td>\n      <td>0.0</td>\n      <td>0.0</td>\n      <td>0.0</td>\n      <td>0.0</td>\n      <td>0.0</td>\n      <td>0.0</td>\n      <td>0.0</td>\n      <td>0.0</td>\n      <td>0.0</td>\n      <td>0.0</td>\n      <td>0.0</td>\n      <td>0.0</td>\n      <td>0.0</td>\n      <td>0.0</td>\n      <td>0.000000</td>\n      <td>0.0</td>\n      <td>0.0</td>\n      <td>1.0</td>\n      <td>0.0</td>\n      <td>0.0</td>\n      <td>0.000000</td>\n      <td>0.0</td>\n      <td>0.0</td>\n      <td>0.0</td>\n      <td>0.0</td>\n      <td>0.0</td>\n      <td>0.0</td>\n      <td>0.0</td>\n      <td>0.0</td>\n      <td>0.0</td>\n      <td>0.0</td>\n      <td>0.0</td>\n      <td>0.0</td>\n      <td>106.380</td>\n    </tr>\n    <tr>\n      <th>...</th>\n      <td>...</td>\n      <td>...</td>\n      <td>...</td>\n      <td>...</td>\n      <td>...</td>\n      <td>...</td>\n      <td>...</td>\n      <td>...</td>\n      <td>...</td>\n      <td>...</td>\n      <td>...</td>\n      <td>...</td>\n      <td>...</td>\n      <td>...</td>\n      <td>...</td>\n      <td>...</td>\n      <td>...</td>\n      <td>...</td>\n      <td>...</td>\n      <td>...</td>\n      <td>...</td>\n      <td>...</td>\n      <td>...</td>\n      <td>...</td>\n      <td>...</td>\n      <td>...</td>\n      <td>...</td>\n      <td>...</td>\n      <td>...</td>\n      <td>...</td>\n      <td>...</td>\n      <td>...</td>\n      <td>...</td>\n      <td>...</td>\n      <td>...</td>\n      <td>...</td>\n      <td>...</td>\n      <td>...</td>\n      <td>...</td>\n      <td>...</td>\n      <td>...</td>\n      <td>...</td>\n      <td>...</td>\n      <td>...</td>\n      <td>...</td>\n      <td>...</td>\n      <td>...</td>\n      <td>...</td>\n      <td>...</td>\n      <td>...</td>\n      <td>...</td>\n      <td>...</td>\n      <td>...</td>\n      <td>...</td>\n      <td>...</td>\n      <td>...</td>\n      <td>...</td>\n      <td>...</td>\n      <td>...</td>\n      <td>...</td>\n      <td>...</td>\n      <td>...</td>\n      <td>...</td>\n      <td>...</td>\n      <td>...</td>\n      <td>...</td>\n      <td>...</td>\n      <td>...</td>\n      <td>...</td>\n      <td>...</td>\n      <td>...</td>\n      <td>...</td>\n      <td>...</td>\n      <td>...</td>\n      <td>...</td>\n      <td>...</td>\n      <td>...</td>\n      <td>...</td>\n      <td>...</td>\n      <td>...</td>\n      <td>...</td>\n    </tr>\n    <tr>\n      <th>125</th>\n      <td>Only trial available</td>\n      <td>Adult ONS</td>\n      <td>Plant based ONS</td>\n      <td>plant proteins</td>\n      <td>NaN</td>\n      <td>NaN</td>\n      <td>5.800000</td>\n      <td>10.452771</td>\n      <td>56.219348</td>\n      <td>33.327880</td>\n      <td>NaN</td>\n      <td>NaN</td>\n      <td>NaN</td>\n      <td>NaN</td>\n      <td>NaN</td>\n      <td>NaN</td>\n      <td>NaN</td>\n      <td>NaN</td>\n      <td>NaN</td>\n      <td>NaN</td>\n      <td>NaN</td>\n      <td>NaN</td>\n      <td>NaN</td>\n      <td>Intact</td>\n      <td>5.482320</td>\n      <td>NaN</td>\n      <td>NaN</td>\n      <td>1.762135</td>\n      <td>3.712082</td>\n      <td>NaN</td>\n      <td>NaN</td>\n      <td>NaN</td>\n      <td>0.114215</td>\n      <td>28.240000</td>\n      <td>7.40</td>\n      <td>41.0</td>\n      <td>3.0</td>\n      <td>NaN</td>\n      <td>NaN</td>\n      <td>NaN</td>\n      <td>...</td>\n      <td>NaN</td>\n      <td>NaN</td>\n      <td>NaN</td>\n      <td>NaN</td>\n      <td>NaN</td>\n      <td>NaN</td>\n      <td>NaN</td>\n      <td>NaN</td>\n      <td>NaN</td>\n      <td>NaN</td>\n      <td>NaN</td>\n      <td>NaN</td>\n      <td>NaN</td>\n      <td>NaN</td>\n      <td>NaN</td>\n      <td>NaN</td>\n      <td>NaN</td>\n      <td>NaN</td>\n      <td>NaN</td>\n      <td>NaN</td>\n      <td>NaN</td>\n      <td>NaN</td>\n      <td>NaN</td>\n      <td>NaN</td>\n      <td>NaN</td>\n      <td>NaN</td>\n      <td>NaN</td>\n      <td>NaN</td>\n      <td>NaN</td>\n      <td>NaN</td>\n      <td>NaN</td>\n      <td>NaN</td>\n      <td>NaN</td>\n      <td>NaN</td>\n      <td>NaN</td>\n      <td>NaN</td>\n      <td>NaN</td>\n      <td>NaN</td>\n      <td>NaN</td>\n      <td>NaN</td>\n    </tr>\n    <tr>\n      <th>126</th>\n      <td>N/A Fortimel Plant based ONS</td>\n      <td>Adult ONS</td>\n      <td>Fortimel Plant based ONS</td>\n      <td>HEHP. plant proteins</td>\n      <td>30.477302</td>\n      <td>0.10</td>\n      <td>7.800000</td>\n      <td>NaN</td>\n      <td>NaN</td>\n      <td>NaN</td>\n      <td>NaN</td>\n      <td>NaN</td>\n      <td>NaN</td>\n      <td>NaN</td>\n      <td>NaN</td>\n      <td>NaN</td>\n      <td>NaN</td>\n      <td>NaN</td>\n      <td>NaN</td>\n      <td>NaN</td>\n      <td>NaN</td>\n      <td>NaN</td>\n      <td>Plant based</td>\n      <td>Intact</td>\n      <td>NaN</td>\n      <td>NaN</td>\n      <td>NaN</td>\n      <td>NaN</td>\n      <td>NaN</td>\n      <td>0.079771</td>\n      <td>NaN</td>\n      <td>NaN</td>\n      <td>NaN</td>\n      <td>36.799000</td>\n      <td>7.80</td>\n      <td>60.0</td>\n      <td>4.0</td>\n      <td>0.0</td>\n      <td>0.0</td>\n      <td>0.0</td>\n      <td>...</td>\n      <td>0.0</td>\n      <td>0.0</td>\n      <td>0.000000</td>\n      <td>229.571</td>\n      <td>0.0</td>\n      <td>0.0</td>\n      <td>0.0</td>\n      <td>0.0</td>\n      <td>0.0</td>\n      <td>0.0</td>\n      <td>0.0</td>\n      <td>0.0</td>\n      <td>0.0</td>\n      <td>0.0</td>\n      <td>0.0</td>\n      <td>0.0</td>\n      <td>0.0</td>\n      <td>0.0</td>\n      <td>0.0</td>\n      <td>0.0</td>\n      <td>0.323952</td>\n      <td>0.0</td>\n      <td>0.0</td>\n      <td>0.0</td>\n      <td>0.0</td>\n      <td>0.0</td>\n      <td>0.676048</td>\n      <td>0.0</td>\n      <td>0.0</td>\n      <td>0.0</td>\n      <td>0.0</td>\n      <td>0.0</td>\n      <td>0.0</td>\n      <td>0.0</td>\n      <td>0.0</td>\n      <td>0.0</td>\n      <td>0.0</td>\n      <td>0.0</td>\n      <td>0.0</td>\n      <td>117.996</td>\n    </tr>\n    <tr>\n      <th>127</th>\n      <td>10435023</td>\n      <td>Paeds</td>\n      <td>GMP2.0</td>\n      <td>PKU</td>\n      <td>NaN</td>\n      <td>NaN</td>\n      <td>0.140000</td>\n      <td>20.914817</td>\n      <td>24.280094</td>\n      <td>54.805088</td>\n      <td>NaN</td>\n      <td>NaN</td>\n      <td>NaN</td>\n      <td>NaN</td>\n      <td>NaN</td>\n      <td>NaN</td>\n      <td>NaN</td>\n      <td>NaN</td>\n      <td>NaN</td>\n      <td>NaN</td>\n      <td>NaN</td>\n      <td>NaN</td>\n      <td>Dairy</td>\n      <td>Intact</td>\n      <td>NaN</td>\n      <td>NaN</td>\n      <td>NaN</td>\n      <td>NaN</td>\n      <td>NaN</td>\n      <td>0.064050</td>\n      <td>Cellulose gum</td>\n      <td>6.3</td>\n      <td>NaN</td>\n      <td>12.033152</td>\n      <td>7.00</td>\n      <td>40.0</td>\n      <td>2.0</td>\n      <td>NaN</td>\n      <td>NaN</td>\n      <td>NaN</td>\n      <td>...</td>\n      <td>NaN</td>\n      <td>NaN</td>\n      <td>NaN</td>\n      <td>NaN</td>\n      <td>NaN</td>\n      <td>NaN</td>\n      <td>NaN</td>\n      <td>NaN</td>\n      <td>NaN</td>\n      <td>NaN</td>\n      <td>NaN</td>\n      <td>NaN</td>\n      <td>NaN</td>\n      <td>NaN</td>\n      <td>NaN</td>\n      <td>NaN</td>\n      <td>NaN</td>\n      <td>NaN</td>\n      <td>NaN</td>\n      <td>NaN</td>\n      <td>NaN</td>\n      <td>NaN</td>\n      <td>NaN</td>\n      <td>NaN</td>\n      <td>NaN</td>\n      <td>NaN</td>\n      <td>NaN</td>\n      <td>NaN</td>\n      <td>NaN</td>\n      <td>NaN</td>\n      <td>NaN</td>\n      <td>NaN</td>\n      <td>NaN</td>\n      <td>NaN</td>\n      <td>NaN</td>\n      <td>NaN</td>\n      <td>NaN</td>\n      <td>NaN</td>\n      <td>NaN</td>\n      <td>NaN</td>\n    </tr>\n    <tr>\n      <th>128</th>\n      <td>10457046</td>\n      <td>Tube</td>\n      <td>Nutrison PlantBased 2kcal HP</td>\n      <td>HEHP. plant proteins</td>\n      <td>16.371817</td>\n      <td>0.32</td>\n      <td>9.570000</td>\n      <td>24.116248</td>\n      <td>55.146434</td>\n      <td>20.737318</td>\n      <td>180+50</td>\n      <td>60</td>\n      <td>85.0</td>\n      <td>30.0</td>\n      <td>NaN</td>\n      <td>NaN</td>\n      <td>100+0</td>\n      <td>60.0</td>\n      <td>Direct</td>\n      <td>NaN</td>\n      <td>150.0</td>\n      <td>4.0</td>\n      <td>Plant based</td>\n      <td>Intact</td>\n      <td>NaN</td>\n      <td>NaN</td>\n      <td>NaN</td>\n      <td>NaN</td>\n      <td>NaN</td>\n      <td>0.056613</td>\n      <td>Cellulose gum</td>\n      <td>1.5</td>\n      <td>NaN</td>\n      <td>35.855000</td>\n      <td>7.60</td>\n      <td>70.0</td>\n      <td>4.0</td>\n      <td>0.0</td>\n      <td>0.0</td>\n      <td>0.0</td>\n      <td>...</td>\n      <td>0.0</td>\n      <td>0.0</td>\n      <td>0.000000</td>\n      <td>270.306</td>\n      <td>0.0</td>\n      <td>0.0</td>\n      <td>0.0</td>\n      <td>0.0</td>\n      <td>0.0</td>\n      <td>0.0</td>\n      <td>0.0</td>\n      <td>0.0</td>\n      <td>0.0</td>\n      <td>0.0</td>\n      <td>0.0</td>\n      <td>0.0</td>\n      <td>0.0</td>\n      <td>0.0</td>\n      <td>0.0</td>\n      <td>0.0</td>\n      <td>0.473868</td>\n      <td>0.0</td>\n      <td>0.0</td>\n      <td>0.0</td>\n      <td>0.0</td>\n      <td>0.0</td>\n      <td>0.526132</td>\n      <td>0.0</td>\n      <td>0.0</td>\n      <td>0.0</td>\n      <td>0.0</td>\n      <td>0.0</td>\n      <td>0.0</td>\n      <td>0.0</td>\n      <td>0.0</td>\n      <td>0.0</td>\n      <td>0.0</td>\n      <td>0.0</td>\n      <td>0.0</td>\n      <td>119.470</td>\n    </tr>\n    <tr>\n      <th>129</th>\n      <td>10457045</td>\n      <td>Tube</td>\n      <td>Nutrison PlantBased 2kcal HP Multi Fibre</td>\n      <td>HEHP. plant proteins</td>\n      <td>16.328984</td>\n      <td>0.31</td>\n      <td>9.270000</td>\n      <td>24.103979</td>\n      <td>55.035926</td>\n      <td>20.860095</td>\n      <td>180+50</td>\n      <td>60</td>\n      <td>85.0</td>\n      <td>30.0</td>\n      <td>NaN</td>\n      <td>NaN</td>\n      <td>100+0</td>\n      <td>60.0</td>\n      <td>Direct</td>\n      <td>NaN</td>\n      <td>150.0</td>\n      <td>4.0</td>\n      <td>Plant based</td>\n      <td>Intact</td>\n      <td>NaN</td>\n      <td>NaN</td>\n      <td>NaN</td>\n      <td>NaN</td>\n      <td>NaN</td>\n      <td>0.056243</td>\n      <td>Cellulose gum</td>\n      <td>1.5</td>\n      <td>NaN</td>\n      <td>36.815000</td>\n      <td>7.60</td>\n      <td>80.0</td>\n      <td>4.0</td>\n      <td>0.0</td>\n      <td>0.0</td>\n      <td>0.0</td>\n      <td>...</td>\n      <td>0.0</td>\n      <td>0.0</td>\n      <td>0.000000</td>\n      <td>269.197</td>\n      <td>0.0</td>\n      <td>0.0</td>\n      <td>0.0</td>\n      <td>0.0</td>\n      <td>0.0</td>\n      <td>0.0</td>\n      <td>0.0</td>\n      <td>0.0</td>\n      <td>0.0</td>\n      <td>0.0</td>\n      <td>0.0</td>\n      <td>0.0</td>\n      <td>0.0</td>\n      <td>0.0</td>\n      <td>0.0</td>\n      <td>0.0</td>\n      <td>0.472233</td>\n      <td>0.0</td>\n      <td>0.0</td>\n      <td>0.0</td>\n      <td>0.0</td>\n      <td>0.0</td>\n      <td>0.527767</td>\n      <td>0.0</td>\n      <td>0.0</td>\n      <td>0.0</td>\n      <td>0.0</td>\n      <td>0.0</td>\n      <td>0.0</td>\n      <td>0.0</td>\n      <td>0.0</td>\n      <td>0.0</td>\n      <td>0.0</td>\n      <td>0.0</td>\n      <td>0.0</td>\n      <td>119.100</td>\n    </tr>\n  </tbody>\n</table>\n<p>130 rows × 118 columns</p>\n</div>",
       "datasetInfos": [],
       "metadata": {},
       "removedWidgets": [],
       "textData": null,
       "type": "htmlSandbox"
      }
     },
     "output_type": "display_data"
    }
   ],
   "source": [
    "df=pd.read_csv(os.path.join(path_curated, \"df_final_analysis.txt\"),sep=\"\\t\",header=0)\n",
    "pd.reset_option(\"display.max_rows\")\n",
    "df"
   ]
  },
  {
   "cell_type": "code",
   "execution_count": 0,
   "metadata": {
    "application/vnd.databricks.v1+cell": {
     "cellMetadata": {
      "byteLimit": 2048000,
      "rowLimit": 10000
     },
     "inputWidgets": {},
     "nuid": "574e7afb-8c98-4dfd-b606-3c36c0465673",
     "showTitle": false,
     "title": ""
    }
   },
   "outputs": [],
   "source": [
    "df[df[\"Total Lipids g/100g product\"] == 50]  # outlier product: very high total lipid, no protein\n",
    "df = df[df[\"Total Lipids g/100g product\"] != 50]"
   ]
  },
  {
   "cell_type": "markdown",
   "metadata": {
    "application/vnd.databricks.v1+cell": {
     "cellMetadata": {
      "byteLimit": 2048000,
      "rowLimit": 10000
     },
     "inputWidgets": {},
     "nuid": "f6bbed45-16fa-46bd-ae48-5e11b4c66777",
     "showTitle": false,
     "title": ""
    }
   },
   "source": [
    "## dtype transformation for model training"
   ]
  },
  {
   "cell_type": "code",
   "execution_count": 0,
   "metadata": {
    "application/vnd.databricks.v1+cell": {
     "cellMetadata": {
      "byteLimit": 2048000,
      "rowLimit": 10000
     },
     "inputWidgets": {},
     "nuid": "942dc101-8868-4119-82cd-6ff54b8b3655",
     "showTitle": false,
     "title": ""
    }
   },
   "outputs": [
    {
     "output_type": "stream",
     "name": "stderr",
     "output_type": "stream",
     "text": [
      "<command-2533285189213623>:3: SettingWithCopyWarning: \nA value is trying to be set on a copy of a slice from a DataFrame.\nTry using .loc[row_indexer,col_indexer] = value instead\n\nSee the caveats in the documentation: https://pandas.pydata.org/pandas-docs/stable/user_guide/indexing.html#returning-a-view-versus-a-copy\n  df.loc[:, \"Pasteurization  homo|T°C Pasto/Homo\"] = pd.to_numeric(df[\"Pasteurization  homo|T°C Pasto/Homo\"].replace(\"72-75\", '73'))\n<command-2533285189213623>:4: SettingWithCopyWarning: \nA value is trying to be set on a copy of a slice from a DataFrame.\nTry using .loc[row_indexer,col_indexer] = value instead\n\nSee the caveats in the documentation: https://pandas.pydata.org/pandas-docs/stable/user_guide/indexing.html#returning-a-view-versus-a-copy\n  df.loc[:, \"SterilizationDS homo|P Steril DS\"] = df[\"SterilizationDS homo|P Steril DS\"].replace(\">180\", '181')\n"
     ]
    }
   ],
   "source": [
    "# manual correction. to be corrected at the data collection step!!!\n",
    "\n",
    "df.loc[:, \"Pasteurization  homo|T°C Pasto/Homo\"] = pd.to_numeric(df[\"Pasteurization  homo|T°C Pasto/Homo\"].replace(\"72-75\", '73'))\n",
    "df.loc[:, \"SterilizationDS homo|P Steril DS\"] = df[\"SterilizationDS homo|P Steril DS\"].replace(\">180\", '181')\n"
   ]
  },
  {
   "cell_type": "code",
   "execution_count": 0,
   "metadata": {
    "application/vnd.databricks.v1+cell": {
     "cellMetadata": {
      "byteLimit": 2048000,
      "rowLimit": 10000
     },
     "inputWidgets": {},
     "nuid": "d7e0232e-7496-4179-85af-d96d5a1ab14b",
     "showTitle": false,
     "title": ""
    }
   },
   "outputs": [
    {
     "output_type": "stream",
     "name": "stderr",
     "output_type": "stream",
     "text": [
      "<command-3173362489925703>:1: SettingWithCopyWarning: \nA value is trying to be set on a copy of a slice from a DataFrame.\nTry using .loc[row_indexer,col_indexer] = value instead\n\nSee the caveats in the documentation: https://pandas.pydata.org/pandas-docs/stable/user_guide/indexing.html#returning-a-view-versus-a-copy\n  df[\"target\"]=pd.Categorical(df.target)\n"
     ]
    },
    {
     "output_type": "stream",
     "name": "stdout",
     "output_type": "stream",
     "text": [
      "Out[7]: target\n2.0       59\n1.0       36\n3.0       30\n4.0        4\ndtype: int64"
     ]
    }
   ],
   "source": [
    "df[\"target\"]=pd.Categorical(df.target)\n",
    "df[[\"target\"]].value_counts()"
   ]
  },
  {
   "cell_type": "code",
   "execution_count": 0,
   "metadata": {
    "application/vnd.databricks.v1+cell": {
     "cellMetadata": {
      "byteLimit": 2048000,
      "rowLimit": 10000
     },
     "inputWidgets": {},
     "nuid": "5685cd5b-3fae-45a6-9bd8-8a076b69d835",
     "showTitle": false,
     "title": ""
    }
   },
   "outputs": [
    {
     "output_type": "display_data",
     "data": {
      "text/html": [
       "<div>\n",
       "<style scoped>\n",
       "    .dataframe tbody tr th:only-of-type {\n",
       "        vertical-align: middle;\n",
       "    }\n",
       "\n",
       "    .dataframe tbody tr th {\n",
       "        vertical-align: top;\n",
       "    }\n",
       "\n",
       "    .dataframe thead th {\n",
       "        text-align: right;\n",
       "    }\n",
       "</style>\n",
       "<table border=\"1\" class=\"dataframe\">\n",
       "  <thead>\n",
       "    <tr style=\"text-align: right;\">\n",
       "      <th></th>\n",
       "      <th>0</th>\n",
       "      <th>1</th>\n",
       "      <th>2</th>\n",
       "      <th>3</th>\n",
       "      <th>4</th>\n",
       "    </tr>\n",
       "  </thead>\n",
       "  <tbody>\n",
       "    <tr>\n",
       "      <th>pds_code</th>\n",
       "      <td>10103262</td>\n",
       "      <td>10103271</td>\n",
       "      <td>10103278</td>\n",
       "      <td>10103281</td>\n",
       "      <td>10103290</td>\n",
       "    </tr>\n",
       "    <tr>\n",
       "      <th>General|Category no empty cell/not merged</th>\n",
       "      <td>Adult ONS</td>\n",
       "      <td>Adult ONS</td>\n",
       "      <td>Tube</td>\n",
       "      <td>Adult ONS</td>\n",
       "      <td>Adult ONS</td>\n",
       "    </tr>\n",
       "    <tr>\n",
       "      <th>General|Product type  no empty cell/not merged</th>\n",
       "      <td>CUBITAN</td>\n",
       "      <td>CUBITAN</td>\n",
       "      <td>PEPTISON MARS</td>\n",
       "      <td>CUBITAN</td>\n",
       "      <td>FORTIMEL</td>\n",
       "    </tr>\n",
       "    <tr>\n",
       "      <th>General|Subcategory no empty cell/not merged</th>\n",
       "      <td>NaN</td>\n",
       "      <td>NaN</td>\n",
       "      <td>NaN</td>\n",
       "      <td>NaN</td>\n",
       "      <td>NaN</td>\n",
       "    </tr>\n",
       "    <tr>\n",
       "      <th>Pasteurization  homo|P Pasto/homo bar</th>\n",
       "      <td>550+50</td>\n",
       "      <td>550+50</td>\n",
       "      <td>250+50</td>\n",
       "      <td>550+50</td>\n",
       "      <td>550+50</td>\n",
       "    </tr>\n",
       "    <tr>\n",
       "      <th>Sterilization US homo|P Sterilization US bar</th>\n",
       "      <td>NaN</td>\n",
       "      <td>NaN</td>\n",
       "      <td>NaN</td>\n",
       "      <td>NaN</td>\n",
       "      <td>NaN</td>\n",
       "    </tr>\n",
       "    <tr>\n",
       "      <th>SterilizationDS homo|P Steril DS</th>\n",
       "      <td>100+0</td>\n",
       "      <td>100+0</td>\n",
       "      <td>100+0</td>\n",
       "      <td>100+0</td>\n",
       "      <td>100+0</td>\n",
       "    </tr>\n",
       "    <tr>\n",
       "      <th>Sterilization|Direct/indirect Ste</th>\n",
       "      <td>Indirect</td>\n",
       "      <td>Indirect</td>\n",
       "      <td>Indirect</td>\n",
       "      <td>Indirect</td>\n",
       "      <td>Indirect</td>\n",
       "    </tr>\n",
       "    <tr>\n",
       "      <th>Protein|Type of protein</th>\n",
       "      <td>Dairy</td>\n",
       "      <td>Dairy</td>\n",
       "      <td>Dairy</td>\n",
       "      <td>Dairy</td>\n",
       "      <td>Dairy</td>\n",
       "    </tr>\n",
       "    <tr>\n",
       "      <th>Protein|intact / hydrolysate/am acids</th>\n",
       "      <td>Intact</td>\n",
       "      <td>Intact</td>\n",
       "      <td>Hydrolyzed</td>\n",
       "      <td>Intact</td>\n",
       "      <td>Intact</td>\n",
       "    </tr>\n",
       "    <tr>\n",
       "      <th>Stabilizers  thickners|Type</th>\n",
       "      <td>NaN</td>\n",
       "      <td>NaN</td>\n",
       "      <td>Modified starch</td>\n",
       "      <td>NaN</td>\n",
       "      <td>NaN</td>\n",
       "    </tr>\n",
       "  </tbody>\n",
       "</table>\n",
       "</div>"
      ]
     },
     "metadata": {
      "application/vnd.databricks.v1+output": {
       "addedWidgets": {},
       "arguments": {},
       "data": "<div>\n<style scoped>\n    .dataframe tbody tr th:only-of-type {\n        vertical-align: middle;\n    }\n\n    .dataframe tbody tr th {\n        vertical-align: top;\n    }\n\n    .dataframe thead th {\n        text-align: right;\n    }\n</style>\n<table border=\"1\" class=\"dataframe\">\n  <thead>\n    <tr style=\"text-align: right;\">\n      <th></th>\n      <th>0</th>\n      <th>1</th>\n      <th>2</th>\n      <th>3</th>\n      <th>4</th>\n    </tr>\n  </thead>\n  <tbody>\n    <tr>\n      <th>pds_code</th>\n      <td>10103262</td>\n      <td>10103271</td>\n      <td>10103278</td>\n      <td>10103281</td>\n      <td>10103290</td>\n    </tr>\n    <tr>\n      <th>General|Category no empty cell/not merged</th>\n      <td>Adult ONS</td>\n      <td>Adult ONS</td>\n      <td>Tube</td>\n      <td>Adult ONS</td>\n      <td>Adult ONS</td>\n    </tr>\n    <tr>\n      <th>General|Product type  no empty cell/not merged</th>\n      <td>CUBITAN</td>\n      <td>CUBITAN</td>\n      <td>PEPTISON MARS</td>\n      <td>CUBITAN</td>\n      <td>FORTIMEL</td>\n    </tr>\n    <tr>\n      <th>General|Subcategory no empty cell/not merged</th>\n      <td>NaN</td>\n      <td>NaN</td>\n      <td>NaN</td>\n      <td>NaN</td>\n      <td>NaN</td>\n    </tr>\n    <tr>\n      <th>Pasteurization  homo|P Pasto/homo bar</th>\n      <td>550+50</td>\n      <td>550+50</td>\n      <td>250+50</td>\n      <td>550+50</td>\n      <td>550+50</td>\n    </tr>\n    <tr>\n      <th>Sterilization US homo|P Sterilization US bar</th>\n      <td>NaN</td>\n      <td>NaN</td>\n      <td>NaN</td>\n      <td>NaN</td>\n      <td>NaN</td>\n    </tr>\n    <tr>\n      <th>SterilizationDS homo|P Steril DS</th>\n      <td>100+0</td>\n      <td>100+0</td>\n      <td>100+0</td>\n      <td>100+0</td>\n      <td>100+0</td>\n    </tr>\n    <tr>\n      <th>Sterilization|Direct/indirect Ste</th>\n      <td>Indirect</td>\n      <td>Indirect</td>\n      <td>Indirect</td>\n      <td>Indirect</td>\n      <td>Indirect</td>\n    </tr>\n    <tr>\n      <th>Protein|Type of protein</th>\n      <td>Dairy</td>\n      <td>Dairy</td>\n      <td>Dairy</td>\n      <td>Dairy</td>\n      <td>Dairy</td>\n    </tr>\n    <tr>\n      <th>Protein|intact / hydrolysate/am acids</th>\n      <td>Intact</td>\n      <td>Intact</td>\n      <td>Hydrolyzed</td>\n      <td>Intact</td>\n      <td>Intact</td>\n    </tr>\n    <tr>\n      <th>Stabilizers  thickners|Type</th>\n      <td>NaN</td>\n      <td>NaN</td>\n      <td>Modified starch</td>\n      <td>NaN</td>\n      <td>NaN</td>\n    </tr>\n  </tbody>\n</table>\n</div>",
       "datasetInfos": [],
       "metadata": {},
       "removedWidgets": [],
       "textData": null,
       "type": "htmlSandbox"
      }
     },
     "output_type": "display_data"
    }
   ],
   "source": [
    "# check cols of dtype \"object\"\n",
    "df.loc[:, df.dtypes==object].head().transpose()"
   ]
  },
  {
   "cell_type": "code",
   "execution_count": 0,
   "metadata": {
    "application/vnd.databricks.v1+cell": {
     "cellMetadata": {
      "byteLimit": 2048000,
      "rowLimit": 10000
     },
     "inputWidgets": {},
     "nuid": "c0046041-788d-4d18-9c42-574aca2eaeee",
     "showTitle": false,
     "title": ""
    }
   },
   "outputs": [],
   "source": [
    "def split_plus_to_numeric(df, column_to_split, remove_origin=True):\n",
    "    df[[column_to_split + ' first', column_to_split + ' second']] = df[column_to_split].str.split('+', expand=True).apply(pd.to_numeric)\n",
    "    df.drop(column_to_split, axis=1, inplace=True)\n",
    "    return df"
   ]
  },
  {
   "cell_type": "code",
   "execution_count": 0,
   "metadata": {
    "application/vnd.databricks.v1+cell": {
     "cellMetadata": {
      "byteLimit": 2048000,
      "rowLimit": 10000
     },
     "inputWidgets": {},
     "nuid": "059c5255-bda1-4c70-abd6-359f00fa8d73",
     "showTitle": false,
     "title": ""
    }
   },
   "outputs": [
    {
     "output_type": "stream",
     "name": "stdout",
     "output_type": "stream",
     "text": [
      "\t----- Pasteurization  homo|P Pasto/homo bar -----\n\nbefore split:\n 550+50      29\n400+50      20\n250+50      15\n200+50       7\n50+100       5\n450+50       4\n220+30       3\n150+50       2\n260+30       2\n250 + 50     2\n180+50       2\n250+30       1\n230+40       1\n300+50       1\n325+50       1\n350+50       1\nName: Pasteurization  homo|P Pasto/homo bar, dtype: int64 \n\n\nafter split:\n 550.0    29\n400.0    20\n250.0    18\n200.0     7\n50.0      5\n450.0     4\n220.0     3\n150.0     2\n260.0     2\n180.0     2\n230.0     1\n300.0     1\n325.0     1\n350.0     1\nName: Pasteurization  homo|P Pasto/homo bar first, dtype: int64 \n 50.0     84\n30.0      6\n100.0     5\n40.0      1\nName: Pasteurization  homo|P Pasto/homo bar second, dtype: int64 \n\n\n\t----- Sterilization US homo|P Sterilization US bar -----\n\nbefore split:\n 250+50      5\n250 + 50    4\nName: Sterilization US homo|P Sterilization US bar, dtype: int64 \n\n\nafter split:\n 250.0    9\nName: Sterilization US homo|P Sterilization US bar first, dtype: int64 \n 50.0    9\nName: Sterilization US homo|P Sterilization US bar second, dtype: int64 \n\n\n\t----- SterilizationDS homo|P Steril DS -----\n\nbefore split:\n 100+0      31\n100+25     16\n200+0      11\n150         8\n200+50      7\n0+50        5\n20+50       5\n220+30      4\n181         4\n180+50      3\n100         2\n260         2\n220+30      2\n240+40      2\n315+40      2\n275+25      1\n250+50      1\nName: SterilizationDS homo|P Steril DS, dtype: int64 \n\n\nafter split:\n 100.0    49\n200.0    18\n150.0     8\n220.0     6\n0.0       5\n20.0      5\n181.0     4\n180.0     3\n240.0     2\n260.0     2\n315.0     2\n275.0     1\n250.0     1\nName: SterilizationDS homo|P Steril DS first, dtype: int64 \n 0.0     42\n50.0    21\n25.0    17\n30.0     6\n40.0     4\nName: SterilizationDS homo|P Steril DS second, dtype: int64 \n\n\n"
     ]
    },
    {
     "output_type": "stream",
     "name": "stderr",
     "output_type": "stream",
     "text": [
      "<command-2533285189213746>:2: SettingWithCopyWarning: \nA value is trying to be set on a copy of a slice from a DataFrame.\nTry using .loc[row_indexer,col_indexer] = value instead\n\nSee the caveats in the documentation: https://pandas.pydata.org/pandas-docs/stable/user_guide/indexing.html#returning-a-view-versus-a-copy\n  df[[column_to_split + ' first', column_to_split + ' second']] = df[column_to_split].str.split('+', expand=True).apply(pd.to_numeric)\n<command-2533285189213746>:2: SettingWithCopyWarning: \nA value is trying to be set on a copy of a slice from a DataFrame.\nTry using .loc[row_indexer,col_indexer] = value instead\n\nSee the caveats in the documentation: https://pandas.pydata.org/pandas-docs/stable/user_guide/indexing.html#returning-a-view-versus-a-copy\n  df[[column_to_split + ' first', column_to_split + ' second']] = df[column_to_split].str.split('+', expand=True).apply(pd.to_numeric)\n<command-2533285189213746>:3: SettingWithCopyWarning: \nA value is trying to be set on a copy of a slice from a DataFrame\n\nSee the caveats in the documentation: https://pandas.pydata.org/pandas-docs/stable/user_guide/indexing.html#returning-a-view-versus-a-copy\n  df.drop(column_to_split, axis=1, inplace=True)\n<command-2533285189213746>:2: SettingWithCopyWarning: \nA value is trying to be set on a copy of a slice from a DataFrame.\nTry using .loc[row_indexer,col_indexer] = value instead\n\nSee the caveats in the documentation: https://pandas.pydata.org/pandas-docs/stable/user_guide/indexing.html#returning-a-view-versus-a-copy\n  df[[column_to_split + ' first', column_to_split + ' second']] = df[column_to_split].str.split('+', expand=True).apply(pd.to_numeric)\n<command-2533285189213746>:2: SettingWithCopyWarning: \nA value is trying to be set on a copy of a slice from a DataFrame.\nTry using .loc[row_indexer,col_indexer] = value instead\n\nSee the caveats in the documentation: https://pandas.pydata.org/pandas-docs/stable/user_guide/indexing.html#returning-a-view-versus-a-copy\n  df[[column_to_split + ' first', column_to_split + ' second']] = df[column_to_split].str.split('+', expand=True).apply(pd.to_numeric)\n<command-2533285189213746>:3: SettingWithCopyWarning: \nA value is trying to be set on a copy of a slice from a DataFrame\n\nSee the caveats in the documentation: https://pandas.pydata.org/pandas-docs/stable/user_guide/indexing.html#returning-a-view-versus-a-copy\n  df.drop(column_to_split, axis=1, inplace=True)\n<command-2533285189213746>:2: SettingWithCopyWarning: \nA value is trying to be set on a copy of a slice from a DataFrame.\nTry using .loc[row_indexer,col_indexer] = value instead\n\nSee the caveats in the documentation: https://pandas.pydata.org/pandas-docs/stable/user_guide/indexing.html#returning-a-view-versus-a-copy\n  df[[column_to_split + ' first', column_to_split + ' second']] = df[column_to_split].str.split('+', expand=True).apply(pd.to_numeric)\n<command-2533285189213746>:2: SettingWithCopyWarning: \nA value is trying to be set on a copy of a slice from a DataFrame.\nTry using .loc[row_indexer,col_indexer] = value instead\n\nSee the caveats in the documentation: https://pandas.pydata.org/pandas-docs/stable/user_guide/indexing.html#returning-a-view-versus-a-copy\n  df[[column_to_split + ' first', column_to_split + ' second']] = df[column_to_split].str.split('+', expand=True).apply(pd.to_numeric)\n<command-2533285189213746>:3: SettingWithCopyWarning: \nA value is trying to be set on a copy of a slice from a DataFrame\n\nSee the caveats in the documentation: https://pandas.pydata.org/pandas-docs/stable/user_guide/indexing.html#returning-a-view-versus-a-copy\n  df.drop(column_to_split, axis=1, inplace=True)\n"
     ]
    }
   ],
   "source": [
    "col_to_split = [\"Pasteurization  homo|P Pasto/homo bar\", \"Sterilization US homo|P Sterilization US bar\", \"SterilizationDS homo|P Steril DS\"]\n",
    "for col in col_to_split:\n",
    "    print(f\"\\t----- {col} -----\")\n",
    "    print(\"\\nbefore split:\\n\", df[col].value_counts(), \"\\n\\n\")\n",
    "    df = split_plus_to_numeric(df, col)\n",
    "    print(\"after split:\\n\", df[col + ' first'].value_counts(), \"\\n\", df[col + ' second'].value_counts(), \"\\n\\n\")"
   ]
  },
  {
   "cell_type": "code",
   "execution_count": 0,
   "metadata": {
    "application/vnd.databricks.v1+cell": {
     "cellMetadata": {
      "byteLimit": 2048000,
      "rowLimit": 10000
     },
     "inputWidgets": {},
     "nuid": "ca4fef0b-3684-492d-8e72-59ecaede38b5",
     "showTitle": false,
     "title": ""
    }
   },
   "outputs": [
    {
     "output_type": "stream",
     "name": "stdout",
     "output_type": "stream",
     "text": [
      "<class 'pandas.core.frame.DataFrame'>\nInt64Index: 129 entries, 0 to 129\nColumns: 121 entries, pds_code to SterilizationDS homo|P Steril DS second\ndtypes: category(1), float64(112), object(8)\nmemory usage: 122.3+ KB\n"
     ]
    }
   ],
   "source": [
    "df.info()"
   ]
  },
  {
   "cell_type": "markdown",
   "metadata": {
    "application/vnd.databricks.v1+cell": {
     "cellMetadata": {
      "byteLimit": 2048000,
      "rowLimit": 10000
     },
     "inputWidgets": {},
     "nuid": "3a62afe1-d56a-4e99-9340-735f849bb2ff",
     "showTitle": false,
     "title": ""
    }
   },
   "source": [
    "## make clusters"
   ]
  },
  {
   "cell_type": "code",
   "execution_count": 0,
   "metadata": {
    "application/vnd.databricks.v1+cell": {
     "cellMetadata": {
      "byteLimit": 2048000,
      "rowLimit": 10000
     },
     "inputWidgets": {},
     "nuid": "706666a5-fa61-4a3d-ad99-4f501dd414c6",
     "showTitle": false,
     "title": ""
    }
   },
   "outputs": [
    {
     "output_type": "display_data",
     "data": {
      "text/html": [
       "<div>\n",
       "<style scoped>\n",
       "    .dataframe tbody tr th:only-of-type {\n",
       "        vertical-align: middle;\n",
       "    }\n",
       "\n",
       "    .dataframe tbody tr th {\n",
       "        vertical-align: top;\n",
       "    }\n",
       "\n",
       "    .dataframe thead th {\n",
       "        text-align: right;\n",
       "    }\n",
       "</style>\n",
       "<table border=\"1\" class=\"dataframe\">\n",
       "  <thead>\n",
       "    <tr style=\"text-align: right;\">\n",
       "      <th></th>\n",
       "      <th>criteria_col</th>\n",
       "      <th>col_value</th>\n",
       "    </tr>\n",
       "    <tr>\n",
       "      <th>name</th>\n",
       "      <th></th>\n",
       "      <th></th>\n",
       "    </tr>\n",
       "  </thead>\n",
       "  <tbody>\n",
       "    <tr>\n",
       "      <th>category_imf</th>\n",
       "      <td>General|Category no empty cell/not merged</td>\n",
       "      <td>Core Milks</td>\n",
       "    </tr>\n",
       "    <tr>\n",
       "      <th>protein_type_intact</th>\n",
       "      <td>Protein|intact / hydrolysate/am acids</td>\n",
       "      <td>Intact</td>\n",
       "    </tr>\n",
       "    <tr>\n",
       "      <th>protein_type_hydrolyzed</th>\n",
       "      <td>Protein|intact / hydrolysate/am acids</td>\n",
       "      <td>Hydrolyzed</td>\n",
       "    </tr>\n",
       "  </tbody>\n",
       "</table>\n",
       "</div>"
      ]
     },
     "metadata": {
      "application/vnd.databricks.v1+output": {
       "addedWidgets": {},
       "arguments": {},
       "data": "<div>\n<style scoped>\n    .dataframe tbody tr th:only-of-type {\n        vertical-align: middle;\n    }\n\n    .dataframe tbody tr th {\n        vertical-align: top;\n    }\n\n    .dataframe thead th {\n        text-align: right;\n    }\n</style>\n<table border=\"1\" class=\"dataframe\">\n  <thead>\n    <tr style=\"text-align: right;\">\n      <th></th>\n      <th>criteria_col</th>\n      <th>col_value</th>\n    </tr>\n    <tr>\n      <th>name</th>\n      <th></th>\n      <th></th>\n    </tr>\n  </thead>\n  <tbody>\n    <tr>\n      <th>category_imf</th>\n      <td>General|Category no empty cell/not merged</td>\n      <td>Core Milks</td>\n    </tr>\n    <tr>\n      <th>protein_type_intact</th>\n      <td>Protein|intact / hydrolysate/am acids</td>\n      <td>Intact</td>\n    </tr>\n    <tr>\n      <th>protein_type_hydrolyzed</th>\n      <td>Protein|intact / hydrolysate/am acids</td>\n      <td>Hydrolyzed</td>\n    </tr>\n  </tbody>\n</table>\n</div>",
       "datasetInfos": [],
       "metadata": {},
       "removedWidgets": [],
       "textData": null,
       "type": "htmlSandbox"
      }
     },
     "output_type": "display_data"
    }
   ],
   "source": [
    "# table of filters for clusters\n",
    "df_filters = pd.DataFrame(columns=[\"name\", \"criteria_col\", \"col_value\"])\n",
    "df_filters.loc[len(df_filters.index)] = [\"category_imf\", \"General|Category no empty cell/not merged\", \"Core Milks\"]\n",
    "df_filters.loc[len(df_filters.index)] = [\"protein_type_intact\", \"Protein|intact / hydrolysate/am acids\", \"Intact\"]\n",
    "df_filters.loc[len(df_filters.index)] = [\"protein_type_hydrolyzed\", \"Protein|intact / hydrolysate/am acids\", \"Hydrolyzed\"]\n",
    "df_filters.set_index('name', inplace=True)\n",
    "df_filters\n"
   ]
  },
  {
   "cell_type": "code",
   "execution_count": 0,
   "metadata": {
    "application/vnd.databricks.v1+cell": {
     "cellMetadata": {
      "byteLimit": 2048000,
      "rowLimit": 10000
     },
     "inputWidgets": {},
     "nuid": "17d50e75-4572-4cea-86b1-05f0f65d660f",
     "showTitle": false,
     "title": ""
    }
   },
   "outputs": [],
   "source": [
    "def get_cluster(df, cluster_name):\n",
    "    criteria_col = df_filters.loc[cluster_name, \"criteria_col\"]\n",
    "    col_value = df_filters.loc[cluster_name, \"col_value\"]\n",
    "    path_res = os.path.join(path_res_by_cluster, cluster_name)\n",
    "    if not os.path.exists(path_res):\n",
    "        os.makedirs(path_res)\n",
    "\n",
    "    df_cluster = df[df[criteria_col] == col_value]\n",
    "    return df_cluster, path_res"
   ]
  },
  {
   "cell_type": "code",
   "execution_count": 0,
   "metadata": {
    "application/vnd.databricks.v1+cell": {
     "cellMetadata": {
      "byteLimit": 2048000,
      "rowLimit": 10000
     },
     "inputWidgets": {},
     "nuid": "3678d8f9-7a5d-45ee-9525-f267d22d4d78",
     "showTitle": false,
     "title": ""
    }
   },
   "outputs": [],
   "source": [
    "def make_category_plots(df, path_res):\n",
    "    if not os.path.exists(os.path.join(path_res, \"category_plot\")):\n",
    "        os.makedirs(os.path.join(path_res, \"category_plot\"))\n",
    "\n",
    "        \n",
    "    count_obj = 0\n",
    "    for x in df.columns:\n",
    "        if x not in [\"pds_code\",\"target\"] and df[[x]].dtypes[0]==\"object\":\n",
    "            print(x)\n",
    "            #x=\"Category no empty cell/not merged\"\n",
    "            #print(x.replace('/| ',\"\"))\n",
    "            name_x=x\n",
    "            for character in '!?/|':\n",
    "                name_x = name_x.replace(character, ' ')\n",
    "            #print(name_x)\n",
    "            sns_plot = sns.countplot(data=df, x=x,  hue=\"target\", palette=palette)\n",
    "            plt.xticks(rotation=30)\n",
    "            fig = sns_plot.get_figure()\n",
    "            fig.savefig(os.path.join(path_res, \"category_plot/countplot_\"+name_x\n",
    "            +\".png\"), dpi=100, bbox_inches='tight')\n",
    "            fig.clf()\n",
    "            count_obj += 1\n",
    "    print(\"number of columns of dtype 'object':\", count_obj)\n"
   ]
  },
  {
   "cell_type": "code",
   "execution_count": 0,
   "metadata": {
    "application/vnd.databricks.v1+cell": {
     "cellMetadata": {
      "byteLimit": 2048000,
      "rowLimit": 10000
     },
     "inputWidgets": {},
     "nuid": "84831dbd-7a23-46de-b372-4ca80d964f2c",
     "showTitle": false,
     "title": ""
    }
   },
   "outputs": [],
   "source": [
    "def make_boxplots(df, path_res):\n",
    "    if not os.path.exists(os.path.join(path_res, \"boxplot\")):\n",
    "        os.makedirs(os.path.join(path_res, \"boxplot\"))\n",
    "    count_float = 0\n",
    "    for x in df.columns:\n",
    "        if x not in [\"pds_code\",\"target\"] and df[[x]].dtypes[0]==\"float64\":\n",
    "            #x=\"Category no empty cell/not merged\"\n",
    "            #print(x.replace('/| ',\"\"))\n",
    "            name_x=x\n",
    "            for character in '!?/|:':\n",
    "                name_x = name_x.replace(character, ' ')\n",
    "            print(x, '\\t', name_x)\n",
    "            sns_plot = sns.boxplot(data=df,x=x, y=\"target\", palette=palette)\n",
    "            plt.xticks(rotation=30)        \n",
    "            fig = sns_plot.get_figure()\n",
    "            fig.savefig(os.path.join(path_res, \"boxplot/boxplot_\"+name_x\n",
    "            +\".png\"), dpi=100, bbox_inches='tight')\n",
    "            fig.clf()\n",
    "            count_float += 1\n",
    "    print(\"number of columns of dtype 'float64':\", count_float)\n"
   ]
  },
  {
   "cell_type": "code",
   "execution_count": 0,
   "metadata": {
    "application/vnd.databricks.v1+cell": {
     "cellMetadata": {
      "byteLimit": 2048000,
      "rowLimit": 10000
     },
     "inputWidgets": {},
     "nuid": "04cf85e3-17cd-40ff-8816-52514f6e17d2",
     "showTitle": false,
     "title": ""
    }
   },
   "outputs": [],
   "source": [
    "# df[\"Total Lipids g/100g product\"]= df[\"Total Lipids g/100g product\"].astype(float)\n",
    "# # df_compare = df.dropna(subset=[\"Total Lipids g/100g product\",'Protein|Type of protein'])\n",
    "# df_compare = df[df[\"Protein|Type of protein\"] != 'Not applicable']\n",
    "# sns_plot = sns.boxplot(data=df_compare,x=\"Total Lipids g/100g product\", y=\"Protein|Type of protein\",hue=\"target\", palette = palette)\n",
    "# fig = sns_plot.get_figure()\n",
    "# fig.savefig(os.path.join(path_res, \"pairplot_totallipid_typeprotein.png\"),dpi=100, bbox_inches='tight')"
   ]
  },
  {
   "cell_type": "code",
   "execution_count": 0,
   "metadata": {
    "application/vnd.databricks.v1+cell": {
     "cellMetadata": {
      "byteLimit": 2048000,
      "rowLimit": 10000
     },
     "inputWidgets": {},
     "nuid": "8e0a803b-056c-40ba-872f-5ae351ea3cf5",
     "showTitle": false,
     "title": ""
    }
   },
   "outputs": [],
   "source": [
    "# sns_plot =sns.scatterplot(data=df,x=\"Total Lipids g/100g product\", y=\"FA_Sat g/100gFA\",hue=\"target\", palette = palette)\n",
    "# fig = sns_plot.get_figure()\n",
    "# fig.savefig(os.path.join(path_res, \"scatterplot_totallipid_FA_Saturated.png\"),dpi=100, bbox_inches='tight')"
   ]
  },
  {
   "cell_type": "code",
   "execution_count": 0,
   "metadata": {
    "application/vnd.databricks.v1+cell": {
     "cellMetadata": {
      "byteLimit": 2048000,
      "rowLimit": 10000
     },
     "inputWidgets": {},
     "nuid": "e48e911c-68d8-4ef8-aa9f-16191e5cff60",
     "showTitle": false,
     "title": ""
    }
   },
   "outputs": [],
   "source": [
    "# sns.scatterplot(data=df, x='Oil_total_amount', y='Total Lipids g/100g product')"
   ]
  },
  {
   "cell_type": "code",
   "execution_count": 0,
   "metadata": {
    "application/vnd.databricks.v1+cell": {
     "cellMetadata": {
      "byteLimit": 2048000,
      "rowLimit": 10000
     },
     "inputWidgets": {},
     "nuid": "e5872128-f0ce-4a62-a211-4a29e548154c",
     "showTitle": false,
     "title": ""
    }
   },
   "outputs": [],
   "source": [
    "def make_pairplots(df, path_res, cluster_name):\n",
    "    lst_col_total_amount = ['Stabilizers  thickners|Amount kg/1000L', 'Emulsifier_total_amount', 'Oil_total_amount', 'Polysaccharides_total_amount', 'Protein_total_amount']\n",
    "    df_total_amount = df[lst_col_total_amount + ['target']]\n",
    "    df_total_amount.rename(columns={'Stabilizers  thickners|Amount kg/1000L': 'stabilizers_amount'}, inplace=True)        \n",
    "    plt.rcParams['figure.figsize'] = (25, 20)\n",
    "    sns_plot = sns.pairplot(df_total_amount, hue='target', palette=palette)\n",
    "    plt.savefig(os.path.join(path_res, f\"pairplot_total_amount_{cluster_name}.png\"),dpi=100, bbox_inches='tight')\n",
    "    plt.clf()\n",
    "    # normalized total amounts\n",
    "    df_total_amount_val = df_total_amount.drop('target', axis=1)\n",
    "    df_total_amount_norm = df_total_amount_val.div(df_total_amount_val.sum(axis=1), axis=0)\n",
    "    df_total_amount_norm['target'] = df_total_amount['target']\n",
    "    sns.pairplot(df_total_amount_norm, hue='target', palette=palette)\n",
    "    plt.savefig(os.path.join(path_res, f\"pairplot_total_amount_normalized_{cluster_name}.png\"),dpi=100, bbox_inches='tight')\n",
    "    plt.clf()"
   ]
  },
  {
   "cell_type": "code",
   "execution_count": 0,
   "metadata": {
    "application/vnd.databricks.v1+cell": {
     "cellMetadata": {
      "byteLimit": 2048000,
      "rowLimit": 10000
     },
     "inputWidgets": {},
     "nuid": "fa5b5b25-8845-4b2e-939e-da2b7f5dce18",
     "showTitle": false,
     "title": ""
    }
   },
   "outputs": [],
   "source": [
    "from sklearn.preprocessing import OneHotEncoder\n",
    "\n",
    "def process_data(df):\n",
    "    y = df[\"target\"]\n",
    "    X = df.drop([\"pds_code\", \"target\"], axis=1)\n",
    "    # numeric features\n",
    "    X_num = X.select_dtypes(include='number')\n",
    "    X_num.fillna(0, inplace=True)\n",
    "    # categorical features\n",
    "    X_obj = X.select_dtypes(include='object')\n",
    "    enc = OneHotEncoder(handle_unknown='ignore')\n",
    "    X_obj_onehot = enc.fit_transform(X_obj)\n",
    "    X_obj_onehot = enc.transform(X_obj).toarray()\n",
    "    X_obj_onehot_name = enc.get_feature_names_out(X_obj.columns)\n",
    "    df_X_obj_onehot = pd.DataFrame(X_obj_onehot, columns=X_obj_onehot_name, index = X.index)\n",
    "    X_enc = X.drop(X_obj.columns, axis=1)\n",
    "    X_enc = pd.concat([X_enc, df_X_obj_onehot], axis=1)\n",
    "    # feature combination\n",
    "    X_final = X_enc.fillna(0)\n",
    "    return X_final, y"
   ]
  },
  {
   "cell_type": "code",
   "execution_count": 0,
   "metadata": {
    "application/vnd.databricks.v1+cell": {
     "cellMetadata": {
      "byteLimit": 2048000,
      "rowLimit": 10000
     },
     "inputWidgets": {},
     "nuid": "2ee435ed-49aa-472b-b3e0-bd72f25dd06e",
     "showTitle": false,
     "title": ""
    }
   },
   "outputs": [],
   "source": [
    "def decision_tree_train_pred(X_final, y):\n",
    "    print(\"decision tree classifier training... \")\n",
    "    clf = DecisionTreeClassifier(criterion='entropy',max_depth=4,random_state=123)\n",
    "    clf.fit(X_final, y)\n",
    "    pred = clf.predict(X_final)\n",
    "    print(\"accuracy_score =\", accuracy_score(y, pred))\n",
    "    return clf"
   ]
  },
  {
   "cell_type": "code",
   "execution_count": 0,
   "metadata": {
    "application/vnd.databricks.v1+cell": {
     "cellMetadata": {
      "byteLimit": 2048000,
      "rowLimit": 10000
     },
     "inputWidgets": {},
     "nuid": "3cc6b39d-2986-4d67-8a59-d6e88d6abbb7",
     "showTitle": false,
     "title": ""
    }
   },
   "outputs": [],
   "source": [
    "from sklearn.tree import DecisionTreeRegressor\n",
    "def decision_tree_reg_train_pred(X_final, y):\n",
    "    print(\"decision tree regressor training... \")\n",
    "    regr = DecisionTreeRegressor(max_depth=4,random_state=123)\n",
    "    regr.fit(X_final, y)\n",
    "    pred = regr.predict(X_final)\n",
    "    print(\"accuracy_score =\", accuracy_score(y, pred))\n",
    "    return regr"
   ]
  },
  {
   "cell_type": "code",
   "execution_count": 0,
   "metadata": {
    "application/vnd.databricks.v1+cell": {
     "cellMetadata": {
      "byteLimit": 2048000,
      "rowLimit": 10000
     },
     "inputWidgets": {},
     "nuid": "f3478912-1121-4d29-94eb-0ae35dc92f39",
     "showTitle": false,
     "title": ""
    }
   },
   "outputs": [],
   "source": [
    "def decision_tree_viz(model, X_final, y, path_res, cluster_name):\n",
    "    # text_representation = tree.export_text(model)\n",
    "    y_for_viz = y.unique().sort_values(ascending=True).astype(str).tolist()\n",
    "    print(y_for_viz)\n",
    "    fig = plt.figure(figsize=(34, 18))\n",
    "    plot_tree(model, \n",
    "              feature_names=X_final.columns,  \n",
    "              class_names=y_for_viz,\n",
    "              filled=True,\n",
    "              fontsize=12\n",
    "              )\n",
    "    plt.title(f\"Decision tree for stability of {cluster_name} products\", size=14)\n",
    "    fig.savefig(os.path.join(path_res, f\"decision_tree_{cluster_name}.png\"))\n",
    "    fig.clf()\n",
    "    \n",
    "    # y_for_viz = pd.to_numeric(y) - 1\n",
    "    # viz_model = dtreeviz.model(model,\n",
    "    #                        X_train=X_final, y_train=y_for_viz,\n",
    "    #                        feature_names=X_final.columns,\n",
    "    #                        target_name='stability score',\n",
    "    #                        class_names=[0, 1, 2])\n",
    "    # print(\"check\")\n",
    "    # v = viz_model.view()     # render as SVG into internal object \n",
    "    # v.show()                 # pop up window\n",
    "    # v.save(os.path.join(path_res, \"decision_tree_viz.svg\"))  # optionally save as svg\n",
    "\n",
    "\n",
    "    # dot_data = tree.export_graphviz(model, out_file=None, \n",
    "    #                             feature_names=X_final.columns, \n",
    "    #                             class_names=['1', '2', '3', '4'], \n",
    "    #                             filled=True, \n",
    "    #                             rounded=True) \n",
    "    # graph = graphviz.Source(dot_data) \n",
    "    # graph.render(os.path.join(path_res, \"decision_tree\"))\n",
    "\n",
    "    # get the importance figure\n",
    "\n",
    "def feature_importance_chart(model, X_final, path_res, cluster_name, num_prod):\n",
    "    importance = model.feature_importances_\n",
    "    df_importance = pd.DataFrame(importance, index=X_final.columns)\n",
    "    df_importance.sort_values(by=[0], ascending=False, inplace=True)\n",
    "    plt.rcParams['figure.figsize'] = (6, 6)   \n",
    "    sns_plot = sns.barplot(data=df_importance[:10].transpose(), orient='h')\n",
    "    plt.xticks(fontsize=12) \n",
    "    plt.yticks(fontsize=12)\n",
    "    plt.title(f\"Feature importance for stability of {num_prod} {cluster_name} products\", size=18, loc='right')\n",
    "    fig = sns_plot.get_figure()\n",
    "    fig.savefig(os.path.join(path_res, f\"feature_importance_{cluster_name}.png\"), bbox_inches='tight')\n",
    "    fig.clf()\n"
   ]
  },
  {
   "cell_type": "markdown",
   "metadata": {
    "application/vnd.databricks.v1+cell": {
     "cellMetadata": {
      "byteLimit": 2048000,
      "rowLimit": 10000
     },
     "inputWidgets": {},
     "nuid": "5958d8cb-19da-4541-9b1d-56f228c0b987",
     "showTitle": false,
     "title": ""
    }
   },
   "source": [
    "# Modeling"
   ]
  },
  {
   "cell_type": "markdown",
   "metadata": {
    "application/vnd.databricks.v1+cell": {
     "cellMetadata": {
      "byteLimit": 2048000,
      "rowLimit": 10000
     },
     "inputWidgets": {},
     "nuid": "ded9f94d-3170-4475-afc6-99f70e15115e",
     "showTitle": false,
     "title": ""
    }
   },
   "source": [
    "### on all the products"
   ]
  },
  {
   "cell_type": "code",
   "execution_count": 0,
   "metadata": {
    "application/vnd.databricks.v1+cell": {
     "cellMetadata": {
      "byteLimit": 2048000,
      "rowLimit": 10000
     },
     "inputWidgets": {},
     "nuid": "45da96ba-b9f1-478a-85e9-dae87704b7c6",
     "showTitle": false,
     "title": ""
    }
   },
   "outputs": [
    {
     "output_type": "stream",
     "name": "stderr",
     "output_type": "stream",
     "text": [
      "<command-3173362489925718>:4: SettingWithCopyWarning: \nA value is trying to be set on a copy of a slice from a DataFrame\n\nSee the caveats in the documentation: https://pandas.pydata.org/pandas-docs/stable/user_guide/indexing.html#returning-a-view-versus-a-copy\n  df_total_amount.rename(columns={'Stabilizers  thickners|Amount kg/1000L': 'stabilizers_amount'}, inplace=True)\n"
     ]
    },
    {
     "output_type": "stream",
     "name": "stdout",
     "output_type": "stream",
     "text": [
      "[2.0, 3.0, 1.0, 4.0]\ndecision tree classifier training... \naccuracy_score = 0.8449612403100775\n['1.0', '2.0', '3.0', '4.0']\n<Figure size 951.875x900 with 0 Axes><Figure size 951.875x900 with 0 Axes><Figure size 2448x1296 with 0 Axes>"
     ]
    }
   ],
   "source": [
    "path_res = path_res_all\n",
    "make_pairplots(df, path_res, 'all')\n",
    "X, y = process_data(df)\n",
    "print(y.unique().tolist())\n",
    "clf = decision_tree_train_pred(X, y)\n",
    "decision_tree_viz(clf, X, y, path_res, 'all')\n",
    "feature_importance_chart(clf, X, path_res, 'all', len(df))"
   ]
  },
  {
   "cell_type": "code",
   "execution_count": 0,
   "metadata": {
    "application/vnd.databricks.v1+cell": {
     "cellMetadata": {
      "byteLimit": 2048000,
      "rowLimit": 10000
     },
     "inputWidgets": {},
     "nuid": "b00291e0-6e90-49ff-9082-6178f25aac97",
     "showTitle": false,
     "title": ""
    }
   },
   "outputs": [
    {
     "output_type": "stream",
     "name": "stdout",
     "output_type": "stream",
     "text": [
      "Out[25]: float64    239\ndtype: int64"
     ]
    }
   ],
   "source": [
    "X.dtypes.value_counts()"
   ]
  },
  {
   "cell_type": "code",
   "execution_count": 0,
   "metadata": {
    "application/vnd.databricks.v1+cell": {
     "cellMetadata": {
      "byteLimit": 2048000,
      "rowLimit": 10000
     },
     "inputWidgets": {},
     "nuid": "9c6d25e9-9b9f-4b35-9df5-c598341971b9",
     "showTitle": false,
     "title": ""
    }
   },
   "outputs": [
    {
     "output_type": "stream",
     "name": "stdout",
     "output_type": "stream",
     "text": [
      "Out[26]: DecisionTreeRegressor(max_depth=4, random_state=123)"
     ]
    }
   ],
   "source": [
    "X = df.drop([\"pds_code\", \"target\"], axis=1)\n",
    "# numeric features\n",
    "X_num = X.select_dtypes(include='number')\n",
    "X_num.fillna(0, inplace=True)\n",
    "y_num = pd.to_numeric(y)\n",
    "regr = DecisionTreeRegressor(max_depth=4,random_state=123)\n",
    "regr.fit(X_num, y_num)\n",
    "\n",
    "\n"
   ]
  },
  {
   "cell_type": "code",
   "execution_count": 0,
   "metadata": {
    "application/vnd.databricks.v1+cell": {
     "cellMetadata": {
      "byteLimit": 2048000,
      "rowLimit": 10000
     },
     "inputWidgets": {},
     "nuid": "3b4e403b-cddd-4286-b6b9-520cb2e42e25",
     "showTitle": false,
     "title": ""
    }
   },
   "outputs": [
    {
     "output_type": "display_data",
     "data": {
      "text/plain": [
       "\u001B[0;31m---------------------------------------------------------------------------\u001B[0m\n",
       "\u001B[0;31mNameError\u001B[0m                                 Traceback (most recent call last)\n",
       "File \u001B[0;32m<command-2533285189213852>:2\u001B[0m\n",
       "\u001B[1;32m      1\u001B[0m \u001B[38;5;66;03m# pred = regr.predict(X_num)\u001B[39;00m\n",
       "\u001B[0;32m----> 2\u001B[0m pred \u001B[38;5;241m=\u001B[39m pred\u001B[38;5;241m.\u001B[39mround(\u001B[38;5;241m0\u001B[39m)\n",
       "\u001B[1;32m      3\u001B[0m pred\n",
       "\u001B[1;32m      4\u001B[0m \u001B[38;5;28mprint\u001B[39m(\u001B[38;5;124m\"\u001B[39m\u001B[38;5;124maccuracy_score =\u001B[39m\u001B[38;5;124m\"\u001B[39m, accuracy_score(y_num, pred))\n",
       "\n",
       "\u001B[0;31mNameError\u001B[0m: name 'pred' is not defined"
      ]
     },
     "metadata": {
      "application/vnd.databricks.v1+output": {
       "arguments": {},
       "data": "\u001B[0;31m---------------------------------------------------------------------------\u001B[0m\n\u001B[0;31mNameError\u001B[0m                                 Traceback (most recent call last)\nFile \u001B[0;32m<command-2533285189213852>:2\u001B[0m\n\u001B[1;32m      1\u001B[0m \u001B[38;5;66;03m# pred = regr.predict(X_num)\u001B[39;00m\n\u001B[0;32m----> 2\u001B[0m pred \u001B[38;5;241m=\u001B[39m pred\u001B[38;5;241m.\u001B[39mround(\u001B[38;5;241m0\u001B[39m)\n\u001B[1;32m      3\u001B[0m pred\n\u001B[1;32m      4\u001B[0m \u001B[38;5;28mprint\u001B[39m(\u001B[38;5;124m\"\u001B[39m\u001B[38;5;124maccuracy_score =\u001B[39m\u001B[38;5;124m\"\u001B[39m, accuracy_score(y_num, pred))\n\n\u001B[0;31mNameError\u001B[0m: name 'pred' is not defined",
       "errorSummary": "<span class='ansi-red-fg'>NameError</span>: name 'pred' is not defined",
       "errorTraceType": "ansi",
       "metadata": {},
       "type": "ipynbError"
      }
     },
     "output_type": "display_data"
    }
   ],
   "source": [
    "# pred = regr.predict(X_num)\n",
    "pred = pred.round(0)\n",
    "pred\n",
    "print(\"accuracy_score =\", accuracy_score(y_num, pred))"
   ]
  },
  {
   "cell_type": "code",
   "execution_count": 0,
   "metadata": {
    "application/vnd.databricks.v1+cell": {
     "cellMetadata": {
      "byteLimit": 2048000,
      "rowLimit": 10000
     },
     "inputWidgets": {},
     "nuid": "5f5dca31-d270-41d2-bd34-35b6563cf425",
     "showTitle": false,
     "title": ""
    }
   },
   "outputs": [
    {
     "output_type": "stream",
     "name": "stdout",
     "output_type": "stream",
     "text": [
      "['1.0', '2.0', '3.0', '4.0']\nOut[28]: [Text(0.6071428571428571, 0.9, 'Pasteurization  homo|P Pasto/homo bar first <= 500.0\\nsquared_error = 0.635\\nsamples = 129\\nvalue = 2.016'),\n Text(0.35714285714285715, 0.7, 'Protein_Pea protein isolate <= 0.268\\nsquared_error = 0.517\\nsamples = 100\\nvalue = 2.23'),\n Text(0.2857142857142857, 0.5, 'Calcium minerals|Ca levelg/100g <= 0.109\\nsquared_error = 0.433\\nsamples = 97\\nvalue = 2.175'),\n Text(0.14285714285714285, 0.3, 'FA_Sat g/100gFA <= 74.764\\nsquared_error = 0.366\\nsamples = 84\\nvalue = 2.06'),\n Text(0.07142857142857142, 0.1, 'squared_error = 0.313\\nsamples = 79\\nvalue = 2.127'),\n Text(0.21428571428571427, 0.1, 'squared_error = 0.0\\nsamples = 5\\nvalue = 1.0'),\n Text(0.42857142857142855, 0.3, 'Polysaccharides_Liquid maltodextrin <= 0.299\\nsquared_error = 0.225\\nsamples = 13\\nvalue = 2.923'),\n Text(0.35714285714285715, 0.1, 'squared_error = 0.083\\nsamples = 11\\nvalue = 3.091'),\n Text(0.5, 0.1, 'squared_error = 0.0\\nsamples = 2\\nvalue = 2.0'),\n Text(0.42857142857142855, 0.5, 'squared_error = 0.0\\nsamples = 3\\nvalue = 4.0'),\n Text(0.8571428571428571, 0.7, 'Product KPI  at T=0 |pH / Acidity <= 7.05\\nsquared_error = 0.338\\nsamples = 29\\nvalue = 1.276'),\n Text(0.7857142857142857, 0.5, 'Protein|Content kg/L <= 7.355\\nsquared_error = 0.126\\nsamples = 27\\nvalue = 1.148'),\n Text(0.7142857142857143, 0.3, 'Protein_WPI Native  <= 0.212\\nsquared_error = 0.04\\nsamples = 24\\nvalue = 1.042'),\n Text(0.6428571428571429, 0.1, 'squared_error = 0.0\\nsamples = 23\\nvalue = 1.0'),\n Text(0.7857142857142857, 0.1, 'squared_error = 0.0\\nsamples = 1\\nvalue = 2.0'),\n Text(0.8571428571428571, 0.3, 'squared_error = 0.0\\nsamples = 3\\nvalue = 2.0'),\n Text(0.9285714285714286, 0.5, 'squared_error = 0.0\\nsamples = 2\\nvalue = 3.0')]"
     ]
    },
    {
     "output_type": "display_data",
     "data": {
      "image/png": "[encoded data removed]"
     },
     "metadata": {
      "application/vnd.databricks.v1+output": {
       "addedWidgets": {},
       "arguments": {},
       "data": "data:image/png;base64,iVBORw0KGgoAAAANSUhEUgAAB3cAAAPgCAYAAAAhifZvAAAAOXRFWHRTb2Z0d2FyZQBNYXRwbG90bGliIHZlcnNpb24zLjUuMSwgaHR0cHM6Ly9tYXRwbG90bGliLm9yZy/YYfK9AAAACXBIWXMAAAsTAAALEwEAmpwYAAEAAElEQVR4nOzddbhU1duH8XvR3Z0KBiKIiqAgooR0SIqELWH+7Pa1u7CwAwEBBVGxUGwMbFFBKekWkYZzWO8fgwPIAUGB4cD9ua5zXczea6/57jkDzMwzz9ohxogkSZIkSZIkSZIkafeWJdUBJEmSJEmSJEmSJEn/zOKuJEmSJEmSJEmSJGUCFnclSZIkSZIkSZIkKROwuCtJkiRJkiRJkiRJmYDFXUmSJEmSJEmSJEnKBCzuSpIkSZIkSZIkSVImYHFXkiRJkiRJkiRJkjIBi7uSJEmSJEmSJEmSlAlY3JUkSZIkSZIkSZKkTMDiriRJkiRJkiRJkiRlAhZ3JUmSJEmSJEmSJCkTsLgrSZIkSZIkSZIkSZmAxV1JkiRJkiRJkiRJygQs7kqSJEmSJEmSJElSJmBxV5IkSZIkSZIkSZIyAYu7kiRJkiRJkiRJkpQJWNyVJEmSJEmSJEmSpEzA4q4kSZIkSZIkSZIkZQIWdyVJkiRJkiRJkiQpE7C4K0mSJEmSJEmSJEmZgMVdSZIkSZIkSZIkScoELO5KkiRJkiRJkiRJUiZgcVeSJEmSJEmSJEmSMgGLu5IkSZIkSZIkSZKUCVjclSRJkiRJkiRJkqRMwOKuJEmSJEmSJEmSJGUCFnclSZIkSZIkSZIkKROwuCtJkiRJkiRJkiRJmYDFXUmSJEmSJEmSJEnKBCzuSpIkSZIkSZIkSVImYHFXkiRJkiRJkiRJkjIBi7uSJEmSJEmSJEmSlAlY3JUkSZIkSZIkSZKkTMDiriRJkiRJkiRJkiRlAhZ3JUmSJEmSJEmSJCkTsLgrSZIkSZIkSZIkSZmAxV1JkiRJkiRJkiRJygQs7kqSJEmSJEmSJElSJmBxV5IkSZIkSZIkSZIyAYu7kiRJkiRJkiRJkpQJWNyVJEmSJEmSJEmSpEzA4q4kSZIkSZIkSZIkZQIWdyVJkiRJkiRJkiQpE7C4K0mSJEmSJEmSJEmZgMVdSZIkSZIkSZIkScoELO5KkiRJkiRJkiRJUiZgcVeSJEmSJEmSJEmSMgGLu5IkSZIkSZIkSZKUCVjclSRJkiRJkiRJkqRMwOKuJEmSJEmSJEmSJGUCFnclSZIkSZIkSZIkKROwuCtJkiRJkiRJkiRJmYDFXUmSJEmSJEmSJEnKBCzuSpIkSZIkSZIkSVImYHFXkiRJkiRJkiRJkjIBi7uSJEmSJEmSJEmSlAlY3JUkSZIkSZIkSZKkTMDiriRJkiRJkiRJkiRlAhZ3JUmSJEmSJEmSJCkTsLgrSZIkSZIkSZIkSZmAxV1JkiRJkiRJkiRJygQs7kqSJEmSJEmSJElSJmBxV5IkSZIkSZIkSZIyAYu7kiRJkiRJkiRJkpQJWNyVJEmSJEmSJEmSpEzA4q4kSZIkSZIkSZIkZQIWdyVJkiRJkiRJkiQpE7C4K0mSJEmSJEmSJEmZgMVdSZIkSZIkSZIkScoELO5KkiRJkiRJkiRJUiaQLdUBJEmSJEnaG+TOlXPuqtVrSqY6hyRlFrly5pi3ctXqUqnOIUmStDsJMcZUZ5AkSZIkaY8XQogrfnw31TEkKdPIU60xMcaQ6hySJEm7E5dlliRJkiRJkiRJkqRMwOKuJEmSJEmSJEmSJGUCFnclSZIkSZIkSZIkKROwuCtJkiRJkiRJkiRJmYDFXUmSJEmStM3Ou+F+bnt0wA6ft23vKxnwyqgdPu/fNT31Ip556Y2dfj//5OaHn+Pmh59LdYwd4vkRb9OoxwWpjrGZnlffyfUPPL3T5l+5ajUdzrmGUke1odtFNzJ45Ghan3X5Trs/SZIkCSBbqgNIkiRJkrS3qtKkG/MXLSZrlizkzZ2LJsfU5t6rzyNfntz/ar7nR7zNs8PeYPTzfXdw0g0e/L///ec5bn74OaZMn83Td1yZ3PbKo7f953kzs+15Luwuz5tzb7iPw6ruT47s2f/V/WZ2L4/6iPmLFjPzk5fJli0rAF1aNfpXc/W8+k7KlCzG9eefviMjbpc81RqTJ3cuwvrbHZs3oN+NFwMQY+Ta+57k2WGJL0ac2qEFN114JiEkRn8/YRJ9rruHX6ZM58BKFeh348XUqLJfhvfz+5I/6XPtPYz+7GuKFirAjf87gxNb/rvHTZIkaW9k564kSZIkSSn00kM3seDLkYx58VG++elX7nhsx3fF7ijp6empjrBH257nwu7wvBn18ViaHnPkLr/fVEhL2/y5P33OPPavWC5Z2N3e43ekeQsX75B5vhj2GAu+HMmCL0cmC7sAT734Oq+9N4bPhz3OF8Of4I0PPuPJoSMBWLN2LZ3Pu46TWjVi9qcv071NEzqfdx1r1q7N8D4uvPlBcmTPxm8fvsgzd1zJBTf15edJv+2Q/JIkSXsDi7uSJEmSJO0GypYsRpN6tfhp4m8sXrKU9mdfTYVjOlCm7gm0P/tqZs5dkBz7/Ii3qdqsOyVqt+agpt0ZPHI0EyZP4/wb7+eL78dTvFYrStdpC8DqNWu48q7HOKDxSexTvyPn3XA/K1etTs7z9+V081RrzOTps4BEN+H5N97PCX2uolitVnw49rtNlrrtcM41FK/VKvmTt/rxPD/ibQAuue1h9m90EiWPbEPdzn0Y8/U4AEZ9Mpa7nniBl97+gOK1WnFk+57Apsslr1u3jtsfG8CBx3elYv2OnHnl7SxZugyAabPmkqdaYwa8MooDGp9E+XrtueOxgdv1WE+fM4+G3S+gRO3WtD7rchYuXpLcN/L9T6nZ9gxK12lL01MvYsLkacl9VZp0476nh1C73VkUq9WK3tfezbyFi2nb+0pK1G5NyzMvZfGSpds019Zs/FzYnrE78nmzZOkyzrzydioc04EDj+/K7Y8NYN26dcm5xv0yhUL581GuVPHktivveowydU/goKbdefvjscnts+cvpOO511K2bjuqNT+Zp196Pbnv5oefo9tFN3L65bdRonZrarU7k4m/zeSuJwZRsX5H9m90Eu+O+Wqb5srIosV/0urMyyhRuzVNTr2I6bPnJfdt6Tn6V66uF97A6ZffRskj2ySf13+56aHnuK3fgOTz+Nlhb2729ylPtcY8+sIrVG9xCtVbnkKMkcvueISK9TtS8sg21Gp3Jj9NnMpTL45k8Oujue/poRSv1YoO51yz1XP6y9yFv3Pf00M4vM3p3PLIzl3ie+Arozj/lI6UK1WcsiWLcf4pnRjwSuIx+Wjs96Slp3Nujw7kzJGDs7u3I8bIB198u9k8y1esZMQ7H3PdeaeRL09u6h5enZbH1eWF197ZqfklSZL2JBZ3JUmSJEnaDcycM5+3Px5LjYP2Y11cx8ntmjJh1EB+eWcQuXPl5KJbHwQSxZFLbnuYEf1uY/7Y13hvQF8OqVKZKpUr8sB1/+PIGgex4MuRzPnsFQCuve9JJk6byefDHmPcm/2ZPX8ht/V7fptzDX3jPS4/qyvzv3iVuodX32TfsIdvTnb5Dbj3OkoWK0KDIw8DoGa1A/l82KPMGvMyJ7ZoSLeLbmTV6jU0qVebS886iY5Nj2PBlyP5Yvjjm93n8yPeZsCIUbz19N389NbzLFuxiotueWiTMZ9+M47vRz7L60/exW2PDtjmwinA0Nff47GbL2XaRy+xZu1a+j47FICJv83k1Mtu5c7Lz2b6R8NoWv9IOp577SYdiCPe/ZjXnriT70c+y5sffs4Jfa7khgtOZ/rHw1i3LvLIwJe3ea4t2fi5sD1jd+Tz5uJbH2LJsuX89NbzjHr2Xga9+g79X95Q4Hz74y9oVn9D1+6X4yaw/77lmPHxMC48rTN9rruHGCMAp1x6C2VLFmPy+0MYeN91XN/36U0Kf2988BkntWnM7E9HUKPKfrTpdQXr1kUmjR7MlX26c96N9yfH/tNcfzfk9dFc0bs7Mz4ZxiEHVua0y29N7tvSc/QvI9//lBOa1GfOZyM2W2752nNP2eR5fGqH5hne/8jRY/jwhQf55pWnePfTr/jk68Tzdu7nr/D83ddSpFABzujUii4tG3Hh6Z1Z8OVIhj188xbPZ+3aNEa88zEdzrmGQ1udyo+/TuWeq87l/mvOT46p3e4sStdpm+HPBTdtfent40+5iH2O7USXC65n2qy5ye3jJ/9G9QMrJ29XP7AS4ydNS+6rdkCl5BLNANUO2LB/YxOnzSRbtqzsv0+5Teb6OYOxkiRJypjFXUmSJEmSUujE8/+P0nXa0ujk/1HviEO47KyuFC1UkBOOr0+e3LnInzcPl/Xsyidf/ZA8JkuWwM+TprJy1WpKFy9K1f32yXDuGCNPv/QGd17WhyIFCyTmOqsrL771wTbna9WgLnUOr0aWLFnIlTNHhmMm/jaTnlffyYB7rqFc6RIAnNS6MUULFSRbtqxccGon1qxdy69TZ2zTfQ55/T3OO6UD+5YvQ748ubnxf2fw4lvvb7K07VV9TiZ3rpwcUqUy1Q+sxLhfpmzzOfVo15T99ylH7lw5ad/sWL6fMBmAl976gGb1a9Oobk2yZ8/G/07txMrVq/n825+Sx/bp2o6SxQpTtmQx6h5ejVrVq3DoQfuTK2cO2jQ6mu8nTNrmuf4uo+fC9ozdUc+b9PR0XnzzA27835nkz5uHimVLcf4pnTbprnzroy9oulFxt0LpkpzesSVZs2ale9smzF2wiHmLFjNzznw++/Ynbr7oLHLlzEGNKvtxavvmDHp1w1xHH16d44+uRbZsWWnX9FgW/v4Hl5zZhezZs9GpeQOmzZrLH38u26a5/q5Z/SOpd8Qh5MyRg+svOJ0vvh/PzDnzgX9+jh5ZoyptGh1NlixZyJ0r5xbvY2suOeskihQsQO5cOcmeLRvLlq/g16nTiTFSpXJFShcvus1z3fDgM+zXqAsPDxhOm0ZHM3H0YJ66/QoaHHU4WbJs+Ihv7MtPMOezVzL86XvtBVucf9Sz9zJh1AC+e+0ZSpcoSodzrkn+nVu2YhUF8+VNji2YPy/LVqwkxrjZvr/2L12+YrP7WL5iFfnz5tlkW4H8eVmWwVhJkiRlLFuqA0iSJEmStDcb8sANNKxTc5NtK1au4rI7+/HOJ1/yx5+J5YiXLl9Beno6efPkpv/d19D3mRfpc909HHXowdx+aW8OrFRhs7kX/P4HK1au4ugT+yS3xRhJT1+32dgtKVuqxFb3L1m6jM7nXcd15526SWfv/c8M5bnhbzFnwUJCCPy5bAWL/liylZk2mDN/ERVKl0zerlCmJGlp6cxbtOG6oqWKFUn+OU+unCxbsXJbT4mSRTc+NhfL1x87Z/7CTe43S5YslCtVnNnzFyW3lShaKPnn3DlzUqJo4eTtXDlzbtdcf5fRc2F7xu6o583CxX+yNi2NCqU3/O4rlCmRzP7Hn8v4deoMjjq0anJ/yWIbHoc8uXMBiW7hRX/8SZGC+Tcp6JUvU5Jvfvo1eXvjxzB3zhwULVyQrFmzrr+dKKouW7GS2QsW/eNcf7fxstH58uSmSMH8zF6wiHKlS/zjc3TjY/+tjec47sjD6H3SCfzvlgeZMXsebRrX47ZLelHgb4XRLZn42wzWpqVxyIGVqXZApc2KpP9VvSMOASBH9uzcfcXZlDyqLROmTKPaAZXIlycXf25UgP1z2Qry5clNCGGzfX/tzyhf3jy5Niv6Ll22gnw7+FwkSZL2ZHbuSpIkSZK0m+n73EtMnDqDD194iHlfvMqo5+4FYP0qtxx/dC1GPnknU94fyoGVKnDO9Yn9Gy+LClCscEFy58rJVyOeSnbuzf38VRZ8ORKAvLlzsWL99XchcQ3Pv/vblJtYt24dp152K/Vr1+CMTq2S28d8PY77nhnK8/dcw+xPRzDns1comD9vcpnev+f8u9IlijJ9zoZro86YM59s2bJScqMi4M5QukSxTe43xsjMuQsoU2Lbuyt3xlzbasc9bwqQPVs2pq/vcIXE7+Cv7O+O+ZJjax+aLMBuTZniRfl9ydJNCnoz5synTMli231+/2auja85vGzFSn5fspQyxYv+43MUILD15+m2+Ptje3b3dnw6tB9fv/IUk36byX3PDP1r4D/ONeCe6/j8pccoWrggJ19yMzXbnsE9Tw1m1ryFm4yr2faMTa6FvfHPeTfcv+3Z2fDcOajyPoz7ZXJy37hfJnPQfhWT+378dcomj92Pv05J7t/Y/hXLkZaWzqRpMzeZq2oGYyVJkpQxi7uSJEmSJO1mli1fQa5cOSmUPx+/L/mTWx/ZcI3ceQsX89p7Y1i+YiU5c2Qnb+7cySVZSxQtxKx5C5PXdc2SJQundWjB5Xc+wvz1Xa+z5i3knTFfAlD9wMqMnzSN7ydMYtXqNdzycP/tynl936dZsXIVd19xzibbly5fQdasWSlWpBBp6enc2u95/ly2oSBXomhhps2ey7p1GXcQd2regIf6D+e3mXNYtmIl/9f3KTo2PY5s2f65mPhfdGh6LG99NJb3P/+GtWvT6Pvsi+TMkZ2jDjs4pXNtqx31vMmaNSsdmh7L9X2fZunyFUyfPY8H+w+jS6vGALz98dhNrre7NeVKl+CoQ6ty3f1PsWr1Gsb9MoX+w9/c7Bq2O2uutz8ey6ffjGPN2rXc+OAz1D7kIMqVLvGPz9Gd4atxExj7w3jWrk0jb+5c5MyZgywh8TsoWbQQv82c849zVChTkqv69ODHN/tz/zXn88vUGdRsezo3P/xccszXrzyVvBb2338e/L//ZTjvz5N+4/sJk0hPT2fZipVccddjlClZjCrrO7u7tjmeB58bxqx5C5k9fyEPPPcS3ds2BaB+7RpkzZKFRwa8zOo1a+g3aASQ6FT+u7x5ctO2cT1ueug5lq9YyWff/MjI9z/lpNbHb89DKUmStFezuCtJkiRJ0m7mnB7tWbVqNeXrtee4rudxfL1ayX3r4joe7D+Myg1PpOzR7fjkq++T19E87sjDOKhyRfY9tjPl67UH4OaLzqJS+bIc1+08Sh7ZhlZnXsbEqYmuuf33KceVvbvT6szLqN7iFOoeXm27cg59833G/jCeMnVPSHYGDh45muOPPoLjjz6CGi1P5cDju5ErZ45Nlqdt37Q+AOXqtadOp96bzXtK+2ac1Loxx59yEVWbdidXjhzcc9W52/cg/gsH7Fuep267gotvfYjyx7TnjQ8/56WHbiZH9uwpnWtb7cjnzT1XnUve3Lk4uFkPGvX4H51bNOSU9s2IMfLOmK82mfufPHvn1UybNZfKDU6kywX/x9XnnLLNy0//17k6t2jIrY88T9m67fj254k8ffsVAP/4HN0Zli5fwbn/dy9l6p5AlSbdKFqoABee3hmAU9o3Z/zk6ZSu05bO51/3j3OFEDimVg0ev/lSJr83hNaNjv5P2eYvWszJl9xMyaPacnCzHkybPZdhD99M9uyJK7qd2bkVLY47itrtzqLWCWfRrP6RnNk50a2fI3t2hjxwAwNfe4fSdU6g/8tvMeSBG5LP9TsfH0Tb3lcm7+v+a89n5erVVDy2E6dcdgt9r71gi9d/liRJ0ubCxkumSJIkSZKknSOEEFf8+G6qY2g38Ven5TXnnJLiJNvny3ETuOiWB/l48MOpjqK9QJ5qjYkx/vf1sSVJkvYgdu5KkiRJkiRpm2W2grQkSZK0J8mW6gCSJEmSJEl7m/q1aqQ6wr9Sq3qVVEeQJEmS9moWdyVJkiRJknax+rUPTXUESZIkSZmQyzJLkiRJkiRlAs+PeJtGPS5IdQxJkiRJKWRxV5IkSZIkSbuF7ydMom7nPhQ9oiV1O/fh+wmTtjr+xTfe57DWp1OsVisObtaDMV+PA2D85Gkc3flsytQ9gTJ1T6DlmZcyfvK05HE3P/wcBQ5tSvFarZI/U2fM3qnnJkmSJO0ILsssSZIkSZK0i8UYiTGSJUtqv3efnp5O1qxZk7fT0tLJli3rVo7Y1PaO35o1a9fS+bzrOLdHe3p2acNTQ1+n83nXMe6N58iRPftm40d/+jXX3PcEz999DUdUr8KcBb8n95UuXpRB911HhTIlWbduHY+98CqnXHIzY19+IjmmY9PjePqOK3dIdkmSJGlXsXNXkiRJkiTtde55ajCVG55IidqtqdHqVN7//BsAVq5aTc+r76RM3RM4vM3p3Pf0EPZr1CV5XJ5qjZk8fVbyds+r7+T6B54GYPGSpbQ/+2oqHNOBMnVPoP3ZVzNz7oLk2KanXsT/9X2aht0voOgRLZk6cw6/TJlOqzMvo2zddtRodSrD3vogOX7RH0voeO61lDyyDcd0OYcp29hZurU5e159J+ffeD8n9LmKYrVa8eHY76jSpBv3PDWY2u3OolitVqSlpTPy/U+p2fYMStdpS9NTL2LCRl2vGY3fET4a+z1p6emc26MDOXPk4Ozu7Ygx8sEX32Y4/uaHn+PK3j2oXaMqWbJkoWzJYpQtWQyAQgXyUbFsKUIIxAhZsmZhsp25kiRJ2gPYuStJkiRJkvYqv06dwaODXuHjwQ9TpkQxps2aS3r6OgBu7defKTNm8+Ob/VmxYhUn9Llqm+ddF9dxcrumDLjnWtLXraP3tXdz0a0PMvSBG5NjXnjtHUY8ehsH7FOe5StXcsQJZ3Htuacw4tHb+HHiFFqfdTlV99+XgypX5MKbHyRXzuxMeX8Iv82aS5teV7BP2VJbzbB8xUpanXX5FucEGPrGe7z8yK0Mf/hm1qxNW7/tfYY/cgtFCxdk6sw5nHrZrQzpewP1a9XgweeH0fHca/nm1aeSHbQbj8+oc7d2u7OYMXd+hhk7t2hI32s3v3bw+Mm/Ue2ASoQQktuqHVCJ8ZOm0aRe7U3Gpqen881Pv9KyQR2qNT+ZVWvW0Lrh0dx6cU9y58qZHFe6TluWrVjJunWRa889ZZM53vjwM8rWbUep4kXodVJbenZps9XHVpIkSdodWNyVJEmSJEl7laxZs7Bm7VomTJ5G8cKFqLhRwXTY2x9y/zXnU6RgAYoULECfbidw26MDtmneooUKcsLx9ZO3L+vZleanX7LJmO4nNKXqfvsA8M4nX1KxbElObtcMgEMP2p+2xx/D8Lc/5Ipe3Rjx7sd8OfwJ8ubJzcH770u3Nk0Y8/UPW83w5oefb3HOq88+GYBWDepS5/BqAOTKmQOAs7udQLnSJQB46a0PaFa/No3q1gTgf6d24uEBw/n825+oX/vQzcZnZOPlj7fVshWrKJgv7ybbCubPy9LlKzYbO2/RYtampfHyqI95p/99ZM+Wjc7nXcftjw3khgtOT46b89krLF+xkgGvjqJC6ZLJ7R2aHcfpnVpSsmhhvvxhAiddeAOFCuSjc4uG251bkiRJ2pUs7kqSJEmSpL1K5QplufPyPtzySH/GT55G47pHcPtlvSlTohhz5i+iXKkNRcsKZUpuZaZNrVi5isvu7Mc7n3zJH38uA2Dp8hWbXNe2XKniyfHT58znyx8mULpO2+S2tLR0TmrdmAWLl5CWlr7J+AplSjLm661n2NqcfylbavOi7MbnPGf+wk0KoVmyZKFcqeLMnr8ow/E7Sr48ufjzb4XcP5etIH/ePJuNzZ0z0Z3bp9sJlC5eFIDzT+mwWXEXIG+e3JzVuTUVjunAN68+TYmihZNdzABHHXYw53Rvx8ujPrK4K0mSpN2exV1JkiRJkrTXObFlI05s2Yg/ly3nvBvu59p7n+Sp26+gVPGizJw7P9ldO2POpksL58mdixUrVydvz134O2XWX+e173MvMXHqDD584SFKFSvC9xMmUadjb2LccHxgw5LD5UoV55gjDmHkk3duli89PZ1s2bIyc+4CDqxUIcMsGdnanMkMYevbSpcoxk8TpyRvxxiZOXcBZUoU3eocG6vZ9gymz56X4b4urRrz4P/9b7PtB1Xeh77PvUSMMbk084+/TqHXSZsvl1y4YH7KlizOpjG2HGrdusiKVauZPX8hJYoW3mz/X9fmlSRJknZ3WVIdQJIkSZIkaVf6deoMPvjiW1avWUOunDnIlTMHWbIkCoMdmh7L3U8OZvGSpcycu4BHB47Y5NhDDqzM0DdGk56ezqhPxvLJVxuWSV62fAW5cuWkUP58/L7kT2595Pmt5mh+7FFMnDaTQa++w9q1aaxdm8ZX4yYwYfI0smbNSttG9bjlkf6sWLmK8ZOnMfDVUf94blubc1t1aHosb300lvc//4a1a9Po++yL5MyRnaMOO3ib5/j6ladY8OXIDH8yKuwC1K9dg6xZsvDIgJdZvWYN/QaNAOC4Iw/LcHyPdk3pN2gE8xctZvGSpTz0/DCaH3sUAKM//Zrvxk8kPT2dP5ct5/I7+1GoQH6qVEp07L723hgWL1lKjJEvx03gkYEv06ph3W0+P0mSJClVLO5KkiRJkqS9yuo1a7n2vicpX68D+x7bmQW//8EN/zsDgKv69KBC6RJUbdadNj0v32Q5Y4C7rjibNz74nNJ1TmDIyPdo3fDo5L5zerRn1arVlK/XnuO6nsfx9WptNUf+vHl47fE7ePHN96nc8ET2Pa4T1973JKvXrgXg3qvPY9mKlex7XGd6Xn0nPU5o+o/n9k9zbosD9i3PU7ddwcW3PkT5Y9rzxoef89JDN5Mje/ZtnuPfyJE9O0MeuIGBr71D6Ton0P/ltxjywA3J+73z8UG07X1lcvyVvbpTs9qB1Gh1Koe1OZ0aVfbj8p7dAFiydBmnXnYrpY5qS7XmJzNlxmxeefS25DWGX3rzA6q3OJkStVtz1lV3cPHpXejetslOPT9JkiRpRwjRNWckSZIkSdrpQghxxY/vpjqGttNHY7/j9CtvZ9LowamOIu118lRrTIzxHxYBlyRJ2rvYuStJkiRJkiRJkiRJmUC2VAeQJEmSJEnSthvz9ThO2Gh54o0t+HLkLk4jSZIkaVdyWWZJkiRJknYBl2WWpO3jssySJEmbc1lmSZIkSZIkSZIkScoELO5KkiRJkiTtYXpefSfXP/B0qmNIkiRJ2sEs7kqSJEmSJGmnGfbWBzTodj5Fj2hJ01Mv2mTfxN9m0um8a6lwTAfK1m1Hm56X8+vUGcn9q9es4bI7HqFSgxMpU/cELripL2vXpu3qU5AkSZJ2GxZ3JUmSJEmStNMULpifc3u05+Izumy274+ly2h5XF2+G/kMv334IjWrV6Hz+dcl99/95GC++elXvhrxBN+PfJbvxk/k9scG7sr4kiRJ0m7F4q4kSZIkSdIOdM9Tg6nc8ERK1G5NjVan8v7n3wDw5bgJHNftPErXacu+x3XmwlseZM3atcnj8lRrzGODX6F6i1MoUbs1Nzz4DFOmz6ZBt/MpeWQbul98Y3L8R2O/Y79GXbjz8UGUr9eeKk26MXjk6C1meuODzzmyQy9K12lLg27nM+6XKf+Yd0dpWKcmHZodR+niRTfbV6t6FU7t0JwiBQuQPXs2zju5A79OncGiP5Ykc5/drR1FChageJFCnN2tHf1ffmuH5pMkSZIyk2ypDiBJkiRJkrSn+HXqDB4d9AofD36YMiWKMW3WXNLT1wGQNUsW7rysD4cffCCz5i3ghN5X8fjgVzm3R4fk8e+O+YoxQx9h5twF1O3Uhy+++5mnb7+CIoUK0KDb+Qx94326t20CwLyFv7PojyVMem8wY78fT7uzr+bwgw/ggH3Lb5Lpu/ET6XPd3bz40E3UPPgAXhg5mk7nXcv3I59h2qx5W8z7d3c/+QL3PDV4i+c+57NX/uvDxydfjaNksSIULVQwuS3GuNGfYda8BSxZuoyC+fP95/uTJEmSMhs7dyVJkiRJknaQrFmzsGbtWiZMnsbatWlULFuKShXKAHD4wQdQu0ZVsmXLSsWypTijc0s+/vKHTY6/6LQTKZAvL1X324eq++9Do7o12bd8GQrmz0eTY2rz/fhJm4y/7txTyZkjB8fUqkGz+rUZ9vaHm2V6+sXXOb1TS2ofchBZs2ale9sm5MyRnbHfj99q3r+75MyTmPPZK1v8+a9mzl3Ahbc8wB2X9U5uO77eETw84GUW/P4Hcxf+ziMDXwZgxarV//n+JEmSpMzIzl1JkiRJkqQdpHKFstx5eR9ueaQ/4ydPo3HdI7j9st6UKVGMib/N5PI7+/HNT7+yctVq0tLTOazq/pscX6JY4eSfc+fMQYmiG27nypmDeQsXJ28XLpCfvHlyJ29XKF2SOfMXbpZp+pz5DHz1HR4dNCK5bc3aNOYsWMQxtWpsMe+utOD3P2jT83J6ntiGzi0aJrdf3rMbS5Yu56iOvciZIzundWjB9+MnUXKjx0WSJEnam9i5K0mSJEmStAOd2LIRo5/vy4RRAwkhcO29TwJwwU19OXDfCox74znmffEqN1xw+iZLDm+vxX8uZfmKlcnbM+bMp3QGRdlypYpz2VldN+myXfTV68ki6pby/t2djw+ieK1WW/z51+exZCmte15OywZ1uLxXt0325c6Vk/uuPo/J7w3h57cGUKRQAQ47eH+yZPEjLUmSJO2dfCUsSZIkSZK0g/w6dQYffPEtq9esIVfOHOTKmYMsWQIAS5evIH++POTLk5tfpkzniSGv/ef7u/nh/qxZu5YxX4/jzY++oH2T+puNOa1DC54cOpKxP4wnxsjyFSt588PPWbp8xVbz/t1lPbuy4MuRW/zZkvT0dFatXkNaejrrYmTV6jWsXZsGwJ/LltOm1xXUOawaN1141mbHzpq3kNnzFxJjZOz3P3P7owO55uxT/uWjJUmSJGV+LsssSZIkSZK0g6xes5Zr73uSX6ZMJ3u2bBx5aFUeuv5CAG67pBfn3nAf9z09hBoH7UeHZsfx4Rff/uv7KlmsCIUK5KNygxPJnSsnD1x7AQdWqrDZuJrVDuThGy7kolseZPL0WeTKmZO6h1ej3hGHbDXvjjLotXfpdc1dydtFarage9smPH7LZbw6egxf//gL4ydPY8CIt5Njvnn1KcqXLsnUGbM586o7WPD7H5QrVZybLjyTxkcfsUPzSZIkSZlJ+C/L/0iSJEmSpG0TQogrfnw31TG0h/ho7HecfuXtTBo9ONVRpJ0mT7XGxBgzbiWXJEnaS7kssyRJkiRJkiRJkiRlAhZ3JUmSJEmSJEmSJCkTcFlmSZIkSZJ2AZdllqTt47LMkiRJm7NzV5IkSZIkSZIkSZIyAYu7kiRJkiRJu5mPxn7Hfo26pDqGJEmSpN2MxV1JkiRJkiRt1cTfZtLpvGupcEwHytZtR5uel/Pr1BlbHL96zRp6XXMXJY9swz7HduKB515K7luzdi1dL7yBKk26kadaYz4a+91mx3/780SOP+VCitdqxT71O/Lw88N3xmlJkiRJmY7FXUmSJEmSJG3VH0uX0fK4unw38hl++/BFalavQufzr9vi+Fse7s/k6bOYMGogbz19N/c+PYRRn4xN7q97eDWevv0KShYrstmxCxcv4YTeV3JGp1bMHDOccW/2p1HdmjvlvCRJkqTMxuKuJEmSJEnSTnDPU4PpeuENm2y75LaHufjWhwDo//JbHNb6dErUbk3VZt15cujILc6Vp1pjJk+flbzd8+o7uf6Bp5O33/jgc47s0IvSddrSoNv5jPtlyg49l1rVq3Bqh+YUKViA7Nmzcd7JHfh16gwW/bEkw/EDXn2HK3p1p3DB/FSpXJHTOrZgwIhRAOTInp1ze3Sg7uHVyZp184+mHnjuJRrXPYIurRqRM0cO8ufNQ5XKFXfo+UiSJEmZVbZUB5AkSZIkSdoTdWregFv7Pc/S5SvInzcP6enpDHv7Q4b0vR6A4kUKMezhm9m3fGk++eoHTuhzFTWrHchhVfffrvv5bvxE+lx3Ny8+dBM1Dz6AF0aOptN51/L9yGfImSPHZuNrtzuLGXPnZzhX5xYN6XvtBf94n598NY6SxYpQtFDBzfYtXrKUuQsWUf3AyslthxxYmZHvjdmm8/nyh/EcvP++NOh2PlNmzOaI6lW4/5rzKF+65DYdL0mSJO3JLO5KkiRJkiTtBBXKlOTQg/bj1Xc/oVvbJnzwxXfkyZWT2jWqAtD82KOSY4+pVYNGdWvy6dfjtru4+/SLr3N6p5bUPuQgALq3bcJdTwxi7PfjOaZWjc3Gj335if9wVjBz7gIuvOUB7risd4b7l69YCUDB/HmT2wrky8vS5Su3af5Z8xbw3fiJvPb4HVQ7oBJX3/M4p1x6K+8N6PufckuSJEl7Aou7kiRJkiRJO0nnlg0Z+ub7dGvbhCFvvEfnlg2T+97+eCy39uvPpN9msS6uY8XK1Ry8/77bfR/T58xn4Kvv8OigEclta9amMWfBoh1xCptY8PsftOl5OT1PbEPnFg0zHJM3T24A/ly2nFw5E53DS5cvJ3/e3Nt0H7lz5qR1o3ocUb0KAFed3YPy9TqwZOkyCubPtwPOQpIkScq8LO5KkiRJkiTtJO2bHMuVdz3GzLkLeG30J7w/4AEAVq9ZQ9cLb+DJWy+nVYO6ZM+ejc7nX0eMMcN58uTOxYqVq5O35y78nTIliwFQrlRxLjurK5f36rZNmWq2PYPps+dluK9Lq8Y8+H//y3Df4iVLad3zclo2qLPV+ypcMD+lihdl3C9TaFS3JgA//DKFgyrvs035qh1QibDR7RDCFsdKkiRJexuLu5IkSZIkSTtJ8SKFOKZWDXpfcxcVy5aiSuWKQKKzdvWatRQrXJBs2bLy9sdjGf3p11Tdb58M5znkwMoMfWM0VferyOjPvuaTr37g8IMPAOC0Di3ocsH1NKhzOLWqV2HFylV89OX31DviEPLnzbPZXF+/8tR2n8efy5bTptcV1DmsGjddeNY/ju/WpjF3PD6Qww8+gPmLFvPMS2/w2M2XJPevXrOGv+rYa9amsWr1GnLmyE4IgR7tmtL1whs4e0I7qlbeh9sfHUDdw6vZtStJkiQBWVIdQJIkSZIkaU92YouGvPf5N5y40TLG+fPm4e4rz6HHxTdRpu4JDH39PVoeV2eLc9x1xdm88cHnlK5zAkNGvkfrhkcn99WsdiAP33AhF93yIGXqnkC1Fqcw4JVRO/QcXh09hq9//IXnR7xN8Vqtkj8z5iQ6gAePHE3Ntmckx19zzinsW640VZp0o+mpF3HhaZ1pUq92cn+NVqdRpGYLZs9bSJteV1CkZotkN/FxRx7G9eefTvuzr6bisR2ZPH02z95x1Q49H0mSJCmzClta7keSJEmSJO04IYS44sd3Ux1DkjKNPNUaE2N0XW5JkqSN2LkrSZIkSZIkSZIkSZmAxV1JkiRJkiRJkiRJygQs7kqSJEmSJEmSJElSJmBxV5IkSZIkSZIkSZIyAYu7kiRJkiRJkiRJkpQJhBhjqjNIkiRJkrTHy50r59xVq9eUTHUOScoscuXMMW/lqtWlUp1DkiRpd2JxV5IkSZIkZQohhFLAmUBPYBbwCPBijHFVSoNprxZCyAa0AM4GagLPAI/FGCenNJgkSZL2SC7LLEmSJEmSdlsh4dgQwmBgPFABaBtjrBNjfN7CrlItxpgWY3w1xtgMqAME4PMQwpshhNYhhKwpjihJkqQ9iJ27kiRJkiRptxNCKAj0APqQ+HL6I8DzMcY/UplL2hYhhNxAZxLP39LAY8BTMcZ5KQ0mSZKkTM/iriRJkiRJ2m2EEGqQKIidCLwD9AM+iH6AoUwqhFCTxHO6A/AWiS8qfOJzWpIkSf+GxV1JkiRJkpRSIYScQEcS1yytCDwOPBljnJ3SYNIOFEIoBJxCotCbRqLIOyDG+Gcqc0mSJClzsbgrSZIkSZJSIoSwL9ALOB34jkSX7msxxrRU5pJ2phBCABqQ+DJDQ2AI0C/G+ENKg0mSJClTyJLqAJIkSZIkae8RQsgaQmgZQngd+BLIAdSLMTaJMb5sYVd7upjwXoyxI1AdmAu8GUL4JITQdX0nuyRJkpQhO3clSZIkSdJOF0IoQaJDtzewgMSStENijCtSGkzaDYQQsgOtSXTzVgeeBh6LMf6WylySJEna/di5K0mSJEmSdoqQcHQIYSDwC3AA0CnGWCvG+IyFXSkhxrg2xjg8xtgYqA/kAr4OIbwWQmgRQsia4oiSJEnaTdi5K0mSJEmSdqgQQn6gG4kuxFwkrqX7XIzx95QGkzKREEIeoAuJv0dFgMeAp2OMC1IaTJIkSSllcVeSJEmSJO0QIYRqQB/gJOADEksvvxdjXJfKXFJmF0KoRaLI2w54jcQXJj6LfrAnSZK017G4K0mSJEmS/rUQQg6gPYmi7v7AE8ATMcaZKQ0m7YFCCEWAU0n8fVtOosg7MMa4LJW5JEmStOtY3JUkSZIkSdsthFAB6AWcAfxMokv3lRjj2pQGk/YCIYQsQCMS3bzHAgOBfjHGn1MaTJIkSTtdllQHkCRJkiRJmUMIIUsIoVkI4RXgWyAf0CDG2DDG+JKFXWnXiDGuizG+E2NsB9QAFgOjQwgfhBA6r++olyRJ0h7Izl1JkiRJkrRVIYRiwGkkOnWXAg8DL8QYl6c0mKSk9QXdE0gs2VwFeBJ4PMY4I5W5JEmStGPZuStJkiRJkjYTEo4KITwHTAKqAd2Bw2OMT1rYlXYvMcY1McahMcYGJJZsLgh8H0IYEUJosn4pZ0mSJGVydu5KkiRJkqSkEEJe4CQS1/IsCDwKPBNjXJjSYJK2WwghH9CVxN/nfEA/4NkY46KUBpMkSdK/ZnFXkiRJkiQRQqhCYjnX7sAY4BFgVIxxXUqDSfrPQggBOIpEkbc1MILE3/Evox8OSpIkZSoWdyVJkiRJ2kuFELIDbUkUfKoCT5G4Rue0lAaTtNOEEIqTuIZ2b2AxiSLvCzHGFSkNJkmSpG1icVeSJEmSpL1MCKEccBZwJjCZRHFneIxxTUqDSdpl1l+DtymJL3fUBZ4H+sUYf0lpMEmSJG1VllQHkCRJkiRJO18IIUsIoXEIYTjwA1AMaBpjrB9jHGxhV9q7xBjXxRjfjDG2BmoCK4CPQgijQwgd1nf2S5IkaTdj564kSZIkSXuwEEJh4FQSS7CuJtGlOzDGuDSVuSTtfkIIOYH2JLp5KwGPA0/EGGenNJgkSZKSLO5KkiRJkrQHCiEcQaJA0x54HegHjIl+ECBpG4QQqgN9gJOA0ST+DXnPf0MkSZJSy+KuJEmSJEl7iBBCHuBEEgWZEsCjwNMxxvkpDSYp0woh5Ae6k/iySHYSRd7nYox/pDKXJEnS3sririRJkiRJmVwIYX8Syy6fAnxBovjyZowxPaXBJO0xQggBqEfiyyPNgWFAvxjj1ykNJkmStJfJkuoAkiRJkiRp+4UQsoUQ2oUQRgFjgLVArRhjyxjjSAu7knakmPBxjLErUAWYDAwPIXwRQjglhJA7xRElSZL2CnbuSpIkSZKUiYQQSgNnAj2B6SS6dF+KMa5KaTBJe50QQlagBYlu3lrAc8CjMcZJKQ0mSZK0B7NzV5IkSZKk3VxIaBBCGAr8DJQFWsUYj44xDrCwKykVYozpMcbXYowtgKOAdcBnIYS3QwhtQwjZUhxRkiRpj2PnriRJkiRJu6kQQkHgZBJdcZFEl+7zMcYlKQ0mSVsQQsgFdCLx71Y54HHgyRjj3JQGkyRJ2kNY3JUkSZIkaTcTQjiMRGGkEzAKeAT4KPomXlIm4r9lkiRJO57FXUmSJEmSdgMbdbudTWLZZbvdJO0RNlqF4GwSSze7CoEkSdK/ZHFXkiRJkqQUCiFUAnoDpwLfkuhsez3GmJbKXJK0o4UQAnAsiSLv8cBQ4JEY4/cpDSZJkpSJZEl1AEmSJEmS9jYhhKwhhNYhhDeBsSTenx8dY2waY3zFwq6kPVFM+CDG2BmoCswEXg8hjAkhdF+/goEkSZK2ws5dSZIkSZJ2kRBCSeAMoBcwl0SX7tAY48qUBpOkFAkhZANak7g276HA08BjMcapqcwlSZK0u7JzV5IkSZKknSgkHBNCGAT8AlQC2scYj4wxPmdhV9LeLMaYFmN8OcbYBDgayA58GUJ4PYTQKoSQNcURJUmSdit27kqSJEmStBOEEAoA3Ul0o+Ug0aXbP8a4OKXBJGk3F0LIA5xI4t/PEsCjwNMxxvkpDSZJkrQbsLgrSZIkSdIOFEKoTqIgcRIwGugHvBd9Ay5J2y2EcASJf1M7AK+T+Dd1jP+mSpKkvZXFXUmSJEmS/qMQQk6gPXA2iWWXnwCeiDHOSmkwSdpDhBCKAKeQKPSuIrEawsAY49KUBpMkSdrFLO5KkiRJkvQvhRD2AXoCZwDjSHSUvRpjXJvKXJK0pwohZAEakijyNgBeAPrFGH9MaTBJkqRdJEuqA0iSJEmSlJmEELKEEJqHEF4DvgbyAMfGGBvHGIdZ2JWknSfGuC7G+G6MsQNwCLAQGBVC+CiE0CWEkCPFESVJknYqO3clSZIkSdoGIYRiwOlAb2AxiSVBB8cYl6c0mCTt5UII2YG2JJbGrwo8BTweY5yW0mCSJEk7gZ27kiRJkiRtQUioE0J4HphEomjQBTgixviUhV1JSr0Y49oY40sxxoYklmrOB3wTQng1hNBs/VLOkiRJewQ7dyVJkiRJ+psQQj6gK4kusHwkrqX7bIxxUUqDSZK2SQghL3ASiX/HCwKPAs/EGBemNJgkSdJ/ZHFXkiRJkqT1QghVgT5AN+AjEksvvxtjXJfSYJKkfyWEEIDaJIq8bYFXSfzb/kX0g1FJkpQJWdyVJEmSJO3VQgg5gBNIFHWrAE+SuFbjjFTmkiTtWCGEosBpJP69X0JiVYZBLrEvSZIyE4u7kiRJkqS9UgihPNATOAP4lUQn14gY45qUBpMk7VTrr8F7PIlu3nrAAODRGOP4lAaTJEnaBllSHUCSJEmSpF0lhJAlhNAkhPAy8D1QCDg+xnhcjHGohV1J2vPFGNfFGN+OMbYFDgOWAu+HEN4LIXQKIWRPcURJkqQtsnNXkiRJkrTHCyEUIbEUZ29gBfAwiaU4l6U0mCRpt7B+if72JLp59wOeAJ6IMc5MaTBJkqS/sXNXkiRJkrTHCiHUCiE8A0wBDgVOAQ6NMT5uYVeS9JcY45oY4+AYY32gCVAM+CGEMDyE0Hj9Us6SJEkpZ+euJEmSJGmPEkLIA3Qh0X1VFHgUeDrGuCClwSRJmUoIIT/QjcT/J7mAfsCzMcbFKQ0mSZL2ahZ3JUmSJEl7hBDCgSSWXT4Z+JTEh/BvxxjTUxpMkpSphRACUJdEkbclMBx4JMb4VUqDSZKkvZLFXUmSJElSphVCyAa0IfGBe3XgaeCxGONvqcwlSdozhRBKAKeT+DLRAuARYEiMcUVKg0mSpL2GxV1JkiRJUqYTQigDnAX0BKaS+HB9WIxxdUqDSZL2CiGErEAzEl8uOhLoDzwaY/w1pcEkSdIeL0uqA0iSJEmStC1CQsMQwkvAT0ApoHmMsV6McZCFXUnSrhJjTI8xvh5jbAnUAtYAn4QQ3gkhtFu/soQkSdIOZ+euJEmSJGm3FkIoBJwC9AHSSHTpDogx/pnKXJIkbSyEkBPoSKKbtyLwOPBEjHFOSoNJkqQ9isVdSZIkSdJuKYRwOImCbkfgLRJF3U+ib2QlSbu5EEINEv+HnQi8A/QDPvD/MEmS9F9Z3JUkSZIk7TZCCLmBziQ+EC8NPAY8FWOcl9JgkiT9CyGEgkB3Et28AXgU6B9j/COVuSRJUuZlcVeSJEmSlHIhhMpAb+BU4CsSXbpvxBjTU5lLkqQdIYQQgGNIFHmbAi8C/WKM36Y0mCRJynSypDqAJEmSJGnvFELIFkJoG0J4C/gciMBRMcbmMcbXLOxKkvYUMeGjGGMX4CBgOvBKCOGzEEKPEEKuFEeUJEmZhJ27kiRJkqRdKoRQCjgD6AXMInEdwhdjjCtTGkySpF0ohJANaEniUgQ1gWeAx2KMk1MaTJIk7dbs3JUkSZIk7XQh4dgQwmBgPFARaBtjrBNj7G9hV5K0t4kxpsUYX4kxNgPqkPis9vMQwpshhNYhhKwpjihJknZDdu5KkiRJknaaEEIBoAeJawxmIdGl2z/G+Ecqc0mStDsKIeQGOpPo5i0NPAY8FWOcl9JgkiRpt2FxV5IkSZK0w4UQapD4YPpE4F3gEeCD6JtQSZK2SQihJon/SzsAb5H4v/QT/y+VJGnvZnFXkiRJkrRDhBByAh1JdOlWBB4Hnowxzk5pMEmSMrEQQmHgZBKF3jQSRd4BMcY/UxpMkiSlhMVdSZIkSdJ/EkLYF+gFnAb8QOJD59dijGkpDSZJ0h4khBCABiS+RNUIGAz0izH+kNJgkiRpl8qS6gCSJEmSpMwnhJA1hNAyhPA68CWQAzgmxnh8jPFlC7uSJO1YMeG9GGNHoBowF3gzhPBJCKHr+hU0JEnSHs7OXUmSJEnSNgshFAfOINGpu5BEl+6QGOOKlAaTJGkvFELIDrQm0c1bHXgKeDzG+Fsqc0mSpJ3Hzl1JkiRJ0laFhKNDCAOAicABQOcYY60Y4zMWdiVJSo0Y49oY4/AYY2OgPpAb+DqE8FoIoUUIIWuKI0qSpB3Mzl1JkiRJUoZCCPmAbiS6gXID/YDnYoy/pzSYJEnaohBCHqALcA5QGHgUeDrGuDClwSRJ0g5hcVeSJEmStIkQwsFAH6Ar8AGJou7oGOO6VOaSJEnbLoQQgFok/k9vB7xG4v/0z6IfCkuSlGlZ3JUkSZIkEULIQeKD37OB/YEngSdijDNSGkySJP1nIYSiwKlAb2A58AgwKMa4LJW5JEnS9rO4K0mSJEl7sRBCBaAncCbwM4mOnhExxrUpDSZJkna4EEIWoDGJL3PVBwYC/WKMP6c0mCRJ2mZZUh1AkiRJkrRrhRCyhBCahhBeAb4FCgANY4wNY4wvWtiVJGnPFGNcF2McFWM8AagB/AGMDiF8EELovH4lD0mStBuzc1eSJEmS9hLrl2Q8jcSSjEvZsCTj8pQGkyRJKbO+oHsCiW7eA0lcmuFxL80gSdLuyc5dSZIkSdqDhYQjQwjPAZOBQ4DuwOExxics7EqStHeLMa6JMQ6NMR5HYsnmQsD3IYQRIYQm65dyliRJuwk7dyVJkiRpDxRCyAucRKILpxCJa+k+E2NcmMpckiRp9xdCyAd0JfE6Ii/wKPBsjHFRSoNJkiSLu5IkSZK0JwkhVAH6kOjOHUNi6eVRMcZ1KQ0mSZIynRBCAI4iUeRtDYwg8driy+gHy5IkpYTFXUmSJEnK5EII2YG2JIq6BwNPkbhW3rSUBpMkSXuMEEJx4DSgN/A7iVVBXogxrkhpMEmS9jIWdyVJkiQpkwohlAPOAs4kcT3dR4DhMcY1KQ0mSZL2WCGErEBTEl8qqwv0Bx6NMf6S0mCSJO0lsqQ6gCRJkiRp24WExiGEYcAPQDGgWYyxfoxxsIVdSZK0M8UY02OMb8QYWwM1gVXARyGEd0MI7UMI2VIcUZKkPZqdu5IkSZKUCYQQCgOnkOiSWU1iKcQBMcalKQ0mSZL2eiGEnEAHEq9TKgGPA0/EGGenNJgkSXsgi7uSJEmStBsLIdQEzibxgenrJIq6Y6Jv5iRJ0m4ohHAIiSJvF2A0ictGvO9rF0mSdgyLu5IkSZK0mwkh5AZOJFHULQE8BjwVY5yf0mCSJEnbKIRQAOhO4vVMNhJfUHsuxvhHKnNJkpTZWdyVJEmSpN1ECGF/oDeJ5ZfHkuh0eTPGmJ7SYJIkSf9SCCEA9UgUeZsBw4BHYozfpDSYJEmZVJZUB5AkSZKkvVkIIVsI4YQQwihgDJAG1I4xtogxjrSwK0mSMrOY8HGM8SSgCjAFeDmE8EUI4ZT1K5ZIkqRtZOeuJEmSJKVACKE0cCbQE5hBokv3pRjjqpQGkyRJ2slCCFmBFiS6eY8AngMejTFOSmkwSZIyATt3JUmSJGkXCQnHhRCGAj8D5YDWMca6McYBFnYlSdLeIMaYHmN8LcbYHDgKWAd8FkJ4O4TQNoSQLcURJUnabdm5K0mSJEk7WQihIHAy0Gf9pkeA52OMS1KXSpIkafcRQsgFdCLRzVsWeBx4MsY4N6XBJEnazVjclSRJkqSdJIRwKImCbmdgFImi7kfRN2KSJElbFEI4jMRrqE7A20A/fA0lSRJgcVeSJEmSdqiNuk76AOWBx4CnYoxzUhpMkiQpkwkhFAJ6kOjmXUeiyOvqJ5KkvZrFXUmSJEnaAUIIlYBewGnAtyQ+fBwZY0xLaTBJkqRMLoQQgONIfHnueGAI0C/G+H0qc0mSlApZUh1AkiRJkjKrEELWEELrEMIbwFggK3B0jLFpjHGEhV1JkqT/Lia8H2PsDBwMzAZeDyGMCSF0CyHkTHFESZJ2GTt3JUmSJGk7hRBKAGeQ6NSdR6JLd0iMcWVKg0mSJO0lQgjZgNYkunkPBZ4GHosxTk1lLkmSdjY7dyVJkiRpG4SEY0IIg4Bfgf2AjjHGI2OMz1rYlSRJ2nVijGkxxpdjjE2AekAO4MsQwushhJYhhKwpjihJ0k5h564kSZIkbUUIIT/QHTibxIeG/YDnYoyLUxpMkiRJmwgh5AFOJPG6rTjwKPB0jHF+SoNJkrQDWdyVJEmSpAyEEKqTWOavC/A+8AjwXvRNlCRJ0m4vhFCLxGu5dsAbJF7LfeprOUlSZmdxV5IkSZLWCyHkBNqT6PaoBDwBPBFjnJXSYJIkSfpXQghFgFNIFHpXkSjyDowxLk1pMEmS/iWLu5IkSZL2eiGEikAv4HTgJxIf+r0aY1yb0mCSJEnaIUIIWYCGJL7EdxwwCOgXY/wplbkkSdpeWVIdQJIkSZJSIYSQJYTQPITwKvANkAc4LsbYKMY4zMKuJEnSniPGuC7G+G6MsT1wCLAIeCeE8GEIoUsIIUeKI0qStE3s3JUkSZK0VwkhFANOA3oDS4CHgcExxuUpDSZJkqRdKoSQHWhLopu3KvAk8HiMcXpKg0mStBV27kqSJEna44WEOiGE/sAk4GCgK1AzxviUhV1JkqS9T4xxbYzxpRhjQ6ABkB/4NoTwSgih2fqlnCVJ2q3YuStJkiRpjxVCyEuiiHs2iQ/rHgWeiTEuSmkwSZIk7ZZ8/ShJ2t1Z3JUkSZK0xwkhHAT0AboDHwH9gHdijOtSGkySJEmZQgghAEeSKPK2AV4h8Zryi+iH6pKkFLK4K0mSJGmPsP6aaSeQ+ACuCvAUXjNNkiRJ/1EIoRhwGtAbWAI8ArzgpT0kSalgcVeSJElSphZCKAf0BM4EfiXRUfFyjHFNSoNJkiRpj7L+GrxNSHyZ8GhgANAvxjghpcEkSXsVLwgvSZIkKdMJIWQJIRwfQngZ+AEoAhwfYzwuxjjEwq4kSZJ2tBjjuhjjWzHGNsDhwDLggxDCeyGEjutXkpEkaaeyc1eSJElSphFCKAKcSuJ6uitILIk3MMa4LJW5JEmStHcKIeQA2pPo5q0MPAk8EWOcmdJgkqQ9lp27kiRJknZ7IYRaIYRngMkkuiROAQ6NMT5mYVeSJEmpEmNcE2McHGOsDzQFigE/hBCGhxAar1/KWZKkHcbOXUmSJEm7pRBCHqALiS7dYsCjwNMxxgUpDSZJkiRtRQghP9CNRDdvThKvY5+NMS5OaTBJ0h7B4q4kSZKk3UoI4QASBd0ewOckll5+O8aYntJgkiRJ0nYIIQTgaBKvbVsCw4B+McavUhpMkpSpWdyVJEmSlHIhhGxAGxIffB0CPA08HmOcmtJgkiRJ0g4QQigBnA70BuaT+ALjkBjjypQGkyRlOhZ3JUmSJKVMCKEMcCbQE/iNxIdcw2KMq1OZS5IkSdoZQghZgeYkvtR4JPAc8GiMcWJKg0mSMg0v5i5JkiRplwoJDUIILwI/AaWBFjHGejHGQRZ2JUmStKeKMabHGEfGGFsCtYE0YEwIYVQI4YT1K9pIkrRFdu5KkiRJ2iVCCIWAk0l0KaQD/YDnY4x/pjKXJEmSlEohhFxARxKvkysAjwNPxhjnpDSYJGm3ZHFXkiRJ0k4VQjicxAdVHYG3SSy9/HH0zYgkSZK0iRDCoSReO3cG3iHx2vlDXztLkv5icVeSJEnSDre++6AzcDZQBngMeCrGODelwSRJkqRMIIRQEOhB4vU0JFa96R9jXJK6VJKk3YHFXUmSJEk7TAihMtAbOBX4mkSnwRsxxrRU5pIkSZIyoxBCAOqTKPI2AV4EHokxfpfKXJKk1MmS6gCSJEmSMrcQQtYQQpsQwlvA5+s314kxNosxvmphV5IkSfp3YsKHMcYTgYOA6cBrIYTPQgg91q+YI0nai9i5K0mSJOlfCSGUBM4EegGzSXTpvhhjXJnSYJIkSdIeLISQDWhJopv3MOBZ4NEY45RU5pIk7Rp27kqSJEnaZiGhfgjhBWACsA9wQozxqBhjfwu7kiRJ0s4VY0yLMb4SY2wKHE3ic/6xIYQ3QgitQwhZUxxRkrQT2bkrSZIk6R+FEAoAPYA+QDYSXbr9Y4x/pDKXJEmSJAgh5AY6k+jmLQk8DjwVY5yX0mCSpB3O4q4kSZKkLQohHEKioNsFeBfoB7wffSMhSZIk7ZZCCDVJvIbvCLxB4jX8J76Gl6Q9g8VdSZIkaS8VQsgF7BtjHP+37TlJfBDUh8Syy48DT8YYZ+/ykJIkSZL+lRBCYeAUEq/r15BYfWdAjHHp38btCyx2VR5Jyhws7kqSJEl7ofXX4RoKzIgx/m/9tn2AXsDpwA8kvuH/WoxxbYpiSpIkSfqPQggBaEiiyNsIeAHoF2Mct37/uSQuwdIgxrgiZUElSdvE4q4kSZK0Fwoh3AMcDrRgwwc9RwHPA4/GGH9JYTxJkiRJO0EIoSxw1vqfKSS6eYcDTwD5gY4xxvTUJZQk/ROLu5IkSdJeZv03888HBpFYpm0RiQ91BvtNfUmSJGnPF0LIDrQBzgaqAc8AxwBjY4wXpjKbJGnrLO5KkiRJe5H1hd37gVXASKBvjPGzlIaSJEmSlDIhhINJfPmzC5AbeOSvS7dIknY/WVIdQJIkSdIudSwwA5hFYjnmj0MIS0MIZ6c2liRJkqRdKYTQIoTwB/A90BGYT+K9Qq1U5pIkbZ2du5IkSdJeLIQQgALAihjj2lTnkSRJkrRrhBCyAIWAP2KM61IcR5K0jSzuSpKkPVbuXDnnrlq9pmSqc0jaIFfOHPNWrlpdKtU5JEmSpF0pd+7cc1etWuX7U2kvkytXrnkrV670PbB2KIu7kiRpjxVCiMu+HJ7qGJI2kq9We2KMIdU5JEmSpF0phBDTly5KdQxJu1jW/EV9D6wdzmvuSpIkSZIkSZIkSVImYHFXkiRJkiRJkiRJkjIBi7uSJEmSJEmSJEmSlAlY3JUkSdpFjuh8AR99/WOqY+z2zr/tUW5/cui/Orbd+TcxcOT7/+n+m/W6lmdHvPOf5pAkSZKkVGrYvA1PPvt8qmPs1T74+BMaNm+T6hj/Sov2nXlu4AsZ7vtt2nSy5i9KWlraP46VtHNY3JUkSXuVqm16UaxeF0rW78q+TU+j1/UPsmzFyn81V75a7Zk8Y842j/9qaF/q16z2r+7rLzsy/66yvcXSB67szRVndv5X9/XyA9fSrVWDf3Xsv1G1TS/e/+L7XXZ/22va7Pk0730dxet14bCO520161X3P0uN9udQ6tiuHNbxPAa9vmmRPD09nRv6DWK/5mdQ6tiu1O12MX8sXQ5AjJEb+g1i/xZnUua47jTrdS0/T56+U89NkiRJyuwqHXwoeYuXpUCpCpSuVIXTep3DsmXLUh0r6YOPP6HCgVt/D3tar3O49sZbkrd/Gj+BsvtV5Z6+DwFbP8cdWYDOmr8okyZPyXDfbXfdS4FSFShQqgJ5ipUhe8HiydvVa9Xdrvv5bdp0GrVoS74S5ah6+JG8+/4HOyB9QkbncMOtd9DjzF5bPe6FF4fR7fSeW9w/9bdpZCtQjLP/d/E2Z3lj+FBO6XbSdo99dsAg6h/fYpvvZ1erXqtu8ndfoFQFchQqQZtOXbc4ftDQl9i3ag3ylyxPuy7d+f33xcl9DZu3IU+xMsm5Djqs9q44BQmwuCtJkvZCL95zJfM+GsSY5+/mm/GTuPOplzYbk5aWnoJk22Zb8u8qMUbWrVuXsvvfk81b9Md/nuO0a+6lxoH7Mv3d5/i/s7vS/Yq7WLB4SYZj8+TOxdB7r2T2+wN4/PrzuOyep/n8+wnJ/Tc/PoQvfpjAe0/fxpwPBvLEDeeTK0d2AIa/+ynPvzqaUY/fzIzRz3Fk9QM56//6/uf8kiRJ0p7ulaED+XPudL765D2+/vY7brnzns3G/NUhubv79vsfaNSiLVdfdhEXX3Bucvu2nOPOdOWlF/Hn3On8OXc6j9x/N3Vq10reHvflp9s1V7fTzuLQQ6qzYNpEbvq/q+nc4zQWLFi4k5JvmzfeHkXzJo23uP/5F4ZQuFAhhg4fwerVq3dhsh1r3vz5/3mOcV9+mvzdL5kzjfLlytKxXcbd1T+Nn0CfCy7iucf7MWfyePLkycM5F126yZgH7r4jOd/4b8f+53zStrK4K0mS9lplShSlSd3D+XlKosMwX632PDb0TWq0P4caHc4B4JmX3+GQdmdTvtHJdL7oVuYs+B2AJj2vAaBO14soWb8rL436BIA3P/6KOl0vomyD7jQ6/Up+nPhb8v427vK85fHB9Ljybs76v76UOrYrR3S+gG9+nvSf8o8d9wuNTr+Ssg26c1TXCzdZAvr5V0dzeKfzKHVsV6q17cNTw9/e4rwDXnuPxmdcyUV3PkGZ47onOj7H/pDc36zXtVz/yEAan3ElxY85iamz5vH59xOof/KllDmuO/VPvjRZFLz+kYF8+t14Lr7rSUrW78pFdz4BwC+/zaT1OddTvtHJHNbhXIa9MyY5f6/rH+SGfoMA+OjrHzmg5Zk8MOAV9mlyKpWbnc7zr47eYvaNu4Qnz5hD057XUOa47lRofAonX3l3ctyW8v7dlJlzadHnOio0PpkKjU/h9GvuS3arnnldX2bMXUini2+jZP2u3Nf/5X/8PfyTP5Yu54mX3uLYUy6j9w0PbvNxGZk4bTbfTZjC1T27kDtXTk5oWIeq+1Xklfc+z3D8Nb26cOA+5ciSJQu1qh1A3UMPYuy4XwBY/OcyHnlhJA9dfTYVSpcghMDB+1UkV84cAEybPY86hx7EvuVKkTVrVk5sXp8JU2f+p/ySJEnS3qRsmTI0O74xP/6ceG+SNX9RHnn8SQ48tBYHHloLgCee6c8BNY6gWIXKtO3cjdlzNqwk9c5771P18CMpXHYfzrv4MmKMyX1/7/78+7K6v/++mNN7n0u5/atStHwl2nXpzvLly2nZ/kRmz5mb7Ezc+P7+buxXX9O0TQdu/r9rOLvnmdt0jttj7Fdfc3TDphQpty9l96vKeRdfxpo1awA4rmkrAA6reywFSlVgyLCXt3v+bfHrxEl88/0PXH/15eTOnZsObdtQvWpVhr362jYdf1qvc+hzwcU0adOegqUr0KBZa6ZNn/GfMq1bt4533/uQZo0bZbg/xsjzLwzhxuuuInu27Lz25qafBbwy8g0Or3sshcpUZP9DavLWO4n32xt3Vaenp3PpVddRouL+7Ff9cN54e9Qmc/w1dvyEXzj7f5fw2dgvKVCqAkXK7cuXX39D6UpVSE/f8AX64a+8xmF16m/T+a1du5aXXx1J287dOKDGEdv8uGyLj8Z8ysJFi+jQtnWG+wcNeZFWzZtRv15d8uXLx43XXMnLr45k6dKlOzSH9G9Y3JUkSXutmXMX8vaYbzjkgH2T20Z++AXvP3M7Xw3pywdfjuP/Hh5A/9suZtKbT1G+dHFOufpeAEY9fjMAnw26l3kfDaJjk3p8/8sU+tz0EA9c1Zvp7z7H6e2b0Pni21i9Zm2G9//GR1/SsUk9Zr33PC3r1+Liu5741/lnz19Exwtv4bIzOjJjdH9uveAUul9+Z7JLs3iRgrx039XM+WAg/a47lyvufYbvJkze4txf/jSRSuVKMe3dZ7m654l0u+xOfl+y4Q3M4Dc+5IGr+jD3g4Hky5ObjhfeQp8uLZn+7nOc260NHS+8hUV/LOX6s7tR99CDuOfSM5n30SDuvewslq9cRZtzbqBz02OY+vYzPHvrRVx4x+OMn5Lxm9p5i/5gybIVTHzjSR659hwuuvMJFv/5z0uV3fToCzQ66lBmvtefX19/gt4ntgTg9yVLt5j372KMXHJqeya+8RRfv/gAM+cv4tbHBwPw5I0XUL5UsWQn9YUnt/vH30NG1q1bx+jPv+PUq++lautejP7iOy49vSND770yOabjhbdQtkH3DH86XnhLhvOOnzKdfcqWJH/e3Mlt1fffh/FT/nm55JWrVvP1z5M4qFJ5AH6aNI1sWbMwYvSnVGp6Ood2OIfHhr65IV+TekydOZeJ02azNi2NQa9/wPF1DvvH+5EkSZKUMGPmLN4c9Q6H1aie3DZi5Bt89t4ofvzyU9778COuvv4mBj/3FLMm/kzFCuXoeupZACxcuIiO3U7hxuuuZv5vE6m8776M+fyLbb7vk8/qw4qVKxk39lPmTvmF/53bh7x58/L68CGUKV0q2ZlYpnTpDI8f+/U3tGjfmXtuv5kzT+2xXee4rbJmzco9t9/M/N8mMmb0W7z3wUf0e+JpAD54eyQA3376IX/Onc6JHdpt9/yHHnUMRcrtm+HPORdeAiQ6OSvtU5H8+fMnjzuk+sH8PH7bi9WDhr7INZddwvzfJlLjkGr0OGPrSy7/k7FffU2lfSpSrFjRDPd/8unnzJw1my4d2tOpfVv6Dxy8ybGn9jqbO26+nt9nTuWDt15jnwrlN5vjiWf78/pbb/P1mA8Y++Foho3IuJh9UJUDN+mM/n3mVGrVPJyiRQozavSGy/4MGDyUHieduNXzGvfTz1x8xTWUP6Aad9//IC2aHc+08eOS+++45/4t/r6KlNt3KzNv0H/gYNq3aU3evHkz3P/T+AnUqHZw8nblSvuSI0cOfp204bOUq6+/iRIV9+eYxs354ONPtul+pR0hW6oDSJIk7WpdLr2DbFmzUCBfHpoeXZNLT+uQ3HfxqR0oUjDxRm3oWx9xcptGHFqlMgA3nNOdcg1PZtrs+VQsU2KzeZ9++R1Ob9eEWtUOAKBbqwbc/cwwxo77lWNqHrzZ+Do1DqLp0TUTmVocy8ODR/7r/P2GvE6TujWT8zU88lAOO2g/Ro35hm6tGtCs3oZvuB5T82AaHXUoY74dnzy3vyteuCDnnNSKEAIdm9TjwYGv8vaYrzmpxXHJc6tauQIA733xHZXLl07u69z0GB4d8jpvfvwl3Vs33GzuNz/+igplStCjTeKbxTUOrETbhkfx8uhPOajS5m/wsmfLxpVndiZbtqw0PbomefPkYuK0WdSufuBWH6fs2bIyfc4C5iz4nbIli1H30IMAeHvM19uct3L50lQun/gAo3iOgpzXtTW3PTF0i/c5+M0Pt/p7+LtHh77B/f1HULRQfrq1asjdl55JsUIFNhv30n1Xb/VcM7J85SoK5suzybYC+fIwZ/7v/3jsBbc/RvX996Hx+gLt7PmLWLJsBZOmz+GnV/oxecYcWp59PftXLE3DIw+lVLHC1KlxEId1PJesWbNQrmQxXn/khu3OLEmSJO1t2p90MtmyZaVggQK0aHo8V15yYXLfFRf/jyJFCgMwaMhLnNajG4cfWgOAW6+/lqLlK/PbtOl8NOZTDq5ShY4nJJaXveCc3tz74MPbdP9z5s7lrXfeZcG0SRQuXAiAY+sdvV3n8MWXX1G0SBGaH5/x0sBbO8dtVfOwQ5N/3qdiBXqefioffjKGC87pvd1zZeS7zz/+xzHLli+nYIFN368VLFCAWbO33NH8dy2aNqF+vcR1fm++7moKl92XGTNnUb5cWQCOOKYBWbJs6MlbtWo1HU7IuLMU4I2336F50+O3uL//oME0O74RhQsX4qROHTmuWSvmL1hAieLFebr/QE7r0Y3jGybeq5YtUybDOV4aPoLzz+mdzHj5xf/brkLmyV27MHDIizRv0pjff1/MqNHv8/B9d2U49r0PP+KKa69n3vwFdO/SmY9Gvc4B+++32bjLL/4fl1/8v23O8HcrVqxg2CuvMmLIwC2OWb58OQUK/v33nZ+l668ZfduN11G1yoHkyJGDwS8Np23nrnwz5kMqV9q24rL0X1jclSRJe53Bd11OgyNrZLivXMkN33ads+B3ahxYKXk7X57cFCmYn9kLFmVY3J0xZwGDRr7PY0PfSG5bszaNOQszLqaVLFoo+ec8uXKyavUa0tLSyZYt63bnnz5nAS+P/pQ3P/4yuW1tWjr1a1YDYNSYb7jtySFMmj6HdevWsWLVmmRxNiNlihchhJC8Xb508eSS1ADlShZL/nnOgt8pX7r4JseXL1Wc2QsyPu8Zcxfw1Y8TKduge3JbWvo6urQ4NsPxRQrm2+QxyZMrJ8tXrNpi9r/cfN7J3PToCxx76uUUyp+P87u34eQ2jbYr77xFf3DZPU/x6XfjWbZiJevWRQrlz/hbvfDPv4e/mzZrHn8sXUaD2odQff99KFowf4bj/o28uXPx5/KVm2xbunwF+fLm2upxV/d9jp8nT+eNfjcmnwN/Lb98xZmdyJ0rJ9X234eOTY7m7THf0PDIQ7ntyRf55udJ/DLycUoWLczgNz+k5dn/x5dD+pInV84ddk6SJEnSnmb4C/1p3OC4DPeVL1s2+efZc+dy+KGHJG/ny5ePokWKMGv2HObMmUu5chvGhhA2OXZrZsycRZHChZOF3X/j7LPOYNKUqTRt24F3R47YbK6tneO2+nXiJC6+8lq+/vY7VqxcQVpaOjUPzfh9/c6SL29e/vzbkrx/Ll1K/vz5tnmOjX8v+fLlo0jhwsyeMydZOP3q4/fZr/KGzyFuuPUOJk2ZssX53hz1Lo8+cG+G+1auXMlLI17h8Yf6AlDnyFpUKF+OF4YO44JzejNj1ixabOVavX+ZPWfuJrkrli/3j8dsrFuXTtx6RB2WL1/O0JdHUK/uUZQuVSrDsfMXLGTSlKkcVbsWh1SvRoXtvK9tNfzVkRQpXHirX2TImzcvS//M4PedL/H7PrLWhi/Rn9LtJAa/NJw3R73Dub177pTM0sYs7kqSJG1k44Jm6eJFmDF3QfL28pWr+H3JUsoUz3i5o7Ili3Lp6R257PSOOz3n35UrWYyTmh/LQ9ecvdm+1WvW0u3yO3n8hvNpdWxtsmfLRpdLbidmMM9fZi/4nRhj8vGYOXchLevXSu7f6GFKPE5/u47rzLkLk8vybvyYApQtWYx6h1fltYev376T3E4lixVOPh6ffjee1udcz9GHVf3HvBu74ZGBhBD44oX7KFIwP6998MUmy2f//dy29nvIyG0XnsaFp7RjyJsfccndT7J0+Qq6ND+Wri2PY78KG7413e78m/j0u/EZzlH30IN4+YFrN9t+UKUK/DZrHkuXr0wuzTxu4jQ6Nz1mi3lufmwwoz79hrceu5kCG3X9Vtt/n83Od+M/j/t1Ku2PP5qy64v+3Vs35PJ7n2bClBkcXnXzb1lLkiRJ+mcbv+YuU6oU06bPTN5evnw5i37/nbJlSlOqVElmzpyV3BdjZMasDbfz5snDihUbvvg5d9685J/LlyvL74sX88cfSyhUqOAW739rsmbNysCnH6dT91Np3q4jo14dToECm69I9F+cc+ElHHrIIQx65nHy589P34cfZdiIV3fY/NVr1WXajJkZ7ut2Yif69b2Hgw+qwpTfprF06dLk0sw/jPuJLp07ZHhcRjb+vSxbtozfFy/e4nLX/2TuvHnMmTs32c39dy+/9jp//rmUcy+8lAsuuQKAP5Ysof+gwVxwTm/Kly3L5Km//eP9lC5VapPc02dm/DhBxs+ZsmXKcFTtWgx/dSQDXxhKrzNP2+LxXTq254RWLRj+6kie7j+Acy68hPZtWnNy1y7Uq3tUctxtd93Lbffcv8V5/py79csR9R80mB4nnbjV5/jBB1Xh+x9/St6eMvU3Vq9ewwH7ZbwCWghhk2tdSzuT19yVJEnagk5N6vH8a+/xwy9TWb1mLdc/PJBa1fZPdu2WKFKI32ZteFN82gnH89Swt/nyx1+JMbJ85Sre+uQrlv6te3Jn6NL8WN74+Cve/exb0tPTWbV6DR99/SOz5i1kzdo0Vq9No1ihgmTLmpVRY75h9OffbXW+BYuX8Mjg11mblsbwdz/ll99m0qRuzQzHNqlbk0nTZzP0rY9IS0vnpVGfMGHqDJodk/gWa4kiBTd5nJrXO4JJ02fzwhsfsDYtjbVpaXz900QmTN3yG8R/Y/i7nzJr3kIACuXPSwiBLCH8Y96NLV2xkny5c1EwXx5mz19E3+dHbLK/RJGCTN3o3Lb2e9iSEkUKcV63Nnzxwn0MvOMylixbTsPTr6TPjQ8lx7z8wLXM+2hQhj8ZFXYB9q9YhkMO2IfbnhjCqtVrePX9z/lp4m+0bXhUhuPvfmYYL779MSMfvp6ihTbtIK5UrhR1D6vKnU+/xOo1a5kwdSYvjfokudz34VX3Y8ToT5m36A/WrVu3/nebTqXy/+5DCkmSJEmb6tKpPc8OGMR3P4xj9erVXH3DzRx5RE32qViBlk2b8NOECQx/5TXS0tJ4sN/jzJ03P3lsjUOq8fGYz5g+YyZLlvzJ7RsVxUqXKkWz4xtzzkWXsnjxH6xdu5aPPvkUgJLFi7Po98UsWfLnP+bLnj07Q59/hqJFi9KqQxeWL1++Q89/6bJlFCiQn3z58jHhl1959MmnN9lfskQJpvw27V/PP+7LT5PXFv77T7++9wBwwP77cWj1atx4212sWrWKl18dyQ8//USHNlteNvnv3hz1Dp98+jlr1qzhuptv46haRyS7drfXm6PepWnjRlssUPYfNJjTenTj+y8+5ptPP+CbTz/g43fe4PtxPzLup585/eRuPDtgEKM/+JB169Yxa/ZsJvzy62bzdGzflof6Pc7MWbNYvPgP7ry37xYzlSxRgpmzZ7NmzZpNtvc46UTuvv9Bxv38M+3btNrqeeXKlYuunTvy9ivD+PbTj9inYnnOOPs89j9kw2cSV1560RZ/X/9U2J05axYffPQJJ3ftstVxXU/sxMg33+LjMZ+xfPly/u+W22jXphX58+fnjz+W8Pa777Fq1SrS0tIYOORFPh7zGU0bN9rqnNKOYnFXkiRpCxocWYNre59Et8vvZL/mZzB11lyeveWi5P6rep5Iz+sfoGyD7gx7ZwyHV92Ph67uw8V3PkG5hj04pN3ZDBj5/i7JWq5UMYbccwV3PTOMfZqcxoGtetL3+RGsi5H8eXNz18VncPJVd1OuYQ+Gvv0xLTbqws1IrYP3Z/KMOVRsfCo39hvIgNsv3azg95eihfLz4n1X88DAV6nQ+BTuf34EL953dfLasWd3acWI9z6jXMMeXHL3k+TPm5tXHvw/Xhr1Cfs1P5PKzU7n2oeeZ82atTv0Mfnm50kcd9oVlKzflRMvvo07LzqdfcuV+se8G7vyzM5898sUyjToQYf/3UKbBpsWRi8+tQN3Pv0SZRt0p+/zI7b6e9gWhx1UmXsuPYtJbz7JGR2a/ufH4NlbLuab8ZMp1+hk/u+hAQy4/VKKF058G3/Imx9yROcLkmOvf2QgM+Yu4JD251CyfldK1u/KXc+8tGGumy9kxpwFVGh8Ch3/dwvX9j6JBrUTy8JddHI7qu2/D3W7XUTZhj14aNBrDLzj0q0uYS1JkiRp2zVucBw3XHslnbqfStn9qzJ5ym8MejaxqlCxYkUZ0v8Zrvq/myhecT8mTp7M0UcdmTz2+IYN6NzhBA6tcwy16jekZbNN32v0f6If2bNlo2rNoyhV6UD6PvIoAFUOPIAuHduzX/XDKVJuX2bP2fq1ZXPkyMGwgc+RK1dO2nbuysqVO+6LznfefCMvDH2JgqUr0uu8C+ncod0m+6+76jJO63UORcrty9DhI3bY/f7doGef5Otvv6No+cpc9X83MvT5ZyhevNg/H7jeSZ06cuPtd1Kswn588+339H/y0X+dZWvX2501ezbvffARF5zTm1IlSyZ/ah52KE2Pb0T/gYOpfURNnnrkQS6+4hoKl92HBs3bZNi9fNapJ9OkcUMOq3MsRxzTgHZbKc42PPYYqlapQpn9DqJExf2T29u1bsm0GTM4oVVL8uTJs8Xj/658ubJcdenF/PLdlzzz6LZdR/qfDHhhKHVq18rw2rgFSlXg4zGfAYnO3Ufuv4ceZ/aiVKUqLF26jIfvTVwreO3atVx30y2U3PcASuyzPw8/+gTDX+if4fWBpZ0h2CYuSZL2VCGEuOzL4amOkekMeO09nnvlXd558tZUR9EeKF+t9sQYt219N0mSJGkPEUKI6UsXpTqGdqEPPv6EG2+9k/feTCwffVqvcyhXtgw3XXf1f547LS2NMpUPYtK4r3f4Etg7y/6H1KRf33v+8/WXM5us+Yv6Hlg7nJ27kiRJkiRJkiRJmcTvixdzw7VXZprC7rBXXiWEQMNj66c6irRHyJbqAJIkSdpgxtwFmyyVu7GvhvalfKniuziRJEmSJEnaXvtUqMDJ3bZ+Xdd/q0Tx4vQ58/SdMveO1rB5G36e8AvPPdGPLFnsN5R2BJdlliRJeyyXZZZ2Py7LLEmSpL2RyzJLeyeXZdbO4NckJEmSJEmSJEmSJCkTsLgrSZKkHWbAa+9x/JlXpTqGJEmSJEnb5dkBg6h/fItUx5Ckf2RxV5IkSdoOP/wylXo9LqF4vS7U63EJP/wydYtjm/W6lqJHn0jJ+l0pWb8rh3U4N7lv7sLf6XzRrezX/Azy1WrPtNnzNzn2iM4XJI8rWb8rBY/qSKcLb91p5yVJkiRJ2rN998M4ah3TkHwlylHrmIZ898O4LY7tcWYvyu5XlUJlKlLl0No8+ezzyX0/T5hA7foNKVq+EkXLV6JJ63b8PGFCcv/q1avpc8HFlK5UhWIVKtOmU1dmzZ69U89N2ptY3JUkSVKGYoysW7cu1TFIT0/f5HZaWvoWRmZse8dvzZq1aznxktvo0vxYZr73PF1bNuDES25jzdq1WzzmnkvPZN5Hg5j30SC+HfZQcnsIWWhc5zAG3nFZhsd9NbRv8ri5Hw6kXMlitGtcZ4ediyRJkiTtqXbf97Np23X89o7fmjVr1tCuS3e6ndiJRTMmc3LXE2nXpTtr1qzJcPwVF1/IlJ++5Y/Z0xgxZADX3XQrX3/7HQBlSpVm6PPPsnD6ZOb/NpHWLZrR9dSzksc+8MhjfD72S777/CNm/voThQsX5PxLrthh5yLt7SzuSpIk7abufW44+7c4k1LHJjo+3x/7AwArV62m1/UPUq5hD2p2Pp/7nx/BAS3PTB6Xr1Z7Js+Yk7zd6/oHuaHfIAAW/7mMjhfeQsXjT6Vcwx50vPAWZs1bmBzbrNe1XP/IQBqfcSXFjzmJqbPm8ctvM2l9zvWUb3Qyh3U4l2HvjEmOX/THUjpfdCulj+vGsadcxpSZc7fp3LY2Z6/rH+SC2x+j/QU3U+KYk/joqx+p2qYX9z43nCNPupAS9U8iLS2d1z8cyxGdL6Bsg+4063UtE6bOTM6R0fgd4eOvfyItfR3nnNSKnDmyc3aXlsQIH3655W87b0nJooXo2ak5Navu949jP/nmZxb98SdtG1rclSRJkrT7u/PevpQ/4GAKlq7AQYfVZvQHHwKwcuVKTut1DkXLV6LaEXW4+/4HqXBgteRxWfMXZdLkKcnbp/U6h2tvvAWAxYv/oHXHkyi5zwEULV+J1h1PYuasWcmxDZu34ZobbuaYxs3JV6IcU6b+xoRffqVJm/YUq1CZgw6rzdDhI5LjFy36nbadu1GoTEWOOq4xU6b+tk3ntrU5T+t1Dmf/72JadjiR/CXL8/5HH1Pp4EO5896+HHrUMeQvWZ60tDReff1NqteqS5Fy+9KweRvGT/glOUdG43eEDz4eQ1paGhec05ucOXNyXp9exBh578OPMxx/8EFVyJkzJwAhBEIITF7/GBUqVJB9KlYghECMkaxZszJpyoZVraZOm0aTRg0pWaIEuXLlonP7dvw8fkJGdyPpX8iW6gCSJEna3K+/zeKxoW/y0XN3Urp4EabNnk/6+m8d3/bEUKbMmssPLz/CipWraXfBTds877p1ke6tG9L/tktIT19Hn5se4uK7nmTw3Ru+QTv4jQ8Z3vcaDqhYluWrVlH7xP9xTa8uvNz3Wn6aPI3W59xA1coVOKhSeS6683Fy5szBpDef4rdZ8zjh/JvYp0yJrWZYvnIVbc65YYtzArz41scM63s1L913FWvWJt7Ivvj2Jwy772qKFsrP1FnzOO2a+xh89+UcU7MaDw16jc4X3cpXQ/uSI3v2zcZny5Z1sxxHnnQhM+cuyDBjp6bHcP8VvTbbPn7KDKrtV5EQQnJbtf0rMn7KDI6ve3iGc/3fwwO57qEBHFCxDNed3Y36NatlOG5rBr3+Pm0b1CFv7lzbfawkSZIk7Uq//DqRhx9/ki8+fJcypUvz27TpyQ7WG2+7kylTf2Pi91+zfMUKWrbvvM3zrlu3jlN7nMSQ/k+Rnp7OGWefz3kXX87LgwckxwwYPJTXhw/lwP33Y/nyFRxy5NFcf/UVvDF8KON++pmmbTpQrWoVqlapwrkXX0auXDmZNfFnpk6bTvMTOrJvxYpbzbB8+XKatu2wxTkBXnhxGCNfGsJrL76Q7Iod/NJwXntpMMWKFmHK1N/odnpPhr/Qn+OOqcf9D/Wj7Ynd+PHLT8mRI8dm47Nl27yMc+hRxzB95szNtgOc1KkDD99392bbfx4/gerVDt7k/Wz1gw/m5/ETaHZ8owznOufCS3hu4GBWrlzJYTUOoUWTxpvsL1JuX5YtW866deu44ZoNnyucfnJ3LrzsKmbPmUOhggUZNPQlmv3tWEn/nsVdSZKk3VDWrFlYvXYtE6bMoFjhAlTcqGA6/N1Pue/ysyhSMD9FCuanz4ktuf2pods0b9FC+Tlho+7Py07rSIs+120yplurBlStXAGAdz79lgplStCjTeKNXo0DK9G24VG8PPpTDqjYkVfe+5wvBt9H3ty5OHi/inRreRxjvv15qxne/PirLc55UKUTAWh5bC3q1DgIgFw5E29u+3RpSblSxQAY9s4nNK1Xk4ZHHgrABd3b8sjg1/n8h1+SxdONx2fkixfu++cH7G+WrVhJgXx5NtlWIG8elq5YmeH4m87rQZV9y5MjezZeGvUJnS+6lU8H3kulcqW2+T5XrFrNiPc+Y8g9V253XkmSJEna1bJmzcrq1Wv4ecIvFC9WjH0qVkjue/HlV3jo3rsoUqQwRYoU5tzePbn5jru2ad6iRYvQoW2b5O2rLr2IRi3bbjLmlG4ncfBBiSLrW++OZp8KFTitRzcADqtxCO3btuall1/l6sv2Z/grr/H95x+TN29eqlU9iJO7duHjMZ9tNcPIt0Ztcc7rrkzcb5uWzTm6zpEA5MqV+ILuub17Ur5cWQCGDh9Bi6bHc3zDBgBcfMG5PNDvMT79YizHHVNvs/EZ+e7zjLttt2bZ8uUULFBgk20FCxZg6bJlWzzm4fvu5oG77+CzL77kw08+SXby/uX3mVNZvnw5/QcNpkL58snt+1euTLlyZSl/QDWyZs1K9YOr8uDdd2x3ZkkZs7grSZK0G6pcvjR3XnQ6tz4xhPFXzqDRUYdy+4WnUbp4EeYs/J2yJTcULSuULr7N865YtZrL732adz/7lj+WLgdg6fKVpKenkzVroru13EZzz5i7gK9+nEjZBt2T29LS19GlxbEsXPwnaenpm4wvX7o4fLv1DFub8y8bn99fypUsmvzznIWLqVBqw3lnyZKFciWLMmf+ogzH7yj58uRm6fJNC7lLl68kf57cGY6vVe2A5J+7tWrAi29/zNtjvqbPiS23+T5ffe9zChfIxzGHH/zvQkuSJEnSLrRf5Urce8ct3Hjrnfw0YQJNGjXknttuokzp0syeM3eTomXFCuW3MtOmVqxYwUVXXMPb745m8R9/ALB06bJN38+W3TD39Okz+OKrrylSbt/ktrS0dLp36cSChQtJS0vbJEuFCuXhH4q7W5vzL+XLbl6ULV+uTPLPs+fMoeJGhdAsWbJQvmxZZs2ek+H4HSVf3rz8uXTpJtv+/HMp+fPl2+pxWbNmpV7doxg45EUeffJpzuuz6SpXefPmpdcZp1FynwP46evPKFG8OOdefCmrV69mwbRJ5M2bh7vuf5CWHTrz2fvv7PDzkvZGFnclSZJ2U52b1adzs/r8uWwF59/2KNc++DxP3ngBpYoVZta8hcnu2hlzF25yXJ5cOVm5anXy9rxFiymzvtD5wIBXmDhtNh88cwclixXmh1+mUrf7xcS44fiNVmiibMli1Du8Kq89fP1m+dLT08mWNSsz5y3kwH3KZZglI1ubc0OGsPk2NmwrXawwP02enrwdY2TmvEWULlE0w/EZOaLzBczYwrLMJzavzwNX9t5s+0GVyvPAwFeIMSYz/jjpN3p2arbV+0pmCmGTx3pbDHz9fU5qcVyGj4kkSZIk7Y66du5I184d+fPPP+l9wcVccd0N9H/iUUqXKsmMmbOS3bXTZ2y6tHCePHlYsXLDF2rnzp9PubKJQue9Dz7CrxMn8dn7oyhVsiTf/TCOmkcfR9zoTdbG75vKlStL/Xp1GfXq8M3ypf8/e/cdHVXRh3H8OwmkAKH33nuXXqUXERDpoCgCAlaQjoqN3hQbCIgU6aIgSBWRXkV6ld6r1PTM+8fyBmISCBC4Kc/nnD2ye2fnPncJnsz+7swEB5MgQQJOnjpN/nyum3JPnox4meN73a/PiDJE9FrGDBnYtefuilfWWk6ePk2mjBnu28e9ipSuwPFI8rZp0YxvvxgZ7vWCBfIz6suvw4xnd+3ZQ9dOr933XP8XFBQUuufuf4WEhHDb15fTZ86SNk0aduzczacf9idlyhQAvPl6RwZ8NphLly6TOnX034gtEt+4OR1ARERERMI7eOw0q7bswj8gEC/PhHh7euDm5hp8NalZgRE/zOPq9ZucPn+JsbN/C/PeonmzM3vJGoKDg1m+/i/W3rNM8s3bfnh7epDMJzFXrt1g0IRZ981Rr1IpDp84w4zfVhEYFERgUBDb9hxi/9FTuLu707BaWQZ9N4vbfv7sO3KS6Yv+eOC13a/PqGpSsyJL127jj807CQwKYsy0+XgmTEi5ovmi3MfW2V9wfvX0CB8RFXYBKj9TCHc3N76ZuQj/gMDQz75q6SLh2v574xYrNmzHzz+AoKBgZi3+k3Xb91KrfInQNn7+AfgHBgLgHxCIn39AmD5On7/E6m27adOgWpSvS0RERERExEkHDh5i5Z+r8ff3x8vLC28vL9yMqxTR7IVGDB35OVev/sup06f5etz4MO8tXqQwM2bPJTg4mCXLf2f12vWhx27cuImXtxfJkyXjypWrfDJ42H1zNKhbm0OH/2HqjFkEBgYSGBjIlm1/sW//Adzd3XmhYQM+HjyM27dvs3f/fqZMn/nAa7tfn1HV7IVG/LZ0Ob+v+pPAwEBGjfkaT09PKpQtE+U+dm1Zz/VzJyJ8RFTYBXi2ckXc3d358tvv8Pf3D/3sq1etHK7thYsXmTl3HjdvumZGL12xkplz51G9ahUAlq/8g+07dhIcHMz169d5r+/7pEiejAJ3CuWlSpZg6oxZXLt2ncDAQL4dP5GMGdKrsCsSTVTcFREREYmBAgIDGfDVVLLVakeuuq9x8eo1Pn7DtYxx344tyJohDYUbdabhW5/Q6p7ljAGGvfcav63ZSqbqLzFryRoaVL07QHyjVQN8/QPIVusVqrfvE6bQGBGfxN7M/3IAc5etJXe9DuSq254PvppKQICrIDmyV0du+fqRq257On/8JW0bVH/gtT2oz6jImz0TEz55hx4jJpCt5iv8tmYrs0f1xSNhwij38Sg8EiZk5og+zPhtFZmqv8TUBb8zc0Sf0PMOnzSXF97+FIDAoCA++XY62Wu/QrZa7Rg7+zdmjuhNnmx3l9dKXakl6aq0BqBks7dIXallmPPN+O1PyhTJ91B79IqIiIiIiDjJPyCAfgM+IW32PGTMXYALFy8x6OMPAPiwby+yZs1MriIlqNuoKW1bNg/z3tHDBrFw8VJSZs7B9NlzaNSgfuixd954HT9fP9Jmz0uF6nWoU6vGfXP4+Piw5Je5zJr7M5nzFCJjrgL0/fBj/ANcN9V+OWIoN2/eImPuArTv/CavtG39wGt7UJ9RkS9vHqaM/5Z3evQhbfY8LFy8lPmzp+Ph4RHlPh6Fh4cH82ZMZeqMWaTMnJNJU6czb8bU0PMOHj6K+k1cfx8Gw7gJk8iavwipsuSkV/8PGTVkIA2fqwfAv9eu0+bVjqTIlIM8RUvxz5Fj/PbznNA9hocP/AQvLy/yFS9Nuhx5WbxsBT9Nn/JEr08kPjH2YdeFExEREYkljDH25pbIl0qKK1Zv202HDz/n4KIJTkcReaAkpZtgrdUa0yIiIiISrxhjbPCNy07HiHFWrVnLyx06c+LAbqejiDwR7j6pNAaWaKeZuyIiIiIiIiIiIiIiIiIisUACpwOIiIiISNyzbvtemrzzWYTHzq+e/pTTiIiIiIiIiETNmnUbeO7FFhEeu37uxFNOIyISnpZlFhERkTgrvizLLBKbaFlmEREREYmPtCyzSPykZZnlSdCyzCIiIiIiIiIiIiIiIiIisYCKuyIiIiLy1L3+0Zd8/K2WZxYREREREZHY79XX3+CDTwY6HUNE4gkVd0VEREQkXvtp+TpqtO9Lmkotqfv6B+GO7zxwlEov9SBNpZZUeqkHOw8cDT1mreWDL6eQtebLZK35Mh98OQVteyIiIiIiIiJO6dnvQ/IVL02yDFkpWLIsU6bPDHP819+WULRMRZKmz0qlGnXZu3+/Q0lF5FGpuCsiIiIi8VrKpEno2qoB3ds1CXcsIDCQFj0G07JeVU6tnErr56rRosdgAgIDAfj+52UsXLWZDT+OYuP00fy2ZisT5y172pcgIiIiIiIiAkDixImYP+tHrp4+xqRxX9Otdz/Wb9wMwKHD//BSh9f55vORXDl1hAb16tC4RVuCgoIcTi0iD0PFXREREZF4ZtTkeeSp34H0VVtT4sU3+WPzTgC27jlE9fZ9yFStLbnqtqf7sPGhRUyAJKWb8N2cxRRr8gbpq7bmk2+nc+TUOWq070uGZ9vwUt8Roe1Xb9tN3uc6MHzSXLLWbEfBhq8za/GfkWZavGYr5Vt3J1O1ttRo35fdh449MG90qVa2GC/WqkiGNCnCHVuzbQ9BwSG80aoBnh4J6dryOayFP7fsAmD6wlW81aYhmdKlJmPaVLzdpiE/LlwZrflEREREREQkcsNGfUGWvIVIliErBUqU4fdVrrHn5q3bqFi9Dikz5yBT7oK89V4vAgICQt/n7pOKb8dPDJ3l+uGng/jnyFEq1ahL8ozZaPFy+9D2q9asJWu+wgwePoq02fKQs1Bxfpw1J9JMCxcvpWSFqqTMnINKNeqyc/eeB+aNLh/170P+fHlxc3OjbOlSVCpfno2btwCw7PeVVCpfnkoVypEgQQJ6dX+H02fO8ufaddGaQUSerAROBxARERGRp+fgsdOMm72Y1ZOHkSFNSo6fuUBwSAgA7m5uDOn2KiUL5Ob0hcu88M6njJ+zhDdaPx/6/t83/s2aKcM5df4SlV7qwaadB5jwyTukTO5D9fZ9mbN0LW0aVAPg/OV/ufzvDQ79NoHNuw7y4rufUaJAbvJmzxQm044DR+jy6VfMGdWPkgVyMXPxapq/N5jtc7/i+JkLkeb9r5E/zGPU5HmRXvvpP6Y99Oe178hJCufOhjEm9LXCebKx78hJalUoyb4jJymSN3vosSJ5srPvyMmHPo+IiIiIiIg8vAMHD/H1dxPY9OcKMmbIwLHjJwgODgbA3d2dkUM+o1TJEpw6fYbnmjTn2/Hf884bnUPfv3TFSras/p2Tp89QqlI1NmzazJQJY0mVMiUVa9RhxpyfaNemFQDnzl/g0uUrnDy4m41bttLgxZaUKlGcfHnzhMm0fcdOOnR9m/mzf6RUyRJMmzmbxi3asO+vTRw7fiLSvP81dOTnDB39RaTXfuXU0UiP/Z+vry9b/9pOl47tQ1+z3N1KyFqLtZY9e/dT49mqD+xPRGIGzdwVERERiUfc3d3wDwxk/5GTBAYFkS1jWnJmTg9AiQK5KFMkHwkSuJMtY1pee6E2a7bvCfP+d19uTNIkiSiYKysFc2WlRrli5MicnmRJElO7fAl2HDgSpv0HnVvh6ZGQys8Uok6lZ5i3IvzdwN//vJz2L9SmdOG8uLu706ZBNTwTJmTzroP3zftf773ShNN/TIv08Shu3vYlaZJEYV5LmjgRN277uo77+oU5njRJIm7e9tO+uyIiIiIiIk+Bu7s7/v4B7N1/gMDAQLJny0qunDkAeKZEccqVKU2CBAnIni0rndq/Em6Gas933yZp0qQUKpCfwgULUKt6NXLmyE6yZEmpW6smf+/cFab9Jx/0xdPTk6qVKlK/Ti3m/Dw/XKbxkybTqX07ypYuhbu7O+3atMLTw4ONW7beN+9/9X7vXa6cOhrpIyq6vPMeRYsUok7N6gDUeLYqq9euZ9WatQQEBDB4xGgCAgK4fft2lPoTkZhBxV0RERGReCRXlgwM696eQeNnkaP2q7TrN5KzF68AcOj4GZp2G0jOOu3J8GwbPvrmRy7/eyPM+9OmTB76Z29PjzDPvbw8ueXrF/o8uU8SEnt7hT7Pmj4NZy9dDZfp5NmLfPnjAjJVaxv6OHX+EmcvXblv3qchSSJvbtzyDfPajVu++CTydh339gpz/MYtX5Ik8goz01dERERERESejNy5cjJq6EA+GTSM9Dnz0eqVDpw5exaAg4cO83zTVmTMVYDkGbPR/+PPuHw57HgyXdo0oX/29vIi7b3Pvb24efNW6PMUyZOTOHHi0OfZsmQJPde9jp88xagvvyFl5hyhj5Onz3Dm7Ln75o1uvfoPYM++/cyaPDF0jJo/X14mjfuat9/rTabcBbl0+TIF8+cjU6aMTySDiDwZKu6KiIiIxDPN61Zh+YRB7F0wDmMMH3w5FYB3h4wjb7ZM7Jj3NWdX/chHXdvAY8xA/ffGzTDF3pPnLpIhdfh9bTOlS0XP9k3DzLK9uHYmzetUvm/e/xo+aS7pqrSO9PEoCuTMwu7Dx8LMxN19+BgFcmYJPb7r4LHQY7sO3T0mIiIiIiIiT17r5k1Zvfw3ju75G2MMfT78GIA3uvUgf948HPh7M/+eOc7AAe8/1ipLV//9l1u37hZ7T5w6RcYMGcK1y5IpE/16dgszy/bmhVO0avbiffP+1+Dho0iaPmukj/v5aOAQlixfwZJf5pI0adIwx5o2bsjOzeu4eOIwH/Xrw7ETJyldssTDfhwi4iAVd0VERETikYPHTrNqyy78AwLx8kyIt6cHbm6uO3hv3vbFJ3EikiTy4sCxU0z4aeljn2/guJkEBAaybvtelqzdxgs1K4Rr82rjWkz8aSlbdh/EWsstXz+WrN3KjVu+9837Xz1fbcr51dMjfUQmODgYP/8AgoJDCLEWP/8AAoOCAKj8TCHc3dz4ZuYi/AMCGTv7NwCqli4CQKvnnuXL6Qs4c+EyZy9eYcy0BbRpUP1xPzYRERERERGJggMHD7Hyz9X4+/vj5eWFt5cXbsZV9rhx8yZJk/qQJEkS9h84yNgJ3z/2+T4aOJSAgADWrNvAoiXLaNq4Ybg2HV55iXETf2DTlq2uMe6tWyxasowbN27cN+9/9e3ZnevnTkT6iMyQEaOZMecnlv06j1SpUoY7vm373wQHB3Px4iVef7sbz9evS/58eR/9QxGRpy6B0wFERERE5OkJCAxkwFdTOXDsFAkTJKBs0Xx82a8LAAPfacdbg8by+dRfKJovB01qVWT11l0P6DFy6VIlJ3nSJOSu14FEXp580fd18mXPHK5dyYK5+ap/F94bNp5/Tp7Fy9OD8sULULFEofvmjS4zfvuTzp98Ffo8daWWtHmuGuM+eguPhAmZOaIPb3z2DQO+nka+7JmYOaIPHgkTAvBak9ocO32esq26AdCuUU1ea1I7WvOJiIiIiIhIxPwDAug34BP2HThIwoQJKV+mDOO+HAXAsM8+ofPb3Rj++ZeUKFqE5i++wB9/rnnkc6VPl5YUKZKROU8hEiXy5pvPR0RYFC1VsgTjvvyct3v05tA/R/D28qZi+bJUqVj+vnmjS/+PP8PDw4O8xUqHvtb3vXfp27M7AN169WPH7t0kTJiQpo0bMXLwp9F6fhF58szjLEMgIiIiEpMZY+zNLfOcjhEvrd62mw4ffs7BRROcjiIxTJLSTbDWalNiEREREYlXjDE2+MZlp2PII1q1Zi0vd+jMiQO7nY4isYy7TyqNgSXaaVlmEREREREREREREREREZFYQMVdEREREREREREREREREZFYQMsyi4iISJylZZlFYh4tyywiIiIi8ZGWZRaJn7QsszwJmrkrIiIiIiIiIiIiIiIiIhILqLgrIiIiIo9t9bbd5H2ug9MxRERERERERB5o1Zq1ZM1X2OkYIiKPRMVdEREREYlzDh0/Q4v3BpOt1itkqfEyjd76hIPHTkfavt/nP1CsyRukr9qaEk3fYvqiP0KPXfr3OjVf60vWmi+TqVpbqrfvw4Yd+57GZYiIiIiIiEg88fpb3ShQogwJkqbmh2nT79u2Z78PyVe8NMkyZKVgybJMmT4z9NiadRtImj5rmIe7Typ+mr8gtM2Ro8d4vmkrkmXIStpseej9/kdP6rJE5AlQcVdERERE4pxrN29Rv0ppts/9kiNLv+eZgrlp0WNIpO0TeXsxe1Rfzvwxje8+eoteI79n4479ACTx9uKbD97k2LIfOLVyKt1efoHm3QcTFBT8tC5HRERERERE4rhiRQrx1ejhlCxe9IFtEydOxPxZP3L19DEmjfuabr37sX7jZgAqVyzP9XMnQh8L5kwnSZLE1K1ZA4CAgADqNHqR6lUrc+bwPk4c2EWbls2e6LWJSPRScVdEREREABg1eR5teg8L81rPERPpMWICAFMX/E7JZm+RvmprCjfqwsR5SyPtK0npJvxz8mzo89c/+pKPv7175/HiNVsp37o7maq1pUb7vuw+dCxar6VUoTy0a1STlMl8SJggAW+2fp5Dx09z+d8bEbZ///WW5MueGTc3N0oXzkuF4gXYvOsAAF6eHuTNngk3Nzestbi7uXH1+k2uXI+4LxEREREREXnyho36gmZtXwnz2ru9+vJOzz4ATJr6I4WeKUeyDFnJXaQk477/IdK+3H1ScfifI6HPX339DT74ZGDo84WLl1KyQlVSZs5BpRp12bl7T7ReC0DXTh2o8WxVvDy9Htj2o/59yJ8vL25ubpQtXYpK5cuzcfOWCNtO+XEmLzZqSOLEiQH4YdoMMqZPT7e3upI4cWK8vLwoWrhQtF6LiDxZCZwOICIiIiIxQ9PalRg8fjY3bvnik9ib4OBg5q1Yx4zhvQFIkzIZc0f3J0emdKz9ay9N3vmUZwrmpnj+XA91nh0HjtDl06+YM6ofJQvkYubi1TR/bzDb536Fp0fCcO3LturGqXMXI+yrWZ3KfN7n9Qeec932vaRLlZxUyX0e2NbXz59tew/TsWndcDkOHjtNYFAQrzSqSdqUyR/Yl4iIiIiIiDwZLZo24ZMhw7lx4wY+Pj4EBwczZ958fpo+GYC0adKwYM4McubIzup163muSQtKlyxByeLFHuo823fspEPXt5k/+0dKlSzBtJmzadyiDfv+2oSnp2e49sXLVebEqVMR9tWq2Yt8PXrEw1/sffj6+rL1r+106dg+3LFbt27x0/wFzJ9992brTVu2ki1bFuo3ac7WbdspXLAAX4wYQpFCBaM1l4g8OSruioiIiAgAWTOkpXj+nPy6aiOtn6vGn1t3kcjLkzJF8gFQt1Kp0LaVnylEjXLFWbd930MXd7//eTntX6hN6cJ5AWjToBojJv3E5l0HqfxM+LuFN80Y/RhXBafPX6L7sPEM7vZqlNq/M2QcRfJkp2b5EuFy+PkHsGDVJgIDgx4rk4iIiIiIiDyebFmzULJYUX7+dREvt27Jyj9XkyiRN+XKlAbgubq1Q9tWrVSRWtWfZe36jQ9d3B0/aTKd2rejbGnXmLhdm1YMGTGajVu2UrVSxXDt/9645jGu6uF1eec9ihYpRJ2a1cMdm7dgIalTpQqT89SZM6xavZZfZv1IjWerMOabcbzQsi17t23Ew8PjaUYXkUekZZlFREREJFSzOpWZs3QtALOXrKFZncqhx5at+4tqr/YmS42XyVStLUvX/cXlf68/9DlOnr3Ilz8uIFO1tqGPU+cvcfbSlWi7jv+7ePUaDd/6hI5N69L8nmuJTP8vJrP3nxNMGdwDY0y4416eHjSvU5mRk+ex6+DRaM8rIiIiIiIiUdeq+YvMnDsPgBmzf6JVsxdDjy1etoIK1WqTOmsuUmbOweJlK7h0+fJDn+P4yVOM+vIbUmbOEfo4efoMZ86ei7breFS9+g9gz779zJo8McIx7NTpM3mpVYswx7y9vKhUvhz1atfEw8OD9955k8tXrrDvwMGnGV1EHoNm7oqIiIhIqBdqVqDfF5M5ff4Sv67axO/fDwHAPyCQNr2H8d3Hb9OgahkSJkhAyx5DsJH0k8jLE18//9Dn5y9fJWO6VABkSpeKnu2b0qt90yhlKtX8HU5Gsixzi3pVGNO3c4THrl6/SaM3P+G5yqWjdK7Pxs1k2fq/WDLuM5ImSXTftkFBwRw9fZ4ieXM8+AJERERERETkiWjauBE9+n3IqdOn+WXhItatWAKAv78/zdq+wg/ffUOj5+qRMGFCXmjZFmsjHsUmSpSI276+oc/PXbhA5kwZAciSKRP9enajX8/3opSpSOkKHD8Z8bLMbVo049svRj7MJUbqo4FDWLJ8BX8s/pWkSZOGO37y1GlWrVnHt1+MCvN60cKFWL9xU7RkEBFnqLgrIiIiIqHSpEhG5ZKF6PzJV2TLmI78OTIDEBAYhH9gEKmTJyOBuzvL1v3F7xv/pkCurBH2UzRvdmYvWUOBnFlYuWkHa7fvpUTB3AC82rgWrXoOpVqZopQqlIfbfv6s2babiiUK4ZPYO1xfW2d/8dDXcf3mbRq/9QnliuXnk7deemD7EZN+Ys7SNSz77rNw+/Ju3nWAoOAQShXKTXBwCN/OWsSFK/+GListIiIiIiIizkiTJjVVK1ekfZe3yJEtGwXyu7YVCggIwN/fnzSpU5EgQQIWL1vB8pWrKFywQIT9FC9SmBmz51KoQH6Wr1zF6rXrKVWiOAAdXnmJF1u/TI1nq1Km1DPcvn2bVWvWUaVieXx8fML1tWvL+ke6loCAAEJCQrDWEhgYhJ+fHx4eHri5hV+AdciI0cyY8xN/Ll1IqlQpI+xv2oxZVChbhlw5w96U3KZFM0Z9+Q0r/lhFtSqV+fLb70idKhUF8mmMKxJbaFlmEREREQmjed3K/LF5J83r3l3G2CexN8Pfe42X+40gc/WXmL10DfWrlI60j2HvvcZva7aSqfpLzFqyhgZVy4QeK1kwN1/178J7w8aTufpLFH2hK9MW/hGt1/Drqk1s23uYab+uJF2V1qGP/88AnrX4T0o1fye0/Uff/MjJcxcp2uSN0LbDJ80FwD8giO7DviNrzXbkfa4jS9f9xdzR/cmQJuIBtIiIiIiIiDw9rZq9yO9//BlmSWYfHx++GD6Yli+/RqosOZkxZy7P168baR+jhw1i4eKlpMycg+mz59CoQf3QY6VKlmDcl5/zdo/epMqSk7zFSjP5xxnRfh11GzUlcZpMrN+0mc5vdyNxmkysXucqFP84aw5FSlcIbdv/4884cfIUeYuVJmn6rCRNn5XBw8PO0J06YxYvtW4Z7jz58uZhyvhv6fpuD1JlycmCRYv5ZdaP2m9XJBYxkS1DICIiIhLbGWPszS3znI4hIvdIUroJ1trwm0GJiIiIiMRhxhgbfOPh93sVkdjN3SeVxsAS7TRzV0REREREREREREREREQkFlBxV0REREREREREREREREQkFlBxV0REREREREREREREREQkFlBxV0REREREREREREREREQkFlBxV0REREREREREREREREQkFjDWWqcziIiIiDwR3l6e5/z8A9I5nUNE7vLy9Djv6+ef3ukcIiIiIiJPk7e39zk/Pz+NT0XiGS8vr/O+vr4aA0u0UnFXRERERB6ZMcYD2Ah8a60d73Seh2WM8QK2AMOstVOdziMiIiIiIiJPjzGmMjAbKGatveB0nodljKkBTAaKWmuvOJ1HRJ4OFXdFRERE5JEZYz4DigENbSz9xdIYUxxYDjxjrT3hcBwRERERERF5CowxPsAO4F1r7QKn8zwqY8wXQHqgZWwdl4vIw1FxV0REREQeiTGmPPAzUNxae87pPI/DGNMXqAXUtNaGOJ1HREREREREnixjzAQAa20Hp7M8DmOMN/AX8Km1drrTeUTkyXNzOoCIiIiIxD7GmCTAVKBLbC/s3jEM8ATecTqIiIiIiIiIPFnGmIZAdaCb01kel7XWF2gLfG6Myex0HhF58jRzV0REREQemjFmLOBlrX3F6SzRxRiTC9f+wc9aa/c4nUdERERERESinzEmLa7lmJtZa9c6nSe6GGM+AKoAdbQilUjcppm7IiIiIvJQjDH1gbrEsVmu1tp/gH7AVGOMh9N5REREREREJHoZYwzwHTA5LhV27xgM+ABvOB1ERJ4szdwVERERkSgzxqTGdYdza2vtn07niW53BvoLgJ3W2v5O5xEREREREZHoY4x5FXgXKGOt9Xc4TrQzxuQBNgCVrbX7nM4jIk+GirsiIiIiEiV3Cp9zgGPW2h5O53lSjDHpgb+BJtba9Q7HERERERERkWhgjMkBbAaqW2t3OZ3nSTHGdAFeA8pbawOdziMi0U/LMouIiIhIVLUF8gHvOx3kSbLWngO6AFOMMUmcziMiIiIiIiKPxxjjDkwGhsblwu4dY4GLxPGxu0h8ppm7IiIiIvJAxpiswDaglrX2b4fjPBXGmB8Af2vt605nERERERERkUdnjOkJNMA1azfY6TxPmjEmI7AdaGit3eR0HhGJXiruioiIiMh9GWPcgBXAMmvtEKfzPC3GmGS49hd+w1q7yOk8IiIiIiIi8vCMMUWB34HS1tpjDsd5aowxzYCBQAlr7S2n84hI9NGyzCIiIiLyIO8AHsBwp4M8Tdbaa0A74DtjTGqn84iIiIiIiMjDMcZ4AlOBXvGpsAtgrZ2Da4/hYU5nEZHopZm7IiIiIhIpY0whYBVQzlr7j8NxHGGMGQHkAJpa/fIsIiIiIiISaxhjhgJ5gSbxcTxnjEkO7AQ6WWuXOBxHRKKJirsiIiIiEiFjjAewEfjWWjve6TxOMcZ4AVuA4dbaKU7nERERERERkQczxlQGZgHFrLUXnc7jFGNMDWAyrs/hstN5ROTxqbgrIiIiIhEyxgwEigIN4+MdzvcyxhQHlgPPWGtPOBxHRERERERE7sMY4wPsAN6x1v7qdB6nGWM+BzIALeP7+F4kLlBxV0RERETCMcZUAObhurP3vNN5YgJjTB+gNlDTWhvidB4RERERERGJmDFmAmCttR2dzhITGGO8gW3AZ9ba6U7nEZHH4+Z0ABERERGJWYwxSYApQBcVdsMYDngA7zgdRERERERERCJmjGkEVAO6O50lprDW+gIvAZ8bY7I4nUdEHo9m7oqIiIhIGMaYcYCHtfZVp7PENMaYXMAmoKq1do/TeUREREREROQuY0xaXMsxN7PWrnU6T0xjjHkfeBaorRWpRGIvzdwVERERkVDGmOdwLT2s2akRsNb+A/QBphljPJzOIyIiIiIiIi7GGAN8B0xWYTdSQ4DEwJtOBxGRR6eZuyIiIiICgDEmNa47nFtba/90Ok9MdecLg/nALmttf6fziIiIiIiICBhjXsV1o3JZa62/03liKmNMHmADUNlau8/pPCLy8FTcFREREZH/FyznAkettT2czhPTGWPS4SqEN7HWrnc6j4iIiIiISHxmjMkBbAaqWWt3O50npjPGdAY6AOWttYFO5xGRh6NlmUVEREQE4CUgL/C+00FiA2vteaALMMUYk8TpPCIiIiIiIvGVMcYdmAwMVWE3ysYBF4APnA4iIg9PM3dFRERE4jljTFZgK1DLWrvD6TyxiTFmEhBgrX3d6SwiIiIiIiLxkTGmJ/AcUMNaG+x0ntjCGJMB+BtoaK3d5HAcEXkIKu6KiIiIxGPGGDdgBbDMWjvE6TyxjTEmKa7lmd+01i5yOo+IiIiIiEh8YowpimtMW9pae9zpPLGNMaYpMAgoYa295XQeEYkaLcssIiIiEr+9A3gAw50OEhtZa68DrwDjjTFpHI4jIiIiIiISbxhjPIFpQC8Vdh+NtXYusAl9JyASq2jmroiIiEg8ZYwpBKwCylprjzgcJ1YzxowAcgBNrX7BFhEREREReeKMMUOBvEATjcMenTEmObAT6GStXeJwHBGJAhV3RUREROIhY4wHrrtzv7bWTnA6T2xnjPECtgDDrbVTnM4jIiIiIiISlxljKgOzgGLW2otO54ntjDE1gMm4Ps/LTucRkftTcVdEREQkHjLGDASKAI10h3P0MMYUw7XXUyktCSYiIiIiIvJkGGOSAjuAt6y1C53OE1cYY0YDmYAW+p5AJGZTcVdEREQknjHGVADm4boj97zTeeISY0wfoA5Qw1ob4nQeERERERGRuMYYMxEIsdZ2dDpLXGKM8Qa2AQOttT86nUdEIufmdAAREREReXqMMUmAKUAXFXafiOFAQuBdh3OIiIiIiIjEOcaYRsCzQHeHo8Q51lpfoC0w2hiTxek8IhI5zdwVERERiUeMMeMAD2vtq05niauMMTlx7WdczVq72+k8IiIiIiIicYExJi2u5ZibWmvXOZ0nrjLGvI+rgF5bK1KJxEyauSsiIiISTxhjngNqA+84nSUus9YeAfoC04wxHk7nERERERERie2MMQYYD/ygwu4TNwRIDLzldBARiZhm7oqIiIjEA8aYNLjucG5lrf3T6Txx3Z0vHuYDu621/ZzOIyIiIiIiEpsZY9oDbwNlrLUBTueJ64wxuYGNQGVr7T6n84hIWCruioiIiMRxdwqNc4Ej1tqeTueJL4wx6XAV1JtYa9c7nUdERERERCQ2MsbkADajrW+eKmNMZ6ADUN5aG+h0HhG5S8syi4iIiMR9LwF5gQ+cDhKfWGvPA12AqcaYJE7nERERERERiW2MMe7AZGCICrtP3TjgAvouQSTG0cxdERERkTjMGJMN2ArUtNbucDpPfGSMmQQEWms7OZ1FREREREQkNjHG9ALqA9WttSFO54lvjDEZgL+BRtbajQ7HEZE7VNwVERERiaOMMW7A78ASa+1Qp/PEV8aYpMBO4E1r7UKn84iIiIiIiMQGxpiiuMa0pay1x53OE18ZY5oCg4Hi1tpbTucRES3LLCIiIhKXvQskAEY4nCNes9ZeB9oB3xlj0jidR0REREREJKYzxngC04AeKuw6y1o7F9gIDHc6i4i4aOauiIiISBxkjCkM/AGUtdYecTqPgDFmOJALeNHql3AREREREZFIGWOGAnnQ+ClGMMYkB3YAna21ix2OIxLvqbgrIiIiEscYYzyAzcBX1toJTucRF2OMF7AFGGGtnex0HhERERERkZjIGFMFmAkUs9ZedDqPuBhjqgNTgaLW2stO5xGJz1TcFREREYljjDGDgMJAI93hHLMYY4oBK9CeUSIiIiIiIuEYY5LimiH6lrV2odN5JCxjzGggE9BC3zeIOEfFXREREZE4xBhTAfgJKG6tPe90HgnPGNMbqAdUt9aGOJ1HREREREQkpjDGTASCrbWdnM4i4RljvIFtwEBr7Y9O5xGJr9ycDiAiIiIi0cMYkwSYAnRRYTdGGwG4A92cDiIiIiIiIhJTGGMaAc8C3R2OIpGw1voCbYHPjTFZnM4jEl9p5q6IiIhIHGGM+Q5IaK191ekscn/GmJzAJqCatXa303lEREREREScZIxJi2s55qbW2nVO55H7M8b0B6oDtbQilcjTp5m7IiIiInGAMaYBUAt4x+ks8mDW2iNAX2CaMcbD6TwiIiIiIiJOMcYYYDwwSYXdWGMokAh4y+kgIvGRZu6KiIiIxHLGmDS47nBuaa1d7XQeiZo7X2DMB3Zba/s5nUdERERERMQJxpj2uIqEZa21AU7nkagxxuQGNgJVrLV7nc4jEp+ouCsiIiISi90pEM4FjlhrezqdRx6OMSYd8DdaekxEREREROIhY0wOYDPasiZWMsa8DnQCyqswL/L0aFlmERERkdjtZSAP8IHTQeThWWvPA12AKcYYH6fziIiIiIiIPC3GGHdgCjBEhd1Y6zvgHPpOQuSp0sxdERERkVjKGJMN2ArUtNbucDqPPDpjzCQg0FrbyeksIiIiIiIiT4MxphdQD6hhrQ1xOo88GmNMBlwrUjWy1m50OI5IvKDiroiIiEgsZIxxA1YCi621Q53OI4/HGJMU177Jb1lrFzqdR0RERERE5EkyxhQDlgOlrbXHnc4jj8cY8yIwBChurb3ldB6RuE7LMouIiIjETt0Ad2CE00Hk8VlrrwPtgO+MMWmcziMiIiIiIvKkGGM8galATxV24wZr7U/ABvQdhchToZm7IiIiIrGMMaYw8AdQ1lp7xOk8En2MMcOBXMCLVr+oi4iIiIhIHGSMGYZr3NNU4564wxiTDNgJdLbWLnY6j0hcpuKuiIiISCxijPEANgNfWmsnOp1HopcxxgvYAoyw1k52Oo+IiIiIiEh0MsZUAWYAxay1l5zOI9HLGFMd16zsotbay07nEYmrVNwVERERiUWMMYOAwkAj3eEcN93Ze2oFrr2njjkcR0REREREJFoYY5ICO4A3rbWLnM4jT4YxZhSQBWiu7y1EngwVd0VERERiCWNMRWAuUNxae97pPPLkGGN6A/WA6tbaEKfziIiIiIiIPC5jzPdAkLW2k9NZ5Mm5syLVNmCwtXaa03lE4iI3pwOIiIiIyIMZY3yAKbj2rlFhN+4bAbgD3ZwOIiIiIiIi8riMMY2AKkB3p7PIk2Wt9QPaAqONMVmcziMSF2nmroiIiEgsYIz5DkhgrW3vdBZ5OowxOYFNQDVr7W6n84iIiIiIiDwKY0w64G/gRWvteofjyFNijOkH1ABqaUUqkeilmbsiIiIiMZwxpgFQC3jX4SjyFFlrjwB9gGnGGE+n84iIiIiIiDwsY4wBxgOTVNiNd4YB3sDbTgcRiWs0c1dEREQkBjPGpAF2AC2ttaudziNP150vQuYDe6y1fZ3OIyIiIiIi8jCMMa8BbwJlrbUBTueRp8sYkxvYCFSx1u51Oo9IXKHiroiIiEgMdaew9xNw2Frby+k84ox7ljBraq1d53AcERERERGRKNFWMwJgjHkd6ASUV4FfJHpoWWYRERGRmOtlIDfwgdNBxDnW2vNAF2CKMcbH6TwiIiIiIiIPYoxxByYDg1XYjfe+A86h7zZEoo1m7oqIiIjEQMaY7MAWoKa1dofDcSQGMMZ8DwRbazs6nUVEREREROR+jDG9gbpADWttiNN5xFnGmPS4VqR6wVq7weE4IrGeirsiIiIiMYwxxg1YCfxmrR3mdB6JGYwxSXHtv/y2tfZXp/OIiIiIiIhExBhTDFgOlLbWHnc6j8QMxpgXgSFAcWvtLafziMRmWpZZREREJObphuv3tJFOB5GYw1p7HWgHjDPGpHE6j4iIiIiIyH8ZY7yAqUAPFXblXtban4ANwAins4jEdpq5KyIiIhKDGGMKA38AZay1R53OIzGPMWYYkAdoYvXLvIiIiIiIxCDGmOFATqCpxivyX8aYZMBOoIu19jen84jEViruioiIiMQQxhhPYBMwxlr7vdN5JGa683OyBRhlrf3B4TgiIiIiIiIAGGOqAjOAotbaS07nkZjJGFMNmAYU08+JyKNRcVdEREQkhjDGDAYKAo11h7Pcz509rFbg2sPqmMNxREREREQknjPGJAV2AG9aaxc5nUdiNmPMKCAL0Fzff4g8PBV3RURERGIAY0xFYC6uO1cvOJ1HYj5jTC/gOaC6tTbY6TwiIiIiIhJ/GWO+BwKtta87nUVivjt7M28DBltrpzmdRyS2cXM6gIiIiEh8Z4zxAaYAnVXYlYcwEjBAN6eDiIiIiIhI/GWMaQxUAd5zOIrEEtZaP6AtMNoYk9XpPCKxjWbuioiIiDjMGDMecLPWvuZ0FoldjDE5gM24Zu/ucjqPiIiIiIjEL8aYdMDfwIvW2vUOx5FYxhjTD6gJ1LTWhjidRyS20MxdEREREQcZY54HaqDZl/IIrLVHgd7AVGOMp9N5REREREQk/jDGGGA88L0Ku/KIhgFewNtOBxGJTTRzV0RERMQhxpg0wA6ghbV2jdN5JHa684XKL8Bea21fh+OIiIiIiEg8YYzpAHQFyllrA5zOI7GTMSY3sBGoYq3d63QekdhAxV0RERERB9wpyM0DDlprezudR2I3Y0xaXDcKNLPWrnU6j4iIiIiIxG3GmJzAJuBZa+0ep/NI7GaM6QR0RjcKiESJlmUWERERcUY7ICfwodNBJPaz1l7ANRCeYozxcTqPiIiIiIjEXcYYd2AKMFiFXYkm44Ez6DsSkSjRzF0RERGRp8wYkx3YAtSw1u50OI7EIcaYiUCItbaj01lERERERCRuMsb0BuoANa21IU7nkbjBGJMe+Bt4wVq7weE4IjGairsiIiIiT9GdO5xXAoustcOcziNxizEmKa7B8DvW2l8djiMiIiIiInGMMaY4sAwoZa094XAciWOMMU2AoUAJa+1Np/OIxFRalllERETk6eoGGGCk00Ek7rHWXse15Pd3xpg0TucREREREZG4wxjjBUwFeqiwK0+CtXYesB4Y4XQWkZhMM3dFREREnhJjTBFcs3bLWGuPOp1H4i5jzFAgL9DE6hd+ERERERGJBsaY4UAOoJnGGfKkGGOSATuBLtba35zOIxITqbgrIiIi8hQYYzyBTcAYa+33TueRuO3Oz9tmYLS19geH44iIiIiISCxnjKkKTAeKWWsvOZ1H4jZjTDVgGvp5E4mQirsiIiIiT4ExZjBQEGisO5zlaTDGFAV+B0pba485HEdERERERGIpY0xSXDMp37DWLnI6j8QPxpiRQDY0U1wkHBV3RURERJ4wY0wlYA6uO04vOJ1H4g9jTC/gOaC6tTbY6TwiIiIiIhL7GGMmAQHW2tedziLxx509nrcCQ621U53OIxKTuDkdQERERCQuM8b4AJOB11XYFQeMBAzQzekgIiIiIiIS+xhjXgAqA+85nUXiF2utH/ASMMoYk9XpPCIxiWbuioiIiDxBxpjxgJu19jWns0j8ZIzJgWv/3erW2l1O5xERERERkdjBGJMe+Bt4wVq7weE4Ek8ZY/oCtYCa1toQp/OIxASauSsiIiLyhBhjGgI1gHcdjiLxmLX2KNAbmGaM8XQ6j4iIiIiIxHzGGAOMByaqsCsOGwZ4Au84HUQkptDMXREREZEnwBiTBtgBtLDWrnE6j8Rvd76Y+QXYZ63t43AcERERERGJ4YwxHYCuQDlrbYDTeSR+M8bkAjYBVa21e5zOI+I0FXdFREREotmdQto84KC1trfTeUQAjDFpcd1w0Mxau9bpPCIiIiIiEjPdKaRtBJ5VIU1iCmNMJ6AzuuFARMsyi4iIiDwB7YCcwIdOBxH5P2vtBeB1YIoxxsfpPCIiIiIiEvMYY9yBycAgFXYlhhkPnEHftYho5q6IiIhIdDLGZAe2ADWstTsdjiMSjjFmImCttR2cziIiIiIiIjGLMaYPUBuoaa0NcTqPyL2MMemBv4Em1tr1DscRcYyKuyIiIiLR5M4dziuBhdba4U7nEYnInVm7O4B3rbULnM4jIiIiIiIxgzGmOLAceMZae8LhOCIRMsY0AYYBxa21N53OI+IELcssIiIiEn26AQYY5XQQkchYa2/gWjp83J19eEVEREREJJ4zxngB04DuKuxKTGatnQesA0Y4nUXEKZq5KyIiIhINjDFFgd+B0tbaYw7HEXkgY8xQIB/wgtWgQEREREQkXjPGjACyA800PpCYzhiTDNeKVG9Yaxc5nUfkaVNxV0REROQxGWM8gc3A59baSU7nEYkK/dyKiIiIiAiAMeZZ4EegmLX2krNpRKLmzs/tdKCofm4lvlFxV0REROQxGWOGAPnRDEiJZTTjXEREREQkfrtnBmRXa+1vTucReRjGmJFANjTjXOIZFXdFREREHoMxphIwB9cdzhecziPysIwxPYHngWrW2mCn84iIiIiIyNNjjPkB8LPWdnY6i8jDurNX9FZgqLV2qtN5RJ4WN6cDiIiIiMRWxhgfYArwugq7EouNuvPf7o6mEBERERGRp8oY0wSoBPRwOovIo7DW+gEvAaOMMVmdziPytGjmroiIiMgjMsZMALDWdnA6i8jjMMZkB7YANay1Ox2OIyIiIiIiT5gxJj3wN67thTY4HEfksRhj+gK1gJrW2hCn84g8aZq5KyIiIvIIjDENgepAN6eziDyuO/vt9gKmGmM8HY4jIiIiIiJPkDHGABOACSrsShwxDPAE3nE6iMjToJm7IiIiIg/JGJMW1x3Oza21ax2OIxIt7nzB8zOw31rbx+k8IiIiIiLyZBhjOgJdgHLW2gCn84hEB2NMLmAj8Ky1do/TeUSeJBV3RURERB6CCmASl925cWEHrhsX1jidR0REREREotc9BbCq1tq9TucRiU53blzoCpTVjQsSl2lZZhEREZGH8wqQAxjgcA6RaGetvQC8Dkw2xvg4nUdERERERKKPMcYdmAIMUmFX4qgJwCn0nY3EcZq5KyIiIhJFxpgcwGagurV2l9N5RJ4UY8wEAGttB6eziIiIiIhI9DDG9AVqATWttSFO5xF5Eowx6XFtpdXEWrve4TgiT4SKuyIiIiJRcOcO5z+ABdbaEU7nEXmS7sza3QG8a61d4HQeERERERF5PMaYEsBSoJS19oTTeUSeJGNME2AYUNxae9PpPCLRTcsyi4iIiERNd8ACo50OIvKkWWtvAC8D4+7swysiIiIiIrGUMcYLmAa8p8KuxAfW2nnAWmCk01lEngTN3BURERF5AGNMUeB3oLS19pjDcUSeGmPMECA/8ILVwEFEREREJFYyxowEsgHN9Hu9xBfGmGS4VqR6w1q7yOk8ItFJxV0RERGR+zDGeOLaZ/dza+0kp/OIPE36+RcRERERid2MMc8CPwLFrLWXnE0j8nTd+fmfDhTVz7/EJSruioiIiNyHMWYokBdoojucJT4yxhQBVgJlrLVHnc4jIiIiIiJRc8/MxS7W2sVO5xFxgjFmBJADaKrvdSSuUHFXREREJBLGmMrALFx3OF90Oo+IU4wxPYCGQDVrbbDTeURERERE5MGMMZMBX2ttZ6eziDjlzp7TW4Dh1topTucRiQ5uTgcQERERiYmMMT7AZOB1FXZFGA1YoLvTQURERERE5MGMMU2ACkAPp7OIOMla6we8BIw0xmR1Oo9IdNDMXREREZEIGGMmANZa29HpLCIxgTEmO667nWtYa3c6HEdERERERCJhjEkP/A00ttZudDiOSIxgjOkD1ME1pg1xOo/I49DMXREREZH/MMY0AqqhWYoioay1x4CewDRjjKfDcUREREREJALGGANMBCaosCsSxnAgIfCuwzlEHptm7oqIiIjcwxiTFtgBNLPWrnU6j0hMcueLonnAQWttb6fziIiIiIhIWMaYTkBnoJy1NsDpPCIxiTEmF7AJqGqt3eN0HpFHpeKuiIiIyB13Clc/A/uttX2cziMSExlj0uC6AaKFtXaN03lERERERMTlTuFqI67C1V6n84jERMaYjkBXoKxugJDYSssyi4iIiNz1KpAdGOBwDpEYy1p7EXgdmGyMSep0HhERERERAWNMAmAqMFCFXZH7mgCcQt/9SCymmbsiIiIigDEmB7AZqGat3e10HpGYzhgzHnCz1r7mdBYRERERkfjOGNMPqAHUstaGOJ1HJCYzxqTDtSJVE2vteqfziDwsFXdFREQk3jPGuAN/AAustSOcziMSGxhjfIC/ge7W2vkOxxERERERibeMMSWAZcAz1toTTucRiQ2MMS8Aw4Hi1tqbTucReRhalllEREQEugMhwGing4jEFtbaG0A7YKwxJq3TeURERERE4iNjjBcwDeimwq5I1FlrfwbWAiOdziLysDRzV0REROI1Y0xR4HeglLX2uNN5RGIbY8xgoCDQ2GpwISIiIiLyVBljRgFZgOb6fVzk4RhjkuFanvlNa+1Cp/OIRJWKuyIiIhJvGWM8gS3AKGvtDw7HEYmVjDEeuParHmOt/d7pPCIiIiIi8YUxphquWbtFrbWXnc4jEhsZY6oCM4Bi1tqLTucRiQoVd0VERCTeMsYMBfICTXSHs8ijM8YUxrVvdRlr7VGn84iIiIiIxHV3ZhzuBDpbaxc7nUckNjPGjAByAE31/ZDEBiruioiISLxhjEkFBFlrrxljqgAz0Z2ZItHCGNMDaAhUs9YGO51HRERERCSuMcbktNYeufPnycBta20Xh2OJxHp39q7eAgy31k5xOo/Ig6i4KyIiIvGGMeYrYDcwHdeeKm9pTxWR6GGMcce1f/Vv1tphTucREREREYlL7vy+fR1IjuumyiFAcWvtLSdzicQVxphiwAqglLX2uNN5RO7HzekAIiIiIk9RXuA4MBpYocKuSPS5M1u3HdDTGFPU6TwiIiIiInFMVuAKkBr4BnhJhV2R6GOt3QGMBH4wxqh2JjGafkBFREQkPsmDa0D8LK4C1EvGmDzORhKJO+7c3dwTmGaM8XQ6j4iIiIhIHJIbOARMAL4DThpjuhpjjLOxROKU4UBC4F2Hc4jcl4q7IiIiEi/cKTRlBD4CxgLrgNcAPwdjicRFk4F/gE+cDiIiIiIiEofkwVV0ygi4AzuBNFb7LopEmzsrUr0M9DXGFHY6j0hkEjgdQEREROQpyYHrxrYA4FWgF7BIA2GR6GWttcaYTsAOY8wia+1qpzOJiIiIiMQBpYBywL+4CrwlrLUnHE0kEgdZa48YY/riWpGqjLU2wOlMIv+lmbsiIiISXxQHQoDBQFFr7UIVdkWeDGvtRaATMNkYk9TpPCIiIiIicUApXMsy17TWvqLCrsgTNRE4gWv1N5EYx+g7TREREYkvjDFGBV2Rp8cYMx5ws9a+5nQWEREREZHYTONZkafLGJMO2AG8aK1d53QekXtp5q6IiIjEGxoIizx13YFnjTGNAIwxPY0xeR3OJCIiIiIS62g8K/J0WWvPA12AKcYYH2NMYmPMF07nEgEVd0VERERE5Amx1t4AXgbGGmPSAgWBKs6mEhEREREREXkwa+3PwGpgJBAMvG6MSeBsKhHQD6GIiDx13l6e5/z8A9I5nUNEYgcvT4/zvn7+6Z3OIY/GWrvOGPMDMB7YBORxNpGIiIhI3OTt7X3Oz89PY22Jl7y8vM77+vpq3ChPwjvATqAmcB7IChxxNJHEeyruiojIU+fnH5Du1l/znY4hIrFE4pKN9AVVLGWM+RSoBPQF6gFngLSOhhIRERGJo/z8/NKF+N9yOoaII9w8E2vcKNHKGOMOHARmA12BCcAhXDcsq7grjtKyzCIiIiIi8qR8DMwA5uEq7LYGCjmaSEREREREROQBrLXBQFUgHTAJ2AdkA3I7mUsEVNwVEREREZEnxFobZK39DsgLbAQ8gDzGGI1DREREREREJEaz1p6y1rYHagGBuIq7DZxNJaLiroiIxBGJSzbinxNn79vm5NmLpK3YguDg4KeUKuoav/kx035d6ci5CzzXkZWb/n5gu7od+7N6664nkmHqgt+p2b7PE+n7/46fOU/iko0ICop5f/8icZ219qa19hMgJ/AjYB2OJCIiIiJPWOHipVj15+ootf3o04F89OnAJ5zIGav+XE2WnHmcjiEij8Fau9NaWxd4GVjkdB4RFXdFRCTGmLX4Tyq16U7aii3IWfsVGr/5Meu37422/rNkSMOFdbNwd3ePtj6jyy9fDaDt89WdjvFQAgIDGTh2BkUbdSZNheYUeK4jnT8aw/Ez552OFm1mL1nNK/1GAvDmp19T/IUuJHmmMVMX/B6u7ZfT5pOjVjvSV25J54/G4B8QGHrs+Jnz1OvUn9QVmlGiSdcoFdOdsuPAESq27k7qCs2o2Lo7Ow5Evo3M2JmLqNSmOynKvkinAV+EO/7Hph2UaNKV1BWaUa9Tf06cuRB67MyFyzTvNpDMz7YhT932TJi7+Ilcj8Qs1tqz1tqXrbUq7oqIiIg8BTnyFiBRslT4pExL+izZebVDJ27evPlIfbl5Jubw4X+i3H7331t5tmqVRzoXwPSZsyhdvhI+KdOSMVtO6j/fmLXr1j9yf//3aodOvD/g48fu5/9y5C3Ait+f7M3a+QsX5+DBQ9Ge/VH9OGMmPinThj4SJ0+Nm2ditv21PcL2L73SnozZcpIsdXryFSrGhO9/CD127Nhx3DwTh+nv00FDQo+/2qETnkmShzkeE2/al/jBWjvVWvuV0zlEVNwVEZEYYcy0+fQaMZGe7ZtxdMVkDiyaQKdm9Vi4apPT0WK1JzlLtU3PoSxavZlJg97j7OoZbJz5OSUK5GLV5p1P7JxP25I1W6lT8RkAiuTNzug+nSmeP2e4dsvX/8XIH35i0dhP2bdoAsdOn+ezsdNDj7/SdyRF8+Xk5MppDHijLW17DuPi1WvRnvf85X8f6/0BgYG06DaIlvWrcnrVdNo8X40W3QYREBgYYfsMaVLSu0NzXm5UM9yxS1ev07rnED7o0oZTf/xIiQK5ebnP8NDjr70/imwZ03F0+WR+GvMBH301jT+3xJ2fHRERERGRmGLBvDncuHKBbRvXs3XbX3w2eGi4NkFBQQ4ki9yoz8fQrUcv+vbuybmTRzl++ABdXu/E/F8XOh3tqfvnnyMEBweTN2/0zP611nLx4sXH6qNNq5bcuHIh9PH1mNHkzJGDkiWKR9i+T68eHD24j2uXzjH/p9l88NHH4QrBVy+cCe3vg35hV/bq+V63MOeLiTfti4g8TSruioiI467duMVn305ndJ/XaVSjPIm9vUiYMAH1q5ZhULdXAdi6+yDV2vUiY5XW5Kz9Ct2HjIu04OTr50+fUd+Tv34HMlRpRc32ffD18w+3LO9/lyMeOHYG7fuPAu4u4Ttl/gry1mtPpqqtmTB3Mdv2HKJM87fJWKU13YeMi/SaBo6dQdteQ2nffxTpKrWgdPO3OXT8NMO/n0u2Gi+Tt157Vmy4O5Cp27E/P/y8DLi7RHHf0ZPIVLU1BRt0ZOm6bWE+ry4ff0nO2q+Qu86rfPz1tNC7Vqcu+J0ar/am14gJZKnWloHjZnDk5FnqdXqfLNXakrV6W17tP5J/b0R8p/bW3Qep1KY76Su3JHvNl+k9cmKE7VZu+puVm3Ywe1Q/nimUhwQJ3Enmk5jXWzxHu8a1AJgyfwUlm7xBukotKPR8JybOXRLp5/VfB46eokGXD8n8bBuKv9CFn5atBWDLrgPkqNUuzF26C1ZuoEzztwEICQlhxKS5FG74OlmqteWl3sO4cu1GhOc4dvo8tV/rS7pKLXiu8wd0Gzw29O///32t3PQ3tSqUBOD1Fs9RrWwxvDw9wvX148I/aNeoFgVzZSVF0iT07tA8dJntQ8dP8/f+f3i/cyu8vTxpXKMChXJnY/7vrjvOff386fjh52Sq2pqSTd5g1A/zyFO3fZQ/q3OXrjJ68jyeefENBo2bEeX3RWT11t0EBQfzZpuGeHokpGur57FYVm2OeDnuRjXK83y1cqRM5hPu2IKVGyiQMwtNalXEy9OD/p1bsevQMQ4cPcXN276s3rqbXh2akTBhAormzUHjGhWYMj/8jGh5MK+EbueMMVaP+PnwSuh2zumfQREREYkdMmXKSN06tdmzx7VClptnYr7+dhx5CxYlb8GiAIyfOIk8BYqQKn1mGjVpxpkzru2PqtaoDUDx0uXwSZmWWXPmArBw0WJKlC5HirQZqVi1Ojt33R073Duj9aNPB9Ki9Uu0a9+BpKnSUbh4KbZu+yvCnNeuXWPAJ5/x1RejadK4EYkTJyZhwoQ836A+w4cMAsDf35933+tJpuy5yJQ9F+++1xN/f3/g7jLII0d/QbrM2ciYLSeTJk8B4LsJ3/PjjFkMHzkan5RpafhCUwDOnDlL0xatSZspGznzFmTMV9+E5rlf9pdffY0TJ07SsEkzfFKmZdiIUTzImK++oVCxZzh16jQAw0aMImO2nGTKnosJ3/8Qbob0osVLqFe3zgP7fZAjR44y4JPPyJmvIN/f+Tyiy5Rp03mpbWuMMREeL1SwIJ6engAYYzDG8M+RyFeJkvjF2yOhxrTx+OHtkVBj2keQwOkAIiIim3YewC8ggIbVykXaxt3NjaHvvUbJgrk5feESL7z5Cd/NXsybbRqGa9tv9CT2HTnJyh+Gki5VcrbsPoib26Pdz7R190F2/jKWtX/toXm3gdSqUJKFYz8hKCiY8q268UKtilR+pnCE7/1t9RZmjerHdx+/Q+ePx9DojY94pXEtDi/5nmm/ruTtgd+wd+H4CN+7ZfdB2jSozomVU/l+3jK6fvwlh5dOwhjD6x99QZoUydk1fyy3fP1o+s5nZE6Xmtea1g19b9M6lTm6fDKBQUGcuXCFHu2bUqlkIa7fuk2bHkMYOHYmw3t2CHfensMn0LXV87RuUI2bt33Ze/hEhPn+2LSDUoXykDl9mkg/u7QpkzP3i/fJkTk9a//awwtvfUzJQnkoUSDXfT/zW75+PN/1Q97v3JpfvhzA7sPHadj1QwrmzkrpIvlI7O3Fqi27qFGuOOBaOrl5PddSX9/OXMTCPzaxdPxAUqdIRo9h4+k2ZByTB/cId55X+42kXPECLBz7CVt3H6LJ259Qv0qZ0ONbdx8iR6b0pE6R9L55Afb9c4IGVe++t0jeHFy4/C+X/73Ovn9OkCNTenwSJ7rneHb2/XMSgEHfzeTEmQvs/vU7bvv68cJbnzzwfIGBQfy2egtTF/zOuu17qF+lDCN6daJq6SKhbco0f5tT5y5F+P7m9arwed/OEV5H4TzZwwzIC+fOzr4jJ6hdseQDc91r75ETFMmbI/R5Ym8vcmROz74jJ8iYNiXgumP8/yyWvf8cf6hziIt/kE13+uPyTscQh2QasCGd0xlEREQkdjh58hSLlyzjhcZ3x9HzF/zKxrWr8Pb2ZuUfq+j3wQCWLppPoYIF6dG7H61easefvy/jz9+X4eaZmL+3bCR3bteYbvvff/Pa651ZMG8upZ4pybTpM2j0YnP27/o7tJB3rwULF/HTrOl8P34c7w/4mLfe7c6GNavCtduwcRN+fn680Cj8eP//Bg4ZxqbNW9i+eQPGGBo3bcFng4fy6UcfAnDu3HmuXb/OqaOHWb7id5q1akvjhs/TqUN7NmzcSKZMmfjs4wGA68behk2a0vD5Bkyf+gOnTp2mVr0G5Mubhzq1a903+5RJE1mzbj3jv/2amjUevNXSJwMHM3/Br6xasYQ0adKwZOkyRo/5khVLFpEje3Ze7/pmuPcsXrKUd98O/3pU3L59m7nzfuaHKdPYuWs3zV5swsxpUyhbpnRomxRpM0b6/t49u9OnZ/jx9L2OHz/B6jVrmTju2/u26/rWu0yeOg1fX19KFC9G/f8UrLPnyY8xhlo1qjNs8EBSp04deuzbceP5dtx4cmTPRt/ePXnxhcb3PZfELn6BQemuzOnvdAxxSMpmAzWmfQSauSsiIo67cu06qZInJUGCyJfVKVEwN2WK5iNBAneyZUxH+xfrsPav3eHahYSEMGXB7wzr2YGMaVPh7u5OuWIF8PRI+EjZ+nRsgZenBzXLlyCxtxfN6lQmbcrkZEybioolCrJjf+R3mlYoUZBaFUqSIIE7TWpW5NLV67z36oskTJiApnUqcfzMhUhn0GZNn4ZXm9TG3d2dNg2qc+7SVc5f/pfzl/9l6dptDOvxGom9vUibMjlvtmnI3GVrQt+bIU1KurRsQIIE7nh7eZIrawZqlCuOp0dC0qRIxlttG0X42QEkTODOkZNnuXT1OkkSeVOmaL4I2125doP0qVPc97OrW7kUObNkwBhD5WcKU6NciSjtobx49RayZUjHy41qkiCBO8Xz56RR9Qr8vNw107VZncrMWbIagBu3brN07Taa13EVdyfOXcKAN9qSKV1qPD0S0u/1lvzy+/pwy1OfPHuRbXsP8UHn1ngkTEiFEgXDFHYBlqzdSp1KzzwwL7gK0kmTJA59niyJq5B787YvN2/7kTRJojDtkyZJxI3bvgDMW76OHu2bkiJpEjKlS03XVg3ue65PvvmR3HXb8/X0BTxfrRwHF09k4mfdqFa2WJibGDbPHsOZ1dMjfERU2P3/dST7b1afRNy85RulzyFMXxFcd7IkibhxyxefxIkoX7wAQ8fPxs8/gO37/mH+7xvw9fN/6POIiIiIiMj9vdCsJSnSZqRy9ZpUqVyJfr17hh7r06sHKVOmxNvbmx9nzuLVdi9RskQJPD09GfzZx2zYuIljxyK+CfO7CZPo1OE1ypYpjbu7O+1eaounhycbN22OsH2lCuWpX68u7u7uvNSmFTt2RrxC0OUrV0idOhUJEkQ+L2n6jFl80K8PadOmJU2aNHzYvy/Tpt9dyShhwoR82L8vCRMmpH69uiRJkpgDBw9F2NeWrdu4eOkSH/bvi4eHBzlz5qDDa6+Ezk5+mOyRsdbSvWdvlq/4nZXLFpMmjetG6dk/zeOVl1+iUMGCJEqUiAHvhy1w3b59my3b/nqkvYs7dO5Klpx5mTV7Lp07deD0scN8+9UXYQq74FoOObLHgwq7AFN+nE7lShXJkSP7fdt98+XnXL98ntUrl/NC40ahNwCkTp2KzevXcOzQfrZuWMuNGzdp2+7ualZvvdGFg3t2cP7UMT4Z8AGvdniddes3PPTnISISl2jmroiIOC5lsqRc/vc6QUHBkRZ4Dx0/TZ+R3/PXvsP4+vkTFBxMify5w7W79O91/PwDyJk5fbRkS5syeeifvTw9SJsq7PNbvn5Re6+XB6mSJw3dF8b7ziDm1m0/kvskCffedPcUThN532179foNAoOCyVX71dDjITaEzOnu3tF675/BtQ9rr+HjWbd9Lzdv+xISYkmeNDER+WbAW3z67XRKvtiVbBnT0a9TS+pVKR2uXcpkPhw+fibSawdYum4bg8fN5PCJM4SEWG77+VMod7b7vgfgxNmLbNl9kIxVWoe+FhQcTKvnngVcs05rvNKHL/p1Yf7KjRTPn4usGdO63nvuAq16DMbN3C1yuru5ceHKv2HOcfbiFVIk9Qn9bAEyp08dZqbr0rXb+Or9rg/MC65ZqTdu3Q59fv3On5Mk8iZJorDHAFeBM5F3aJbM6e/+nWX6z9/ffx06fpqgoCCK5stBkbzZwswIflyJvb24/p9C7o2bviRJ7P3wfSXy4sZ/+rp+yxefO319/1l3ug0ZR756r5E9czpa1q/K3juzmUVEREREJPr8PGdmpLNKs2TOHPrns2fOUrJ48dDnSZIkIVWqlJw+c4bs2cOP5U6cOMGUaT/y1TdjQ18LCAjgzNmzEZ4rffq7k7MSeSfCz8+PoKCgcEXcVClTcunS5QiP/d+Zs2fJli1r6PNsWbOGLiENkCpVyjDvTZQoETdvRnxz9fETJzhz5myYGazBwcFUrljhobNH5t9/rzF+4iRmTptCsmTJQl8/e+YspUreXSUpS5bMYd73+8pVVChXNsKZ0A+yZ89ePDwSUqxYUYoWLvxIfUTF1GnT6dv7wUVgAHd3dypVrMC06TP5dtx43n6zK0mSJKHUM67PIF26dHz5+UgyZsvFjRs38PHxoWSJEqHvr1+vLq1btmDeL/OpWEGrF4lI/KXiroiIOK5s0Xx4JkzIr6s28kLNihG2eWfQWIrlz8kPg9/DJ3EivvpxAb/c2bP0XqmTJ8XL04Mjp85R9J4lYSOS2NszzEzB85evPt6FPAX/n5F6YuXUSAvh5j973Hz01VQwhs2zx5AymQ+//rGR7kO/i/C9ubNmZPLgHoSEhDB/5Qba9BrKyT+mkdjbK0y7amWL8c2MhZw+fynCYqR/QCBteg5h/Cfv0qBqWRImTECL7oPCLMMbmczpU1PpmUIs/Dbi5YkL5MxKlgxpWLZuG7MX/xm6JDO4CtvfDnib8sULhHvf8TPnQ/+cPnUKrl6/wW1f/9AC772F3XOXrnLu0hWKP2AJ6dBMubKy6+BRXqxdCYBdB4+RNlVyUiVPSoFcWTl6+jw3bt0OLcTuOng0NHf61Ck4ff4yBXK6vpg4fT7ipZT/b+rQXpw4c4EfF67k5T4j8PJISKsG1WhV/1kypk0V2q5U0zc5cfZihH20rF+VMf3DF64L5MrKmGnzsdaG/hztPnSMTs3rR+lzuFfBnFn5ceHK0Oe3fP04eups6HVmzZiWn8Z8EHr8lX4jKVU4z0OfR0REREREHt2948cMGTNw/MTdrXlu3brF5ctXyJQx4mV7M2fOTL8+vejfp1e0Zip/p5j5y4JfadrkhQjbZMyQgePHT1CoYEEATpw8ScaMGaLU/3/HzFkyZyZH9uwc3LvzkfIaIt5n9l4pUiRn6qSJtGjzEvNmzwwtTGbIkJ5Tp0+Htjt58lSY9/22ZOkj77e7Yc0q9u3bz6QpU6lRtz6ZM2XipTatadWiGalS3R07+qRMG2kffXv3DDPT+7/Wrd/AmbNnI/17ikxQcFCke+7+/+8nJCQk0uNR+W5BRCQu07LMIiLiuGQ+iXm/S2u6DRnHr39s5LavP4GBQSxdt43+n/8AuJa3TZrYmySJvDlw9BQT5i6OsC83NzdebliDPiO/5+zFywQHB7Npx378AwLDtS2SLwdzlq4lMDCIv/YeirBYHNNkSJOSGuWK02f091y/eZuQkBCOnDzLmm0RL7MMrs8uSSIvkiVJxJkLl/l8ys+Rtp2xaBUXr17Dzc2NZD6u2b1uJvxAtXrZ4lQvW4yW7w1m+97DBAUFc+PWbSbMXczkX1YQEBiIf0AQqVMkI0ECd5au28bvG7dH6RrrVS7F4eNnmL7wDwIDgwgMDGLbnkPsP3J3VmfzelX4ZsavrNu+N8wNAa+9WJePv57GiTMXALh49RoLV20Kd46sGdNSskBuBo6bQUBgIJt27Gfxmi2hx5et20atCiXDDPoDAgPx8w/AWktQUDB+/gGhg83Wz1Vj8vwV7Dtygn9v3GTohNm0fd51Z3yebJkomjcHg76bhZ9/AAtWbmD3oeM0quG6C7xJrUqMnDSXq9dvcubCZcbO+u2Bn1HWjGnp26klu+aPZXTfzhw8eopnmr7JwLF3lyHbOvcrLqybFeEjosIuQJVShXF3c+ObGQvxDwhk7MxFADxbpkiE7f//OQSHhBAcHIKff0DoEtjPVy/H3n9O8Mvv6/HzD2Dwd7MonDs7+XK47kTff+QkN27dJiAwkBmLVrFy43beatvogdcucdes7RdoPDHy/5eJiIiIyJPVqnkzfpgyjb937MDf359+HwygbJnSobN206VLy5GjR0Pbd3ztVcaNn8CmzVuw1nLr1i0W/baEGzduPFaOZMmS8fGH7/PmO934Zf6v3L59m8DAQBYvWUqvvq5li1u2aMbAIcO4ePEily5d4tNBQ2jTqmWU+k+bNi1H77mOMqVL4eOThKEjRuLr60twcDC79+xhy9ZtUerP9bkce2C7Z6tWYdoP3/Nii1Zs3rIVgGYvNuGHKVPZt28/t2/f5rPBQ8K8Z8myZTxXr26Y14KDg/Hz8wt9BAQERHrOAgXyM2zwQE78c5AP+/dj9Zq15MhbkImTJoe2uXHlQqSP+xV2ASZP/ZEXX2iEj49PpG0uXLjAzNlzuHnzJsHBwSxdtpyZs+ZQo1o1ADZt3sKBAwcJCQnh8uXLvNO9J89WrRI6w3nuvJ+5efMmISEhLFu+gh9nzKRhg+fum0vECdP/2EG99yc/uKFINFBxV0REYoR3XmrMkO7tGTphNtlqvETe+q8xbtYinq9WFoBB777K7CWrSVepJW9++nXoDMmIDOr2KoVyZ6Ny2x5krtaWD8ZMjvCOzw+7tOHoqbNkerYNn42dQfO6D7+HjRPGf/IugYFBPNP0TTI924Y2vYZy7tKVSNv37dSSv/cdIUOV1jR5+1MaVo986aLl6/+iVNO3SFuxBb2GT2Dy4B54e0W8dNOPw3tTp+IzvNxnOBmqtKJ0s7f5a+9hqpcthk/iRIzo2YGXeg8jU9U2zF68muf+s6dtZHwSJ2LBNx8xd9kactd5lZy1X+H9LybjH3i3QN+8ThXWbNtD1dJFSJ0iaejrb7R+nvpVy9DwjQGkq9SCau16sWXXwQjP8/3A7mzeeYAs1dry8Tc/8mKtSqF7My+NYL/dhl0/IlX5ZmzcsZ83P/uaVOWbsfavPQDUrliSbu2aUK/T++Sv34GsGdLwfue7y0pPHtKD7XsPk+nZNnz45RSmDe9FmhSugWrfTi3ImDY1hRp0okHnD3mhZoUo7xH9//2Mx338DoeXTqLBnX8vj8ojYUJmjurH9IV/kLFqa6YsWMHMUf3wSOjKM3ziHBq/+XFo+6ETZpOqfDNGTvqJmb+tIlX5ZgydMBuANCmS8ePw3nz89TQyPduGrbsPMnnI3aW6VmzYTuHnXydT1TZM/GkJv3w1IPQzEYmrdp+9Rd2xO8n12Sbqjt3J7rO3Im179XYgr83YT+7PNlFm1DZ+3hnxTHwRERGR6FKzRnU+GfABTVu0IWO2XBw5cpQZU+8WKga8359XOnQiRdqMzJ77E6WeKcl333zFW+92J2W6TOQpWITJU6dFS5b3ur3DyGFDGDhkKGkzZSNrrrx8/e04Gjd8HoD3+/bmmZIlKVaqLEWfKUOJ4sV5v2/vKPX92ivt2LtvPynSZuSFpi1wd3fn159/YseOneTMV5A0GbPSsfMbXLt2LUr99enZg4FDhpIibUZGjPr8vm1r1azBxHFjadikKX9t3069unV4640uVK9TjzwFi1C2jGvc7Onpye49e0iSODFZs2YJ08fQ4SNJlCxV6KNGnQevtOTu7s5z9esye8Y0jh3aR/lyURuf34+fnx9zfprHy23bhDs2aOhw6j/fGHCNW8d+N4EsOfOSMl0mevbpx+gRw2j4vKtAe+ToUeo935ikqdJRpGRpPD09mD5lUmhfY776hsw58pAibUZ69e3Pd99+9Uh7EIvI49t19BzVek0kU5uhVOs1kV1Hz0Xa9uoNX14aNofMbYdRtMuXzF2jm7mjk9ESBiIi8rQZY+ytv+Y7HUMeUt2O/en3ekuqlIp4Fmds93LvYeTNnpk+HVuQs3Y7di/4jqRJom8/26gaP2cxc5euYemEQU/93DFV4pKNsNY+eK2zeMoYY09/HLP2m7LWYi24uUX9r23W9gvM+OsCv7xWONpyBIdY3O/JEBRsSeAe9UwP2/5+AoJCqDRmOx3KZaBdmfRM23qecevPsPbtEngkCH/Pbdc5BwmxMLJRLvacu8XLP+5nfofC5Esb9v9LmQZs0L8PERERAVy/F4b4R37zWEz20acDXf/9oL/DSZy1b99+ipQsjd+Nq4z6fAyXLl9m2OCBTseKFdw8E+v34ljKGGOvzIlZ//YfZUw7/Y8dTP39bxZ/1i7acgQHh+Dufne8GBQcQgL3qM/ZfNj29xMQGEypt7+h83NleK3OM/ywfDtf/7qRrWO64pEw/NZxHT7/mZAQy5guDdh97DwtBs9iycB2FMiSJky7lM0G6t/uI9CeuyIiIhIvbdtziBRJk5A9UzpWbPibhX9uZuWrTbly/QYfdGnz1Aq7Zy9e4djp85Qtmo/DJ84wZuovvN5CS0zJ4/l6zWm+33SWG/7BpPPxYFCDnFTOmQzfwGD6LjzKsv1XSOvjQYviaZiw6Rzb3nPNVM80YANr3y5OjlTeALz782EyJPWgd42s/OsbxNvzDrH91E2CQyylsvowpEFOMiZzze5vOmkPpbL4sOHYdXafvcmKrsUIDoH3fzvKrrM3SZkoIT2rZ6FhYdc+3VduB9L9l3/YcOw6uVN7UTVX8ihd2+GLvpH2+e7Ph/FK4Mbpa/5sOHad71vlo+eCI7xcKh0/77rEP5d8OdS/LCsPXWXwihOcuxFAofSJGdwgB3nSuP7Nlx39V7j20VHg3XDsOsEhlo7lM2CM4bVyGRi7/gzrjl6jWp4UYdreDgjmt31X+L1rMRJ7ulMmW1Jq5UvBTzsu0q9WtsfOIiIiIiIxx8/zF1C/bh1u375Nn/4f8Pxz9UmQIAHZs2fj+ecePCtXJC764pf1fPfbFm74BpA+RRKGd6xL1SI58PUPpMf4Jfy29SDpkiehdbWijPttC3vGvQ24CoVbx3QhZ4aUALzx1a9kTOVD/1bP8u9NXzp/uYBth84QFBJC2XyZGdmpHplSuVaEe37AVMrmy8zavSfYeeQca0d2JCgkhN4Tl7HjyFlSJ01E35ZVeaGCa6/vKzdu8+bXC1m79zh5M6aiWvGcUbq2g6cvRdrnG1/9ipdHAk5eusb6vSeY1qsZ74xdRPvaJZmzZg+Hz1zm1LReLP/rMJ9M/4OzV25QJHs6RnSsR77MrnFxsa5fhWsfHQXetXuPExwcQpfnymCM4fX6pflqwUZW7z5GzRK5wrS95RfArxv3s25UJ5J4e1CuQBbqlcrD7D93MaBt9cfOIiruioiISBS1eb462TKmdTpGtDl/6SqtegzmyrUbZEqbms/7dqZ4ftcv4h2b1XtqOQIDg3hr4DccP32eZD6JaVqnMp2aP73zS9xz+JIvkzafY1GnoqRP6sHJq34E31msZ/SqUxy/4se6d0pwOzCEl6bti3K/IdbSokRaxjXLS7CF7r8c5v3fjvJ9q/yhbX7aeZFpbQuQK5U3twODqf71DnpWz8K0tgXYf+E2LafsJX/aRORNm4j+i47imcCN7T2e4cRVf9pM3UuWFF73zXA7IJiWU/ZG2ifAL7suMbVtfia3zk/AnQv/ZfclJrfJT8pECTh+1Y+ucw/xfat8lM+elPEbzvLK9P388Ubx0Bm097aPqLBb85sdnL7mH2HGxkVSM7hB+EH9gQu3KZAucZi9vAukS8SBC77hirtHLvvh7mbIldo79LVC6ROz4dj1+34+IiIiIrHVs1UqOx3BMd+Nn8irHV7H3d2dqpUr8fWY0QA0b/qiw8lEnHHo9GXGL9nKiiHtyZDShxMX/iU4xDW2GzZnDUfPX+WvL7tyyz+Q5oNmRrnfEGtpXa0Y33dvQnBICG99s5DeE5cyrVez0DazVu9mdv+W5MmYitt+AVR47zv6tqjKnP4t2XviAk0+nU6BLGnInyUNPScsxdMjAfu+e4fjF/6l2WczyJo2+X0z3PILoMmn0yPtE2Du2j3M6teCmX1aEBAUDMBPa/cws28LUvl4c+z8VTp+8QtTezalUqFsfLtoM62HzGbD6NdDZ9De2z6iwm6l98Zz6lLES883rVSIER3Dfy+1/+RFCmZLG2ZMWyhbWvafuhiuuPvP2SskcHcjd8ZUd9tmT8f6vcfv+/lI1Km4KyIiIlHyUsMaTkeIVvWrlqF+1cffZ+hxZc2Ylq1zvnQ6hsQh7gYCgkM4ePE2qRInCFMw/XXPZQY9l4MUiRKSAmhfNgOj/zwVpX5TJkrIcwXvDszerpKZ5j/sCdOmefE0ocsG/7HvX7Ik96RFCddNIYUzJKZ+gZQs3HOZd1J789te18zURB7u5E+XiKbF07Lp+P2Ll8sPXo20z+53zls7fwpKZ3Xdee11Zwmt18pmINOdGcYLdl+mRt4UVLkzU7hzhYxM3HiWrSdvUCFHsnDtI7Kia7EHf2D/cSsgBB+vsEtVJfVMwK2A4AjaBuPjGbatj6d7hG1FRERE4oL4vIfq4oXatkrkXu5uhoDAYA6cukTqpInCFEx/2bCP4R3qksLHmxQ+3nSqV4rhc9dGqd+UPoloWO7uzcnvNalIw49/DNOm1bNFQ5cNXvH3EbKmSU6baq7xX9Ec6Xm+bH7mb9xHnoyp+HXTftaO7EhiLw8KZk1Ly2eLsn7viftmWLrtcKR9/r+4W790Xsrld+217eXhKuF1ql+azKld49yf1++lVsncVCvmuqn4zefLMW7RZjYfPEWlQtnCtY/I2pEdo/CJhXXLL4CkicLekJ00kSc3fQMibOvj7RmltvJoVNwVEREREYlDcqTy5uO62Rm16hQHL9ymau7kDKiTnfRJPTh/IyB0GWWAzMkjL2D+l29AMAOWHGPV4X+55ucqMt70Dw6zr23GpHf7O/2vP9tP36TA4M2hrwWFWF4smobLtwIJCrFkTOZxN0syTzY9IMP9+vy/ezOEvnbPec7fCCDzPc/d3AwZknly7kZAhO2jS2IPN276hy3O3vAPJrFH+L2JEnu4cyOKbUVEREREROKSnBlSMuiVWgydvZr9py5RvVhOPmtXkwwpfTh39QaZ7ilaZkmTLMr93vYPpP8Py/n973/495YfADd9A8Lsa3tv36cuXWPbodNkbzci9LXg4BCaVynCpeu3CQoOCV3SOapZ7tfn/2VK5RPuffee59yVm2RJffdcbm6GjKmTcvbKjQjbR5fEXh7c8A27gtUNX3+SeIcfPz9MW3k0Ku6KiIjIQ5m64Hcm/7KcFd8PcTqKiETihaJpeKFoGm74BdH71yMMXH6cL1/MQ9okHpy55h86u/b0v2EHW94J3fANDAl9fvFmABmSugZfY9ef5chlPxZ2LEJaHw92n71FnbE7sfbu++9ZnYmMyTwply0pM9sVDJcvOMSSwM1w5loAudO4lh6ObJnje92vz4gyRCSdjwf7L9wOfW6t5ew1f9L7RH2QWe2rvzkVSd4mRdMw9PnwyzLnS5uIcRvOYq0NXcZq3/lbvFImXbi2OVN5ERxiOXLZl5x39j/ee/4W+dJ6h2srIiIiIg/nhylTmThpMmv+WOF0FBGJRNPKhWlauTDXb/vT/bvf+HjaSsa+3Yh0yZNw+tL10Nm1py6FXf0pkWdCfAMCQ5+f//cmGe8US7/+dSOHz1xm+aBXSZciCbuOnqNqr4ncM6QNM57MlCopFQpm4+cPW4fLFxwcQgJ3N05fvk7eTK69bk9djHiZ43vdr8+7GcIPau99LX3KJOw9cTH0ubWWM5eukyGlT4TtI1K+27hI8zarUphRncLv950/Sxq+/nVTmDHtnuMXeK1OqXBtc2VISVBwCP+cvUKuO/sf7zl2gfyZ04RrK4/m8XdRFhEREYljdhw4QsXW3UldoRkVW3dnx4EjD3zP4RNnSFmuKe37jwp97c8tOynd/G0yVmlNlmptafneIM5cuBx6vP/nP5C3XnvSV25J/vodGD5xzhO5HolfDl/yZe2Ra/gHheCZwA2vhG643Rl4PV8oFV+tOc2/vkGcuebPpM3nwry3UPrE/LLrEsEhlj8OXWXjPXu83goIxiuBG0m9EnD1diCjV528b46aeVNw5LIvc3dcJDA4hMDgEP4+fZNDF2/j7maoVyAlI1edxDcgmIMXbjNnx8X79vegPqPq+cKp+P3gVdYcuUZgcAjj1p/FI4EbpbKEvzs6Mn+8WZxD/ctG+IiosAtQPntS3A1M3HgO/6AQJm06C0DFHOHv7k7k4U69AikZsfIktwOC2XLiOsv2X+XFYhoIi4iIiMiD/b1jB6XKVSRx8tSUKleRv3fsiLTtV9+MpXT5Snj5pODVDp3CHNu4aTO16zUgVfrMpM2Ujeat2nL27Nkwbf7avp2qNWrjkzIt6bNk54svv34i1yTxx6HTl1m96xj+gUF4JUyAl0cC3O6sFtW4QkE+/3k9/9705fTl64xfvDXMewtnT8fcNXsIDg5hxfZ/wiyTfNM3AC+PBCRL7MXVG74Mm7PmvjlqP5Obf85eZtafuwgMCiYwKJi/Dp/hwKlLuLu70aBMPobOXsNt/0D2n7zIjD93PfDa7tdnVDUuX5Dlfx3mz11HCQwK5qtfN+GRMAFl8maOch8bRr/OyWm9InxEVNgFqFQwG+5uhnG/bcE/MIjxi7cAUKVw9nBtE3t50KBsfgbP+pNbfgFs3H+S37YcpHnVIuHayqNRcVdERCQes9YSEhLy4IZPWHBw2OVHg4Iebl/Jh21/PwGBgbToNoiW9atyetV02jxfjRbdBhEQGHjf93UbMo5nCuYJ81r+nFlZ8PUAzqyezuGlk8iVJSPvDPo29Hi7xjXZPu8bzq2ZycofhjJr8Z/M/31DtF2LxE8BQSEMXnGcIkO3UGLEVi7dCqRvzawAdH82M5mSe1L+879oPXUfLxZNHea9n9TLzvIDVykweDPzdl6iTv6Uocc6lMuAX1AIRYZt4fkJu3k2d4r75kji6c70lwsyf9clSo7YRvHh2xi4/Dj+Qa77ogc+l4NbAcEUH7GNbr8cpkXxBxcuH9RnVORO7c2XL+bmg9+OUmToVpYfuMIPrfPjkeDJDo08Erjxfav8zN1xkYKDNzNz+0W+b3X3vGNWn6Lt1H2h7Qc9lwO/oBCKDttK17mHGNwgR+iMaxERERFxiblj2qCHev/Dtr+fgIAAGjdtQZtWLbly/jQvt21D46YtCAiIeK/LjBkz0L9Pb15t93K4Y1evXqVjh/YcPbiXY4f2kcQnCe07dg49funSJeo935hOHdpz6exJDu3dRe2aNaLtWiR+CggK4pMfV5Kn/Wjyd/ycS9du80HragD0alaZLGmSUfyNr3nx0xk0r1I4zHsHv1qLJdsOkeOVkcxds5v6ZfKGHuv8XBn8AoLI034Utfv/QI0Sue6bw8fbk5/eb828dXso2GkM+Tt+wcfTVhIQ6Pr3Ouy1OtzyCyB/x8958+tfaV2t6AOv7UF9RkWeTKkY+1ZDek9cRu72o1m69RDT+zTHI+GT3cbHI6E703o1Y9afu8jRbiQ//rGDab2ahZ531Lx1NBs4I7T9iA518QsIIl+Hz+n4+S+M7Fg3dMa1PD5jbdS/CBEREYkOxhh766/5TseIEUb+8BPfzljIjVu3yZAmJaP7dKZa2WL4+vnzzuCxLFq1ifSpU9C2YQ2+mbGQQ0u+ByBxyUbs/GUsubJmAKDTgC/IlDYVA95oy9XrN+nw/mi27j5IUHAw5YoVYEz/LmRK5yri1O3Yn3LF8rNm227+3n+EzbPGEBQczHvDvuPvff+QOkVSPujShhdrVwLg8r/X6fzRGNZs203e7JmpWb4Eq7fueuCyzAeOnoq0z04DvsDb04MTZy+ydttuZo3uxxuffE2HZnWZ9dufHDp+movrZrN03VYGfDmVMxeuUDRfDj7v25n8ObMAUOC5juHaJ0jw+L/Irtiwnc4fjeHQku9Dl5nJV/81vuz/BrUrlozwPXOWrmbByo3kz5GFf06e5fuB3cO18Q8IZOC4GSxatYltP4W/k/nMhcs0evNjWtV/lu6vNHns64hLEpdshLX2AYvtxl/GGHv64/KP9N71R6/x1rzDbHvvmWhOJU9LpgEb9O9DREREANfvhSH+t57qOYeOGMmXX3/L9es3yJghA1+PGU2N6tXw9fWl61vvMP/XRWRIn55XXm7LmK+/4eSRQwC4eSbm4J6d5M7tKq682qETmTJl4rOPB3D16lVefrUDm7ZsJSgoiIrly/HtV2PInDkTANVq1aVC+XL8uXoNf23/m53bNhMUFMTb3d5j2/a/SZM6NZ989AHNm74IwOXLl2nfsTOrVq8hf7681K5Vk1V/rn7gssz79x+ItM9XO3TCy8ubEydO8OeatfwydxYdu7xB504dmD5jFgcOHuLm1Yv8tngp/T4YwOkzZyherCjfjPmcAgXyA5Ajb4Fw7RMkePxdFJctX0H7Tp05eeRQ6Jg2W+58jPv6S+rWqR3p+94f8DGnT59m0oTvIm3z1/btPFuzLtcvnweg3wcDOHXqFFMmTXzs3I/LzTOxfi+OpYwx9sqc/o/03rV7jvP6mPnsGfd2NKeSpyVls4H6t/sINHNXRETEIQePnWLcrEWsmTaC82tnMf/rj8iWMS0Ag76bydGT59i1YBzzv/6IHxf+EeV+Q0JCeKlRDfYtmsD+3ybg7eVB96FhB2czflvFl++/wfk1M0mdIinPd/2Q5nWrcGzFFH4Y3JNuQ8ay74hr6ZruQ8bh5enBP8t+4NsBbzFl/oP3Jbrl63ffPgFmL1lNr9eacX7tTCoUd+2fOWfJGuaN+YAzf07n6OlzvNJ3JEN7dOD471OoXfEZmr37WZgZtPe2j6iwW+bOksgRPd4dPDbC7Pv+OUHhPNnD7E9SOHf2MNnvdf3mbT77dgZDureP8PjJsxfJWKU1qco344upv/Buu7CF2xGT5pK2Ygvy1G3PbV8/WtSrEsmnKiIiIiIiEnMcOHCQr78dx+Z1a7h++TxLFs4ne7ZsAHz82SD+OXKUw/t2sWThfKZM+zHK/YaEhPBKu5c4dmgfxw/vx9vbm7feDXsD7bTpMxj3zZdcv3yeNGlSU/u552nVsjnnTx1jxrQfeOPtbuzd51oV5c13uuPl5cWZ4/8w8btvmTR5ygMz3Lp16759AsyYNZt+fXpx/fJ5KlWsAMDMWXNY+Ms8rl44w5EjR2n98iuMHjGUC6ePU69ObRo2aRZmBu297SMq7BZ7pgwp0maM8NH1rXcjzL5n7z6KFi4cZkxbtHBh9uzdF2H7h7F6zToKFSwQ+nzT5s2kSJGCilWrky5zNhq+0JQTJ+6/fYuIiDy+x78VSERERB6Ju5s7/gFB7DtyktTJk5EtY7rQY/OWr2N0n86kTOZDymQ+dG3ZgMHjZ0Wp31TJk9K4RoXQ5z1fa0b9Tu+HadP2+eoUzOVapnX5+r/IliEdLzeqCUDx/DlpVL0CPy9fT94Omfhl5QY2zxpDYm8vCuXORpsG1Vm3fc99MyxevSXSPgu87jrvc1XLUL64a1Do5ekBQJeWDcic3rVEy0/L1lK3cilqlCsOwLsvN+abGb+yccd+qpQqEq59RDbPHvPgD+w/bvn6kSxJ2KVPk/ok4uYt3wjbf/Ltj7zcuGbozOj/ypIhDWdWT+fKtRtM+nkZ+bKH3QOlx6tNee+VF9lx4CgL/9hI0iRadlXit03Hr9N2WsRfPB3qX/YppxERERGRyLi7u+Pv78/efftIkyY12bNnCz02Z+48vh4zmpQpU5IyZUreeqMrnw4aHKV+U6VKxYsvNA593q9PT6rXDrsHZLuX2lKooOsm4SXLlpM9W7bQZYVLFC9Ok8aNmPPTz7zfNy8//fwLO7dtJnHixBQuVIiX27Zhzdp1982w8LfFkfY54H3XOLbR889RsYJrBR0vLy8A3nqjC1myuMZ8s+b+xHP16lLrzjLFPbq/y5ivv2H9ho08W7VKuPYR2bFt84M/sP+4eesWyZIlC/NasmRJuXHz5kP3da+du3bx6aAh/DL37ncTp06d4a/tO1j2268UKVyIXn3fp/XLr7B21e+PdS6R2GzDvhM0HzgzwmMnp/V6ymkkrlJxV0RExCG5smZgWI/XGDRuJvv+OUHN8iUY8l57MqRJxdmLV8ic/m6xMEuGqO9JcdvXn94jJ7J8/V/8e8M1eLtxy5fg4GDc3V2zWzOnu9vfibMX2bL7IBmrtA59LSg4mFbPPcvFq9cJCgoOkyVrhjSs237/DPfr8/8yR1AMvfc8Zy9eIcs9hVs3Nzcyp0vNmQuXI2wfXRJ7e3H9P4XcGzd9SZLYO1zbHQeOsGrTDtbPGP3AflMm86FNg+qUa/kOh5dMCjPT2BhD8fw5WbHhLz4bO4Oh7732+BciEgUVciSLcUsyl82WVEVcERERkVggd+5cjB4xjI8/G8SevfuoU6smI4cNIWPGDJw5ezZM0TJb1ixR7vf27dt069GbpcuXc/XqvwDcuHEjzJg2S+a7fR8/foJNm7eQIm3G0NeCgoJo27oVFy9eJCgo6D9ZsrKG+xd379fn/2XOHL4oe2+uM2fOkvWe63ZzcyNL5sycPnMmwvbRJUnixFy/fj3Ma9ev38AnSZJH7vPw4X+o3/AFPh85jMqVKoa+7u3txQuNnqd0KdeYYsD7fUmTMSvXrl0LV2AWeRIqFcoW45ZkLl8gq4q48sSpuCsiIuKgFvWq0qJeVa7fvM1bA7/h/S+mMPGzbqRPnYJT5y6Fzq49de5SmPcl8vLktp9/6PPzl66SKW0qAMZM+4VDx0+zaspw0qdOwY4DR6jQqhvW3n3/PaszkTl9aio9U4iF334SLl9wcDAJErhz6twl8uVwDTpPnrv4wOu6X593M4TfTuPelzKkScmew8dDn1trOXX+EhnvXOd/20ekVNM3OXE24rwt61dlTP+u4V4vkCsrY6bNx1obmnH3oWN0al4/XNs1W3dz/MwF8tXvAMCt234Eh4RQoXU31k8PX/ANDg7m4pVrXL91m5TJfCI4HsLRU+fuf1EiIiIiIiIxROuWLWjdsgXXr1+n8xtv0af/+0yZNJEM6dNz8uSp0Nm1J06eCvO+RIkScdv3dujzc+fOkymTa0/dkZ+P4eChQ2xcs4r06dPz944dlCxTAXvPoPbe8WSWLJmpWrkSyxYvDJfPNaZNwMmTp8ifP9+dLA9eNvh+fUaUIaLXMmbMwO7dd1e9stZy8tQpMmXMGGH7iBQuXorjJyLeIqhNq5aM/Tr8alWFChZg1Bdjwoxpd+7eTdfOne57rsgcP36CWvUb8H7fPrzUpnWYY0WLFA4zMH/Q9YiISPTQnrsiIiIOOXjsFKs278Q/IBAvz4R4e3rg5uYaCDWpVYmRk+Zy9fpNTp+/xLczww4oi+bLwewlfxIcHMyydX+x9q+7A8Ybt3zx8vQguU9irly7weDvIl4K5v/qVS7F4eNnmL7wDwIDgwgMDGLbnkPsP3ISd3d3GlUrx6BxM7jt68++IyeitP/v/fqMqia1KrJkzVb+2LSDwMAgvpj6C54eCSlXLH+U+9g69ysurJsV4SOiwi5AlVKFcXdz45sZC/EPCGTszEUAPFumSLi27ZvUYdeCcWyY8TkbZnzOa03rUrfSM8z/+iMA5v++gYPHThESEsLFq9foM+p7iuXPScpkPoSEhDBx7hKuXr+JtZatuw8ybvZvPFumaJSvTyQ+evfnwwz9PeIvuERERETk6Tlw4CAr/1iFv78/Xl5eeHl74+bm+rq5WdMmDBk+kqtXr3Lq1On/sXfXYVaVaxiHfy8TzAzd3Uh3N6ggWIAgIYJIq6StoAIqoaCIhCgmLQiCioKodKcIKiXd3UzxnT82Z3BkhoY1wzz3de3rsFc+a58ZZ+/9ru/9GDr8o2j7lihejHETJhIZGcmMmT8zd/6CqHUnT54kOCiIlClTcuTIEd58+/LtnB964H42bt7M6LHjCA8PJzw8nOUrVvLXX3/j5+dHg/r16P12X86cOcOff/11VfP/Xu6YV6txwwZM/2kGv/42m/DwcN4bNJjEgYmpVLHCVR9j3ZoVnDxyIMZHTIVdgBrVq+Hn58eHQ4cTGhrK0OEjALjn7hoxbh8REcG5c+eIjIwkMjKSc+fOERERAcDu3Xu4t/YDdHyqA0+1b3vJvk8+0YKp075nze+/Ex4ezlt9+1OlciWN2hW5jI5Dv6fP+Dlex5B4TsVdERERj4SGRfDGkFFkv6c5uWs9ycEjx3mzcwsAurdvSrZM6Sj8UHvqPtMzWjtjgAEvtuWnecvJXL0ZX/80l4dqXGxh2unxhzkXGkb2e1pwd8uXqFWx1GVzJEsSwnfDe/HNz/PJW7sVue97ktcGf0VoeDgA773SgVNnzpH7vpZ06PkhLeree8Vru9Ixr0a+nFn57O1neeHdT8h+bwt+mrecSR+8RmBAwFUf43oEBgQw4f3ujPthNpmrN2PUd78w4f3uUecd8Nkk6nfqDUBIcGIypk0V9UgaHETiwEDSpfJ9kN1z8DD1O/UmQ5WmlGvchURmTBj4atS5vpu9hKJ1O5ChSlPavDaIp5s8yNNNH7ql1yciN8/bP2+nzHsryd93GeXeX8mH83ZdeScRERGRO0RoWCivvvYG6TJnJ1P23Bw8cJC+b/m6N/V8rTs5smcjd/7C1H6wbrR2xgAfvDeAH6b/RKr0mRk34Wvq1734Oahb506cPXeOdJmzU7Hq3dS+r9ZlcyRLloyZP3zH1xO/IUvOvGTKnptXerxGaJiv29WQD97j1KlTZMqem1ZtO/DkEy2ueG1XOubVyJ8/H6O//Iwuz75AuszZ+eHHn/ju20kEBgZe9TGuR2BgIN9OmsDoseNIlT4zX3w1im8nTYg6b993BvDAw/Wjtn+73zuEpEjDOwPeY8y4CYSkSMPb/d4B4NMvvuSfrVvp/XZfkqVOH/X4v3vurkGfN3vxUP2GZMiaky1b/mHsV1/c0usTkZvn9VG/UKbzcLK3GED5riOYMHet15HkKtm/21mIiIjcDmbmTq+a5nWMeGXeij9o89ogNs343OsoIrddklL1cM6pv1cszMzt7l3R6xi3TbdvN5MpeSAv35vd6yhsPnSWzMkDCQn0Y++JUJqN+osX78nGA4XSXHnnmyRLz8X6/RARERHA977wfOhpr2PEaM7cebRo1Yad/2zyOorcoRIlTqL3xfGUmbkjk3p4HeO26Tj0ezKnSUaPx2p4HYV+X8+lYZXC5M2UhlVb9tCozwQmvNqE8vlv/nzgsUndqI9+d6+D5twVEREREZGrMmz+bj5fupeToZFkSBZI34dyUzV3ClbvOskbP21j86GzBPkn4oFCqelZOyeB/r5GQVl6LqbPg7kYuXgvB0+F0bZCJhqXTE+XKZvYcOAsNfKmZEiDvAT6J2LR1uN0nrKZlmUz8MnivSQJ9OPle7PRoFi6GDPN2nCUd3/bwa5jodyVLpj+D+WmUMYkl817s+RNGxzteSKDbUfO3bTji4iIiIiIyM0zeOoiPvlxOSfPhpExVVIGtKtD9aK5WLlpN69+MYuNuw8RHOjPw+UL8HbLWgQG+AG+AuSAtrX56IdlHDh2mg4PlqVZjeI8NWQaf+08yL0l8vBx53oEBvixYP12Onw4jTa1SzP8h6UkCQrktcdq0KhqkRgzzVy5iT7j57Dj4HHyZ03L++3vp3CODJfNe7O82qR61L/L3JWFigWysXzjrtta3JXro+KuiIiIXJeFq9bzSOc3Y1x3YOHXtzmNiNxqmw+d5Ytl+5jevhgZkwey8+g5Ii80AfJLZPSqk5PimZOy90Qozcf8zVfL99OuYqao/eduPsaMDkXZcyKMOiPWsmLnSYY0uItUIf7U/XQdU9cdonEJX4u3g6fCOHImgpXPl2bVrpO0GPM3xTInvaSYum7vaZ6ftpkvmxWgeOakTF57kFbjNzCvcwl2HguNNe9/DZ2/m2ELdsd67X+9Wi7WdUPn72bwvF2cCTtP9lSJqV807VW+oiIiIiLipfkLFvJA3UdiXHfyyIHbnEZEbrVNuw8zcsYKfunfmkypk7HjwDEiz/s+JPolSkSfJ2tRMk8m9hw+QaO+E/js55U8/eDFz4K/rfmH395pw+7DJ7j7pc9YvmE3H3epR+qkwdzX4ysmL1zPYzWKAXDg2CkOnzjD+o+7sGLjbpr0+5oSuTNxV5boXZ7Wbt1H5+E/MO6VxpTMnYmJ89fR7J1JLBv8FDsOHI8173998O0iPpi6KNZr3/bVC1d8fc6GhrN6yx5a1y59xW3FeyruioiIxAPVyhSNcy2ZK5cqrCKuSALiZxAWeZ6NB8+QJok/2VIFRa0rljlp1L+zpQqieZkMLNl2PFpx95kqmUkW5E/+IH/ypw+hep6U5EjtO8bdeVOybu9pGpe4eL6X7slGYv9EVMyZgnvzpeL7dYd5tkb0u4fHrNhP89IZKJU1GQCNS6RnyLzdrNp1kozJAmPN+1+dqmahU9Us1/W6dKqahY5VMrN+3xlm/HWE5EH6iCUiIiLyXzWqV4tzLZmrVqmsIq5IAuKXyAgLj2TDrkOkTR5C9vQpo9aVyHPxs2v29Cl5slYpFq3fHq2427leRZKHJCZ5SDoKZkvH3cVzkTNDKgBqlszD2q37ooq7AN2bVidxgD+VC+egVqm8TF38Jy8+WjVapq9mraZlrZKUucv3efSxGsUYNGUhKzbuJlPqZLHm/a9uj1Si2yOVbuTl4fmRP1E4RwbuLZH7ho4jt4e+eRARERERkSvKlSaY3nVy8v6cXWw8cIbqeVPSs3ZOMiYPZMuhs/SeuY21e05zNvw8EecdxTIlibZ/2iQBUf8OCkhE2qTRnx88FR71PEWQPyGBflHPs6YIZP/JsEsy7T4eyqTfD/LFsn1Ry8IiHftPhlMxZ4pY895sZkaRTEmYs/kYA2fvpFednDf9HCIiIiIiInL9cmdKTd8na/HOxHn8vesQ9xTPzdsta5IpdTI27znMa1/9wpotezkTFk5k5HmK584Ubf/0KS5+xg0K9Cfdv54HB/qz/9ipqOcpkwSTJOjiZ89saVOw78jF9f+389BxJsxdy8ifVkQtC4+IZN/RU1QunCPWvDfbG6N+5a8dB5nWqzlmmv42PlBxV0RERG6b9j0HkyV9Gnp2bO51FBG5Do8US8cjxdJx8lwEL3//D31mbWdIw7t49Yd/KJIpCcMfzUfSxH6MXLyX6X8evu7zHD8XwZmwyKgC7+7jYeRPH3LJdpmSB9Klaha6Vo95PqDY8v7Xh/N2MWR+7G2ZN/Uof1W5I847tmvOXREREZE7Uqu27cmSJQtv9+7pdRQRuU6PVi3Co1WLcOJMKM998iO9x/zGiC71eGHkDIrmysDIbvVJFpyYj6Yv47vFf133eY6dPsvpc2FRBd5dh45TMHu6S7bLkiY5zzWozPMNq1xT3v96f8pCBk1ZGGuenWNeinVdv6/n8suaLfzQuznJQxJf6dIkjlBxV0RERBKkPQcO063fCBat/pPgoMS83LYRbR+9H4h5PuHTZ88xdsDL1L/3xtrciMRXmw+dZd+JMMpmT0Zi/0QEBSQi8rxv3emwSJIl9iNJYCI2HzzLqOX7SPOvkbrXY+Dsnbxyb3ZW7z7FLxuP8sLd2S7Z5vHSGWgzYQNV86SgZJaknA0/z6JtJ6iQIzn7TobFmve/ulTLSpdqMReIY3P+vGPsygM8XCQNKYL8WLP7FF8t23fd7Z1FRERERK7WCy+/ynffT2ff/v1kyZyZV19+gSeaPw7EPJfw6dOnmTRhLA0fqe9BWpG4YdPuw+w9cpLyBbISFOBPUKA/5y/MYXvqbCjJghOTNCiQjbsP8cXMlaRJfukNxtei/8R5vP7Y3azcvJufV23mlSbVLtnmiZolaDHgG6oXy0XpvJk5ExrOwvXbqVgoO/uOnIo1738916AyzzWofM0ZB327kMkL1jP9zSdInezGrlduLxV3RUREJEFq89r7FLkrF2PffZm/tu7kgfavcVeOLFQvW+yS+YTnrfiDRt3eplalUh4mFvFWWMR5+v2ynU0HzxLgZ5TOlox3H84DwOv35eSl77cwfOEeimRMQt0iaVi49cR1nytd0kBSBPlT6r2VBAckov/DucmbLviS7YpnScqAurl5bfpWth45R5B/IspmT0aFHMkvm/dmmfH3Yfr/up2wSEeGZIG0Kp+R1uUz3tRziIiIiIj8V5IkSfhuyiTy5buL5StWcv/D9cmbJw+VKla4ZC7hOXPnUbdBI+rcV8vDxCLeC4uI4M2xv7Fx92H8/RJRLn9WBnV4AIA3n6jJsx//yJBpiymaKyP1KxVi/rpt132u9CmTkjJJEIU6DCY4MID32t1PvixpL9muZJ7MfNDhQV7+bCZb9h4hONCf8gWyUbFQ9svmvVneGjeHQH8/ynQeHrXs2essFMvtZc7FXOkXERG5VczMnV41zesYCc57X07mo/E/cPL0GTKlS82gV57i7vLFWbFuIy8O+JQNW3cRFBRI/Xsq0v/51gQG+EbdJSlVj0GvdGDo2O/Yf/goHZvVpfnD99D29UH8uWUHtSqV4rO3nyUwIIB5K/6gzWuDaN/ofoaMnUaS4GB6dnycpg/UAC5ty/zTvOX0Hj6WHXsOUCB3VgZ3f4ai+XJeNu/NcOrMWTJUacq2X0eRLlUKADq9NYyzoWF89vazl2zfoedgAD7u3fWmnF+uTZJS9XDOadKXWJiZ2927otcxbppFW4/TecpmVj5f2uso8UKWnov1+yEiIiKA733h+dDTXse4Jd4Z+B5Dhn3EiRMnyZwpE8M+HMS999zNsuUr6Pb8i/z19waCg4NoUL8+7w/oT2CgrxVqosRJGDp4EB98OJR9+/fTtXNHnmzRnCdat2Xd+j+pc18tRn/5GYGBgcyZO48WrdrwdIf2DBo8hKRJk/B27548/lhT4NK2zD9M/4nXe/Vm2/YdFCpYgI+GDqZY0aKXzXur1GvQiGpVq/D8s5d+Zm3drgMAn4/8+JadPy5IlDiJ3hfHU2bmjkzq4XWMm2bB+u10+HAa6z/u4nWUeCF1oz763b0OGrkrIiKSAGzctouPv57O/DEDyZQuDdv37CfyQn9Sv0SJeOf5NpQqlJfdBw7xSKc3+WTiT3R6vG7U/r8sXs2Cse+za/8hKjd7liW//81nbz9H6hTJuOfJl5g4Yz7NH74HgP2Hj3Lo2Ak2zfiCZX9soEHnNylVKC/5ckZvebrm7394qvcQvvmgB6UK5WX8j3Np/Gwf1nw7nO179sea978GfvEN738xJdZr3zNv3CXL/n9z279vcnM4/tyy/ZJtT589x9RfFzHpg9diPYeIiIiIiIjcGhs2bGTYRx+zbOF8MmfOxLZt24mMjATAz8+P9we8Q5nSpdi1azcP1H2E4SM+oVuXTlH7/zzrF1YsWcDOXbsoXb4yixcvYfQXn5EmTWoqVbuH8V9PpGUL3w3I+/bt59ChQ+zauoklS5fxYL0GlClVivz580XLtHrNGtp0eIrvpnxDmdKlGDNuPPUaNubvP9awbdv2WPP+V/8BA3lnwPuxXvvRA3uu+PqcPXuW5StX8nSHdpesO336NN9Mmcp3UyZd8TgiIhJ/JPI6gIiIiNx6fon8CA2L4K9/dhIeHkGOzBnInS0TACUL5aVcsfz4+/uRI3MGWjeszYJV66Lt/2zLBiRPGkKhPNkplCcH91YsQa6sGUmRLAm1Kpfm97//ibb9G888TuLAAKqWLkKdqmWYMmvhJZm+mDKTNg1rU7Zofvz8/Gj+8D0kDvRn2R8bLpv3v15o9Sh75o2L9RGTZElCqFiiIO+MnMi50DBW/7WFab8u5uy50Eu2nfbrYtKkTE7V0kWu6rUWERERERGRm8fPz4/Q0FD+/OsvwsPDyZkzB3ny5AagdKmSVChfDn9/f3LmzEH7tq2ZN39BtP1ffP5ZkidPTuFChShSuBC1at1L7ty5SJEiBXVq12L1mt+jbf9WrzdInDgx1atV5cH76zBx8qU3E3/y6Re0b9uG8uXK4ufnR8sWzUkcmJglS5ddNu9/vfLiCxw9sCfWx9V4ulMXihctSu0Y2i5PmTqNtGnSUL1a1as6loiIxA8q7oqIiCQAebJn4t0X2tD34wnkrPkELV8ZwN6DhwHYtH03Dbu8Ra5aLclYtSm9ho3m8NGT0fZPnzpl1L+DgwKjP08cyOmzZ6Oep0qWlCTBQVHPs2VMx96DRy7JtGPvQT4cM5XM1ZpFPXbtP8Teg0cum/dm+fzt59i2ez/5729Dt34f0fSB6mROf+n8J2N/+I1mD96NmTrEiNwOlXKlUEtmEREREYmSN28eBg18l95v9yVD1pw81rwle/bsBWDjxk08XL8hmbLnIkXajPR4oxeHDkf/7JghffqofwcHB1/y/NTpi62sU6VKRZIkSaKeZ8+eLepc/7Zjxw7e/+BDUqXPHPXYuWsXe/buvWzem+3FV7qzbv2ffD1udIyfWUeNHkuL5s30eVbkNqpSOIdaMsstp+KuiIhIAtHk/ur88nl//pr+KZjx2uBRAHTtO4J8ubKydupH7Js/gV4dW+BwVzha7I6ePMXps+einu/ad5BM6VJfsl3WDGl5qXWjaKNsDy2aROM61S6b978GfDaJ9JWbxPqITfbM6Zn84ets/200c0cN5NCxk5Qpcle0bXbtO8j8leto9tCtmxtJRERERERELq9Z0ybMn/0L2zb9hRm80sM3bc4znbuSP38+Nq5fy/FD++jzZq9o0+9cq6NHj3L6X8XenTt3kTnzpV2ksmbNSvdXXoo2yvb0sUM81qTxZfP+V993BpAsdfpYH5fT8823mTHzZ2ZO/47kyZNfsn7nzl3MmTefJx5vdi0vgYiIxAMq7oqIiCQAG7ftYs6ytYSGhROUOIDgxIEkSuS7c/fUmbMkTxJM0pBgNmzdxaff/HTD53t7xHjCwsNZuGo9P81fwSM1K1+yTasGtfh08gyW/7EB5xynz55jxvwVnDx95rJ5/+vFNo04sPDrWB+x+fufnZw8fYaw8HDGT5/Db0tW07l5vWjbjJ8+hwrFCsTaElpErs+irccp/d5Kr2OIiIiISDywYcNGfps9h9DQUIKCgggKDiZRIt/X2idPnSJ58uQkTZqUv//ewIhPPr3h8/V8823CwsKYv2AhP/z4E40aPHLJNu3atOLjkZ+ydNly3+fZ06eZ/uMMTp48edm8/9X95Rc5eeRArI/Y9Ht3AOMnTGTWTz+QJk2aGLcZPW48lSpWiLUltIhcnwXrt1O4w4dex5AEzt/rACIiInLrhYZF8MaQUWzYupMAf3/KFyvA0NefAaBvt1Z07jOMQV99S/H8uWl4XxXmLv/jus+VIU0qUiVLQt7arQgOSszg7k+TP1fWS7YrVeguhr7Wiefe+YQtO/YSFBRIpRIFqVyq0GXz3iy/LF7NgM8mceZcKMUL5Gbq0J6kS5Ui2jbjps+m2xOXfpAXkTvXpDUH6fbtZgbUzU2z0hli3ObomXBemLaFuVuOkzrEn1drZueRYuluc1IRERGRhCE0LJRXX3uDv/7eQEBAAJUqlOfj4UMBGNC/Lx2e6cyA9wZRskRxGjdqyOw5c6/7XBkzZiBVqlRkyZmXkJBgPho6mAIF8l+yXZnSpfhk+FA6d3uOTZu3EBwcRJVKlahWtfJl894sPV7vRWBgIHcVKha17NWXX6T7yy9GPR89ZhwvPNftpp5XROKewyfO8Pi7k9i0+zCR58+TL0ta3nziXioUyBbj9qHhETw/8ie+W/I3IYEBdK5XkY4Pl7/NqeVG2Y20qRAREbkeZuZOr5rmdQy5Beat+IM2rw1i04zPvY4id5AkperhnNMkUbEwM7e7d0WvY1yTRVuP03nK5jg3t+6xsxHU/fQP/BMZbStkirW4+8ykjZx38F69PKzfd5onxv7NtLZFyJ8+5DYnhiw9F+v3Q0RERADf+8LzoaevvKHEaM7cebRo1Yad/2zyOopch0SJk+h9cTxlZu7IpB5ex7hqC9Zvp8OH0+LMvLrnwiLYefA4eTKlxgx+XL6RzsN/YONnz+Lvd2nXgDfHzmbJ3zsZ93Ij9h87Tb1eYxja8WFqlszjQXpI3aiPfnevg9oyi4iIiIjINRs2fzftvt4QbdkbP27l9R+3AvD16gNUH7KGfH2WUvGDVYxevj/WY2XpuZitCGjX/gABAABJREFUh89GPe/27Wbe+XVH1PNZG45S66PfKdhvGXU//YM/992aLy37/bKD1uUzkTokINZtzoRF8uNfR3jxnmwkSexHuRzJqZU/FZN/P3hLMomIiIiIiMjNNXjqIloOnBxt2Suf/8wrn88EYOzs3ynfbQTZWwygZMdhfDlrVazHSt2oD//sPRL1vOPQ7+kzfk7U85krN1HthZHkbDmQ2j2+ZP322D8bX4+gQH/uypKGRIkM58AvkXHs9DmOnjob4/YT5q7lhUerkDJpMPmzpqVFzRKMn7P2pmaSW09tmUVERERE5JrVK5qW9+fu4lRoJEkT+xF53vH9+sN82tTXti5NkgC+erwAOVIlZsn2EzQf8zclsiShaOak13SedXtP8/y0zXzZrADFMydl8tqDtBq/gXmdS5DY/9J7VWsO/53dx0NjPFb9omnp91DMc46t3nWStXtO0e/BXPyw/nCsef45fA6/REaetMFRywpnTMLibSeu6bpERERERETEGw0qF+bdSfM5eTaUZMGJiYw8z7TFfzLqxUYApEsewoRXmpAzQ0oW/bmDxn0nUDJPJornznRN51m7dR+dh//AuFcaUzJ3JibOX0ezdyaxbPBTJA64tDxX5fmR7Dp0PMZjPVqlMAPb3R/ruao8P5JNuw8RHnmeFveWIF2KJJdsc+zUWfYdPUWRHOmjlhXJkYEfl228pusS76m4KyIiIjdNtTJF1ZJZJIHImjIxRTMl4ae/jtCoRDoWbj1OcEAiSmdLBkDNfKmitq2YMwXV86Rg6faT11zcHbNiP81LZ6BUVt9xG5dIz5B5u1m16yQVc6a4ZPtfnil+zdcSed7RffpW3n4gF4kSXb4b1OmwSJIl9ou2LFliP06HRV7zeUVEREQk7qhRvZpaMoskENnSpaBYroxMX7aBptWLMW/dNoITB1A2XxYA7it9V9S2lQvn4O7iuVn8185rLu5+NWs1LWuVpMxdvuM+VqMYg6YsZMXG3VQunOOS7Re81+66r2nBe+04FxbB9GUbCIuI+fPpqXPhACQPCYpaljwkMafOhV33ecUbKu6KiIiIiMh1qV80LdP+OESjEun4du0h6hdNG7Xut01HeX/OLrYePst5B2fDz1PgOuak3X08lEm/H+SLZfuiloVFOvafDL8p1wDw1bJ9FMwQElWYvpwkgX6cDI3+QflkaCRJAv1i2UNERERERETimkerFmbygvU0rV6Mbxasp2GVwlHrZq3ezLuT5rNlzxHOO8fZ0HAKZk93zefYeeg4E+auZeRPK6KWhUdEsu/oqZtyDf8VFOhPwyqFKd9tBEVzZqBIzgzR1icN8k1BdPJsKEGB/hf+HUbSoMBbkkduHRV3RUREJFbzVvxBm9cGaTSuiMTo4cJpeGvmNvYcD2XG30f4rm0RAEIjztPu640MfiQvtQukIsAvEa3H/42L5TjBAYk4G34+6vnBU2FkSu77cJkpeSBdqmaha/WsV5Xp7qFr2BVLW+YGxdLxzsOXtmVesPU4S7ad4LdNvg/cx85GsG7vadbvO02fB6NvnztNEJHnHf8cPkvuNL7WzH/uP03+9MGXHFdEREREvDNn7jxatGqj0bgiEqN6FQry+le/svvwCaYv28DMPk8CEBoewZMDJzO8U10eKJuPAH8/mr87idg+0IYkDuBs2MWbj/cfO0XmNL4bh7OkSc5zDSrzfMMqV5Wp4rMfs+tgzG2ZG1UrwvvtH7iq40REnGfb/qOXFHdTJg0mY6qkrNu2n7uL+z7rrtu2nwLZrr1wLd5ScVdERETijU3bd9Pjgy9Z+vvfRJ4/T6lCeRn4Ujvy5Yy56DP55wUMG/cdazdupUzhfMwY2Sdq3cJV63mk85vRtj999hxjB7xM/XsrMfq7X3nmzaEEJ7549+I3g1+jWpmit+biROKhNEkCqJgzBc9N3UK2lIm5K51vZG54pCMs4jxpkvjjn8j4bdNR5m45Tv5YRu4WzpiEqX8cIn/6EOZtOcaSbScodqF98+OlM9Bmwgaq5klBySxJORt+nkXbTlAhR3KSJr50tOzsTiWu+ToG1c9LaMTF4nLbrzfwYKE0PFYq/SXbhgT6cX/B1Az8bScD6+Vh/b7T/Pz3UaZdKGyLiIiIiMSm/dOdmDd/AZs2b+azTz7iySdaxLrtxG8mM3jIMNb8vpZyZcswe9aMGLcbNWYsT7ZpzycfDaNt6ycBCA0NpetzLzL1u+8ID4+gcsUKfDT0Q7JkyXwrLkskXkqbIgmVC2en07AfyJE+Jfmz+jpRhUVEEhoeSdrkIfj7JWLW6s3M/v0fCsZSAC2SMwPfzF9PgazpmL12K4v+3EHJPL72zU/ULEGLAd9QvVguSufNzJnQcBau307FQtlJFpz4kmMtHtThmq9j+cbdREaep1TezESeP88nPy3n4PHTlL7QCvq/mlQrynuTF1IyTyYOHD/N6F9XM+SZh6/5vOItFXdFREQk3jh+8jQPVi/HiF5dSBYSTL+RX9Pkub6snjI8xu1TpUhKx2Z12bhtF3OX/xFtXeVShTmw8Ouo5/NW/EGjbm9Tq1KpqGXli+Xnl8/735qLEblD1C+Wlq5TNvNarexRy5Im9uOt+3Px1MRNhEWep2a+VNyXP1Wsx3jz/px0+3YzXy7bR+0CqaldIHXUuuJZkjKgbm5em76VrUfOEeSfiLLZk1EhR/Kbdg0pgqN/LAr0S0SyxH4kD/It/3DeLpZtP8mYFgUB6PtgLp6ftoVi764gVYg//R7KFWvhWkRERETk/4oXK0qTRg15pcfrV9w2dapUdO3ckb83bGT2nLkxbnP06FH6vTOQwoUKRls+eMgwlixdyu8rlpIiRQo6PNOJLs8+z+SJ42/KdYjcKR6tUoSnh35Hr+b3RC1LFpyY/q3vo/WgbwkNj6BO6buoUyZfrMfo16oWzwz9ns9mruSBsvl4oNzFbUvmycwHHR7k5c9msmXvEYID/SlfIBsVC2WP9XjXKiw8gle++Jnt+4/h75eIQtnTM+HVJmRK7Rs9PGn+Ot6fsjCqcPxKk2o8P/Inij0zlODAALrUq0jNknluWh65Pcy52JqjiYiI3Bpm5k6vmuZ1jATjvS8ns2r9JsYOeCVq2QsDRoJzDHypPaOm/cIHX33L7gOHSJsqBc+1bECbR+sAl7ZlTlKqHmunjiBPdt8diO17DiZL+jT07NgcgJ/mLaf38LHs2HOAArmzMrj7MxTNl/OWXduR4yfJdndzdvw2mjQpYy/0fPntz0z4cW60kbv/1aHnYAA+7t0VgNHf/cpXU2epuBsHJClVD+eceZ0jrjIzt7t3Ra9jiEey9Fys3w8REREBfO8Lz4ee9jrGTfXOwPdYsWIVkyaMjVrW9bkXcA4+HDSQL74axYD3PmDX7t2kS5uWl154jg7t2gCXtmVOlDgJG9evJW9eXxGjVdv2ZMmShbd79wTgh+k/8Xqv3mzbvoNCBQvw0dDBFCt6azo3Vb27Jm1atbzsyN3/+/TzLxk7fkKMI3ef6tiFYkWLMGnyFB5/rGnUyN2nO3UlWbKkvNvP9xl4+o8zeP6lV/h73ZqbeRlxSqLESfS+OJ4yM3dkUg+vY4hHUjfqo9/d65DI6wAiIiJyazW6ryozF67k5OkzAERGRjJl1kIa16kOQPrUKflm8Gvsmz+BEb268PL7n7H6ry3XfJ41f//DU72HMKTH0+ycPZrWDevQ+Nk+hP5r3pF/K9e4C5mrNYvx0a3fiKs658JV68mQNtVlC7tX4/TZc0z9dRGPP3xPtOW///0P2e9pTvH6T9N/5NdERETe0HlERERERETk6jVt1IgfZ8zk5MmTgO/z7KTJU2jWtDEA6dOl5/tvv+H4oX18PnIEz734MqtWr77m86xes4Y2HZ5ixLAhHNq7k/ZtW1OvYWNCQ0Nj3L546XKkSp85xscznbtd9/Vei2XLV7By1Sqeat/2knVtWrVk0eIl7NmzlzNnzjBuwgTq1K51W3KJiMitp7bMIiIid7jsmdNTokAevpu9hMcfuoc5y/8gJCgx5YrlB6BO1TJR21YtXYR7K5Rk0eo/KVnw2lqyfDFlJm0a1qZsUd9xmz98DwM/n8SyPzZQtfSlc1Eum/jhDVwV7N5/iGf7f0z/51rf0HEApv26mDQpk0fLWaVUYZZPGkL2TOn4c8sOWr4yAD8/P15s/egNn09ERERERESuLEeO7JQqWYJvp33HE80f57fZcwgJDqFC+XIAPPhAnahtq1eryn0172X+gkWUKlnyms7zyadf0L5tG8qXKwtAyxbN6ffOQJYsXUb1alUv2f73lctu4KpuXGRkJB27dGPIB++TKNGl47fuypuHbFmzkjVXXvz8/ChapDBDPnjfg6QiInIraOSuiIhIAtC4TjUmzZgPwMSf5tK4TrWodTMXrqTGEy+StcbjZK7WjJkLVnL42IlrPseOvQf5cMzUaCNwd+0/xN6DR27adfzfwaPHqftMT9o3uj/atVyvsT/8RrMH78bsYheYXFkzkjNLBhIlSkSRu3LySvsmTP1l0Q2fS0RERERERK7eY00aM+HrSQCM/3oij10YtQvw04yZVKxagzQZs5IqfWZ+nDGTQ4cPX/M5duzYwfsffBhtBO7OXbvYs3fvTbuOm2n4iE8oWrRIVJH7vzp1fZbQ0FAO7d3JqaMHeaR+PR6o+8htTikiIreKRu6KiIgkAI/Uqsyrg75g9/5DfD97Kb99+Q4AoWHhPP5if0a+2Y2HqpcnIMCfJs/1xTkX43FCghJz5tzFtlT7Dx0lS/o0AGTNkJaXWjfipbaNY9z3v8o82okdew/GuK7pA9X5sMczMa47euIUdZ/pyQPVy131uS5n176DzF+5jiGxnO//DMMR8+siIiIiIiIit0ajho/wwsuvsmvXbr6d9j2L5v4GQGhoKI82fZyvPh9JvYcfIiAggEcebRL759mQEM6cPRP1fN++/WTJkgWArFmz0v2Vl+jxyktXlalIiTJs37EjxnWPP9aUEcNurFPVlfw2ew5z5y/gpxkzAThy5Cir1/zOmt/XMnTw+6z5fS1v9+5F6tSpAej8zFP07P0Whw4dIm3atLc0m4iI3Hoq7oqIiCQA6VKloGrpInTo9SE5sqSnQO5sAISFhxMaFkHaVCnw9/dj5sKV/LpkNYXyZI/xOMXy52LijLkUypONX5f8zoJV6ylVKC8ArRrUounz/bi7fHHKFMnHmXOhzF+xjsqlCpEsScglx1rxzdBrvo4Tp85Qr2MvKhYvyFtdWl5x+8jISMIjIomIjOT8+fOcCw3DL1EiAgIuvgUaP30OFYoVIHe2TNH2nblwJSUK5CFDmpRs2LqL/p9OpEHNytecWURERERERK5funTpqFGtKq3bdSBXzhwULFgAgLCwMEJDQ0mXNi3+/v78NGMmP//yK4ULF4rxOCWKF2PchIkULlSIWb/8ytz5CyhduhQA7dq0okHjptS8527KlS3DmTNnmDN3PtWqViZZsmSXHGvdmhXXdS1hYWGcP38e5xzh4RGcO3eOwMDAGFsrR0ZGEh4eTkREhO/z7Llz+Pn5ERAQwBeffsy5c+eitm3YpBkNH6lPm1a+z8lly5Rm9Nhx1KhelZCQEIZ/PJLMmTOpsCsicodQcVdERCSBaFynGu3e+IC3u14siiZLEsLAF9vS4uV3CQuL4P5qZXmwWsxtnQAGvNiW9m8M5pOJP/JQjQo8VKN81LpShe5i6GudeO6dT9iyYy9BQYFUKlGQyqVi/mB9Pb6bvYSV6zfx15YdjPn+t6jlK78ZSrZM6Zjw4xwGfv5NVOF43PQ5PNXr4h3TaSo24vGH7+GT3l2jlo2bPptuT1zanmrOsrV06DmY02fOkT5NSpo+UF3z7UqclNjf9mfpuTiD1znEG4n9bb/XGURERERutceaNqZl63a80/ftqGXJkiVj8PsDafJ4C0JDw3j4wfup+9CDsR7jg/cG8GSb9gwf8Qn16z5E/boPRa0rU7oUnwwfSuduz7Fp8xaCg4OoUqkS1are3Bt8az9Yl7nzfFMmLVq8hA7PdOK3n3+iRvVqjB0/gX7vDIwqHI8eO47W7Z6K2jckRRpatnicLz79hJQpU0Y7bmBgIMmTJydFihQADOjfl67PvUC+wsUICwunSOFCTJk44aZei8jNEhTgvz91oz76TJtABQX46zPtdbDY2lSIiIjcKmbmTq+a5nUMEYknkpSqh3POrryliIiIiEjCZWbufOhpr2OIeCJR4iT63CgiCcal/R5ERERERERERERERERERCTOUXFXRERERERERERERERERCQeUHFXRERERERERERERERERCQeUHFXRERERERERERERERERCQeUHFXRERERERERERERERERCQeUHFXRERERERERERERERERCQeMOec1xlERCSBCQ5KvO9caFgGr3OISPwQlDhw/9lzoRm9ziEiIiIiEpcFBwfvO3funD5rS4IUFBS0/+zZs/rcKCIJgoq7IiIi8ZyZFQYmAOuBp5xzx7xNlPCY2YPAp8DHwNvOuQiPI4mIiIiIiAhgZimBtUBb59zPHse5LmY2CMgMNHX6Ql9EJMFTW2YREZF4ynyeBuYA7wOPqbDrDefcdKAUUBmYY2Y5PI4kIiIiIiIiPkOBafG1sHtBd6Ao8JjXQURExHv+XgcQERGRa2dmaYDPgGxAZefcRo8jJXjOub1mVht4HlhuZp2ccxO9ziUiIiIiIpJQmVljoAy+m3HjLefcWTNrDswws/nOuZ1eZxIREe+oLbOIiEg8Y2Z3A6OAr4HuzrkwjyPJf5hZGWAcMB/o4pw77XEkERERERGRBMXMMgOrgYecc8u9znMzmFkP4G7gPufcea/ziIiIN9SWWUREJJ4wswAz6wuMAdo4515QYTducs6twHdneCJglZnF67vERURERERE4hMzM+BzYPidUti94B0gCdDJ6yAiIuIdjdwVERGJB8wsN76RoIeBVs65Ax5HkqtkZk2BD4H+wAe6u1pEREREROTWMrOngVb4pjEK9zrPzWRmeYHFQDXn3F9e5xERkdtPxV0REZE4zsweBz4A3gY+dPrjHe+YWS5gLHACeNI5t8/jSCIiIiIiInckM8sHLMJX2N3gdZ5bwcyeAtoCFe+04rWIiFyZ2jKLiIjEUWaW3MxGAa8BtZxzg1XYjZ+cc1uBasAyfG2a7/c4koiIiIiIyB3HzPyB0UCvO7Wwe8HHwAHgda+DiIjI7afiroiISBxkZuWAVcBZoIxzbo23ieRGOecinHNvAE2Bj81skJkl9jqXiIiIiIjIHeRV4Bgw3OMct9SFG7/bAO3NrILXeURE5PZScVdERCQOMbNEZvYK8APwsnOug3PutNe55OZxzs0DSgDZgaVmVtDbRCIiIiIiIvGfmZUBOgGtnXPnvc5zqznn9uK73tFmlsTrPCIicvuouCsiIhJHmFkWYBZwP1DaOTfZ40hyizjnjgCP4rubfJ6ZtTMz8ziWiIiIiIhIvGRmwfjaMXd1zu32Os/t4pz7BlgCDPA6i4iI3D6mqftERES8Z2Z1gU+AYUBf51ykx5HkNjGzQsB4YCPQ3jl31ONIIiIiIiIi8YqZDQbSOeeaeZ3ldjOzlMDvQAfn3AyP44iIyG2gkbsiIiIeMrNgMxsGDAYaOOfeUmE3YXHO/QmUB/YAa8ysqseRRERERERE4g0zqwk0ADp6ncULzrljQCvgUzNL43EcERG5DVTcFRER8YiZFQGWAamBks65RR5HEo84584557oCzwATzay3mfl7nUtERERERCQuM7NUwOf45tlNsF2QnHO/AZOAjzTlj4jInU/FXRERkdvMfJ4BZgPvAc0u3GkrCZxzbjpQCqgIzDWznN4mEhERERERidOGAtOcc7O8DhIHdAeKAAmuNbWISEKjESEiIiK3kZmlBT4DsgCVnXMbPY4kcYxzbq+Z1QGeA5aZWWfn3Nde5xIREREREYlLzKwxUBrfDbIJnnPurJk1B2aY2Tzn3E6vM4mIyK1hzjmvM4iIiCQIZnYP8BUwAejhnAvzOJLEcWZWGhgPLAC6OOdOeRxJRERERETEc2aWBVgFPOScW+51nrjEzHoAdwP3OefOe51HRERuPrVlFhERucXMLMDM+gGjgTbOuRdV2JWr4ZxbycW70FeZme5IFxERERGRBO3CnLKfAcNV2I3RO0ASoLPXQURE5NbQyF0REZFbyMzyAOOAQ0Ar59wBjyNJPGVmTYEP8X1QH6Q7sEVEREREJCEys2eAJ/FNdRTucZw4yczyAouBas65v7zOIyIiN5eKuyIiIrfIhbluBgFvAUOc/ujKDTKznPhuFjgJtHTO7fM2kYiIiIiIyO1jZvmAhUAV59wGr/PEZWbWAWgPVFT3MBGRO4vaMouIiNxkZpbczMYAPYCazrkPVdiVm8E5tw2oBiwFVpvZA94mEhERERERuT3MzB/fdEe9VNi9Kp8A+4DXvQ4iIiI3l4q7IiIiN5GZlQdWA6eB0s653z2OJHcY51yEc+4NoAkwwsw+MLPEXucSERERERG5xboDx4DhHueIFy7cZN4WaG9mFbzOIyIiN4+KuyIiIjeBmfmZ2avAd8CLzrkOzrkzXueSO5dzbh5QAsgGLDWzgt4mEhERERERuTXMrAzQEWitzlhXzzm3F3gGGG1mSbzOIyIiN4eKuyIiIjfIzLIAs4A6QBnn3BSPI0kC4Zw7AjwKDAPmmVk7MzOPY4mIiIiIiNw0ZhaMrx1zF+fcbq/zxDfOucnAYmCA11lEROTmMN3oJCIicv3MrB7wMTAU6Oeci/Q4kiRQF0bujgc2A+0vFH5FRERERETiNTMbDKRzzjXzOkt8ZWYpgLXAU865n7zOIyIiN0Yjd0VERK6DmQWb2TDgA+AR59zbKuyKl5xzfwEVgF3AGjOr5nEkERERERGRG2JmtYAG+Foyy3Vyzh0HWgGfmlkar/OIiMiNUXFXRETkGplZEWA5kBoo4Zxb7HEkEQCcc+ecc92Ap4CvzexNM/P3OJaIiIiIiMg1M7NUwGf45tk96nWe+M459xvwNfCRpvMREYnfVNwVERG5SubTEZiNb66aZhfufhWJU5xzPwIl8Y3knWdmOb1NJCIiIiIics2GAlOdc7O8DnIH6Q4UBtTiWkQkHtNIDhERkatgZmnx3TGcBajknNvkcSSRy3LO7TOzOsCzwDIz6+Kcm+B1LhERERERkSsxsyZAaaCU11nuJM65c2bWHPjZzOY553Z6nUlERK6dOee8ziAiIhKnmdk9wChgHPCacy7M40gi18TMSgPjgYVAZ+fcKY8jiYiIiIiIxMjMsgCrgAedcyu8znMnMrMewD1ALefcea/ziIjItVFbZhERkViYWYCZ9QdGA62ccy+psCvxkXNuJb473h2w6kKxV0REREREJE65MBfsZ8AwFXZvqXeAYKCz10FEROTaaeSuiIhIDMwsD76RjgfwFXYPehxJ5Ka40N5sCPAu8L7u0hYRERERkbjCzJ4BWgKVnXMRXue5k5lZXmAJUM0596fXeURE5OqpuCsiIvIfZtYCeB94Exjq9MdS7jBmlhMYC5wGWjrn9nqbSEREREREEjozyw8swFfY3eh1noTAzDoA7YGK6lQmIhJ/qC2ziIjIBWaW3MzGAK8C9zrnhqiwK3ci59w2oDqwGF+b5ge9TSQiIiIiIgmZmfkDo4CeKuzeVp8A+4DXvQ4iIiJXT8VdERERwMwqAKuBU0AZ59xajyOJ3FLOuQjnXE+gCTDczAabWZDXuUREREREJEHqDhwFPvI6SEJy4Yb2tkC7C9+LiIhIPKDiroiIJGhm5mdm3YFpwIvOuaecc2e8ziVyuzjn5gElgCzAUjMr6G0iERERERFJSMysLNARaK3uWbffhWl6OgKjzSyJ13lEROTKVNwVEZEEy8yyALOA+4DSzrkpHkcS8YRz7ijQCBgKzDOz9mZmHscSEREREZE7nJmFAKOBLs65PV7nSaicc5PxTdsz0OssIiJyZaaboUREJCEys3rAx8AQoL9zLtLjSCJxwoWRu+OBLUA759wRjyOJiIiIiMgdysw+BNI45x73OktCZ2YpgLXAU865n7zOIyIisdPIXRERSVDMLNjMhgODgEecc31U2BW5yDn3F1AB2AGsMbPqHkcSEREREZE7kJnVAuoDnTyOIoBz7jjwJPCpmaXxOI6IiFyGirsiIpJgmFlRYDmQEijpnFvsbSKRuMk5d8459yzwFDDBzN4yM3+vc4mIiIiIyJ3BzFIBn+ObZ/eo13nExzk3G/gaGKGpekRE4i4Vd0VE5I5nPp2A34ABwOMX7kgVkctwzv0IlATK4ZuLN5fHkURERERE5M4wDJjinPvF6yByie5AIUCtskVE4iiNwBARkTuamaXFdzdwJqCSc26Tx5FE4hXn3D4zux/oBiw1s67OufEexxIRERERkXjKzJrgu4m0lNdZ5FLOuXNm1hyYaWbznHM7vM4kIiLRmXPO6wwiIiK3hJndC3wFjAVed86FeRxJJF4zs1LAeGAR0MU5d9LjSCIiIiIiEo+YWRZgFfCgc26F13kkdmbWHagJ1HTOnfc6j4iIXKS2zCIicscxs0Az6w+MAp50zr2swq7IjXPOrQJKA+eBVWZWxuNIIiIiIiIST1yYw/VzYJgKu/HCu0AQ0MXrICIiEp1G7oqIyB3FzPLiG1m4H2jlnDvocSSRO5KZNQaG4pvH+j3dyS0iIiIiIpdjZh2BJ4DKzrkIr/PIlV34jmUJUM0596fXeURExEfFXRERuSNcuAO4BfAe8CYw1OmPnMgtZWY58bU9PwM84Zzb620iERERERGJi8wsP7AAX2F3o9d55OqZWXugA1BRXdFEROIGtWUWEZF4z8ySA2OAl4F7nXNDVNgVufWcc9uA6sBCYLWZPeRtIhERERERiWvMLADftEk9VdiNl0YCe4E3vA4iIiI+Ku6KiEi8ZmYVgNXACaCsc26tx5FEEhTnXIRzrhfQCBhmZh+aWZDHsUREREREJO7oDhwFPvI6iFy7CzfPtwXamllFr/OIiIiKuyIiEk+ZmZ+ZdQemAS845552zp3xOpdIQuWcmw+UADIBS82skLeJRERERETEa2ZWFngGaK0OW/GXc24f0BEYZWZJvM4jIpLQqbgrIiLxjpllBX4B7gNKO+e+9TiSiADOuaNAY2AIMNfMOlyYD1tERERERBIYMwsBRgOdnXN7vM4jN8Y5NxlYBLzndRYRkYTOdMOUiIjEJ2ZWH/gYGAy845yL9DaRiMTEzAoA44GtQFvn3BGPI4mIiIiIyG1kZkOA1M65x73OIjeHmaUA1gJPO+d+9DqPiEhCpZG7IiISL5hZiJl9BLwP1HPO9VVhVyTucs79DVQAtgNrzKyGp4FEREREROS2MbNaQD2gk9dZ5OZxzh0HngRGmllaj+OIiCRYKu6KiEicZ2bFgOVAcqCkc26Jx5FE5Co450Kdc88CHYBxZva2mQV4nUtERERERG4dM0sFfA60ujB1i9xBnHOzga+BEZqGR0TEGyruiohInGU+nYFfgXeA5hfuEhWReMQ59xNQEigDzDOzXB5HEhERERGRW2cYMMU596vXQeSW6Q4UBJp7HUREJCHy9zqAiIhITMwsHb47fTMCFZ1zmz2OJCI3wDm338weALoBy8ysq3NunMexRERERETkJjKzpvhu7CzldRa5dZxz58ysOfCzmc11zu3wOpOISEJizjmvM4iIiERjZjWBr4AxwOvOuTCPI4nITWRmpYDxwBKgk3PupMeRRERERETkBplZFmAV8KBzboXXeeTWM7PuQE2gpnPuvNd5REQSCrVlFhGROMPMAs3sHeBLoKVz7mUVdkXuPM65VUBpIBxYZWZlPY4kIiIiIiI34MLcq58DQ1XYTVDeBRIDXbwOIiKSkGjkroiIxAlmlhffSL69QBvn3EGPI4nIbWBmjYGhwEBgoO72FhERERGJf8ysI9ACqOKci/A6j9w+ZpYHWApUd86t9zqPiEhCoOKuiIh46sLdvU/gK+z0BoY5/XESSVDMLAcwFjgLPOGc2+txJBERERERuUpmlh9YCFRyzm30Oo/cfmbWHngKqKAObCIit57aMouIiGfMLAW+gs5LwL3OuaEq7IokPM657UANfF8IrTazh7xNJCIiIiIiV8PMAoDRwOsq7CZoI4E9wBteBxERSQhU3BUREU+YWQVgNXAMKOOcW+ttIhHxknMuwjnXC2gEDDOzD80syONYIiIiIiJyed2Bw8AIr4OIdy7cqN8WaGtmFb3OIyJyp1NxV0REbisz8zOzHsA04Dnn3DPOubNe5xKRuME5Nx8oAWQElplZIW8TiYiIiIhITMysHPAM0EZduMQ5tw/fz8NoM0vqdR4RkTuZ5twVEZHbxsyy4mvXBNDCObfLyzwiEnddmI+7NdAfeB34WF8YiYiIiIjEDWYWAqzC1455ktd5JO4ws6+As865p7zOIiJyp1JxV0REbgszewRfm6bBwDvOuUiPI4lIPGBmBYDxwDagrXPusLeJRERERETEzIYAqZxzzb3OInGLmaUAfgeecc796HUeEZE7kdoyi4jILWVmIWY2AngPqOec66vCrohcLefc30AFYCuwxsxqeBpIRERERCSBM7P7gHpAJ6+zSNzjnDsOPAl8amZpPY4jInJHUnFXRERuGTMrBiwHkgElnXNLPI4kIvGQcy7UOfcc0A4YZ2Z9zCzA61wiIiIiIgmNmaUGPgNaOeeOeRxH4ijn3Bx8HZhGXJhyR0REbiIVd0VE5KYzn87Ar0B/59zjF+7cFBG5bs65GUBJoBQw38xyexxJRERERCShGQZMds796nUQifN6AAUAte4WEbnJ/L0OICIidxYzSwd8AaQHKjrnNnscSUTuIM65/Wb2INAVWGpmXZ1z47zOJSIiIiJypzOzpkBxoLTXWSTuc86dM7MWwM9mNtc5t8PrTCIidwpzznmdQURE7hBmVgv4EhgF9HTOhXmbSETuZGZWEl+rr6VAJ+fcSY8jiYiIiIjckcwsC7AKeMA5t9LrPBJ/mNmrQC2gpnPuvNd5RETuBGrLLCIiN8zMAs3sXXwjdp9wzr2qwq6I3GrOudX4Rg2EAavNrKzHkURERERE7jhmlgjf5/2hKuzKdXgXSIyv+5KIiNwEGrkrIiI3xMzuAsYBe4HWzrlDHkcSkQTIzBrhm//rPWCA7ggXEREREbk5zKwTvnlTqzjnIrzOI/GPmeUBlgA1nHPrvc4jIhLfqbgrIiLXxcwMeAIYCPQChjv9URERD5lZdmAsEIqvi8AejyOJiIiIiMRrZlYAmA9Ucs5t8jqPxF9m1g54Gqigbm8iIjdGbZlFROSamVkKfKN1XwTucc4NU2FXRLzmnNsB3I3vy6dVZvawx5FEREREROItMwsARgNvqLArN8GnwG6gp9dBRETiOxV3RUTkmphZRWA1cBQo65z7w+NIIiJRnHMRzrnewKPAEDMbYmbBXucSEREREYmHegCHgBFeB5H478KggHZAGzOr5HUeEZH4TMVdERG5KmbmZ2avAd8CzzrnnnHOnfU6l4hITJxzC4CSQAZgmZkV9jiSiIiIiEi8YWbl8LXQbaNOXXKzOOf2Ac8Ao8wsqdd5RETiK825KyIiV2Rm2fC1YjoPtHDO7fY4kojIVbkwP3gr4B3gDWCEvpwSEREREYmdmYXg69j1mnNuktd55M5jZl8C55xzT3mdRUQkPlJxV0RELsvMGgAfAR8A7zrnIr1NJCJy7cwsPzAe2A60dc4d9jiSiIiIiEicZGZDgZTOueZeZ5E7k5mlAH4HOjrnpnudR0QkvlFbZhERiZGZhZjZx8AAoK5zrp8KuyISXznnNgAVgS3AGjO72+NIIiIiIiJxjpndBzwMdPI6i9y5nHPHgZbAJ2aW1us8IiLxjYq7IiJyCTMrDqwAkgAlnXNLPY4kInLDnHOhzrkXgLbAWDPrY2YBXucSEREREYkLzCw18BnQ2jl3zOM4codzzs3F113p4wvT6YiIyFVScVdERKKYTxfgF6Cvc665c+6E17lERG4m59xMoOSFx3wzy+1xJBERERGRuGA4MNk596vXQSTBeA3IB7TwOoiISHyi4q6IiABgZumA74HHgQrOuTEeRxIRuWWcc/uBh4AJwFIze9zjSCIiIiIinjGzx4BiwKteZ5GEwzl3Dl9h9z0zy+51HhGR+MKcc15nEBERj5lZLeBLYBTwhnMu3NtEIiK3j5mVxNcObBnQ0Tl30uNIIiIiIiK3jZllBVYCDzjnVnqdRxIeM3sFuA+o6Zw773UeEZG4TiN3RUQSMDMLNLMBwBdAC+fcqyrsikhC45xbDZQGQoHVZlbO40giIiIiIreFmSUCPgeGqLArHhoABAJdvQ4iIhIfaOSuiEgCZWZ34Rupthto45w75HEkERHPmdmj+OYaex94V3eNi4iIiMidzMw6A82Aqs65CK/zSMJlZnmApUB159x6r/OIiMRlKu6KiCQwZmZAS3x3RfYEPnL6YyAiEuXCXE9jgHB8XQ32eBxJREREROSmM7MCwHygknNuk9d5RMysLdARKO+cC/M6j4hIXKW2zCIiCYiZpQDGAS8AdzvnhquwKyISnXNuB3A3MBdYZWYPexxJREREROSmMrMAYDTwugq7Eod8BuzENxhBRERioeKuiEgCYWYVgTXAEaCsc26dt4lEROIu51ykc+5NoCEwxMyGmlmw17lERERERG6SHsBB4GOvg4j834UBCO2ANmZWyes8IiJxlYq7IiJ3ODPzM7PXgW+Bbs65js65s17nEhGJD5xzC4ESQFpgmZkV8TaRiIiIiMiNMbNywNNAG3XzkrjGObcf38/nKDNL6nUeEZG4SHPuiojcwcwsG755IyPxzRu52+NIIiLx0oX5yp8E3kXzlYuIiIhIPGVmIcBq4DXn3CSv84jExsy+AMKccx28ziIiEteouCsicocyswbAR8AgYIBzLtLjSCIi8Z6Z5QPG45sHqq1z7pDHkURERERErpqZDQVSOOdaeJ1F5HLMLDnwO9DJOTfd6zwiInGJirsiIneYC3fhfgDcAzRzzi3zNpGIyJ3FzBIDfYAmwBPOudkeRxIRERERuSIzqw2MBIo55455HEfkisysOr6ba4s75w56nUdEJK7QnLsiIncQMysOrASCgVIq7IqI3HzOuVDn3AtAW2CsmfU1swCvc4mIiIiIxMbMUgOfAa1U2JX4wjk3FxgHjLgwVY6IiKDirojIHcF8ugK/AH2ccy2ccye8ziUicidzzs0ESlx4LDCzPJ4GEhERERGJ3XBgknPuV6+DiFyj14B8gFqJi4hcoOKuiEg8Z2bpgR+AZkAF59wYjyOJiCQYzrkDwIP47iZfYmbNPY4kIiIiIhKNmT0GFAO6e51F5Fo5584BzYH3zCyH13lEROICzbkrIhKPmdl9wBfAV0BP51y4x5FERBIsMyuBbz6oFUBHdVAQEREREa+ZWVZgFVDHObfK6zwi18vMXgFqA/c65857nUdExEsauSsiEg+ZWaCZDcA3X04L51x3FXZFRLzlnFsDlAHOAKvMrJy3iUREREQkITOzRPhuCP9QhV25AwwAAoBuHucQEfGcRu6KiMQzZpYP38iwXUAb59whjyOJiMh/mFlD4CPgfeBd3VkuIiIiIrebmXXGN4VTVedchNd5RG6UmeUGlgI1nHPrvc4jIuIVFXdFROIJMzPgSeBdoCfwkdN/xEVE4iwzywaMASKAJ5xzuz2OJCIiIiIJhJkVAOYDFZ1zm73OI3KzmFlboCNQ3jkX5nUeEREvqC2ziEg8YGYp8Y3WfQ642zk3XIVdEZG4zTm3E7gHmAOsNLN63iYSERERkYTAzALw3WT4ugq7cgf6DNgJ9PI4h4iIZ1TcFRGJ48ysErAaOASUc86t8ziSiIhcJedcpHPuLaAB8IGZDTOzYK9ziYiIiMgd7TXgAPCx10FEbrYLgx3aAa0ufGcmIpLgqLgrIhJHmZmfmb0BTAG6Ouc6OefOep1LRESunXNuEVASSA0sM7MiHkcSERERkTuQmZUHOgBt1PFL7lTOuf3A08AoM0vqdR4RkdtNc+6KiMRBZpYdXwulcDRPo4jIHePC/OktgQH42oipzb6IiIiI3BRmlgRf56/uzrlvvM4jcquZ2RdAmHOug9dZRERuJxV3RUTiGDNrCAwHBgEDnHORHkcSEZGbzMzyAeOA3fhGVRzyOJKIiIiIxHNmNgxI7pxr4XUWkdvBzJIDvwOdnXM/eJ1HROR2UXFXRCSOuHCH7SDgHqCZc26Zx5FEROQWMrNAoA/wGL4uDb95HElERERE4ikzqw2MBIo55455HEfktjGzasAEoLhz7qDXeUREbgfNuSsiEgeYWQlgBRAElFRhV0TkzuecC3POvQi0BkabWT8zC/A6l4iIiIjEL2aWBvgMeFKFXUlonHPzgLHAxxemwRERueOpuCsi4iHz6QbMAt52zj3hnDvpcSwREbmNnHM/AyWBYsACM8vjcSQRERERiScuFLOGA5PUCUYSsNeBu4AnvA4iInI7qLgrIuIRM0sPTMfXjrO8c26sx5FERMQjzrkDwEP47jhfYmbNPY4kIiIiIvHDY0BRoLvXQUS84pw7BzQHBppZDq/ziIjcappzV0TEA2Z2H/AF8CXQyzkX7m0iERGJK8ysOL45o1YCzzjnTngcSURERETiIDPLhu89Yx3n3Cqv84h4zcxeBuoA9zrnznudR0TkVtHIXRGR28jMAs1sIL65cJo753qosCsiIv/mnPsdKA2cBlabWXmPI4mIiIhIHGNmifDdND5YhV2RKAMBf6CbxzlERG4pjdwVEblNzCw/MA7YCbRxzh32OJKIiMRxZtYA+Aj4AHjXORfpbSIRERERiQvMrAu+lsxVnXMRXucRiSvMLDewFLjbObfO6zwiIreCirsiIreYmRnQCngHeAMY4fQfXxERuUoX2u2NASKBFs653R5HEhEREREPmVlBYB5Q0Tm32es8InGNmbUBOgPlnHNhXucREbnZ1JZZROQWMrOU+OZNfBbfHYMfqbArIiLXwjm3E7gH+A1YaWb1PI4kIiIiIh4xswBgNPCaCrsisfoc2AH08jiHiMgtoZG7IiK3iJlVBsYC3wMvOefOehxJRETiOTOriK/F/0/A8/rbIiIiIpKwmNmbQGngId08LhI7M8sArAEedc4t9DiOiMhNpZG7IiI3mZn5m9kbwGSgs3Ous758FxGRm8E5txgoAaQClptZUW8TiYiIiMjtYmblgfZAWxV2RS7PObcfeBoYZWbJvM4jInIzaeSuiMhNZGbZ8Y3WDQWecM7t8TiSiIjcgS7M5/4EMBBfq7Hh+oJPRERE5M5lZkmA1UB359w3XucRiS/M7HMgwjnX3ussIiI3i4q7IiI3iZk9CgwH3gMGOOfOexxJRETucGZ2FzAe2AO0ds4d8jiSiIiIiNwCZjYMSOace8LrLCLxiZklB37H113vB6/ziIjcDCruiojcoAt3z34A1ACaOeeWexpIREQSFDMLBN4GmgEtnXO/ehxJRERERG4iM6sDfAwUc84d9zqPSHxjZtWACUBx59xBr/OIiNwozbkrInIDzKwEsAIIBEqpsCsiIrebcy7MOfcS0ArffFL9zSzA61wiIiIicuPMLA3wKdBKhV2R6+OcmweMAT6+MMWNiEi8puKuiMh1MJ9uwM/AW865ls65kx7HEhGRBMw5NwsoARQBFppZHm8TiYiIiMiNuFCE+giY5Jz7zes8IvHc60BeQK3NRSTeU3FXROQamVkGYDrQFKjgnBvncSQREREALrQYexgYDSwxsxYeRxIRERGRa2Bmxc2s0oWnzYDCQHcPI4ncEZxzoUALYKCZ5fQ4jojIDVFxV0TkMsws77/btZhZbWA1sAqo6pz7x7NwIiIiMXA+Q4B7gVfNbIyZJf//ejPLYGbJvEsoIiIiIpfRHKhmZtmAQUBz59xZjzOJ3BGcc78DA4AvzUy1ERGJt/QfMBGRWJhZPmAxkMjMEpvZe/jmuXncOfeacy7c24QiIiKxc86tBcoAp4DVZlbhwqom+Nr7iYiIiEjccxewBfgCGOycW+1xHpE7zXv46iLPeh1EROR6qbgrIhK73sD7+ObjWAzkBko452Z7mkpEROQqOefOOOeeAl4EpplZd+AroKaZFfU2nYiIiIjEIC9QGggBvjazUWb2sMeZRO4YzrlIoCXwipkV8TqPiMj1UHFXRCQGZlYcqAEcAxYAnwANnHOHPYwlIiJyXZxzU/B9SXgfMBUYAbzlZSYRERERie5Cm9i8QDvgb2ApsBn41ctcInca59xW4BVgjJkl9jqPiMi1Muec1xlEROIcM/sJyAD4A50u/C/Oud+8zCUiInI9zCwNcDewCagHPIPvb9uDzrmlXmYTERERER8zy42vJfMpYDTQ2zm339tUIncmMzN8N77+6Zx71eM4IiLXRMVdEZH/MLNHgCnAASAAOA+sB35yzvX3MpuIiMj1MLO8wDtAQXzTDBwAMgM7nHO5vcwmIiIiIj5mlh/4GmjqnPvb6zwidzozSw/8DjzqnFvodR4Rkaul4q6IyH+YWRngMeA7fHfvHfQ4koiIyE1jZoH42v2VAQo75172OJKIiIiIiIgnzKwe8D5Qwjl38kJ7dOdUOBGROEzFXRERERERERERERERSZDM7DPgvHOunZkNBhY65yZ6nUtEJDYq7kqCFByUeN+50LAMXucQuV5BiQP3nz0XmtHrHCIiN0Nw4oB958Ii9HdZRDwRFOi//2xouN5XiUi8ExwcvO/cuXN6DyV3vKCgoP1nz57V32q5ZcwsObAG6AqUBBI753p4GkpE5DJU3JUEyczcmT9meh1D5LqFFK2Nc868ziEicjOYmTsypZfXMUQkgUrdoJfeV4lIvGRmzkVGeB1D5JYzP3/9rZZbxsyyAwZkxzfndS+gpnOusZe5REQuJ5HXAURERERERERERERERDxQGlgF1AO+AR4D8nqaSETkClTcFRERERERERERERGRBMc59y1QBEiKr7BbCChoZhotLiJxloq7IiIiIiIiIiIiIiKSIDnn9jrnngKqAX8CQUB6b1OJiMROxV0RERERuWMU7zCIOb9v8TpGNP0nzKbDB5Nv2vEmzV1Lg96jYl3/8OtfMGrWypt2vquVrVkftu07csPHiSvXt2DdVgq3fe+mHa/jkG/pM+7Xm3a8y1n853bKdRpyW84lIiIiInKncM795Zy7GyjrnNvvdR4RkdiouCtyQYHaT5C6zMOkK1cv6rHnwGEAtu3aR5Jidejy1odXfbzvf1tE+UefJkOFR8hWtRH3t3mJbbv2XdW+IUVrs2XH7uu6jv8LCw8nW9VGnDpzlskz5nJ3826kKVuX2q1evGTb3//eQqXGHUlTti6VGnfk978vfinunOO19z8la5VHyVrlUV57/1Occ1eV4e3ho0le8oFor+n7n0+MWl+71YtkrtSQ0LCwG7rWG/XvfOnK1SNp8ft5ru+wS7br+9EYQorW5rfFq2I8zs69By45VkjR2gz+6puobQ4eOcaTL/UjY8VHyFypIa1e7n/JcY4cP0H2ao2594nnbt5FiojEM8U7DCJz07fJ1qwP+VsNoOOQbzl1NtTrWHFCo+rFmNLzCU/OfbkC5c5xPciZMfUNn8PL67ucuHLjQOoGvfhn7+HLblOxUA6WDe18ewJdh+HfL6ZA6wFkf7wvnYZOJTQ8Isbtlm/YySO9RpH7if7c9eS7PDlgIvuOnIxaf/z0WZ758FvyPfku+Z58l/4TZkfbf+nfO6j50idkb9aXKs8OZ8lf22/pdYmIJHSFixZjzpw5XsfwzNix47ivdh2vY4jITeCcW+F1BhGRy1FxV+RfvhnSm4PLpkU9MqdPA8DY738hVfKkTJ4x96oKkVt27KZdjwH0f6E9+xZP4c8ZX9Gh6cP4+d2+X7kFK/6gWP7cJA0JJlWKZHRq/gjPt258yXZh4eE07tKLxx66lz0Lv6F5vVo07tKLsPBwAD6b9CPfz17Mkm8+YunkEfw4dymfTpp+1TkerV092mv63IUM23fvY+GqdZjB9NlLrvs69x86et37/t+/822dM4HgxIE0uK9atG3+2bmHb3+eT8Z0sX9pnS1T+mjHWj7lYxIlSkT9mlWitnns2TfJkDY1G34ew/a5X9P1yUcvOc5rgz4jf65sN3xdIiLx3bhXH2PnuB7MHtiB1Zv38N4387yO5LmIyEivI0gcdyt/Rs6GhnPyBm+y+HX1ZgZPWcC3vVqy9uNn2b7/6CVF2f87dvocLe8rzZoR3fj9424kDQ6k09CpUeu7fz6TM6HhrPm4G7+8246Jc9cy9tfVABw9eYZmfcfTqX5lto5+hS71K/NY3/EcO3X2hvKLiMR1OXPnIThJUpImT0GGTJl5slVrTp06dV3HMj9/Nm/efNXbr/9jLTVq1LiucwH069+f+x94MNqyu/IXiHHZhAlfR2VMkiw5SZOnIEu27Dz3/PNEXvhbmDN3Hn755ZcYz9Wrd2/Mz5+JEydFLYuIiMD8/Nm2bdsVs27btg3z8yci4uINSo8/3oyfZ864qmuNy44cOcIjDRqSJFlycuTKzbhx42PddsDAgRQpVpxkKVKSK09eBgwcGG3962+8QdHiJfAPTEyv3r2jrZs+fTpVqlUjZeo0ZMychbbt2nPy5ElERETkylTcFbkC5xzjvvuFNzq3JMDfnx/nLL3iPmv//occWTJyd4WSmBnJkoRQv1ZVsmXyTdWw/I+/qfF4NzJVakCuux/j2T5Do4qptVo+D0D5R58mXbl6fDNjziXHj4yM5JUBH5OtaiMK1nmCj8ZNI6RobSIiLn6ZN3P+cmpXLQfAPRVL0bBOdTJdKFb/27zla4mIjKRTi0dIHBjIM4/XxznHnKVrABj73Sy6PNGQrBnTkSVDWrq0bMiYabOi9h/73Szy39eCrFUepd+IsRSo/USsI1v/bex3v1CuWAGa17uPMd/NuuL2/3bm7DnGff8L97d5ifvbvHRN+17J1FkLSJc6JZVLF4m2vFufobz1bBsCAwKu+lhjv/+FKqWLkCNLRgB+WbSSXfsO0ff5tqRIloSAAH9KFMwbbZ8la9bz56bttKh/341fjIjIHSJzmuTULHUXf+04AMBPy/6mYtdh5Gzej4df/4INuw5ess/+oyfJ0vRtjpw8E7Xs9y17uOvJdwmPiOSfvYd56LUvyNG8H3lbvkPrgRe/2Hvls58o0u59sj/el7tf+JjFf14c7RcZeZ73v5lHqacHk72Zb/2uQ8cB+GvHgahRhvlbDeD9fxWjwyIieXrwFLI360vFrsNYvflih44PpsyPOl6FLkP5YclfUevG/baaOq9+RvfPZ5DniXd45+s5jPttNfd3/yxqm9lrtlC+8xByNO/HSyOn898GG2N+XUX5zkPJ1aI/Dd8czc4DxwDfe5zun88g35Pvkv3xvlTuNpw/t19/57F/jyg9cvIMzfqOI/vjfan50if0GfdbVOYdB46SukGvaEXIf7davtbr+7f+E2bz5ICJdPhgMtmb+a5p855DDJo8n3xPvkuRdu/z25qLX1KP/XU15TsPJXuzvpR8+gO+nBnzDfpPDZ7CrkPHadZvPNma9eHDbxcAl/9ZXPvPXmo8P4LszfrSeuAkzoVFH506c8UGqj33ETmb96P2q5+yfpuvw8uUBeso8dQHnDhzDoBZqzZRoPUADh0/zYOvfQ5AtedGkK1ZH6YsWBfVPnrwlAUUaD2ATkOnXdJSuniHQQyZupAqzw4nR/N+F/KEx/5C/sfyDTt59qPvKdT2vajfw+s1Yc4amt9bkoLZ05MyaTAvNKrO+NlrYty2Vqm7qF+pMMlDgghJHEi7+8ux7O+dUetnrthAl/qVCUkcSPb0qWh+b0nG/uYr7i7bsJP0qZJSv1Jh/PwS0bh6cdImD+H7f/1+iYjcqb6fNpVTJ46zasVyVqxcydt9+lyyzb+LknFFtapVWbR4cVRxdu/evYSHh7N6zZpoyzZv3ky1alWj9vt99SpOnTjOr7N+Ztz4CYwc+elVnS916tT07N076th3gv37b7yLbMdOnQkMDGT/3j2MHT2Kpzt2ZP369TFu65xj1JdfcPTwIWb8OJ2hw4ZHFd4B8ubJy7v9+/HgAw9csu/x4yd4rXt39uzayV/r17F7925efOnlG84vcVNwUOJ9Zub0SLiP4KDEV9fSUkSuir/XAUTiukWr1rF7/yEa1anB31t2MOa7WTxyX9XL7lOiYF42bt3JS++M4MG7K1C6SH6ShgRHrfdL5Me7L3WgVOF87N5/kPpPv8YnE76nU4sGzPrqPUKK1mbpNx+RJ3uWGI//+eSf+HnBChZPGk6S4CCaP//2JdvMnL+MiR/2uuL1/bV5O0XuyoWZRS0rki8Xf23Zzn1VyvLXlu0UzZ87al3R/Ln5a7PvS+6/tmyn29tDmTaiD2WK5qfn4C/Yc+DQFc8JMO77X+j8REPKFi1AjeZd2X/oKBnSprrsPkvX/MlXU2cy9ecFlCp8Fy0fqUO9mpWj1nd9ewgTf4x55Ee2jOlZNmXEFXON/W4WzerWjPZ6TJk5j8QBAdSpVg4u/Uwco//fFPBKh2ZRy5b9/hf5cmalXY+B/LxgOTmzZqLf8+2oWrYY4CvaP9t3OMN6dmP9pq1XdyIRkQRg16HjzFq1iYfKF2TznkO0GzSZ0S83pUqRnHz0/WKa9R3H4sEdCQy4+NY2Q6pkVC6Sk6kL19O6TlkAvp67lgaVixDg70ff8bO5u0QevnuzJWERkazZsidq31J5M/NS4+okD0nMiB+W0mrgRNaM6EZQYADDvl/M5AXr+Pq1x8mbOQ3rt+0nJHEAJ8+G0qDXKDrWq8T47o8RHnmeDTsvFvpmLN/AqJeaMLRTffqM/42XRv7IrHfaAZAzY2qm92lFhpRJmbroT54aPIUV+bqQMXUyAFZu2kWDKkXY8MULhEec59uF66KOe/jEaVq++zVDOtXjgXIFGPnTMr6YuYLG1X1/W35c9jeDJs9nXPdm5MmUmg+mLKDtoG+Y2a8tv63ZwuI/t7N8WGeShwSxcfchUoQE3ZT/z178ZDqJA/3567MX2L7/KI3eGkP29Cmv+ThXur6YzFyxgTGvPMawzvXpPHQaj745hhY1S7H+0+cZN3sNz434gTUjugGQLkUSJvRoRs4MqVj053YavzWGknkzUzxP5mjHHNG1AYv/3M7gZ+pSo3gegMv+LAI07z+Bpx6uQLv7y/Hjsr9pN2gyXR/xvW9Z+89eOg+dxrjuzSiZJzMT562lWb/xLBvamQZVijBj+QZe/ewn3nqyNl2HTWPwM3VJmyIJ099uTeoGvZj3/lPkzuS7aW/Buq0cOHaKo6fO8vvHz3L+vGPlpl2XvC7TFq1n0uvNCQrwp073zxk/ew2tapeN9XXcd+QkE+f+ztjf1hAeEUmTGsWZM7ADOTL43q8t+Ws7TfuMi3X/CT2aUaFgjkuW/73jIPeXLRD1vEjODBw4dpojJ8+QOllIrMcDWPTndvJnSxdtmcP9699EKz7/dyqR/64XEbnTZcmShfvr1GbdOl9hzvz8GTrkQz4Y/CERERFs3bKZkSM/5Z0BAzhy5AhVKldmxEfDyZw5M9UujMAtXrIUZsZnI0fSpEljfvjhB157oyfbtm2jUKGCjBg+nGLFfH+Xc+bOw6effEzNmjXp1bs3f/75F0FBQXw7dSrZs2fnqy8+p0yZMrHmLVu2LOHh4axZs4bSpUszf/4C7q5Rg3+2/hNtWZ48ecicOfMl+xcoUICqVaqwLpZC5H/VqV2bdevXM2bMWFq2vHRKiOnTp/PaGz3ZsmULKVKkoE3rVvTq2ROAajXuBiBlat/f41kzZ7Bhw0Y+/fwzFsybx9PPdCRJkhAGDhgQdbx69R+hevVqPPfss+zZs4fOXboyb/58kiZNyrPdutKl8/VNqXDmzBkmT57CF199yb59+/lz3R/XdRyA06dPM3nKFNat/Z2kSZNSpUoV6j78MKPHjKF/v36XbP/Sixen/sqfPz/16tZl4aJFNG3aBCDqdR0bw+jfZs0ei/p3SEgI7dq2ped/RvfKneNcaFiGM+tjnt5FEoaQwvdm8DqDyJ1EI3dF/qVJ195kqtSATJUa0LhLLwDGfPcL91UpQ6oUyWjywN3MWriCA4ePXfY4ubJlYubnA9hz4BAtXuhLtqqNaN9jIKfO+NrAlSp8F+WKF8Tf348cWTLSptEDzF9x9W++p8ycxzOP1ydrxnSkSpGM59s0ibb+n517iIiMJN9VtPY9deYsKZIlibYsRdIknDx99sL6c6RIGhJt3akzZ3HO8e3P83mgRgUqlSpCYEAAr3d8AsOiHWvyzHlRr2mmSg3Yc+Awi1atY8feAzSsXY1She8id9ZMsRZlASbPmEuJh9vQ/vX3yJklI8umjOCHkf1p+tA9BAcljtpu8Gud2btoSoyPqyns7tizn/kr/qB53VpRy06ePkPPD79g4CtPX3H/f1u0ah0HDh+NdiPA7v2H+GXRSqqVK87W2RPo2rIhjbv24tBR34iv4WOnUbZofkoVvuuaziUicqdq8c4EcjbvxwPdP6dyoRw817Aq3y5YT63Sd3F3iTwE+PvRqV4lzoVFsGzDzkv2b1qjBBPnrgV8I26nLPiDxjV8Xz4G+CVi58Fj7D1ykqDAgGhFqMbVi5M6WQj+fr7jh4ZHsnm3b0TqmF9W0aPZPdyVJS1mRpFcGUmdLISfV2wkfaqkdKpXiaDAAJIFJ6ZMvqxRx6xQMDu1Sue7MIKwGOv/NUK2fqXCZEqdnESJEtGgShFyZ0rNqn+N7M2YOhntHyyPv58fwYmjd5CYtXIT+bOlo16lwgT4+/H0QxVInzJp1PovZq6gW4Oq5M+aDn8/P55rWJV1W/ex88AxAvwTcepsKBt3HcI5R/6s6aIKyjciMvI83y/5i1eb3k2SoEAK5chA0xrFr+tYV7q+mFQomIN7S+bF38+PepUKc/jEabo9UoUAfz8aVCnCjgPHOH7hfc59ZfKRK2NqzIzKhXNyd4k8LP5rx1Vlu9zP4oqNu4iIjOTphyoQ4O/LUTLvxS+hv5q1kpb3laFMvqz4+SXisbtLkDjAnxUbfUXZAe0fYN4fW3n49S+pXSY/tcvkv2yWRImMV5rWIHGA/yU/I//X/sHyZEqdnFTJQqhTNh9/bI35xvldB4/RtM9YKnYdxsbdhxj01EOsHN6Fl5vUiCrs/v913jbm1VgfMRV2AU6fCyN5yMX3b8kv3FBwpTm112/bx4BJc3mz5cXuJveWzMvgKQs4eTaUf/YeZuyvqzkb6huRXDZ/NvYdOcnk+X8QHhHJ+Nlr2LrvSNR6EZGEYOfOnfz40wxKliwRtWzq1GksXbyIP9f9wW+//carPXowccJ49u7eRY4cOWjazHeD8rwLc+f+f1RskyaNWb16Na3btuPjj4Zz+OABOrRrT936jxAaGvN/w7/7/nuaNmnMsSOHqfvwQ3Tq0uWyeQMDAylfvhzz5s/3ZZg/n6pVqlClcuVoy6pVjfmG+z///JP5CxZQskSJGNf/l5nxVu/e9H7rLcLDL/37kCRJEkZ9+QXHjhxm+vff8dGIj5k6dZovxxzfdxjHjhzm1InjVKxYMdq+jzVtwtcTJ0XdaHT06FF+njWLpk2acP78eR6uV5/ixYuxe+cOfp31Mx8M/pCZM2deVe7/W7x4Me3adyBLtuyMGj2aNq1as3L5sqj1z3TsRMrUaWJ8FCtRMsZjbty4EX9/f/Llyxe1rHjxYqxf/+cV8zjnmL9gAYULFbqm6/i/efPnX/e+IiIiCY1G7or8y9eDe3JPxVJRz8+eC+Xbn+cxvNezAJQvUYhsGdMz8cff6NSiwWWPVa54Qca89xoAK9Zt4IkX+vLuJ+N5s1trNm3bxcsDPmbV+k2cPRdKRGQkJQvlvezx/m3vgcNkzXhx1MK//w0wc95y7qsS+0iMf0saEsyJU2eiLTtx+gzJkgRfWB/EidMX1584dYakIcGYGXsPRs8REhxE6pTJox2rYe1qfN4/eludt4eP4t6KpUmbKgUAjR+4mzHfzaLzEzG/prv3H2LPgcPUrlqWovlzkzFt7PPe3ohx3/9KpZKFyZk1Y9SyPsNH89hD90a1Vr5aY777hfq1qkQbsR0clJgcWTLwZIM6ADS6vwbvfjKexavXU7pIfoaPm8rCr4fenIsREbkDjH65adQoyf/bd/Qk2dKljHqeKFEiMqdJzt7Dl87P9UC5/Dz/8Q9s33+UTbsPkTwkiNJ3+QquvZ6oRd/xs6n18khSJA2mY92KNL/X9x5gyNSFjPl1NfuOnsSAk2dDOXyhvfPuQ8fJmeHSThOxLf+/fxckQxIHcC4sgojISPz9/Jgwew3Dv1/Mjgvtkk+fC+PwiYt/e7OkSRHrcfcdPUmWtBfXm1m05zsPHqP75z/x+pcXvyx0wJ4jJ6hWNDdtHyjHSyN/ZOfBYzxUoSBvtrwvqth2vQ6dOE1E5PloOXz/n22PdZ/YXOn6YpI+5cWb1oIC/UmdLAQ/P989rcGBvo8/p86GkSJJMLNWbeLdr+ewZe9hzp93nA0Lp2D2q7uh/HI/i4n8jEypk0frBPLvbXcePMaE2WsY+ePF6T7CIyLZd8T3c5wiSTD1KhZm+PeL+eqlxlfMkjZ5EoICLz91xL9/BoMDA6LO9V+nQ8P5e+dBMqdJTpGcGcmXNV2067hRSYICo83b+/9/Jw1OHNsu/LP3MI3fHku/1vdTsdDFonH/Nvfz8qc/Ubbjh6RKFkLDqkWYPN83sj11shDGvvoYb3z5My+OnM49JfJSvVhuMqdJHttpRETuGPUbNMTf358UKVLw4AMP0P3VV6PWvfrKy6RO7ftMPXbceFq3epJSpXzvgfr17UOqNGnZtm0bOXPmvOS4n4z8lA7t21G+fHnANyqzb//+LFmyhOrVq1+yfZUqlXngQjveFs2b88HgD6+YvXq1asybN59nu3Vj/oIFdO3SmcyZM/HxJyOjlj3XrVu0fUqVKYufnx+pU6embZvWtGr15NW8TADUrfswffr15dNPP6Ndu7bR1v17/uBixYrxWNOmzJ03l/r1613xuFWrVsXMmD9/PtWqVeObbyZTsWIFMmfOzNKlSzl48CBvvP46ALlz56Zd2zZM+HoitWvXvuKxJ06cxBu9euGco+UTLfjj9zVkzZr1ku2GDxvK8GHX9h3DqVOnSJ48+t/KFMlTcPLUlefC7dW7N+fPn7+m1///Zs2axVejRrF08aJr3ldERCQhUnFX5DK++3UhJ06doVufoTzXbzgAx0+eYsx3v1yxuPtvZYrkp17NyqzfvA3wtQ8uXiAPX737KsmShDB09BS+nbXgqo+XMV1qdu+/2P54177ocw3OmL+MZx6vf1XHKpg3B4O/moxzLuqLu3Ubt9Kh6cO+9Xly8MeGfyhb1Nc+74+N/1Awb44LOdKwaevFkVJnz4Vy5NiJy57v7LlQpsycR2TkeXLWaApAWFg4x06eYu2GLRTLn+eSfbq0bMiTDesw6ae5vPvJeJ5+YxCN769Bs7o1o81Z2/nNwUz44bcYz5s9c3pWTh152Wzjvv/lklHQs5euYc/+Q3zy9Q8AHDp6nBYv9OG51o0v2fbf1/jtz/OY8EHPaMuL5MvFj3OWRFv2/9d8xR8b2HfwCKXqtQfgXGgoZ8+FkbNGU7b8OhY/P7/LZhcRSSgypkrGnzsujnp1zrHn8Akypbl0xGlQYAD1KxVm4ty1bNp9KFor3wypkjH4mbqAr73sI71GUalQDvYfPcWQqQuZ2rslBbKlI1GiRORq0T9q1EWWtCnYtv8ohXJELwBmSZuCKQvWca12HjhGt4++Z2rvJyibLxt+fomo9txH0drJXq6uliFVMnYf+jva67H7whzA/8/1fMNqNIqljXGHByvQ4cEKHDx2itbvTWLI1EX0aHbPNV/Hv6VNngR/v0TsPnScfFl9N4Ht+lemkMSBAJwJDSd5iO/v24Fjp67r+m5EaHgET777NcO7PMID5QoQ4O9H8/7jgZgn9f1vgfNyP4tmxt4jJ6K9v9p18Di5MvpuAMiSJgXPPVqN5x+tFuO5/ti6l7G/raZh1SK88ulPfPNGi5twxVcnf9Z0rP6oKwvWbWPcb6vpP2E2lQrloEmN4tQpm5/EF9qfL/5zO43fHhPrcSa+1jxaIfb/CmRPx/pt+3mkchEA1m3bR/qUSWJtybzzwDEe6TWKFxpVo8l/RoCnShbCJ882jHr+1phfKHXXxWlNKhfOya8DfO+tIiIjKfn0YDrWrXSVr4SISPw1dcpkatasGeO6bNkudvjas2cPpUpdHMGZNGlS0qRJw+7du2Ms7m7fvp2vRo1iyNBhUcvCwsLYs2dvjOfKmOHiTdIhISGcO3eOiIgI/P1j/zqyWtWqDBv+EUeOHOHgwYPcddddZMiQgZatWnPkyBHWrVsXbb5dgFUrlpM379XfMP9fb7/5Jq3atKVFi+bRli9dupRXundn3br1hIWFERoaSqNHH72qY5oZTZs0ZvyEr6lWrRrjJoynebPHAdi+fQd79uyJaukMvmmaqlapclXH3rV7F7t37+aB+++neLFiZMx4bTejX07SpEk5cSL69zonTp4gWdLLd3cZOmwYo0aPYf7cOSROHPsNWzFZsmQJzZq34JuJX0cbMSwiIiKxU1tmkcsY+90vPPFIbZZNGcGSb4az5Jvh/DpqEH9s+Id1G2OfE3XRqnV8/s2PUe2bN/yzg+lzllCumK9AevL0GZIlCSFpSDAb/tnByInTo+2fPk0qtu6KfY75BrWrMXzst+zef4hjJ07x/ucTo9adOXuOles2UL3cxS+/IiMjORcaRkRkJOfPn+dcaBjh4REAVCtbDD+/RAwfO5XQsDA+GudrMVSjfAkAmtWtyZBRU6JGz3741Tc0r+drW/xIrSr8OHcpS9asJyw8nD7DR0eb9ywm3/+2CL9EiVg1bWTUa7rqu5FULlWEcd/9Eut+yZMmoU2jB5g95gN+/mIAQYkDebRTTx5oe3FU8JA3unJw2bQYH1cq7C5Zs549Bw7R4D/zKf/46Tss//bjqKyZ0qVmyBtd6fBY3ViP9d2vC0mZPFm0/w8A6t5biWMnTjFm2iwiIyP59uf57N5/kIolC1O7ahn+mjkq6jyvd3yC4gXzsOSb4Srsioj8S/3KhZm1chNz1/5DeEQkQ6ctIjDAj3L5Y56KoEmN4oyfvYYZyzfQpPrF/y5PXbQ+qkiYIomvI0UiM06dDcXfLxFpkocQEXmedyfOiTbKsHnNUvQd/xtb9hzGOcf6bfs4cvIM95XJx/6jp/jo+8WEhkdw8mxoVIvdyzkdGoYZpEnuG2069tfV1zQn6H2l72LDzoN8v+RPIiIj+Xj60miF0lb3lWHQlPlRxzxx+hxTF/nmoVu1aTcrNu4iPCKSkKBAEgf4kyjRlUdoRp53nAsLj3qEXXhP8X9+fol4qHxB3vl6DmdCw/h75wHGz14TtT5tiiRkSp2MSXPXEhl5njG/rmLrvqPXdX03IiwiktCISNKm8BWjZ63axOw1W2LdPl2KJGzbfzHn5X4Wy15ot/zx9KWER0Ty/ZI/o7XafqJWKb6YuYIVG3fhnOP0uTB+XrGRk2dDORcWTocPpvD64/cytFN99h45yWc/XWyxmD5l9By3gplRtWguPuragD9GPsf95Qow4oclFGwzkPXbfO9RKxbKwc5xPWJ9xFTYBWhSvThjfl3F3zsPcPz0Wd6bNI/H7i4R47Z7Dp+gXs+vaHt/uRjnB9667whHTp4hMvI8s1Zt4qtZK6MVzNf+s5fwiEhOnDnH61/+TJY0Kbi35PV/+S8icif4981KmTNnZvv2i501Tp8+zeHDh8mSJUtMu5ItWzZ6dH+VY0cORz3OnDrJY481vWn5KlasyPHjxxn56adUruS7ISd58uRkzpyZkZ9+SubMmcmVK9dNOx9ArVq1yJs3D8M/+ija8mbNW1D34YfZuX0bx48e4akOHaJuwLuarhaPNW3KN5Mns337dpYuXUbDhr5BAtmyZSVXrlzRXseTx4/x4/Qfrirvc88+y+6dO7j3nnvo068fWbPn4NnnnmP16tXRtnvq6WdImjxFjI/CRWO+8S9fvnxERESwadOmqGW//76WwoVjb5f8+edf0P+dd/l11s8xjiC+nNWrV1O3/iN8/ulI7r333mvaV8QLo7+dwb3Nu3odQ0REI3dFYrN7/yFmL13N4onDo7UBzpg2NbUql2Hsd7Po90L7GPdNkSwp0+cs4c0hX3H67DnSpErBo7Wr8VwrX1u9fs+3p1PvDxj0xSSKF8xDw9rVmLvs96j9ezzTnHY9BnIuNJShb3SlYZ3o7Y1aN3yAzdt2U77hUyRLGsIzzeozb8Va/PwSMWfhGsoVL0jQhVEx4Gs33OH196Kepy7zMM3r1uKTPi8QGBDA14N78kzPQbz+wefkz52drwf3JDDA19qvbaMH2bZrH+UadADgyYb307bRgwAUypuT9159hide7MeZs+fo2PwR0qVOSeLLtAUc890sWtS/j2yZ0kdb/tRjdXm+/0e8/Wxb/P0vX8zMlysbb3ZrTa8uT7J87d+X3fZqjZn2C/XurUKyJNFHjaT5T5tpPz8/UiZPGtVuufObgwFfYfn/xn73C489dO8lH/ZSp0jOpCG96Pb2UJ7tM5R8ubIx8cNeUe2p//1zljxpEgL8/W9ZC2oRkfjqrixpGdG1AS9/+iN7j5ykaM6MjHu1GYEBMb+trVAwO4kSGcVyZyJb+pRRy1dv3k2Pz2dw4sw50qVISt/WdciZMTXZ0qXknpJ5KdtpCEkSB/L0wxXI8q82rh0frkhYeAQN3xzNkRNnuCtLWka93ITUyUKY3LMF3T+fwbsT55I4wI+nHqoQbd7dmBTIlp6OdStR+9VPSWRGkxrFKV8g+1W/HmmSJ+HzFxrx6mc/0WnoNJpULxZt/4cqFOT0uTDavv8NOw8eI3lIEDWK56Z+pcKcPBtKjy9msH3/URIH+HNPibx0rnflUY0fTFnAB1MudhwpXyAbP/VtE22bd9s9QKehUynQeiD5sqSl2T0lWbDu4o1xHzxTlxc/mc5bY3+l+b2lYi3OX+n6bkSy4MT0b3M/rQdOIjQ8gjpl81OnbOxz2z7bsCovf/ojvUbN4vlHq9G5fuXL/iyOeqkJ3T76nr7jfqNmqbt4qHzBqGOVzJuFD55+mJdH/siWvYcJDgygfMHsVCycgzfH/EqWtCloXcdXzPy4awPq9vySGsXzkCdzGl5uUoOOH07lbFg4g55+mHQpksSY92ZJFpyYFjVL0aJmKf7Ze5gkQYFX3ukyapa6i871K1Pvja84GxbOwxUK8UrTu6PWV+w6jOcaVKVR9WKM/mUV2/Yf5d2Jc3h34pyobXaO6wHAmi176PH5DI6fPkeezGn4uFtDCma/+B7zw6kLmbXK9+X0vSXyMvrlmLuuiIgkVI81bcJjjzen2WOPUbBgQbr3eI3y5ctFjdrNkCED//zzT9So2HZt2/BIw0epee+9lCtXjjNnzjBnzhyqVatGsmSXH9l5tYKDgylTpjTvD/qAHt0vtpOuUrky7w/6gJq3qADY5623qPdI9A5tJ0+eJHWq1AQFBbFs2TLGjR/PfbV8N7unS+fr8PLPP//EOtq0ZMmSpE2blrbt2lP7vvtImTIlAOXKlSNZsmS88+67dOncmcDAQP766y/Onj1L2bJXN8VW8v+xd+dxOpX/H8dfH8uMsWff9+xrdrIlSyFLUZaQZAkpRSGFhKQka9FiiahEWepbdpUsZUn27FtCWYbZXL8/7vlNppmxDmeW9/PxmMdv7nOu+9zvM3395sz5nOtzpU1Lly5P0aXLU+zcuZOPp02jSdNmFClSmKXffQfA5EkTmTxp4g39HFKlSkWL5s155dXBTJ3yPps2bWLBV1/x45rV0Y7/5JNZDHj5ZZYv/Z4CBQpE2R8SEkJY+ESD0NBQLl26RPLkyUmaNCm//fYbDR9sxLixY2nSpMkN5RSR22fz9j10f2U0O/84SJECeZg09AXKFIv+AcnTf5+l+yujWfrjRjKmT8vQZzvzaGM9qCFyJ9iVLd9EEgszc4Fbv732wHji29Xreea1d9n5vxn0HjaO4oXyRbRVvpPOB14ke7UWbF34UaR1ayX2pSzVAOdc7C2AJyLiITNzp+cNvm3Hb/rKxzxcoxTt65W/bZ8hVzdr2a/M+P6XKEVgkbggQ4vBuq4SkXjJzJwLi9xBI1+Bgkx9/71o2zJb0mTs3rkjUgvjyZPf48233uLMmTNUq1qVyZMmRsy+nDz5PYa89hoXL17k/cmTadWqJd988w2DXh3M7t27CQgI4N7q1fnwg6mkSZMm0mcPHjKEPXv2MnPGdAD2799P/oKFCAm6dNW2zAD9Bwxg5Buj2Lh+XcR6wHPnfsajrVszeeJEunb990H76M7pen4W/80H8GCjxiz55hv27d1Dvnz5+PzzL3i+b19Onz5NrZo1yZcvH3///XfEe1559VUmTX6PkJAQvlm8iB07djL1ww9Ys2pVxDFfGzaMV14dzNxPP6Vly39bOh89epTnX+jL8hUrCAoKokiRwgwbOjTGdtrX4/Lly/z8889UrVr1po8BcPr0aTo92Znvvv+ejBkzMnL4cNq0aQ3A6tWreaBRY86f9XXAyV+wEIcPH47Uirld27YRReWOT3Ri2vTpkY7/0Qcf0LFjB57o9CTTpk8nZcp/H7LPmzcv27ZuiZLJkibT7+p4zsxc4LalXseIxDmHc44kSa6/uemML7/h4y+WsHTm2FjLERYWFqlrX2ho2DUnvlzpRsdfTXBwCKUebE/Pxx+mS+uH+GDuQsZ+/BlbF0/HL5rJPB1eGMZl55g09AW27NhDi6cHsuyTdyleKF+UsSlL1NW/Y5FYpOKuJErxvbh78VIQK9dt5v5q5Tlx6gxt+rxGpdJFefPF7nzw2WIerF2Z7JkzXvtAsWDRirXUqVwW5+Cl0e+xfutOfpo74bpaFMnNU3FXRBKS21nc/WX3EVoMmc7WKX1IE3Bj639J7FFxV+IyFXdFJL6KrrgrkhCpuBv/RVfcfWvqbCZ+8iXnzgeSPUtG3hnUmzpV7uHipSB6D32Hhct/JFumDDzevCETZs5jz7I5gK9IuHXxdArm9bWQ7zLgDXJkzczg3p048885nuw/gg1bdhAaFkaVciV495XnyJUtMwANOvahSrkSrF63mU3bd7P+y6mEhoXx/PBx/LptN5kypOOVXk/wcMPaAJz6+x+6DnyT1es3Uzh/bu6vXpFV6zZds7i784+DMR6zy4A3SJHCn4NHT7BmwxbmjhvK06+8xVOPNmHOoqXs2neYvzYs4ptVP/PqO1M5+udflC5aiLGDelO0oG/pk6L12kQZHxsF3u9/2EDXl0exZ9mciHu7heu2Zvzg56hfo1KksRcCL5KjajM2LJjK3fl8nZiefGkEObJk4rU+T0U5toq7IrFLbZlFbtIPG7fSrPvL0e47uW7Bbf1s5xzDJs6gfd/hBKTwo0GNSgzq0R6AJ1s+eFs/+78WLv+JzgNG4ZzjnhKFmT6qvwq7IiISJzz97pcsWreDEZ0aqrB7A6r2nsDhk39H2f521ya0rBX9+mwiIiIiIiLXa9e+Q0yevYDVcyaSI0smDhw5TljYZQCGT5zOH4eO8tuSGQRevESzbv2vcbR/XXaXad+sITPfeoWwy5fp9vKb9Hn9XeaOey1izOyvvmf+eyMonC83Fy5epEKzzgzq2ZH5k0fy2+4/aNK5H8UL5aNYoXw8N+xdUvj78ceKuew/cpyHurxIvpzZr5rhQuBFGj/VL8ZjAsxdtIwvJw1n3sTXCQ7xPaQzd/Fy5k0cTsa70rHv8FE69nudOe8OoWbFsoyb/jmP9HiZX776MGIG7ZXjoyvsVmremUPH/ow2Y6sH6zL2lahrB2/fs5+ShQtEurdbskh+tu/dH6W4u/vAYZIlSxpR2AUoVaQgq9dvRkRuPxV3RW5S9fKlbnsRNyYpA1Kw5tNxnnz2f00a8hyThjzndQwREZEoJj7T3OsI8dJPY3vE+jHb3FeONveVi/XjioiISPxy8OBBipcsFe2+33/bSp48ee5wIhHxQtIkSQgODmHH3gNkvis9eXP+u7zbF9+u5J2XnyFD+rRkSJ+W7m2bM2LyjOs6bsb06WhWv2bE635d2vJAp+cjjWnXrH5E2+Dv1qwnb46stG/eEICyxe6mab0azPvfKl7Kn5v5361m/ZdTSZUygBJ356dt0/r8sGHrVTMsWbk2xmMODP/cxvdVo+o9JQFI4e8HwNPtmpMrexYAPl+ygoY1K1O3WgUAnn2iFRNmzmPtpm3UrFQ2yvjorPty6rV+XFGcD7xIujSpIm1Llzo15y5cjDL2QuBF0qRKGWlb2tSpOB8YdayIxD4Vd0VEREREREREROS2y5MnT8R6rSKSeBXMm5NRLz7N6xOms33vfu6vXoGR/bqTI0smjv35V6SiZZ4cWa/7uIEXL9HvjYl8t2Y9f589D8C5C4GR1rXNle3fYx88eoL1W3aQvcpDEdtCQ8No/VA9Tp7+h9DQsIiWzv+f5QeuXty92jH/X84rjvn/rvycYydPRTrvJEmSkCtbFo7++Ve042NL6pQBnD0fGGnb2fMXSJMqIMrYVCkDOHch8thzFy6QOmXUsSIS+65/tXARSXBmzP8fddv38TqGiIiIJAKzlv3KAwM+8DqGiIiIJEIffzyNe2vWvPZAEbljHm1cl6Uzx7Lju1kYxqC3pwCQLXNGDl/RTvi/rYVTBqQg8NKliNfH/zoT8f3Yjz9j9/7DrJw9gRPrvuZ/08YA4Ny/779yNblc2bJQo2Jpjq39KuLr5IZFvPvKs2TO4Gt3fPj4yRizROdqx4zIQNQl7a5shZw9c0YOHj0R8do5x+Hjf5IjS6Zox0en/EOdyFyhUbRfvYaMifY9xQrl47ddf+Cu+IH9tusPihXMF2Xs3XlzERoaxp4DhyO2bd35R8SsaBG5vVTcFZEEbfOOvVRr1YOMFR+iWqsebN6xN8axnV56g/x1WpO1SnNKN+7ER18sibQ/8OIleg8bR+4aLclWtTn1OkRu6/Lr77up1+F5MldqSr5ajzJh5pe35ZxEREQkbtq67xh1XniPnI8No84L77F137FoxwWFhNJrwgJKdxlDnjbDqdlnEt/9sjti//qdh2g+eDoF2o/k7o6j6PjmXI6fPhexf+Sny8nScii527we8bX/+Onbfn4iIiISd23atInyFSuRMnUaylesxKZNm2Ice/r0aZq3eJhUadKSN38BZs2aHe24Tk92xpImY8+ePbcptSRWu/YdYsXaXwkKDiaFnx8pUviTJLxY+XCDWoyeOpsz/5zj8PGTTJ4V+f5a6SIFmbtoGWFhYfxv9TrWbPh3jdfzFwJJ4e9H+rSpOf33WYZPmn7VHA/UrsLu/YeZ9dV3hISEEhISyoatO9ix9wBJkyal6f01eH3iNAIvXmL7nv18suB/1zy3qx3zej3csDbfrPqZ5Wt/ISQklLEff4a/nx9Vypa47mNs/OpDTm5YFO3XuFejX2KvZsUyJE2ShIkz5xEUHMykT+YDULty1CV2UqUMoGm9e3lt3MdcCLzIT7/8xsJlP0aaoSwit4+KuyIJhHOOy5cvex2DsLCwSK9DQ8NiGBm9Gx1/NcEhIbR6ZjCtG9fl6A+f065pPVo9M5jgkJBox7/Q+VF2fDuNE2u/5LN3BzNk3DR+2fbvjdaeQ8Zy5p9z/LJgCkfWfM4b/bpF7PvrzD806z6QJ1s24vCaz9i6+CPqVisfa+ciIiISl8Sd647IGULDbvC64wbHX01wSChtR3xKy1ql+WPGSzxWpwxtR3xKcEhoNJ97mZwZ07JwWEf2z3yJgW3u48nRn3HwT9+sg78vXKJD/fJsmvwsm997ltQBfvQcPz/SMZpXL8GhWQMjvvJlyxBr5yIiIhKXxZ3rkP/e/4j6O/9qbnT81QQHB9O0eQvatW3DmVN/0aH94zRt3oLg4OBox/fo2Qs/Pz9OHDvKJzOm071HD7Zt2xZpzJo1a9j7R8wPyIvciqDgYAaNmULu6i3IX6slJ0+fYchznQEY8HR78uTISvEGbXnoqX60bhK5WPhm/x4sXvET2as0Zc6ipTS5r3rEvh7tH+ZSUDC5qzendpue1Lu34lVzpEmVkq+njOKzJcspWKcV+Ws9wqC3pxAU7Lt3+PbAXpwPvEj+Wi3pMnAUjzdreM1zu9Yxr0fh/Ln5YGR/nn99HLnvbcHiFT/x+YRh+Pklv+5j3Aw/v+TMGTeUT776juxVmjL9yyXMGTc04nNHvf8JTbu+FDH+nZd7czEoiLw1H6FD39cZO6i3Zu6K3CF25RR7kcTCzFzg1m9j9ZhvfTCHibMWcO58INmzZOSdgT2pU6UcFy8F0fu1cSxc/hPZMmfg8Wb1mTBzPnuWfgJAylIN2LroQwrmyQlAl4GjyZE1E4Of6ciZf87x5IBRbNi6k9DQMKqUK867g56JWFOhwRN9qVKuOKvXb2HT9j2snzeZ0NAwnh8xkV9/302mDOl5pUd7Hm5YC4BTf5+l66C3WL1+C4Xz5+L+ahVYtX4zS6e/fdVz2/nHwRiP2WXgaFKk8OPg0T9Zs3ELc8cO5unB7/BUq0bMWbScXfsP89e6BXyzeh2vjv2Qo3+eonSRgowd1IuiBfIAULRB+yjjkyVLesv/Tb7/cSNdB73Fnu8/iWhVUrheO8a/2pv617i427XvEA069WP0i914uGEtdv5xkJpterP7+5mkTZ0qyvhXxn7IkeN/8cGIfrec+3qkLNUA59zV+6+IiMQTZuZOzxvsdYx4Zey8Nby/+GfOBQaRLUMa3uzSiFqlC3AxKIQX3l/I4nU7yXpXatrcV473Fq5l21Rft4kMLQazYUIvCmTPCECPcV+SI2NaBrapy9/nL9Jt7Dw27j5CaNhlKhfNzVtdG5MzUzoAmgz6iMpF87Dmt/1s2XeMNWO6Exp2mRenLmHzH0fJlDYV/VvXoXn1kgCcPhdIz3HzWbNtP4VzZqJO2UKs+W0fS4Y/edVz23X4ZIzH7DHuS1L4JefQyb/5cdsBZr70GL0nfkWnBhX5bPUW9hw5xeHZA/hu426GfrKUY6fOUip/NkZ3bUyRXL7rpzJdx0QZnyzprV93LNu0h17jF/DblD4R1x2lurzNmG5NuP+eu6/5/nufm0i/VrV5qGrxKPs27z1Kk0Efc3DWAMA3c3ff8dO89+zDt5xbfP8udF0lIvGRmTkXFnsFwuv1xqhRvDtuPGfPniVHjhxMHD+OunXrcvHiRbo/3YMFX31F9uzZeaJjB8a+O47DB32z1SxpMnbv3EGhQoUA6PhEJ3Llysmw117jzJkzPN6+Az+vW0doaCjVq1Vj8qSJ5MqVC4Da991H9WrVWLFyJb/88itbN28iNDSUXs/0ZuMvv5A5c2ZeGzKEVq1aAnDq1Cme6PQkK1aupGjRIjSoX5/lK1awZtWqq57bjh07Yjxmxyc6ERAQwIEDB1i5ahULvpxH5y5d6d6tK5/Mms3OnTu5cO4sixcvof/AgRw5coSyZcswacIEihUrBkC+AgWjjE+WLNkt/zf53//+xxNPdubwwQMR1yF58uXn/cmTaNgwcjHqwoUL3JUxE79t2UzhwoUBeLx9B3LmzMHIESMAX+G5YuUqTPvoQ8qUuyfSfzcvWNJk+l0dz5mZC9y29Kbeu2rdJjq9NII9y+bEciq5k1KWqKt/xyKx6NavHkSEXfsOMXn2V6yePY4cWTJy4MhxwsKfIh0+aSZ/HD7Kb0s+IvDiJZp1f/m6j3vZOdo3q8/M0QMJu3yZboPeps/wCcx9d3DEmNlfL2X+pGEUzpebCxcvUaF5Fwb1aM/8Sa/z2+59NOnSn+J356NYwbw89/p4Uvgl549ls9l/5DgPdRtAvpzZrprhQuAlGnfpH+MxAeYuXs6XE4cxr8zQiNkpc5esYN7EoWRMn459h4/R8cURzHnnVWpWLMO4GfN4pOcr/LJgCn7Jk0cZH11ht1KLbhw6Hv26Fq0erMPYl3tF2b59zwFK3p0/0hoUJQvnZ/veAzEWd3sPG8fMBd9x8VIQZYoVokHNSgBs+G0nebJnYdiEGcxeuJRsmTIw8Ol2NKtXA4D1W3ZQ4u781Gn3LH8cOkqFUkV5Z2BPcmfPctWfr4iIyI3afeQvpixZx/ejniJ7hrQc/PMMYZd9D2yOmruCfcfP8MvEZ7gQFEKr12Ze93EvO0eb+8rx4QstCbvs6DV+AS9OXczMl1pHjJmzcjNzX27H3TkzEngphGrPTqT/Y3X4bFBbfj/wJy2GTKdYniwUzZ2Fvu8vwt8vGds/eIEDJ87Q8rWZ5MmS/qoZLlwKpsWQGTEeE+Dz1VuZM7Atnw7IRXB4x48v1mzl04FtyZgmJftPnOGpMV8w48XHuLdkPiZ9/RNths/ip7E98EueLMr46Aq79z43kcMn/4k24yM1SjG6a+Mo23ccOknxvFkjXXeUyJuVHYdOXrO4++ff59l79BRFc2eOdv+Pvx+gyH/2fbNhFwXajyTrXWl46oFKdGp49QfXREREYsPOnTsZP2Ei639eS44cOdi/f3/EDNYhQ4ey94+97N29iwsXLvBAo6i/L2Ny+fJlnujYkblzPiUsLIxOT3amZ69nmP/lvIgxM2Z+wpJFCylSpAgXLlygZOkyDB08mCWLF7F161bqNWhIyZIlKF68OD169iJFihQcO3KYffv20eCBB8mfP99VM1y4cIF6DRrGeEyAWbNns3jh1yz8+quIWbGzP53Doq+/IlOmTPzxxx+0btuW+fO+oHbt2ox55x2aNG3G779txc/PL8r46Aq7pcuW4+DBg9FmbNO6NRMnjI+yfdvvv1O6VKlI1yGlS5Vi2++/Rynu7tq1i2TJkkUUdgHKlCnNypX/Fr7HvPMONWvUoHTp0lf9mYmIiIg3VNwViQVJkyYhOCSEHXsPkPmudOS9omD6xbereOflnmRIl5YM6dLSvU0zRkz+5LqOmzF92ojiIUC/Lq15oFPkmaHtmtaLaHfx3Q/ryZszK+2bNwCgbLFCNL3/Xub9bzUvdcnF/O/XsP6LyaRKmYISd+ej7UP388PG366aYcmqtTEec2B3X3G3cZ2qVC3nW/Mhhb/vj5Wn2zYjV7bwm7DfrKRhjUoRbYqf7fgIEz6Zz9pNv1OzYpko46Ozbt7ka//A/uN84EXSpYk8yzZd6lScu3AxxveMfbkXb/d/mp83b2fV+i34hxefj5z4i2179tO03r3sXTaLnzdtp0WPQRQtmJeiBfJw5MRfbNq+h6/fH0HJu/Mz8O2pdOg3gmUzxtxwbhERkatJmsQIDgll56GTZEqbijxZ7orYN//Hbbz5VCPuSpOSu9JAl0aVeXPuyus6boY0KSPNGn3+kRo89Mq0SGNa1ylLsTy+39ff/7qdPFnS07aub/2l0gWy06RKcRb8+Dt3P5KJr9duZ82Y7qRK4UfxvFl5rHYZfvz96utMfbthV4zHLPqo73MfrFiEKsV83T9S+PlWmenSqDK5wmcYf7lmG/XK302dsgUB6Nm0Gu8t+pl1Ow9xb8n8UcZHZ82Yp6/jJxbZhYvBpE3pH2lb2pQpOH8x6KrvCwkNo+s7X/BY7bIUzhW1uLtt/3He/Gwln1xRZG9WvQQd6pcnS7rUbNh9mI6j5pIuVQoerlHqhnOLiIjciKRJkxIUFMTvv/9O5syZyZcvX8S+uZ99zsTx48iQIQMZMmTgmZ49GTps2HUdN2PGjDz8cIuI1wMH9KdO3fsjjenYoT0lSvjuPXzzzbfky5eXJ57oCEC5cuV4uEULPvv8c14eOJAv5s1j6+ZNpEqVipIlS9Kh/eOsWr36qhkWLlwU4zFffeUVAJo+9BDVq/tawKZIkQKAZ3r2JHfu3ADMmTuXRg8+SL16vjayLzz/PGPfHcePP/5I7dq1o4yPzpZNv17rxxXF+fPnSZcu8rVNunTpOHfuXLRj06ZNG3ls2nScO+8be+jQId57fwob16+74RwiicUPG7fQrGv/aPed3LDoDqcRkcRIxV2RWFAwT05G9evG65Nmsn3PAe6vXp6RfbuSI0tGjp08FdFGGSBPjuufyRl48RL9Rr3Hdz9s4O+z5wE4dyGQsLAwkobPMrny2AeP/sn6LTvJXu3fP4hCQ8No3aQuJ8/8Q2hoWKQCap7sWfmBqxd3r3bM/5czW9QbkbmyZor4/tjJU+TJkTXidZIkSciVLTNHT5yKdnxsSZ0ygLPnAyNtO3shkDSpAq76vqRJk1LtnpLMXriUKXMX8nTbZgT4+5M8WTJe6tKGZMmSUqNiaWpWKsPSHzdStEAeAvz9aHJfNSqULALAgO7tyF2jJf+cuxClwCwiInIrCmTPyPBODXljzgp2HDrJfWULMuyJBmTPkJbjp89FtFEGyJ05/XUfNzAomIEffsvSX/fwd/iDUOcvBhMWdpmkSX1F1CuPffjk32zcfZh87UZEbAu7fJlWtcrw19kLvnVlo2S5enH3asf8fzmjKcrmzPjvtuNnzkU67yRJkpAjY1qOnToX7fjYkirAj3P/KeSeuxhE6gD/GN7hm6XUbew8kidLyqinHoyy/49jp2g17BNGdHqAqsXzRmz//1nMAJWL5qFr48os+Ol3FXdFROS2K1SoEO+8/TaDhw5l27bfaVC/Pm+/NZocOXJw9OjRSEXLvHnzXPdxAwMDea7P83zz7becOeNbg/7cuXOR7n/kzvXvsQ8cPMDPP68jfYaMEdtCQ0N5vF07Tp48SWhoaOQsefICVy/uXu2Y/y937lxR3nfltqNHj0U67yRJkpA7dy6OHDl61WPcqtSpU3P27NlI286ePUuaNGmub+y5s6RJ7Rv77HN9eOXll6MUi0W8UrNS2TjXkrl6+dIq4oqIp1TcFYkljza6j0cb3cfZ8xfoNfRdBo35gA9G9CNb5gwcPn4yYnbtoWORWwunDPAn8IobgcdPnSZHeKFz7LQv2L3/MCtnjSVbpgxs3rGXqi2f5sqlsq9suZMrW2ZqVCjFwikjo+QLCwsjWbKkHD7+J0XC17qNqc3xla52zIgMRF0u4cpc2TNnZNvufRGvnXMcPn6SHFkzRjs+OuWbPcXBo9HnfazxfYx7pXeU7cUK5WXstC9wzkUc/7dd++j6WJOrftb/Cw27zB+HjgG+ds7/Fbndc4FIr69xOiIiIrfkkZqleaRmac4GXqLP5IUMmfE9k3u3IOtdaTjy1z8Rs2sP/xW5tXBK/+RcDAqJeH3izHlyZPTN3Jiw4Cf2HP2L797oTNa70rB13zFqPf8ejn8vPK789ZYzUzqqFc/Hl4PbR8kXFnaZZEmTcOSvfyJmo/43S3SudsyIDNH8jr1yW7a70vD7wRMRr51zHD11luwZ00Q7PjpVe0/g8Mm/o93XsmZp3u4W9VqiaO7MTFjwY6Trjm37T/BkDO2SnXP0mvAVJ/+5wJyBbUn+n2UpDv35N80HT+eFljV5tHaZaI8RcT4YkS4QRUREbqM2bVrTpk1rzp49S9du3Xnxpf7MmD6N7Nmzc+jQoYjZtQcPHor0vpQpUxIY+O8D2MePHydXrpwAvPX22+zctZOff/qRbNmysWnTJsqVr4C74vfblX9z586Vm1o1a/Ld/76Nks93/yMZhw4domjRor4sh6Jvc3ylqx0zugzRbcuRIztbt/77EL1zjkOHDpMzZ46rHuNKJUqV5sCB6B+Ia9e2LZMnTYz6nuLFeevtMZGuQ7Zs3UqPp7tHGVu4cGFCQ0PZvXs3d9/tWzpi8+YtlCjh6+CydNky1vzwA/1eeiniPVWr38vYMWNo06Z1lOOJiIjInZfE6wAiCcGufYdY8fMmgoKDSeHvRwp/P5Ik8V1MP1y/JqOnzuHMP+c4fPwkk2d9Fem9pYsUZO7i5YSFhfG/NetZs2FrxL7zgRdJ4e9H+jSpOf3PWYZPuvq6eQ/UqszuA0eY9fX3hISEEhISyobfdrLjj4MkTZqUpnWr8/qkmQRevMT2vQf4ZMH31zy3qx3zej3coCbfrF7H8rW/EhISythpn+OfPDlVyha/9pvDbZw/hZPrFkT7FV1hF6BmxdIkTZqEiZ/MJyg4mEmzFgBQu3LZKGP/PPU3ny1ZwfnAi4SFhfHdDxv4bMnyiLH3li9F7uyZeXPqp4SGhvHTr9tYtW4z94e3mn68WX2+Xvojm3fsJSQklJGTZ1HtnhKatSsiIrFu95G/WLX1D4JCQkmRPBkp/JKRJPwmXrNqJXhn3hr+Pn+RI3/9w5TFP0d6b8l82fh89VbCwi7z/S+7I7VJPn8piBR+yUmXKgVnzgUyas7V2znXr1CYvUdPMWfFZkJCwwgJDeOX3UfYefgkSZMmoXHlYrwxZwWBQcHsOPQns5dvuua5Xe2Y16tZ9RJ8t3E3K7f8QUhoGOMX/Ihf8qRUKhJz+8P/+mlsDw7NGhjtV3SFXYB7S+QjaZIkvLfoZ4JCQiN+9jVLRX1ADOD59xay6/BJZvVvTYB/8kj7jp46S9NXp9H5gUo80SBqcXjxuh38ff4izjk27j7M+4t/5oFKRa/7/ERERG7Wzp07WbZsGUFBQaRIkYKAgACSJPHdXmzV8hFGvPEGZ86c4fDhw4ybMCHSe8uWLcOs2bMJCwvjm2++YeWqf9d4PXfuHAEpAkifPj2nT59myNDXrpqjceNG7Nq9mxkzZhISEkJISAjr169n+/btJE2alBbNmzN4yFACAwP5/fffmTZ9xjXP7WrHvF6tWrZk0eLFLF26lJCQEN56+238/f2pVq3adR9j29YtnD/7T7Rf0RV2AWrXrk3SpEl5d9w4goKCGB/+s7/vvvuijE2VKhUtmjfnlVcHc+HCBX744QcWfPVVxAzlXTu2s/nXX9j0y0Y2/bIRgK8XzKd582bXfQ4iiV2XAW8weOyHXscQkQRMxV2RWBAUHMKgdz4gd41W5K/9GCdP/82Q3p0AX3vePDmyUPyBDjzUdUCkdsYAb77UncUr15K92sPMWbScJvf9e8Hfo11zLgUFk7tGS2q3fZZ61StcNUeaVCn5+r3hfLZkJQXrtiF/nccYNOYDgoJ9M3TeHtCD84EXyV+nNV1eHs3jzepf89yudczrUTh/bj4Y8SLPj5hI7potWbziZz4fPwS/5Mmv/eZb4Jc8OXPGvsonX31P9moPM33+/5gz9tWIzx01ZTZNuw0EfDN4psxZyN33tyVH9UcYMHoKo/p1o3GdqgAkT56Mue8O5tvV68lWrTk9Br/DlOF9I2ZB165clsG9O9KixyDy1nqUvYeO8vEbL0WbS0RE5FYEh4QydMb33N1hFEWfHM1f/1xgUDvf9UW/R2uRO3M6ynZ7h4eHzojUzhhgxJMN+WbDLvI/PpLPV2/lwSsKgt0aV+FScAh3dxxF/ZemUrdcoavmSBPgzxevPs68Nb9RvPNbFO00miEzviM4JBSAUU89yIVLwRTtNJqe4+bT5r5y1zy3ax3zetydMxOTe7fgxamLKdRxFN9u2MWs/m3wS357mxb5JU/GzJceY86KzeR/fCSfLP2VmS89FvG5b3++ipav+R7UO/Tn33z8v438tv84xZ4cTe42r5O7zet8tnILADO+/4X9J84wau6KiH2527we8Vnz1vxG+affJU/b4Tz97pc807w6reuUva3nJyIiAhAUFMRLAwaQKUtWsuXIyZ9//smI4b7fUa++8gp58+Qlf8FC1G/4AI+3axvpvWPHjOHrhYtInyEjn8yaTbOmTSP2Pdu7NxcvXSRTlqxUqVadhg0aXDVHmjRp+N83S/h0zhxy5MpNthw5ebF/f4KCfJ3Rxo97l/Pnz5MtR046durEEx07XPPcrnXM61GkSBFmTp9Or97PkilLVr5euJCvF8zHz8/vuo9xM/z8/Jg/7wumz5hJ+gwZ+fCjj5k/74uIzx0+YgQPPNgoYvzECeO5ePEiWbJlp3XbdkyaMCFixnWWLFnIli1bxBdApkyZCAi4+hJXIhI3DRz9HnfXfYyslZpQ5P7WjHr/E68jiUgsMKf2XZIImZkL3Bpzm53badX6zXR6aRR7luoXqdy8lKUa4JxT82cRSRDMzJ2eN9jrGAnSmt/20fWdeWyb+rzXUUTirAwtBuu6SkTiJTNzLuz6H4C601asWEG79h04fDD6FsMi18uSJtPv6njOzFzgtqVex7hjugx4gxxZMzM4fPKPl3btO0TOrJlIlTKAIydO8tBTLzKo1xM0q1fjjuZIWaKu/h2LxCLN3BURERERERERERERkXjvramzKVinFVkqNqZMow4sX/sLAOu37KB2m55kr/IQ+Wu15Llh7xJ8RWfClCXq8t7sBZR6oD1ZKjZmyLsf8cfBo9Rp24uslZrQrs/QiPGr1m2i0H2PMur9T8hdvTlF67Xh04UxL3+3eMVPVG7RhexVHqJO215s3bn3mnljS+H8uUmV8t+Z90mSJOGPg0di9TNE5M67vb3JRCRe+GHjVpp1fznafSfXLbjDaURERCQh++n3A7QaNjPafYdmDbzDaURERCQxWb16NQ80ahztvvNn/7nDaUQktu3ad4jJsxewes5EcmTJxIEjxwkLuwxA0qRJGPXi09xToghHTpykWbf+vP/pV/Rs/3DE+7//YQM/fDaJw8dPUu2Rbvy8aRsfjuxPhvRpqdOmF3MXL6NdM1/b+BN/nebUmX/Ys3wO6zZvp3n3AdxTogiF8+eOlGnT9t10HzSazyYMo3yJwsz++nta9hzE5kUfc+DIiRjz/tfoKbN564PZMZ77sbVfxbhv9JTZvPHeTC5cvES+XNlp1ahujGNFJH5QcVfkDqtZsUyca8lcvXwpFXFFREQSoHtL5o9zLZmrFs+rIq6IiEgiULt27TjXkrlGjRoq4ookYEmTJCE4OIQdew+Q+a705M2ZLWLfPSUKR3yfN2c2nmzZmNUbNkcq7vbp9ChpU6eieKFUFL87H3WrlSd/7hwA1K9Ric3b90QUdwFe6fUE/n5+1KhYhoY1K/PFNyvo3/3xSJk+/GwRnVo2plLpYgC0a9aAN6fMYt3m7eTIkinGvP/1wlOteeGp1jf1c3nhqdY83/kxNu/Yw9dLfyBdmlQ3dRwRiTvUlllEREREREREREREROK1gnlzMurFp3l9wnTy1nyY9i+8xtE//wJg9/5DtHh6APlqPkLWSk14dewHnDoT+WGPLBnvivg+wN8/0usU/v6cv3gx4vVdadNEanecJ0dWjp08FSXTwaMneHfaZ2Sv8lDE1+HjJzn256mr5o1tZkbZYncT4O/PsPEf35bPEJE7R8VdEbkpXQaOZvC7H3sdQ0RERBKBHuO+5PVZS72OISIiIolAxyc68fKgQV7HEJGb9GjjuiydOZYd383CMAa9PQWA3kPHUiR/HrYumc6JdV8zpPeTOHfzn3Pm7DkuBP5b7D107E+yZ84YZVyubJnp16Utx9Z+FfF1auNiWjW676p5/2vU+5+QuUKjGL+uV2hYGH8cOnaDZysicY2KuyIS753+5yyPv/A6ue59hNw1WvLEiyM5e/5ClHGr128hZakGKkqLiIjITfvyh99o0H8qOR8bRpNBH0Xad+rsBRr2/4CC7d8gX7sR1H9pKmu3H/QoqYiIiMR3L/Tty91FipImXXqKFi/B9Okzoh03ffoMLGkypk794A4nFIlbdu07xIq1vxIUHEwKPz9SpPAniRkA5y4EkiZVSlKnDGDnHweZMifmNWqv17AJ0wgODuGHjVtYsnItLRrUijLmiUcaMXXu16zbsh3nHBcCL7Jk5VrOXQi8at7/6telLSc3LIrxKzqXL19m6tyvOfPPOZxzrN+yg/dmL6BOlXK3fO4i4i2tuSsi8d6QcdP4++x5fv9mGs5Bm+eG8vrEmbzRr2vEmJCQUF54YxIVSxf1MKmIiIjEd3elDqBb4yrsPvIXq7fui7QvVQo/xvVsSsHsGTAzFq/bQZsRs9j1UV+SJU3qUWIRERGJr1KlSsXXC+ZTuHBh1q9fT8MHG1GoUEGqVasWMebMmTMMHzmSEiVKeJhUJG4ICg5m0Jgp7PzjIMmTJaNyueKMH9wHgBF9u9Fz8NuM+XAOZYoV4uGGtVn586ab/qysmTKQPm0aCtZpRUCKFLz7yrMUKZAnyrjyJYswYXAf+gwbx96Dh0nh70+1e0pyb4XSV80bW776/gdeHfMBwSEhZM+Ske5tm9G9bfNY/QwRufNU3BWJh976YA4TZy3g3PlAsmfJyDsDe1KnSjnWb91B35GT2bnvICn8/Wl2f3Xe6NcVv+TJAUhZqgFjBvZk/Ix5nPjrDD3aNefxZvV4sv8oft9zgHrVy/PhyBfxS56cVes30+mlUXR5rDHjps8jVcoABvfqyGON74s20+KVaxkybhoHj56gaIE8vDvoGUoVKXDVvLFl/+HjNL6vGmlTpwKgSd3qLF6xNtKYsdO+4P5q5Tl56u9Y+1wREZHEYOy8Nby/+GfOBQaRLUMa3uzSiFqlC7Bx92H6f/ANuw6fJMAvOU2qFmNYxwb4Jff9iZGhxWDefOpBJi1cy59nztO1cRXa3FeWbmPnsf3gn9QtV4j3erfAL3ky1vy2j67vzOPJhhWZ+PVPpErhx8tt6tKyVuloM327YSevz1rGwT//pkjuzLzdtTEl8mW7at7YUrtMQQCmf7cxyr4Ufsm5O2cmwPeUfNIkSfj7/CXOnLtI5vSpYy2DiIhIQvXGqFG8O248Z8+eJUeOHEwcP466deuybt06ej/3HNu37yAgIICHW7Tg7bdG4+fnB4AlTcaE8eMY885Yjh8/zrO9n6Fjhw483qEDv/22jYYNGjBzxnT8/PxYsWIF7dp34Onu3Xh7zDukTp2a1197jbZt20SbaeHChbz8yqvs37+f4sWLMXniREqXLn3VvLFlyODBEd9XrlyZGvfey09r10Yq7vYfMJBnevVk7mefxdrnisRXpYoUZPWcidHuu7dCaTYt/Djyxl7/fhu4LfIyMEtnjo30enDvTlGO+WLXtrzYtW2U7e8PfzHS6/o1KlG/RqUbyhsbkiRJwlfvj7xtxxcR76i4KxLP7Np3iMmzv2L17HHkyJKRA0eOE3b5MgBJkyRlVL+u3FOiMEdOnKRZ95d5/9Ov6fl4i4j3f//DBn6YM57Dx09SrVVPft78Ox+OeJEM6dNSp92zzF28gnZN6wFw4tRpTp05y56ln7Bu8w6a93iZe0rcTeH8uSNl2rR9D91feZvPxg2lfIm7mb1wGS2fGczmr6dy4MiJGPP+1+ipc3jrwzkxnvuxH+dFu71r6ya8/+lCWj1QG4AF36+hUe0qEfsPHj3B9Pnf8uPcCfR5fcK1f8giIiICwO4jfzFlyTq+H/UU2TOk5eCfZwi77FuYKmmSJLz+RAPKFcrB0VNnafnaJ3zwzXq6N6ka8f5lm/ay7M0uHPnrLHVeeI/1Ow/xXu8WZEiTkvr9p/LFmt9oXacsAH/+fZ5T5wLZNvV5Nuw6zKPDPqFsoRwRxdL/t+WPY/Qav4BZA9pQrmAO5q7aQpsRs1k3vhcH//w7xrz/9c681bwzb02M575/Zv+b/rnd+9xEdh/5i5DQyzx+/z0q7IqIiFyHnTt3Mn7CRNb/vJYcOXKwf/9+wsLCAEiaNClj3nqLChUqcPjwYR5o1JiJkybxbO/eEe//9tv/sXH9Og4dOsQ9FSry408/MXP6dDJmzEjV6vcye/andOjQHoDjx4/z119/ceTQQdauXcuDjZtQoUJ5ihQpEinTr7/+SqfOT/H1gvlUqFCBmTM/4aFmzdm5/Xf2798fY97/GvnGG4x8Y1SM5/736VPX/PlcvHiR9Rs28HT3bhHb1q1bx4aNG5k4YbyKuyIiIomIirsi8UzSpEkIDglhx94DZL4rHXlzZovYd0+JuyO+z5szG0+2fJDVG7ZGKu726dSKtKlTUbxQKooXykvdqveQP3d2AOrfW4HNO/ZEFHcBXunZAX8/P2pULE3DGpX44ttV9O8W+Ym0Dz9fTKdHGlEpvOVxu6b1eHPqp6zbvIMcWTPGmPe/Xuj8KC90fvSGfyZli91NSEgIuWq0BKBO5bJ0eaxJxP7nR0zklZ7tSZ0y4IaPLSIikpglTWIEh4Sy89BJMqVNRZ4sd0XsK1swR8T3ebLcRcf65flx24FIxd1ezaqTNmUK0uZJQbE8WahTpiD5smUA4P5yd7Plj2MRxV2AAa3vwz95MqqXyEe98ncz/4dt9G0Ved2qad9tpEP9ClQonAuA1nXKMuaL1WzYdZjsGdLEmPe/nm1Rg2db1Liln09M1ox5mkvBISz6eQfBodHf5BUREZHIkiZNSlBQEL///juZM2cmX758EfvKly8f8X2+fPno2uUpVq5cFam426/vC6RNm5YSJUpQsmRJ6terR4ECvu4dDzRswK+bNkUUdwFeGzoUf39/atWqRaMHH2TuZ58x6OWXI2V6f8pUunZ5isqVKwPQoUN7ho8cydq1a8mZM2eMef/rpRdf5KUXX4xx//Xo1v1pypQuTYMGDQAICwvj6Z69GP/uWJIkSXJLxxYREZH4RcVdkXimYJ6cjOrXjdcnzWT7ngPcX708I/t2JUeWjOzef5gX33yPX7bt5uKlIELDwihXvFCk92fJmD7i+4AU/mTJ+O9NzxT+/pw4dSbi9V1p05AqZYqI13lyZOXYyahPkx48+ieffPU9k2cviNgWHBLKsZOnqFGxdIx5Y8vjL7xOycL5mfvuEByO/qPfp9NLbzDzrZdZtGIt5wMv8kjD2rH2eSIiIolFgewZGd6pIW/MWcGOQye5r2xBhj3RgOwZ0rLn6F+8/NG3bNp7lMCgEMLCLlPmioIvQJb0qSK+T+GXjMxXvA7wT8aJM+cjXqdPHUCqFH4Rr3NnTs/xM+eiZDp08m8+Xb6JKYt/jtgWEhrG8dPnqF4iX4x577QUfsl5uEYpKvcaT6l82SiZP+YH3ERERAQKFSrEO2+/zeChQ9m27Xca1K/P22+NJkeOHOzatYs+z7/Aho0bCQwMJDQ0lPLl74n0/qxZs0Z8HxCQgqxZrnwdwPHjJyJe33XXXaRK9e91Sd68eTh69FiUTAcOHGDa9OmMG/9vF7Dg4GCOHj1GrVq1Yswb2/r268dv27axfOn3mBkAEydNonSpUlSpUuUa7xaR2FazUln2LIu5+6CIyO2m4q5IPPRoo/t4tNF9nD1/gV5D32XQmA/4YEQ/eg8bR5miBZk2qj9pUqVk/Ix5fPldzO0Gr+XM2XNcCLwUUeA9dOxPihfKF2VcrmyZ6ffUY7zYJfr1aWLK+1+jpszmzSmfxpjn5LoF0W7fsmMvYwb2iMjZuVVj7m/fB4AVP//KL9t2k6/2YwCcPX+BpEmSsG33Pj4bNyTmkxcREREAHqlZmkdqluZs4CX6TF7IkBnfM7l3C154bxGl8mdjSp9HSBPgz6Svf+Krn36/6c/5+/xFLlwKjijwHj75D8XyZIkyLmfGdPR5pCbPP1LzhvL+19ufr2LMvNUx5jk0a+BNnklkoWFh7D9xRsVdERGR69CmTWvatGnN2bNn6dqtOy++1J8Z06fRvUcPypUty+xZn5AmTRreGTuWz7/44qY/58yZM1y4cCGiwHvw4CFKliwRZVzu3LkZOKA/AwcMuKG8/zV8xAiGj4h53cvzZ/+Jcd+rgwez5JtvWbl8GWnT/vvA2tKly1i5ahWLlywB4PTp0/z66yY2bd7M+HHvxng8ERERif9U3BWJZ3btO8TRP09RtVxxUvj7kcLfj8vha9ieuxBImlQpSZ0ygJ1/HGTK3EVkuivdLX3esInTGdL7CdZv2cGSVT/z8tOPRxnzxCMP8FjvIdSpcg8VSxUh8GIQqzZs5t7ypTj256kY8/5Xv6da0++p1jecsXzJwnz8xTe83qcz4GsTXbJwfsDXVvr5J/9t9dx35CSyZ87IS92iL0SLiIjIv3Yf+Ytjp89SuWgeUiRPRgq/ZFwOX8P2/MUg0qT0J3UKP3YdPslH324gY9qUt/R5Iz9dzqC2ddm4+wj/27iLlx6rHWVM+3r38Pgbc6hVugDl785JYFAIP/y2n6ol8nL89LkY8/5Xn0dq0ieGAvHVhIVdJiQsjLDLl7nsHJeCQ0iaJAnJkyVl/c5DhF2+zD2FchJ22fH+op85+fcFyhfOecOfIyIiktjs3LmTI0eOUL16dVKkSEFAQEDEGrbnzp0jbdq0pE6dmh07djBp8ntkzpzplj7v1cGDGf766/z8888sXLSIIYNfjTLmqc5P0vzhR7i/bl0qVapEYGAgK1asoGbNmhw9ejTGvP81oH9/BvTvf8MZR4wcyazZn7J65QoyZozcAe3jjz7k0qVLEa9bPPIIjzz8ME926nTDnyMiUa1at4lOL43QDF0RiZNU3BWJZ4KCQxj0zgfs/OMQyZMlpXLZ4ox/9VkARjzfhZ5D3mHMR59RplhBHm5Qk5XrNt/0Z2XNmIH0aVNT8L42BKTw591Bz1CkQJ4o48qXKMyEwc/SZ/gE9h48Qgp/f6qVK8G95UtdNW9smTz0eZ4fOZG772+Lc47ypYow5fW+AKRJlZI0qf690Rzg70/KgBRkSHfn2zOKiIjEN8EhoQyd8T27Dv9FsmRJqFQkN2O6+9a1H9qhPs9N/ppx83+gVP7sNKtegtVb9930Z2VJn5r0qQMo3vktAvyT81bXxhTOlTnKuHKFcvJO9ya8OGUxe4+dIsAvOZWL5aFqibxXzRtb5qzcTM/x/3YTyfHY67SuU4YJvZoTHBrGS1OXcODEGZIlS0LxPFn5dGAbT9pCi4iIxDdBQUG8NGAA27fvIHny5FSrWpX335sMwOhRo+jSrTuj3hxNuXJlebRVS5YtX37Tn5UtWzbuuusucuTKTcqUKZk8cSJFixaNMq5ChQpMeW8yPZ/pze7duwkICODe6tWpWbPmVfPGlgEDX8bPz49ChYv8u63/Swzo35/06dNHGuvn50faNGlJl+7WHvIXkbhp9/5DDBj9Pj9v2kZY2GXKlyzC6AE9KZw/d7Tjg4KDeWboWOb/bxUBKfzp0+lRnunY8g6nFpHbxZyL/kl2kYTMzFzg1m+9jhGnrVq/mU4vjWLP0k+8jiLRSFmqAc458zqHiEhsMDN3et5gr2OIh9b8to+u78xj29TnvY4iiVCGFoN1XSUi8ZKZORcW6nWMeGfFihW0a9+BwwcPeB1FrpMlTabf1fGcmbnAbUu9jnFD4trM3fVbdrBt9x88VPde0qRKyfBJM/jyfyvZtPDjaMe/MmYqP/6ylc/GD+PEX6dp+MTzvP96P+rXqHRng4dLWaKu/h2LxKIkXgcQERERERERERERERGJTW9NnU2bZwdH2vbCiPE8P3w8ANO//IZyTZ4gS8XGFG/Qjqlzv47xWClL1GXvgSMRr7sMeIPBYz+MeL14xU9UbtGF7FUeok7bXmzduTdWz6Vi6aJ0fPhBMqRPS/LkyejV/mF27TvEqb+jX7N75oL/8VK3x7krXRqKFszLE480YuYCTXYSSSjUlllERERERERERERERBKUlg/ex/BJMzh3IZA0qVISFhbGF9+sZM67QwDInCE9X0x4nfy5s7NmwxaadetP+ZJFKFe88A19zqbtu+k+aDSfTRhG+RKFmf3197TsOYjNiz7G388vyvhKzTtz6Nif0R6r1YN1GftK72t+5pqNW8iaKQMZ00dtxX7mn3McP3mKUkUKRGwrXaQAC5f9cANnJSJxmYq7IhKtmhXLqCWziIiI3BH3lsyvlswiIiJyR9SuXVstmUUSiTw5slK22N189f0a2jatz4qffyVlgD+VyhQH4IFaVSLG1qhYhrrVyvPjxq03XNz98LNFdGrZmEqliwHQrlkD3pwyi3Wbt1OjYpko49d9OfUWzgoOHz/Jc8Pe5Y1+3aPdfyHwIgDp0qSO2JY2TSrOXQi8pc8VkbhDxV0REREREREREREREUlwWjW6j7mLl9G2aX3mLFpGqwfrRuz7dvXPDJ84gz37D3PZXSbwYhAl7i5wlaNF7+DRE3yy4H9MnvVlxLbgkFCO/XkqVs7hSidP/81DT/Wjy2NNadXovmjHpEoZAMDZ8xdI4e+bOXzuvG/2sogkDFpzVySRWrV+M4XqtvU6hoiIiCRAa37bR4nOb3kdQ0RERBKBFStWkCtPXq9jiEgc1aJBLVav38zh4yf5eukaHg0viAYFB9Pm2SE827El+1d9zrG1X9GgZiWcc9EeJ2VACgIvXYp4ffyvMxHf58qWmX5d2nJs7VcRX6c2Lo6x+Fr+oU5krtAo2q9eQ8bEeC5n/jlHk6depFGdarzYNeb7unelS0O2zBkjrfu7ZedeihXS/68USShU3BWROGH3/sO07PUqeWq2Imf1h3mo6wB27TsU4/ig4GC6DnqLrFWak6/2Y7w77YtI+wMvXqL3sHHkrtGSbFWbU6+DWj2KiIgkVnuO/kXbEbO5u+MoCrQfycNDZ7D7yF8xjj966ixtR8ymQPuRlOj8Fh99u/66j/XFmq1U6jmOvO1GULjjKJ5+90vOBl6K7mNEREQkgerStRtFihUnSbLkfPzxtKuODQoKotOTnUmb/i6y5cjJ22OiL+wMfe01LGkyvv/++4htL/Tty91FipImXXqKFi/B9OkzYvU8RBKCzBnSU6NiGbq9PIq8ObNTtKCvwBkcEkpQcAiZMqQnWbKkfLv6Z5b+uDHG45QuUpC5i5YRFhbG/1avY82GzRH7nnikEVPnfs26LdtxznEh8CJLVq6NsQ3yxq8+5OSGRdF+jXv1uWjfc/b8BR7q8iJVy5XgtT5PXfO82z5Ujzfe+4Qz/5xj5x8H+ejzxbRr2uCa7xOR+EHFXRGJE/4+d55Gdaqy6eup7F8xh/Ili9DqmcExjn994kz2HjzCjm+n882Ho3j7o8/435p/b7z2HDKWM/+c45cFUziy5nPe6NftDpyFiIiIxEX/XLhEw4pFWDeuJzs/7Ms9hXLSbuTsGMd3GzuPPFnSs/PDvswZ2JbXPlnK6q37rutYlYvmYcnwThyY2Z9fJvUmNOwyw2ctu+3nKCIiInFHmTKlmTh+HPfcc881xw4eMoTde3ZzYN8fLF/6PaPeHM0333wTaczevXv57PMvyJ49e6TtqVKl4usF8/nnzGmmffQhvZ97jh9//DFWz0UkIXi0UV2W/fRLxKxdgDSpUjK6fw8ef34oOao2Ze6iZTSqUzXGY7zZvweLV/xE9ipNmbNoKU3uqx6xr3zJIkwY3Ic+w8aRo2pTSj7Qnpnzv43Vc/jq+zVs/G0nM+Z/G2mm76GjJwD4dOH3lH+oU8T4l3t2IH/uHBSt14YGHZ/juSdaUb9GpVjNJCLesZjaDIgkZGbmArfG7i9YL7z1wRw2btvFrLcHRWx7YeQknHO81f9ppn/5LWM++owjJ/4i013p6NOpFZ1bNQJ8bZk7vTSKPUs/ASBlqQZsXfQhBfPkBKDLwNHkyJqJwc90BGDxyrUMGTeNg0dPULRAHt4d9Aylitz4GhTX6/Q/Z8l1b0sOrf6MjOnTRtlf4L7WvD/sBe6vVh6AIeOmsffgEaa/OYCdfxykZpve7P5+JmlTp7ptGb2UslQDnHPmdQ4RkdhgZu70vMFex5D/GDtvDb/sOcK0fo9GbHvpgyXgHCM7P8gnS3/l3fk/cOzUWTKmS0nvZvfSsUEFwNeWues789g21dc5I0OLwWyY0IsC2TMC0GPcl+TImJaBbXzrXX27YSevz1rGwT//pkjuzLzdtTEl8mW7bed25lwgBTuMYs+0fmRIE3ndqfMXg8jTdgS7PupLpnS+64hnJ33FpeBQJvduccPH6vv+Ik6dC2Tuy+1u2/nIrcnQYrCuq0QkXjIz58JCvY4RK94YNYr16zfw+WdzI7b1fvY5nHO8O/YdPvroY0aNHs3hw4fJnDkzL/btS9euXQBfW+Z27Ttw+OABACxpMnbv3EGhQoUA6PhEJ3Llysmw114DYOHChbz8yqvs37+f4sWLMXniREqXLn1bzuvemjXp3OlJOnbsEOOYHLly8/GHH1C/fn0ABr3yCrt37+HT2bMixjR84EGe6dWTp3v2Yur773H//fdHe6yHmjajVq2aPN+nT+yeiMcsaTL9ro7nzMwFblvqdQzxUMoSdfXvWCQWJfM6gIjcvJYP1Gb45E84dyGQNKlSEhYWxhffrmLOO68AkDljer6YMJT8ubKzZsNWmj39MuVLFqZc8btv6HM2bd9D91fe5rNxQylf4m5mL1xGy2cGs/nrqfj7+UUZX6lFNw4d/zPaY7V6sA5jX+51zc9cs+E3smbKEG1h98w/5zh+8jSlCv9bXC5dpAALl/meTt3w207yZM/CsAkzmL1wKdkyZWDg0+1oVq/G9Z6yiIhIotfi3pKMmruCcxeDSBPgT1jYZRb8sI3pL/qKvZnTpeLTgW3Il/Uufvz9AK1em0m5QjkoUzDHDX3Olj+O0Wv8AmYNaEO5gjmYu2oLbUbMZt34Xvgnj/rnyr3PTeTwyX+iPdYjNUoxumvja37mj78fIGv61FGKsQD//+jrlQ/BOgfbD0Z/bRPdsdZuP8Cjr8/iXGAQKf2TR/zMREREJHqPPfooQ4a+xrlz50iTJg1hYWHM/ewzvvzicwCyZMnMwq8WUKBAAVatWsUDjRpTsWKF65oZe6Vff/2VTp2f4usF86lQoQIzZ37CQ82as3P77/j7+0cZX7psOQ4ePBjtsdq0bs3ECeNv/GSvcObMGY4dO0aZMmUitpUpXYb5C76KeP3ZZ5/j7+/Pgw8+CMR8P+XixYus37CBp7urc5mIiEhCp+KuSDyWJ0dWyhYrxFdLf6DtQ/VY8fMmUqbwp1KZYgA8ULNyxNgaFUtTt+o9/PjLbzdc3P3w88V0eqQRlUoXBaBd03q8OfVT1m3eQY2KUZ9uXTdv8i2cFRw+fpLnho/njb5dot1/4eJFANKl+XdWbtrUKTkX6Nt+5MRfbNuzn6b17mXvsln8vGk7LXoMomjBvBQtkOeWsomIiCQWubOkp3SB7Cxau53H6pRl1dZ9BPgnp2KR3ADUr1A4Ymz1EvmoU7YgP20/eMPF3WnfbaRD/QpUKJwLgNZ1yjLmi9Vs2HWY6iXyRRm/ZszTN39SwJG//qHflMUMeyL69abSBPhTuWhuRn+2iiEd6rHz0Em+Xvs7mdJG7QYS07GqFMvLgZn9OXrqLNO/20ieLOlvKbOIiEhClzdvXu65pxxffjmf9u0fZ9myZaRMmZIqVaoA0KhRo4ixtWrVon69eqxes+aGi7vvT5lK1y5PUbmy735Jhw7tGT5yJGvXrqVWrVpRxm/Z9OstnNW1nT9/HoB06dJFbEuXLi3nzp0D4Ny5cwx4+WW++/abaN9/pW7dn6ZM6dI0aKA1NUVERBI6FXdF4rlWD9Zh7uIVtH2oHnMWL6fVg3Ui9n27ej3DJ89kz/7DXHaOwItBlLg7/w1/xsGjf/LJV98zefaCiG3BIaEcO3kqVs7hSidP/81DXQfQ5dHGkc7lSqkCAgA4ez6QFP6+mcPnLgSSJqVve4C/P8mTJeOlLm1IliwpNSqWpmalMiz9caOKuyIiIjfgkRql+GLNbzxWpyyfr97KwzVKRez77pfdjJqzgr3HTnH5suNicAjF8mS94c84dPJvPl2+iSmLf47YFhIaxvHT52LlHK701z8XeHjoDDo1rBjpXP7r/Wcfpu+URZTqMoa8We+iVc3S7Dh08oaPlSNjWuqWK0Tntz5nxVuaRSMiInI1bVq3Zvann9K+/ePMmv0pbVo/FrFvyZIlDHntNXbt2s3ly5cJDAykVKmSN/wZBw4cYNr06YwbPyFiW3BwMEePHouVc7hRqVOnBuDs2bOkSJEi/Hvf7GXwrcf7eLu25MuX76rH6duvH79t28bypd9jpq6nIiIiCZ2KuyLxXIv6Neg/+n0OHz/J18t+ZPnMdwAICg6mTZ/XmPp6XxrXqUry5Mlo9cxgYlpnO2WAP4EXgyJeHz91mhxZMwGQK1tm+j31GC92aXNdmco3e4qDR6NvXfhY4/sY90rvaPed+eccTboOoFHtKlf9rLvSpSFb5gxs3bmXuuFr7m7Z+QfFCuUFoGThqAVs/XEjIiJy45pWK8Ggaf/jyF//sOjn7Xw7sjMAQSGhdBw1h4nPNOfBSkVJniwp7UbO5t+mxpGl9E/OxaCQiNcnzpwnR0bf0gs5M6ajzyM1ef6RmteVqWrvCRw++Xe0+1rWLM3b3ZpEu+/v8xd5eOgMHqhY5JqflTtLej4d2Dbi9VNjPueeu3Pe1LHCLl9m34kzVx0jIiIi0PKRR3j+hb4cPnyYL+fP56cf1gAQFBTEwy1bMf3jj2na9CGSJ09Os+YtYr6/kTIlgYGBEa+PHz9Orly+3+O5c+dm4ID+DBww4LoylShVmgMHDkS7r13btkyeNPFGTjGKu+66i+zZs7N582bq1asHwOYtmylRvDgAS5ct5/Dhw0yc5OuQdvLkSVo91poX+/XlxX79AHh18GCWfPMtK5cvI23aqEtbiYiISMKj4q5IPJc5Q3pqVChNt0FvkTdntoiZqcEhoQQFh5DprnQkS5aUb1evZ+lPv1C8UL5oj1O6SEHmLl5O8UJ5WfrTL6zZsJV7ivvaLT7xyAM81nsIdarcQ8VSRQi8GMSqDZu5t3wp0qSKulbdxvlTbvg8zp6/wEPdBlC1bHFee+7Ja45v2+R+3nh/NveUKMyfp87w0Rff8N5rfQC4t3wpcmfPzJtTP6Vv58dYv3UHq9Zt5vXrOK6IiIj8K1O6VFQvkY+e4xeQN+tdFMmVGYDg0DCCQsPIlC4VyZIm4btfdrN8016K5ckS7XFK5svG56u3UjR3FpZv3suPvx+gXCFf++b29e7h8TfmUKt0AcrfnZPAoBB++G0/VUvkJU1A1LXvfhrb44bP42zgJR4ZOoPKRXPz6uP1rjl+5+GT5MiYFv9kSZn/4zaWb9rL2nd7XtexPlu5harF85Arc3oO/fk3wz5ZRq1SN945RUREJLHJnDkztWvV4olOT5I/f36KFfMtORUcHExQUBCZM2ciWbJkLFmyhP999x0lS5aI9jhly5Zh1uzZlChRgu+++46Vq1ZRoYLvwfCnOj9J84cf4f66dalUqRKBgYGsWLGCmjVrRsyWvdK2rVtu6lyCg4O5fPkyzjlCQkK4dOkSfn5+JEmSJMrY9o+3Y9jw4VSoUIETJ04wZeoHfPTBVACWfvc/QkL+fUCuYuUqvD16NA880BCAESNHMmv2p6xeuYKMGTPeVFYRERGJf1TcFUkAHm1Uh84D3uT1Pp0jtqVJlZLRL3Xn8RdeJygkhAdrVaFR7SoxHuPNl7rTZeCbvPfp1zS5rxpN7qsWsa98icJMGPwsfYZPYO/BI6Tw96dauRLcWz7mdoY36qulP7Lxt11s33uAmQu+i9j+y4Ip5M6ehU8XLuPNqbMjCscv93icZ14bR9EG7Qnw96NPp1bUv7ciAMmTJ2Puu4N5+tV3eOvDOeTJnpUpw/tSRC2ZRUREbtgjNUrR/d0vGdz+30JmmgB/Rj75AJ1Gf0ZQSCgNKxahYcUiMR5jxJMNeXrcfD5Ysp4HKxflwUpFI/aVK5STd7o34cUpi9l77BQBfsmpXCwPVUvkjbVzWPTzDn7Zc5Qdh04ye/mmiO0/je1Brszp+WzlFt6etzqicLzs1z28/cVqLgaFUCp/Nj4b1I5M6VJd17F2Hj7J4Bnf8c+FS6RLlYJ65e/mlXb3x9q5iIiIJGRtWremfceOjHpjZMS2NGnS8O7Yd2j1WGuCgoJo0rgxDzWJvlMHwNgxY+jwRCcmTJxEs6ZNada0acS+ChUqMOW9yfR8pje7d+8mICCAe6tXp2bN6+sgcr3qN2zIypWrAPjxx5/o0q0by5d+T+3atfnkk1kMHzkyonA8ZPBguj/dg7z5CxAQEMCL/frSsKGvePvfgm3SpEm56670Ee2cBwx8GT8/PwoV/vc6bED/lxjQv3+sno/IrUrh73ciZYm6N76GiyQYKfz9TnidQSQhsZhamIgkZGbmArd+63UMkZuWslQDnHPqNS0iCYKZudPzBnsdQ0QSqQwtBuu6SkTiJTNzLizU6xgit50lTabf1SIiIleI2gtERERERERERERERERERETiHBV3RURERERERERERERERETiARV3RURERERERERERERERETiARV3RURERERERERERERERETiARV3RURERERERERERERERETiAXPOeZ1B5I4LSOF//FJQcFavc4jcrBT+ficuXgrK5nUOEZHYEOCf/Pil4FD9XhYRT6TwS3biYlCIrqtEJN4JCAg4funSJV1DSYKXIkWKExcvXtTvahERkXAq7ookMmZWCPgJqOmc2+51nhthZgbMBQ44517wOo+IiIhcnZnlAn4BHnDObfQ6z40ysw+Ay865p7zOIiIiIldnZpmAzUAb59xKr/PcKDN7G8gFPOp0w1ZERESuQsVdkUTEzJIBq4HZzrl3vc5zM8wsI7AFaOucW+FxHBEREYmBmSUBvgFWO+de8zrPzTCztMAm4Fnn3FcexxEREZEYhD8M/jmwL74+DG5mKYCNwHDn3Cde5xEREZG4S2vuiiQuLwIXgPFeB7lZzrlTQGfgYzNL53UeERERiVEPIC0wwusgN8s5dxboAEw2s8xe5xEREZEYPQ4UBl72OsjNcs5dAtoBY8wst9d5REREJO7SzF2RRMLM7sE3e6a8c+6Q13lulZlNBlI45zp6nUVEREQiM7OiwBqgmnNul9d5bpWZvYHvhnELtUkUERGJW8wsL7ABuN85t9nrPLfKzAYA9wH1nXOXvc4jIiIicY9m7ookAmYWAMzE11Iw3hd2w70AVDezFl4HERERkX+ZWXJgBjAoIRR2w70CFAA6epxDRERErhC+DMTHwFsJobAbbhSQEujldRARERGJmzRzVyQRMLMxQA7gsYQ028TMqgDzgbLOueMexxERERHAzIYAlYAHE9h1R2lgKVDRObff4zgiIiICmFkfoAVQyzkX5nWe2GJmhYCfgJrOue1e5xEREZG4RcVdkQTOzO4DpgOlnXOnvc4T28xsGFAWaJKQbiCLiIjER2ZWCfgaKOecO+p1nthmZn2BxsB9CekGsoiISHxkZiWAFUBl59wfHseJdWbWBegCVHXOhXidR0REROIOtWUWScDMLD3wEdA5IRZ2ww3FNyu5s9dBREREEjMzS4mvHXPPhFjYDfc2YMBzXgcRERFJzMzMD9/yU/0TYmE33BTgODDI6yAiIiISt2jmrkgCZmYzgLPOuR5eZ7mdzKw4sBKo4pzb63UeERGRxMjMxgPpnXPtvM5yO5lZfmAdUNc5t8XrPCIiIomRmQ0HSgJNE3IXLzPLBmwCmjnn1nocR0REROIIFXdFEigzewQYjq8t4gWv89xuZvYs0BLfejRqkygiInIHmVkDfLNLSjvn/vY4zm1nZp2A3kAl51yQ13lEREQSEzOrBswDyjjnTnid53Yzs4eBkUDZxHB/R0RERK5NxV2RBMjMsuN7svMh59zPHse5I8wsCfAd8L1zboTXeURERBILM8sAbAE6OOeWep3nTjAzA74EdjjnXvI6j4iISGJhZqnx3e/o65z70uM4d4yZTQMuOOee9jqLiIiIeE/FXZEEJvxm4yJgg3PuFa/z3ElmlgfYADRwzv3qdR4REZGELvy641PgmHPuWY/j3FFmlgXYDLR0zq3xOo+IiEhiYGbvAX7OuSe8znInmVk6fNcd3Z1zS7zOIyIiIt5K4nUAEYl1XYEswGteB7nTnHMHgT7ATDNL4XUeERGRRKA1UAro73WQO8059ye+667pZpbG6zwiIiIJnZk1BhrgWxohUXHO/QM8AUw1s4xe5xERERFvaeauSAJiZncDPwI1nHM7vM7jhfAZRHOBg865573OIyIiklCZWS7gF+AB59xGr/N4xcymAjjnOnudRUREJKEys8z4Zq62ds6t9DqPV8zsLSA38KjTTV0REZFES8VdkQTCzJIBq4HZzrl3vc7jpfCnWLcA7Zxzy73OIyIiktCEr3X/LbDSOTfM6zxeCp+1uxl41jn3ldd5REREEprwh7i/APY65/p6ncdL4V3KNgAjnHOfeJ1HREREvKG2zCIJx0vAeWC810G85pw7BXQGPg5fl0ZERERiVw8gNTDS6yBec86dAzoA74WvwysiIiKxqz1wNzDI6yBec85dAh4HxphZbq/ziIiIiDc0c1ckATCz8sAS4B7n3GGv88QVZjYJSOmc6+B1FhERkYTCzIrh6xZS1Tm32+s8cYWZvQEUAZqrTaKIiEjsMLO8+Gaq3u+c2+x1nrjCzAYAdYF6zrnLXucRERGRO0szd0XiOTMLAGbgawWowm5kLwDVzKyF10FEREQSAjNLju+642UVdqN4BcgPdPQ4h4iISIIQvgzEx8BoFXajGAWkAHp5HURERETuPM3cFYnnzGwMkAN4TLNEojKzKsB8oKxz7rjHcUREROI1MxsCVAQa6bojKjMrBSwDKjnn9nmdR0REJD4zsz5Ac6C2cy7M6zxxjZkVBNYCtZxzv3udR0RERO4cFXdF4jEzqwtMA0o75057nSeuMrPXgHuAxroRLSIicnPMrDLwFb4Hpo55nSeuMrO+QBOgjm5Ei4iI3BwzKwksByo75/7wOk9cZWZdgK74lssI9jqPiIiI3BlqyywST5lZeuAj4EkVdq9pKJANeMrrICIiIvGRmaXC1465pwq71/R2+P/t42kKERGReMrM/ICZQH8Vdq9pCnAMGOR1EBEREblzNHNXJJ4ysxnAWedcD6+zxAdmVhxYBVRxzu3xOo+IiEh8YmYTgLTOuce9zhIfmFk+YD1Q1zm3xeM4IiIi8YqZDQdKAk3VfevazCwbsAlo5pxb63EcERERuQOSeR1ARG6cmbUEKgPlvM4SXzjnfjezYcB0M6vpnAv1OpOIiEh8YGYN8bUZLu11lvjCObffzPoBM82sonMuyOtMIiIi8YGZVQeewLcMhAq718E5d9zMngZmmFlZ59wFrzOJiIjI7aWZuyLxjJllx/dE5kPOuZ89jhOvmFkS4DtgqXNuuNd5RERE4jozywhsBjo455Z6nSc+MTMDvgR2Oude9DqPiIhIXGdmafDd73jeOTff2zTxj5lNAwKdc929ziIiIiK3l4q7IvFI+E3CRcB659yrXueJj8wsN7ARaOCc+9XrPCIiInFV+HXHp8Ax59yzHseJl8wsC77ieCvn3Gqv84iIiMRlZvY+kMw518nrLPGRmaXDd93R3Tm3xOs8IiIicvsk8TqAiNyQrkBmYJjXQeIr59whoA++NokpvM4jIiISh7UGSgH9vQ4SXznn/gS6ANPMLK3XeUREROIqM2sM1AOe9ThKvOWc+wfoCEwN774iIiIiCZRm7orEE2Z2N/ATcK9zbofXeeKz8JlIc4FDzrk+XucRERGJa67odNHQOfeL13niOzObiu9vrye9ziIiIhLXmFlmfDNOH3POrfI6T3xnZm8BefB1DtGNXxERkQRIxV2ReMDMkgFrgE+cc+O8zpMQhD/FugVo55xb7nUeERGRuCJ8jfr/ASucc+oWEgvC1xDcDDznnFvgdR4REZG4Ivzh6y+Avc65vl7nSQjCu5RtAEY652Z6nUdERERin9oyi8QPLwHngAleB0konHOngM7Ax+Hr0oiIiIhPTyAVMNLrIAmFc+4c0B6YHL4Or4iIiPi0BwoBL3sdJKFwzl0CHgfeNrM8XucRERGR2KeZuyJxnJmVB5YA9zjnDnudJ6Exs0lAKudce6+ziIiIeM3MigGrgKrOuT1e50lozGwkUAxopjaJIiKS2JlZPmA9cL9zbrPHcRIcM+uPbx3j+51zl73OIyIiIrFHM3dF4jAzCwBmAs+qsHvbvABUNbOHvQ4iIiLiJTNLDswABqmwe9u8CuQDnvA4h4iIiKfCl4H4GBitwu5tMwrwB57xOoiIiIjELs3cFYnDzOwdIBvQWrM7bh8zqwLMB8o55455HEdERMQTZjYUqAA00nXH7WNmpYBlQCXn3D6v84iIiHjBzJ4HmgG1nXNhHsdJsMysILAWqOWc+93rPCIiIhI7VNwViaPMrC4wDSjtnDvtdZ6EzsxeA+4BGuuGtoiIJDZmVhn4CiirB51uPzN7AXgIqKMb2iIiktiYWUlgOVDZOfeH13kSOjN7CuiGb9mNYK/ziIiIyK1TW2aROMjM0gMfAU+qsHvHDMU3S7qL10FERETuJDNLha8dcw8Vdu+YMYADnvc6iIiIyJ1kZv74lp96SYXdO2YqcBR4xesgIiIiEjs0c1ckDjKzmcA/zrkeXmdJTMysOLAKqKK1BkVEJLEws4lAGufc415nSUzMLB+wHqjrnNvicRwREZE7wsxGACWApuqadeeYWTZgE9DcOfeTx3FERETkFiXzOoCIRGZmrYCK+FoEyx3knPs9vD3zdDOr6ZwL9TqTiIjI7WRmDYHGQGmvsyQ2zrn9ZtYXmGlmFZ1zQV5nEhERuZ3M7F6gI75lIFTYvYOcc8fN7Gl89zvKOefOe51JREREbp5m7orEIWaWA/gVaOKcW+d1nsTIzJIA/wOWO+de9zqPiIjI7WJmGYHNQHvn3DKv8yRGZmbAPGC3c66f13lERERuFzNLg++64znn3AKv8yRWZvYxcMk5183rLCIiInLzVNwViSPCb+4tAX52zr3qdZ7EzMxyAxuBhs65X7zOIyIiEtvCrzvmAEecc895nScxM7PMwBbgUefcKq/ziIiI3A5mNgVI6pzr5HWWxMzM0uErsj/tnFvsdR4RERG5OUm8DiAiEboBGYFhXgdJ7Jxzh4DngBlmlsLrPCIiIrdBG6AkMMDrIImdc+4k0AWYZmZpvc4jIiIS28ysCXA/8KzHURI959w/+FpjTzGzTB7HERERkZukmbsicYCZFQZ+BO51zu3wOo9EmtF02DnXx+s8IiIisUUdKuKm8BlNSZxzT3qdRUREJLaEd6jYDDymDhVxh5mNBvIBLbX+sYiISPyj4q6Ix8wsGfADMNM5N87rPPKv8LUItwCPay1CERFJCLS2fNwVvhbhJqCP1iIUEZGEQGvLx13hXcrWA6OcczO8ziMiIiI3Rm2ZRbzXHzgLTPA6iETmnDsFdAY+MrP0HscRERGJDb2AVMAbXgeRyJxz54AOwGQzy+J1HhERkVjQASgIDPI6iETmnLsEPA68ZWZ5vM4jIiIiN0Yzd0U8ZGblgSXAPc65w17nkeiZ2UQgtXOuvddZREREbpaZFQNWA1Wcc3u8ziPRM7ORQDGgmdokiohIfGVm+fDNDL3fObfZ4zgSAzPrD9TD99/pstd5RERE5Ppo5q6IR8wsAJgJ9FZhN87rC1Qxs0e8DiIiInIzzCw5MAMYqMJunPcqkBd4wusgIiIiN8PMkgLTgDdV2I3zRgH+wDNeBxEREZHrp5m7Ih4xs7FAVufcY15nkWszsyrAAqCsc+6Y13lERERuhJkNBcoDjTUbNO4zs5LAcqCyc+4Pr/OIiIjcCDN7AXgIqOOcC/M6j1ydmRUE1gK1nXPbvM4jIiIi16birogHzOx+4GOgtHPutMdx5DqZ2Wv4bow30o1xERGJL/SAUvwUfmO8Kb4brboxLiIi8YKZlQKWAZWcc/u8ziPXx8yeArrjW74j2Os8IiIicnVqyyxyh5nZXcCHwJMq7MY7Q4EsQBevg4iIiFwPM0uFrx1zDxV2450xQBjwvNdBREREroeZ+eO77nhRhd14ZypwBHjF6yAiIiJybZq5K3KHmdknwBnnXE+vs8iNM7NiwGqgqnNut9d5RERErsbMJgKpnXPtvc4iN87M8gIbgPu1ZqGIiMR1ZjYSKAY0U7er+MfMsgKbgRbOuR+9ziMiIiIxS+Z1AJHExMxaARWAcl5nkZvjnNse3p55upnVcM6Fep1JREQkOmb2ANAIKO11Frk5zrkDZtYXmGFmFZ1zQV5nEhERiY6Z3Qt0AMqosBs/OedOmFl3fPc7yjrnznudSURERKKnmbsid4iZ5QB+BZo459Z5nUdunpklAf4HLHfOve51HhERkf8ys4zAFuBx59wyr/PIzTMzA+YBu51z/bzOIyIi8l9mlgbfjM/nnHMLvM4jt8bMPgYuOee6eZ1FREREoqfirsgdEH5Tbgmw1jk32OM4EgvMLDewEWjonPvF6zwiIiL/L/y6Yw5w2DnXx+s8cuvMLDO+m+aPOedWeZ1HRETkSmY2BUjinHvS6yxy68wsHb7rjh7OuUVe5xEREZGokngdQCSR6A5kBDTLM4Fwzh0CngNmmlmA13lERESu0AYoAQzwOojEDufcSaALMM3M0nqdR0RE5P+Z2UPA/fj+PpYEwDn3D74W2++bWSav84iIiEhUmrkrcpuZWWHgR+Be59wOr/NI7LliZtQR55z+kBUREc+Fd5b4BajvnPvV6zwSu8JnRiV1znXyOouIiEh4Z4ktQCvn3Gqv80jsMrPRQD6gpdZRFhERiVtU3BW5jcwsGfADMNM5N87rPBL7rljTsL1zbqnXeUREJPEKXxP+O2CZ1oRPmMLXNNwEPO+cm+9tGhERScy0JnzCZ2YpgPXAKOfcDK/ziIiIyL/Ullnk9hoA/ANM8DqI3B7OuVPAk8BHZpbe4zgiIpK49QICgDe8DiK3h3PuHNAemGxmWb3OIyIiiVpHoCAwyOMccps45y4BjwNvmVker/OIiIjIvzRzV+Q2MbMKwGKgnHPuiNd55PYys4lAGufc415nERGRxMfMigMrgarOuT1e55Hby8xG4FtXuanaJIqIyJ1mZvnwzeis65zb4nEcuc3M7CWgPnC/c+6y13lEREREM3dFbgszCwBmAL1V2E00+gKVzewRr4OIiEjiYmZ++K47XlZhN9F4FcgDaO1dERG5o8wsKTANeFOF3UTjTcAP6O11EBEREfHRzF2R28DMxgJZnHOtvc4id46ZVQa+Aso65455nUdERBIHM3sNuAdorFmciYeZlQSWA5Wdc394nUdERBIHM3sBeAio45wL8zqP3BlmVgD4GajtnNvmdR4REZHETsVdkVhmZvWAD4EyzrnTXueRO8vMhgIVgEa6wS4iIrebmVUB5uNbBkIPFiUyZvY80ByopRvsIiJyu5lZaWApUMk5t8/rPHJnmVlnoAe+B8uCvc4jIiKSmKkts0gsMrO78BV2n1RhN9F6DcgCdPU6iIiIJGxmlgpfO+YeKuwmWmOAUOAFr4OIiEjCZmb++K47XlRhN9H6ADiEb3kIERER8ZBm7orEIjP7BDjjnOvpdRbxjpkVA1YDVZ1zu73OIyIiCZOZTQJSOefae51FvGNmeYENwP3Ouc1e5xERkYTJzEYCxYBm6lKVeJlZVmAz0MI596PXeURERBKrZF4HEEkozOxRoDy+Ne8kEXPObQ9vzzzdzGo450K9ziQiIgmLmT0APAiU9jqLeMs5dyB8/cMZZlbJOXfJ60wiIpKwmNm9QAd8y0+psJuIOedOmFl3fPc7yjrnznudSUREJDHSzF2RWGBmOYFfgMbOufVe5xHvmVkS4H/ACufcMK/ziIhIwmFmGYEtQDvn3HKv84j3zMyAL4C9zrm+XucREZGEw8zS4Jup+axz7iuv80jcYGYfAcHOOS1JJSIi4gEVd0VuUfjNtCXAWufcYI/jSBxiZrmBjcADzrmNXucREZH4L/y6Yy5wyDnXx+s8EneYWWZ8N99bO+dWep1HREQSBjObiu/+4ZNeZ5G4w8zS4rvu6OmcW+R1HhERkcQmidcBRBKA7kAG4HWvg0jc4pw7BDyLr01igMdxREQkYWgLFAcGeB1E4hbn3EmgC/Bx+A1XERGRW2JmDwH3Ac95nUXiFufcWaAj8L6ZZfI4joiISKKjmbsit8DMigA/ANWdczu9ziNxT/gMq0+BY865Zz2OIyIi8dgVHSEaOOd+9TqPxE1m9j6Q3Dn3hNdZREQk/jKzLPhmZrZyzq32Oo/ETWb2JlAAeETrMYuIiNw5Ku6K3CQzS4avsDvDOTfe6zwSd5lZBnxrI3Zwzi31Oo+IiMQ/4Wu5fwcsdc4N9zqPxF1mlhrfzfjnnXPzPY4jIiLxUPhDyl8CO51zL3qdR+IuM0sBrAfedM5N9zqPiIhIYqG2zCI3bwDwDzDR6yAStznnTgOdgY/MLL3HcUREJH56BggARnkdROI259x5oD0w2cyyep1HRETipY5AfuAVj3NIHOecuwS0A94ys7xe5xEREUksNHNX5CaYWUVgIXCPc+6I13kkfjCzCUBa59zjXmcREZH4w8yKA6uAKs65PV7nkfjBzIYDJYGmapMoIiLXy8zyA+uAus65LV7nkfjBzF4EGuL7381lr/OIiIgkdJq5K3KDzCwlMAPorcKu3KB+QGUza+l1EBERiR/MzA/fdccAFXblBg0GcgNPepxDRETiCTNLCkwDRqmwKzdoNJAMeNbjHCIiIomCZu6K3CAzexfI7Jxr7XUWiX/MrDLwFVDWOXfM6zwiIhK3mdlrQDmgiWZfyo0ys5LACqCSc+4Pj+OIiEgcZ2Z9gSZAHedcmNd5JH4xswLAz0Bt59w2r/OIiIgkZCruitwAM6sHfAiUCV9HVeSGmdkQoCLQSDfqRUQkJmZWFfgS3wNBx73OI/GTmT0PNAdq6Ua9iIjExMxKA0vxPRC0z+s8Ej+ZWWegB1DZORfsdR4REZGESm2ZRa6Tmd2Fr7DbSYVduUXDgMxAV6+DiIhI3GRmqYDpQA8VduUWjQFCgBe8DiIiInGTmfnjWwainwq7cos+AA7hWx5CREREbhPN3BW5TmY2CzjlnOvldRaJ/8ysKLAGqOqc2+11HhERiVvMbBKQ0jnXwessEv+ZWV5gA1DPObfJ4zgiIhLHmNkbQBGgubpLya0ys6zAJuBh59yPHscRERFJkJJ5HUAkPjCzR4F7wr9EbplzboeZDQVmmNm9zrlQrzOJiEjcYGYPAg8Cpb3OIgmDc+6Amb2A77qjonPukteZREQkbjCzGkB7fMtPqbArt8w5d8LMugPTzaysc+6815lEREQSGs3cFbkGM8sJ/AI0ds6t9zqPJBxmlgT4FljpnBvmdR4REfGemWUCNgPtnHPLvc4jCYeZGfAFsNc519frPCIi4j0zS4PvuuNZ59xXXueRhMXMPgJCnHNdvM4iIiKS0Ki4K3IV4TfBvgF+dM4N8TqPJDxmlgvfwwMPOOc2ep1HRES8E37dMRc46Jx73us8kvCYWWZ8N/FbO+dWep1HRES8ZWZTAZxznb3OIgmPmaXFd93Ryzm30Os8IiIiCUkSrwOIxHFPA3cBw70OIgmTc+4w8Cww08wCPI4jIiLeagsUAwZ6HUQSJufcSeApYFr4DVcREUmkzKwpcB/wnNdZJGFyzp0FOgDvhz9gJiIiIrFEM3dFYmBmRYAfgOrOuZ1e55GEK3ym1mzguHPuWY/jiIiIB8wsD7ARqO+c+9XrPJKwmdn7QHLn3BNeZxERkTvPzLLgm1HZyjm32us8krCZ2ZtAQeBhressIiISO1TcFYmGmSXHV9id5pyb4HUeSfjMLAOwBejgnFvqdR4REblzwtdg/x743jmnbiFy25lZanw39V9wzn3pdR4REblzwh8u/hLY6Zx70es8kvCZWQpgPTDaOTfN6zwiIiIJgdoyi0RvAHAGmOh1EEkcnHOngSeBj8wsvcdxRETkznoG8AdGeR1EEgfn3HmgPTDJzLJ5nUdERO6oJ4D8wCteB5HEwTl3CWgHjDazvF7nERERSQg0c1fkP8ysIrAIKOecO+J1HklczGwCkM45187rLCIicvuZWQlgJVDZObfX6zySuJjZcKAU8JDaJIqIJHxmlh9YB9znnNvqdR5JXMzsRaAhUNc5d9nrPCIiIvGZZu6KXMHMUgIzgF4q7IpH+gEVzayl10FEROT2MjM/fNcdA1TYFY8MBnLh6x4iIiIJmJklBaYBo1TYFY+MBpIBz3qcQ0REJN7TzF2RK5jZu0Am51wbr7NI4mVmlYCv8c0eP+p1HhERuT3MbBhQFmiiWZPiFTMrCSwHqughAxGRhMvM+gKN8c3aDfM6jyROZlYA+Bmo45z7zes8IiIi8ZWKuyLhzKwe8CFQ2jl3xus8kriZ2RCgMvCAbviLiCQ8ZlYV+BIo65w77nUeSdzMrA/QAqilG/4iIgmPmZUGlgIVnXP7PY4jiZyZPQn0Aio554K9ziMiIhIfqS2zCGBmd+Er7HZSYVfiiGFARqCb10FERCR2mVlqfO2Yn1ZhV+KId4AQoK/HOUREJJaZmT8wE+inwq7EER8CB/EtDyEiIiI3QTN3RQAzmwX85Zx7xussIv/PzIoCq4FqzrndXucREZHYYWaTgQDnXAevs4j8PzPLC2wA6jnnNnkcR0REYomZvQEUAZqrK5TEFWaWFdgEPOKc+8HjOCIiIvFOMq8DiHjNzB4D7gn/EokznHM7zGwoMMPM7nXOhXqdSUREbo2ZPQg0BMp4nUXkSs65A2b2PL7rjorOuUteZxIRkVtjZjWA9kAZFXYlLnHOnTCz7sB0MyvrnDvndSYREZH4RDN3JVEzs5zAr0Aj59x6r/OI/JeZJQG+BVY5517zOo+IiNw8M8sEbAbaOudWeBxHJAozM+BzYJ9z7gWv84iIyM0zs7T4rjuecc597XUekeiY2YdAqHOui9dZRERE4hMVdyXRCr959Q3wg3NuqNd5RGJiZrmAX4AHnHMbvc4jIiI3Lvy64zPggHPuea/ziMQk/CGELUBr59xKr/OIiMjNMbMPAOec6+x1FpGYXPEQQi/n3EKv84iIiMQXSbwOIOKhp4H0wHCPc4hclXPuMNAbmGlmAV7nERGRm9IOKAoM9DqIyNU45/4CngKmmVk6r/OIiMiNM7OmQB3gOa+ziFyNc+4s0AF438wye51HREQkvtDMXUmUzKwI8ANQzTm3y+s8ItfDzD4FTjjnenudRURErp+Z5QE2AvWdc796nUfkepjZe4C/c66j11lEROT6mVkWfDMhWzrn1nidR+R6mNkooBDwsNaHFhERuTYVdyXRMbPk+Aq705xzE7zOI3K9zCwDvjaJHZ1z33udR0REri187fTvge+ccyO8ziNyvcwsNbAJ6Ouc+9LjOCIich3Cl4GYD2x3zr3kcRyR62Zm/sB64C3n3DSv84iIiMR1asssidEA4DQw0esgIjfCOXcaeBL40MzSexxHRESuT2/AHxjldRCRG+GcOw+0ByaZWTav84iIyHV5AsgHvOpxDpEb4pwLAh4HRptZPo/jiIiIxHmauSuJiplVBBYC5ZxzR73OI3IzzGw8kN45187rLCIiEjMzKwGsBCo75/Z6nUfkZpjZ60Bp4CG1SRQRibvMLD+wDrjPObfV6zwiN8PM+gEP4vvf8WWv84iIiMRVmrkriYaZpQRmAs+osCvxXD+gopm18jqIiIhEz8z8gBlAfxV2JZ4bAuQEOnsdREREomdmSYHpwBsq7Eo89xa++9XPeR1EREQkLtPMXUk0zGwckME519brLCK3yswqAV+jWegiInGSZjtKQqJZ6CIicVv4bMdG+GY7hnmdR+RWXDELvY5z7jev84iIiMRFKu5KomBm9YAPgDLOuTNe5xGJDWY2GKgCPKDCgYhI3GFm1YB5QFnn3HGv84jEBjPrA7QAaqlwICISd5hZaWApUNE5t9/jOCKxwsyeBHrhe7AsyOs8IiIicY3aMkuCZ2YZgA+BTirsSgLzOpAR6OZ1EBER8TGz1PjaIj6twq4kMO8AwUBfj3OIiEg4M/PHt/xUXxV2JYH5EDgADPY4h4iISJykmbuS4JnZbOCkc+4Zr7OIxDYzKwqsAao553Z5nUdEJLEzs8lACudcR6+ziMQ2M8sDbATqOec2eRxHRCTRM7NRwN1AC3VzkoTGzLIAm4GWzrk1XucRERGJS5J5HUDkdjKzx4CyQHmPo4jcFs65HeHtmWeYWXXnXKjXmUREEiszawQ0BMp4nUXkdnDOHTSz54GZZlbBOXfJ60wiIomVmdUEHgdKq7ArCZFz7k8z6wZMN7MyzrlzXmcSERGJKzRzVxIsM8sJ/Ao86Jzb4HUekdvFzJIA3wCrnXOveZ1HRCQxMrNMwBagjXNuhcdxRG4bMzPgc2Cfc+4Fr/OIiCRGZpYW34zGZ5xzX3udR+R2MrMPgTDn3FNeZxEREYkrVNyVBOmKYtca59xQr/OI3G56mEFExDsqdkliE/4ww2agrR5mEBG581TsksREDzOIiIhElcTrACK3ydNAOmC410FE7gTn3BHgGXztmQO8ziMiksg8DhQGXvY6iMid4Jz7C+gCfGxm6bzOIyKSmJhZU6AW0MfrLCJ3gnPuLNAeeM/MMnudR0REJC7QzF1JcMysCPADUM05t8vrPCJ3kpnNBv50zvX2OouISGJgZnmAjUA959wmj+OI3FFm9h7g75zr6HUWEZHEwMyy4JvB2NI5t8brPCJ3kpmNAu4GWmidaRERSexU3JUExcyS4yvsfuycm+h1HpE7zcwy4Ptj/wnn3Pde5xERScjCl4H4HvjOOTfC6zwid5qZpQY2Af2cc/M8jiMikqCFLwMxH9junHvJ4zgid5yZ+QPrgbedcx97HEdERMRTasssCc1A4DQwyesgIl5wzp0GngQ+MrO7vM4jIpLA9Qb8gVFeBxHxgnPuPL42iRPNLJvXeUREErhOQF7gVa+DiHjBORcEtAPeNLN8HscRERHxlGbuSoJhZpWAr4FyzrmjXucR8ZKZjQMyOOfaep1FRCQhMrMSwEqgsnNur9d5RLxkZq8DZYAmapMoIhL7zKwA8DNQxzn3m9d5RLxkZv2ARsB9zrkwr/OIiIh4QTN3JUEws5TAdKCXCrsiALwIlDezVl4HERFJaMzMD5gJ9FdhVwSAIUAOoLPXQUREEhozSwpMA95QYVcEgLcAA57zOoiIiIhXNHNXEgTNUhSJyswqAguBe5xzR7zOIyKSUITPUiwNPKRZiiI+4bPZVwBV9NCDiEjsCZ+l+CBQV7MURXzMLD+wDt/s3a1e5xEREbnTVNyVeM/M6gNTgTLOuTNe5xGJS8zsVaAq8IAKECIit87MqgHz8F13nPA6j0hcYmbPAY8ANVWAEBG5dWZWBvgeqOCcO+B1HpG4xMw6Ac/gWyYlyOs8IiIid5LaMku8ZmYZgA+AJ1TYFYnWcCAD0N3rICIi8Z2Zpca3DER3FXZFojUWCAL6eR1ERCS+MzN/YAbQV4VdkWh9BBzAtzyEiIhIoqKZuxKvmdls4E/nXG+vs4jEVWZWBPgBqOac2+V1HhGR+MrM3gP8nXMdvc4iEleZWR5gI1DPObfJ4zgiIvGWmY0C7gZaqAuTSPTMLAuwGWjpnFvjdR4REZE7JZnXAURulpm1BsoC93gcRSROc87tNLPBwAwzq+6cC/U6k4hIfGNmjYAGQBmvs4jEZc65g2bWB5hpZhWcc5e8ziQiEt+YWU2gHb5lIFTYFYmBc+5PM+sGTDezMs65c15nEhERuRM0c1fiJTPLBfwCPOic2+B1HpG4zsySAEuAH5xzQ73OIyISn5hZZnwzAlo751Z6nUckrjMzAz4DDjjnnvc6j4hIfGJmafFdd/Ryzi30Oo9IfGBmHwDOOdfZ6ywiIiJ3goq7Eu+EF6m+AVY7517zOo9IfGFmOfE9FNFID0WIiFyf8CLV58A+59wLXucRiS/MLBO+4kRb59wKj+OIiMQbZvYhEOace8rrLCLxRfhDEZuAZ51zX3kcR0RE5LZL4nUAkZvwNJAWGOF1EJH4xDl3BOiNrz1zSq/ziIjEE48DhYGXvQ4iEp845/4CugAfm1k6r/OIiMQHZtYMqAX08TiKSLzinDsLdADeC++6IyIikqBp5q7EK2ZWFFgDVHPO7fI6j0h8ZGazgL+cc894nUVEJC4zs7zABqCec26Tx3FE4iUzmwwEOOc6eJ1FRCQuM7Os+DoePOyc+8HrPCLxkZm9ge/BzBZar1pERBIyFXcl3jCz5MCPwIfOuUle5xGJr8zsLmAL0Mk5953XeURE4qLwZSCWAt8650Z6nUckvjKz1PjaJPZzzs3zOI6ISJwUvgzEAmCbc66/13lE4isz8wfWAe845z7yOo+IiMjtouKuxBtmNhioDDyop+9Ebo2Z1QM+AMo45854nUdEJK4xsz5AC6CWcy7M6zwi8ZmZVQW+BMo65457nUdEJK4xsyeBXkAl51yw13lE4jMzK43vIc2Kzrn9HscRERG5LVTclXjBzCoBXwPlnHNHvc4jkhCY2Tggg3OurddZRETiEjMrCSwHKjvn/vA6j0hCYGbDgLJAEz2oKSLyLzMrAPwM1HHO/eZ1HpGEwMz6Ao2B+/SgpoiIJERJvA4gci1mlhKYAfRUYVckVr0IlDezR70OIiISV5iZHzAT6K/CrkisGgrkAJ7yOoiISFxhZkmB6cBIFXZFYtXbgAHPeR1ERETkdtDMXYnzzGw8/9fefYdHUXVxHP9OElJIAqFD6L2ETugdpPcuRaqCSFERURFQLCAgvQooSO+9ifReld47oVeBtE2Z94/lXYgptGBY8vs8zz5mZu7eObOYyT17Zu6Al2mareI6FpG3jWEYRYEVQGHTNK/EdTwiInHNMIwBQF6gnu4uFIldhmHkAbZgvSv+bFzHIyIS1wzD+AKogfXuwvC4jkfkbWIYRmasz9+tbJrmobiOR0REJDapuCtvNMMwqgKTgfymad6P43BE3kqGYXwDlARqqJAhIvGZYRilgEVYn0d+I67jEXkbGYbxKdAYKKdpEkUkPjMMowCwDvA1TfNiXMcj8jYyDKM98DHW51kHx3U8IiIisUXTMssbyzCMpMCvQDsVdkVeqwFAEqBzXAciIhJXDMPwwPoYiM4q7Iq8ViOBYKBXXAciIhJXDMNwxTru6KnCrshrNQU4D/SP60BERERik+7clTeWYRhzgOumaX4S17GIvO0Mw8gBbAfKmKZ5Mq7jERH5rxmGMRFIYJpmu7iOReRtZxhGBmA/UNU0zb/jOh4Rkf+aYRhDgKxAI82eJPJ6GYaREjgINDVNc2tcxyMiIhIbdOeuvJEMw2gO5Ae+iutYROID0zRPAd8C0wzDcIrjcERE/lOGYdQGqmKdsk1EXjPTNC8BPYAZj+9eExGJNwzDKA+0BDqpsCvy+pmmeRPoBPxuGIZnXMcjIiISG1TclTeCYRgJHz9vBsMw0mGdru090zQD4zYykXhlHHAf6A0Rfy9FRN4mhmE4G4ZR5PHPKYCJQBvTNB/EbWQi8coM4DjwI0T8vRQReZsYhuFoGEaxxz8nAqYCHU3TvBWngYnEI6ZpLgM2AsMBDMNw+P/vpYiIiD3StMzyRjAMoynQBGgG/AFsNk3zh7iNSiT+MQwjLfAXUBswgDGmaSrhEZG3imEY1YFPgerAQuCsaZqfx21UIvGPYRjJsU6T2Aq4Biw1TTNn3EYlIhK7DMMoCQw3TbOEYRhTgBDTNDvGdVwi8c3ju3YPAp8Ae4G/TdNMHadBiYiIvCTduStviuzAWaAL4AH8FLfhiMRPpmleAboD07F+yZrdMAwjbqMSEYl12YFzQOvHP/eN23BE4ifTNG8D72O9i+0ukFGPhxCRt1B24KxhGPWBclinpReR/5hpmg+BNsAvQDjg+fhuehEREbuj4q68KbIDD4F+WAdazQzDaBK3IYnEL4ZhJDEMYyCwFevdu/+/iy1Z3EUlIvJaZANuAz9jvWOwlmEYreM2JJH45fHjHwYBx4DVwBDgBpAhTgMTEYl92YCrwASsF5aVNwxDd+6K/IcMw0jweNxxHZiGtcB7Fsgap4GJiIi8JBV35U2RA3gPmAnMwXrn4Jk4jUgk/nmI9e/CYcAPaAjcxHrxhYjI2yQ7UB+YD4zHeufu6bgMSCQeCnr8+uvxf8sA/6Bxh4i8fbIDlYFVwA9YL2bRuEPkvxUK3AF2Yp0xMBsQgsYdIiJip1TclTdFfiA11ud8DgRKmKb5d9yGJBK/mKYZaprmF0BhrL+PblivYs0fp4GJiMS+okBGoBbW4m5h0zR3xm1IIvGLaZrhpml+A+QDEgJJgDxYxyEiIm+TEkBOoBowC8hvmubGuA1JJH4xrQYDuYEwIC1QAGteICIiYndU3JU4ZxiGA9ZnXfwM5DFNc75pmmYchyUSb5mmedE0zdbAO8AFrF+0ioi8TRyBcUAu0zSnm6YZHtcBicRXpmleNU2zI9Y7d08CueI4JBGR2OYGTAFymqY5yTTN0LgOSCS+Mk3zlmma3bEWdQ+iO3dFRMROGaqhiYiIiIiIiIiIiIiIiIi8+XTnroiIiIiIiIiIiIiIiIiIHXCK6wDeZG6uLteDgi2p4joOsU+uLs43AoOCU8d1HPLmcXNzux4UFKRzSzzl6up6IzAwUOcGicTNOcH1oJBQnRvkpbgmcLoRaAnRuUUiUU4TvyknkZelnCV+U84iL0vjjvhN4w4Rkf+OpmWOgWEYpv+BlXEdhtgp94K1ME3TiOs45M1jGIYeKx2PGYahc4NEyTAM887sz+M6DLFTyZoP0blFomQYhhlwdH1chyFxJKFPZZ0b5KUoZ4nflLPIy9K4I37TuENE5L+jaZlFREREREREREREREREROyAirsiIiIiIiIiIiIiIiIiInZAxV0RERERERERERERERERETug4m48MH3pn7zTVs/wE5HYM3XqVMqUKRPXYYjIG2jW5iPU/HZWXIchIm+Z6YvXULnVx3EdhojYGeUtIvIyNO4QEZE3nYq78lY4eOIspZt3J3mJhpRu3p2DJ85G27Z97yFkeacVqUs3pkDdD5i66A/bNktICC17DiB3jXa4F6zFlr2HIrx39PTF+NRqT+rSjcla5T16DZlIaGjYazsuEYk7Bw4coEiRIiRMmJAiRYpw4MCBaNvevXuXBg0a4O7uTsaMGZk1S4UtkbfZ4Qs3qNR7GunaDKdS72kcvnAj2rb3HgXy3tDFpG87ggLdfmHB9mMRtk9c8xeFuk8kY/uRVOo9jV0n/Gzbxq/aR+GPrdvydB7H19M2EBoW/tqOS0Ti1sHjZyjV5EOSFalJqSYfcvD4mWjb3r3/gGbd+5HctxY532nO3BXr/8NIReRNorxFRF6Gxh0iIvZNxV07Y5om4eFx/6VeWFjEguaLFjhjsyBqCQmh2aff827NilzZMpeWdd6h2affYwkJibJ9z/ZNOb5qCte3L2DeyH70HzuNv4+dtm0vWTAPvw7oSarkSSK9t1aFEmyfPYrr2xewd8E4Dp86z7jZy2LtWETiwpt7Xgl9ofe/aPuYWCwW6tWrR6tWrbh37x5t2rShXr16WCyWKNt36dIFZ2dnbty4wcyZM+ncuTNHjx6NtXhE4or1/GDGdRiE/esc9aIFztgsiFpCw2g1dAlNyuTh7ORuNCvnQ6uhS7BEM7bp9ds6nJ0cOT7hI37pUouev/7Jicu3Adh35irfz9nClE/qcuHX7rSqmI/Ww5bYjrd6kaxsHNCai799zPYh7Thy8RYT1+yPtWMRiStv7tgjDnMaSwhNu/Wlee13uLpzCa3qVaVpt75YLFHnNJ/+MArnBAm4sHkBUwb15uPvR3LszIVYi0fkTfTmnjuUt4i8yd7cc4fGHSIi8vJU3H1BQ6fMJ1uV1qQq1ZiC9TqycfcBAAKDgunYdxhpyzalSMMPGT51Idmrtra9z71gLc5eumpb7th3GP3HTAPg3oOHNOr2LRkrNidt2aY06vYtV27ctrWt3uFLvh39O5Xb9CR5iYac97vOyfOXqd3pa9KVa0bBeh1Z+MdWW/s79x/Q5OP+pC7dmHItP+W83/XnOraY+uzYdxgf/ziWBl2+IUWJhmzee4jcNdoxdMp8ijXpQoqSDQkNDWPlpl34NuyMd5mmVO/wJSfOXbL1EVX72LBl72FCQ8Pp2qo+Ls4J+KhFXUwTNu05GGX7PNky4uKcAADDMDAMg3OXrZ+Rc4IEdG1Vn1KFfHB0iPzrkSV9GrwSeQDWwaGDg8G5p/5dRV7GoEGDSJs2LZ6enuTMmZP1661XQAYGBtK2bVuSJElCnjx5GDJkCOnSpbO9zzAMzpx5cmVl27Zt6dOnDwD37t2jdu3apEiRgiRJklC7dm38/J7cDVahQgW+/vprSpcuTcKECTl37hwnTpygSpUqJE2alJw5czJv3jxb+zt37lC3bl0SJUpEsWLFOHs2+rvjnxZTn23btqVz587UrFkTd3d3Nm7cSKZMmRg0aBD58+fH3d2d0NBQli1bho+PD15eXlSoUIHjx4/b+oiqfWzYtGkToaGhfPLJJ7i4uNC9e3dM02TDhg2R2vr7+7Nw4UK+//57PDw8KFOmDHXr1mX69OmxEovEbyOX7cbno/FkaDeCYj0ms/nIRQACLSF0Gb+KLO+PomTP3xi9fA95u4y3vS9Z8yGcu37Pttxl/Cp+nGv9u37/URDNBy8kR8cxZHl/FM0HL+TKnYe2tnW/m8MPc7dS45uZpGszggs373Pqyh0a/jiPrO+PpliPySzZecLW/u7DQFoOWUTG9iN5p890Lty4/1zHFlOfXcav4rNf19Js0ALStx3B1qOXKNjtF0Yu203ZXlNI33YEoWHhrN53hlI9fyNzh1HU/W4OJ6/csfURVfvYsP3YJULDwvmwRhFcEjjRqXoRTNNk65FLkdr6B1lYvucUXzUtg4erMyVypaN6kWzM3Wb9EvXyrQfkTJeMgllSYxgGzcr6cOdhILf+CQAgc6okJHZ3BcA0wcEBzl2/HyvHIfHb0MmzyVqxKSmL1qZArTZs3PUX8Din6T0I75L1KFynHcN/m0u2Ss1s70voU5mzF6/Yljv2HsS3I38D4N4/D2n4UW8ylGmId8l6NPyoN37Xb9naVmvbg29G/kqllt1JVqQm5y9f4+S5S9R+/3PSlqxPgVptWLhmk639nfv/0LhLH1IVq0PZZh9x7vK15zq2mPrs2HsQ3b8bQf0PvyK5by027zlAriotGDp5NsUavE9y31qEhoaxYsMOitRtT5oSdanWtgcnzl609RFV+9iwZe9BQsPC6Nq6ES7OznzUqqE1p9n9d6S2/gGBLPlzK/26tcXD3Y1SRfJRq2JJZi/7M1ZiEYmO8hblLSIvQ+MOjTtERCT2OcV1APbk1AU/fpmzgq0zh5MmZTIuXrlhu7NiwC+zOO93ncMrfiUgMIj6Xb557n7Dw03eq1eF6YO/JCw8nM7fjKDHwPHMHdHX1mb2yo0sHtOfHJnS4R8YRNHGH9GncyuWjP2OI2cuUPfDPuTJlpHcWTPQY+B4XJ2dObtuBheuXKde535kSpsqxhj8A4Oo82GfaPsEmLd6E4tG92fh6G+whFgTkfmrN7No9Lck80rE+SvXafvlYOYM70s533yMnrGEJh9/x/5F43FOkCBSeycnx0hxFGvSBb9rtyKtB2haozwjvu4Saf3xsxfJmyMThmHY1uXNnonjZy9RtbRvlH198uNYZixfT2BQMAVyZaVa2ajbRWXuqk18/OMYHvoHkjxJIgb2eP+53yvybydPnmTMmDHs3bsXb29vLly4YLuas3///pw9e5azZ8/i7+9PjRo1nrvf8PBw2rVrx7x58wgLC6N9+/Z07dqVJUuW2NpMnz6d1atXkzNnTvz9/cmbNy/fffcdq1ev5vDhw1SpUoW8efOSJ08eunTpgqurK9euXeP8+fNUq1aNzJkzxxiDv78/VapUibZPgFmzZrFq1SpWrFhhu7p89uzZrFy5kuTJk3Pu3DmaN2/OkiVLqFChAsOHD6dOnTocO3YMZ2fnSO2dnCL/WcufPz+XLkUuugC0aNGCcePGRVp/9OhR8ufPH+G8kj9/fo4ePUr16tUjtD116hROTk7kyJHDtq5AgQJs3rw5xs9H5FlOX73L5D/+Zt0P75EmqQeXbv1jG3cMXriDCzfus3/EBwQEh9D0p4XP3W+4adK8fF5+/bguYeEm3X9ZzRdT1zHjswa2NvO2HmXeF43J5p2UgOAQSn8+hS+blGbel405dukWjQbMJ1f65ORKl5xeU9bhksCJY+M6c+nWPzQeuICMKRPHGIN/kIVGA+ZH2yfAwu3HmftFI2Z/ntZ2V+yiHceZ80Ujknq6ceHmfTqOWcG0HvUpkyc941fto+WQRez4uT3Oj8cYT7d3cox80VbZXlPwe6qw/bRGpXLzc4cqkdaf8LuDT4YUEc4PPhlScMLvNpULRjwvnr12DydHB7KlSWpblzdjCnYct35pXblAZkYv38O+M1cplCU1MzcdIV/GlKTycre1X7D9GJ/9+iePAi0k83Tj+1YVY/xsRZ7l1PnLTJi9lK1zx+GdMjkXr1wn7PHFDwPGTePc5ascWT3dmtN8+NVz9xtuhtO6fnVmDO1HWHg4H/YZQo8fRzFv9Pe2NrOXrWPJLwPJkSk9/oGB+NZ/n75d27Jkwk8cOX2OOu/3Ik+2TOTOlolPfxiFq4sz5zbN48KV69Tt+AWZ0qaJMQb/gEBqf9Ar2j4B5q3cwOLxA1g07kdbTjNv1UYWjRtAsiSJOe93lba9fmTuqP6UK1qQ0dMW0LhLH/5a9hvOjy8Qfbp9lDlNg/e5fO1mlDE2rVmZkf0iP8Pv+JkL5M2RJWJOkzMzx89eoGrZYhHanr7oh5OTI9kzpbety5czK1v3Rn1xq0hsUN6ivEXkZWjcoXGHiIi8HiruvgBHBweCLSEcP3eJ5EkSk/GpgumitVsZ3vsjkib2JGliTz5qXoeBE2c/V7/JvBJR/53StuXP329GzQ8iDmha1a1MnmwZAfhzx34yeqeidX3rF44Fc2WlXuVSLP5zGzkyNWPJ+u3smT8WdzdXfLJlomWdymz/60iMMazesifaPnNnbQFYpyQuWcia2Li6WJOTzi3qki51CgAW/rGF6mWLUrlkIQA+adOQcbOWsevAccoVzR+pfVT2zB/7HJ9YRP6BQST2cI+wLpGHO4/8A6N9z4ivuzD0yw/ZfegEW/cdxuVx8fl5NKtZgWY1K3Dm4hVmrdhAymReLxyzyP85OjoSHBzMsWPHSJEiBZkyZbJtmzdvHuPGjSNp0qQkTZqU7t2789133z1Xv8mSJaNRo0a25a+//pqKFSMWBNq2bYuPjw8Aa9asIVOmTLRr1w6AQoUK0ahRI+bPn0+fPn1YuHAhhw8fxt3dnbx589KmTRu2bNkSYwwrVqyIts9vvrFeAFOvXj1Kl7ae/1xdrXende/enfTprUnD3LlzqVWrFlWqWM9NPXv2ZOTIkezYsYMKFSpEah+VQ4cORbstOo8ePSJx4ojFqcSJE/PwYeQi0KNHj0iUKNFztRV5EY4OBpbQME5euU3yRG5kSPHk/8mlu04ypF0Vkni4kcTDjY7VCzNk0Y7n6jeppxt1i+e0LfeoX4J6P8yN0KZ5+bzkSm8tsq4/eJ4MKRLRskI+APJnTkWd4tlZtusk2RsmZfmeU2wd1BZ3V2dyp0/Bu+V82PnUc2Ojsvbvc9H2mauxdb81fLNRPKf1rh9XZ+uQtWO1IqRNZv19W7LzBFUKZqFi/kwAdK1djF/W/MWeU1cokydDpPZR2Tq43bM/sH/xD7KQKKFLhHWJErrwKCjy9If+wSF4ujlHbOvmwqNAa1tPN2dqF8tBrW9nY5omiRO6MvfLRhG+ZGlcOg+NS+fh7LV7zN16lBSJE75wzCJPc3RwwGIJ4cTZi6RI4kXGtKlt2xb+sZkRfbqT1CsRSb0S0bllAwZOeL47upJ5JaZ+1XK25V4dW1Kj/WcR2rSqX5U8j7/s/HPbXmv+0cBafCiYOzv1qpRl0dotfJk5PUv+3MrexZNxT+iGT/bMtKxXle37DscYw+rNu6Lt8+vH+61dqRQlC+cFnuQ0H7VqQLo0KQFYsHoT1csVp3Ip68Wfn7RrytgZi9h14CjlihWM1D4qexZPftbHFcmjgEASe0bMaRJ7ePAwipzGPyAQT/eI54JEHu48Cog+/xF5VcpblLeIvAyNOzTuEBGR10PF3ReQNYM3gz/vyIAJszh+9iLvlCrCT5+9T5qUybh26y7pUj0pWqb3jv6P7r8FBAbxxc+T+HPHfu4/eATAQ/9AwsLCcHS0XpH1dN+Xrt5k7+GTeJdpalsXGhZG89qVuHXvH0JDwyIUUDN4p2T7XzHHEFOf/5cuVfJI73s6rmu37pL+qcGGg4MD6VIn5+rNO1G2jy3ubq48eBQQYd1D/wA83N1ifJ+joyOlCvkwZ+VGJs1fxUct6r7QfrNlTEvurBn4dMA4Zg/r88JxiwBky5aNESNG8O2333L06FGqVavGsGHD8Pb25urVqxGS/4wZMz53vwEBAXz66aesWbOGe/esU7M+fPgwwnnl6b4vXrzI7t278fLysq0LDQ3lvffe49atW4SGhr5wLDH1+X9Rfbnx9LqrV69G2JeDgwPp06fnypUrUbaPLR4eHjx48CDCugcPHuDp6flKbUVeRJbUSfixdUUGL9zBCb/bVMqfme9bVSRNUg+u33tE2mRP/h9Lnzz6Aua/BQSH0Gf6BtYfvMB9/yAAHgVaCAsPtz2SIG3SJ31fvvUP+89cI3OHUbZ1YWHhNCmbh9sPAggNC48Uy85nxBBTn/8XVVHW+6n9XLv3iPQpnrRxcDBIm8yTa3cfRdk+tri7OvMwMDjCuoeBFjxcnSO3dUnAw0BL5LaPC74zNh5m9ubDbB/SjiypkrDx0AVaDF7ExoFtSJPUI8L7sqZJQq50yfj8t3VM61E/dg9K4pWsGdMy+IuP+HHsNI6fvcA7pX35qVdnvFMm59rN2xG+PMzgHfPsP08LCAyi16Bx/Llt71M5TUDEnCb1k74vXb3B3kMnSFPiyRg8NDSM5nWrcOtuVDlNKrYT85esMfX5f2mjuND06f1cu3UnwnFbc5qUXL15O8r2scUjoVuknObBI388o8hp3BO68dD/3/mPPx4JY85/RF6F8hblLSIvQ+MOjTtEROT1UHH3Bf3/rs0HjwLo9sNo+oycwq8/9iR18qT43bhlu7v231MLJ3R1ISDoyReBN+7cI+3jYumo6Ys5feEKm6YPI3XypBw8cZZS73bHNJ+8/+k7ONKlTk6ZInlZ8cuPkeILCwvDyckRv+u3yJnZmjhENzXH02LqM6oYnqx78nOaFEk5evqCbdk0Tfyu38Y7ZbIo20fFt2FnLkUT77u1KjKqT9dI63Nnzcio6YsxTdMW45HT5+nYrFbMO3ssNCzsuZ+lEeV7n/OZxiLRadGiBS1atODBgwd06tSJL774gunTp5MmTRouX75su0r931N0JUyYkICAJwPs69ev255tNXToUE6ePMnu3btJnTo1Bw4coFChQphPnVie/p1Onz495cuX588/Iz8zxXpeceLy5cvkypUryliiElOfUcUQ1Tpvb28OH36SUJmmyeXLl0mbNm2MfTzNx8eHixcvRrmtVatWTJgwIcr3DB06NMJ55dChQ3TpEnlq+Bw5chAaGsrp06fJnj07AAcPHrT9u4m8iv/ftfkgIJjPJq+l/+zNTOhSi1ReHly589B2d63f7Yhf1CV0SUBgcIht+eZ9f7wfF2zHrdzLmav3WPt9S1J5eXD4wg0qfDUt2nFH2mSJKJU7PYu+fnIB2P+FhYfj5OjAlTsPyZHW+vc+ummOnxZTn7YYolr39LgjiQfHLj350sM0Ta7ceRihKPqscUepnr9F+uz+r0mZPAx9v2qk9bnSJWPsyr0Rzg9HL92iQ5VCkdpmTZOE0LBwzl67R9Y0SQA4cukmOdNZP6vDF29StVBW27TNlQtmJlUSd/aevhLh7ur/Cw0Lf+5nGovEpFntyjSrXZkHj/zp9u1w+g6bxK8/fUXqFMnwu3bTdpfLv/OIhG6uBAQF2Zav376H9+OLN0dOnc/pC35snj2W1CmScvD4GUo27vSvc8uTn9OlTknZovlZMXlIpPgi5DRZMkQZS1Ri6tMWQxRnl6fPeWlSJOPo6fO2ZWtOcxPvlMmjbB+VInXbc+nqjSi3vVvnHUZ/82mk9bmzZWLk7/Mj5jSnztGpeb1IbbNnTEdoaBhnLvqRLaN17Hf45Dnbv5vI66K8Jfp1yltEoqdxx7/WadwhIiKxIPLDxyRapy74sWnPQYItIbi6JMDNxQUHw/oRNqxahqG/zefeg4dcuXGb8XOWR3hv/pxZmLd6E2FhYazdvo9t+59Mk/zQPxBXV2e8PD24+89DBv4S83TONcoV48wl65TAISGhhISEsv/IKU6cu4SjoyP1KpViwIRZBAQGcfzsJWYuX//MY4upz+fVsGpZ1mzdy8bdBwgJCWXktEW4ODtRomDu5+5j36Lx3Ny5MMpXVIVdgHJF8+Ho6MC4WcsItoQw4fFnX6FYgUhtb969z/w1m3kUYL0z+s8d+5m/ejMViz9pG2wJISjYepeNJSSUoGCLLbGcuugPbt69D8Dxs5cY+uv8KPcj8rxOnjzJhg0bCA4OxtXVFTc3Nxwe3znXtGlTBg4cyL179/Dz82P06NER3luwYEFmzZpFWFgYa9asifCspIcPH+Lm5oaXlxd3796lf//+McZRu3ZtTp06xfTp0wkJCSEkJIS9e/dy/PhxHB0dadiwId9++y0BAQEcO3aM33///ZnHFlOfz6tp06asXLmS9evXExISwtChQ3FxcaFUqVLP3cfRo0d59OhRlK+oviABqFChAo6OjowaNYrg4GDGjBkDQKVKlSK1dXd3p2HDhvTr1w9/f3+2b9/O0qVLI1zpL/IyTl+9y5YjFwkOCcXV2QlXZyccHife9UrkZMTSXdx/FMSVOw+Z9EfEKTryZkzBgh3HCQsPZ/2B87ZnvIL1Ll1XZycSJ3Tl3qNABi+MeTrnqoWzcva6dUrgkNAwQkLD+OvsNU5euYOjgwO1i2Zn8MIdBASHcMLvNnO2xPwoiGf1+bzqlcjFnwfOsfnIRUJCwxi7ci8uCRwpliPts9/82I6f23Np6idRvqIq7AKUzpMBRwcHJq75i+CQUNtnXzZvhkht3V2t0y7/NH8b/kEWdp/0Y/W+MzQrY/0StVCW1Pz59zku3LiPaZpsPHSBs9fu2Z47PH3DIW794w/ACb/bjFi6m3JR7EfkRZw6f5lNu/4m2GLB1dkZV1cX27mlUbXy/Dx5Nvf+eYjf9VtMmLU4wnvz58zKvJUbrDnN1j1s2/fkWWuP/ANwdXHGK5EHd+8/YMD4aTHGUaNCCU5f8GPWsj9t+ce+wyc4cfaiNad5pyw/jvvdmtOcucDMpWufeWwx9fm8GlWvwJotu9m46y9rTjN1Pi7OzpQo+PzFj/3LfuPWvpVRvqL6ghWgXNECODo4MG7GIoItFsbPXAJAheKRLxxxT+hGvSpl+H70VPwDAtn51xFWbNgR4U4hkdimvCVmyltEoqZxR8w07hARkZel4u4LCLaE0G/kVDJUaE6Wyq24dfc+33VvA0DvTi1InyYlPjU7ULdzH5rXijiQHtKrE6s378G7bDPmrtpE7YolbNu6tqxHUJCFDBWaU/G9HlQpXSTGODzdE7Js/A8sWLOZbFXfI8s7regzcgrBFusdOkO/7MyjgECyvNOKTv2G8169Z/+xfVafzyNHpnT8OqAnPQdNIEPF5qzesof5I7/B+QWeZ/synBMkYM7wvsxasR7vsk2ZtuRP5gzva9vvkMlzqd+lH2C9Ym7y/FXkqNqGtOWa0XvYrwz+vCO1Kjz59yhYryPJijfg6s071PuoL8mKN+DSVesVezsPHKNY4y6kKNGQhl2/oWoZX/p3a/Naj0/ebsHBwXz55ZckT56c1KlTc/PmTQYOHAjAN998Q8aMGcmcOTNVq1aNlHSPHDmS5cuX4+XlxcyZM6lfv75t2yeffEJgYCDJkyenRIkSVK9ePcY4PD09Wbt2LXPmzMHb25vUqVPzxRdfEBxsnXFgzJgxPHr0iNSpU9O2bVvb86hepc/nkTNnTmbMmEG3bt1Injw5y5cvZ/ny5Tg7R57+NDY5OzuzZMkSpk2bhpeXF7/99htLliyx7XfAgAHUqFHD1n7cuHEEBgaSMmVKmjdvzvjx43UFvLwyS0go383ZQvaOY8j94ThuPwig77vW50r1alSKdCkSUejjiTQeOJ+mZSP+/zagdWX+2H+WzB1GMX/7MWr6ZrNt61TDlyBLKDk6jqFa35lULpA5xjg83ZxZ8FUTFu84gc9H48ndeRz9Z23BEhIKwKB27+AfZCF353F0nbCaFuXzPfPYntXn88junZTxXWry5dT1ZO84hj/2n2VWz4Y4Ozk+dx8vw9nJkek96jN361GydBjNrE2Hmd6jvm2/w5bsoulPC2zth7R/h8CQUHJ9OI4PRq/g5w5VbHdcv1vOhwalclH3+zlkbD+Sr35fz9D3q9rugt596gple00lfdsRvDtoIVUKZaFPs3KRgxJ5AcEWC32HTyJ96YZkLt+EW3fv0f/T9wHo/VFrMninIk+1ltT9oBfN60TMI4Z81YVVm3aSpkQ95q5cT51KpW3burRuRFCwhfSlG1ChRVeqlCkaYxye7glZPmkw81dvJGvFpmQu35i+wybZ8o9hX3fjUUAgmcs3oePXg3mvfsxjmefp83nkyJyeX3/6is9+HE36Mg1ZtWknC8b+gLPza85pnBMwd/R3zFz2J2lK1GPa4tXMHf2dbb+DJ86kXqcvbe1H9PmYwOBgMpZrTJvPf2Rk3491B428VspbYqa8RSRqGnfETOMOERF5WcbTU91IRIZhmP4HVr7Ue7fsPUSHr3/m9NqYrxyTt5d7wVqYpvmMCSElPjIMw3yZc++mTZto1aoVfn5+z24sbyzDMHRukCgZhmHemf35S71327FLfDh2JUfGdo7lqMReJGs+ROcWiZJhGGbA0WfP5BOVLXsO0P7LgZzZMDeWo5L/SkKfyjo3yEt52ZwFlLe8DZSzyMvSuCN+07hDROS/ozt3RURERERERERERERERETsgFNcByD/ne1/HaFBl2+i3HZz58L/OBoReRts3bo1wjRfT3v06NF/HI2IvEl2nvCj2VPTEz/t0tRP/ttgROStsX3/Iep3+irKbbf2vdysSyLy9lPeIiIvQ+MOERF5U2la5hi8yrTMIpqWWaLzKlOcif3TFGcSnVeZlllE0zJLdF5lekSxf5oeUV6Wcpb4TTmLvCyNO+I3jTtERP47mpZZRERERERERERERERERMQOqLgr0erYdxj9x0yL6zBExM61bduWPn36xHUYIvKG6zJ+FT/O3RrXYYiInevYexDfjvwtrsMQkTecchQRiQ0ad4iISFxRcVfsgm/DzqQs2cj2SlSkDo2797dtX7V5N76NPiJlyUZUav0Zx89eisNoReRN1bZtW5ydnfHw8LC9wsLC4josEXnDLNl5gur9ZpKuzXDqfjcn0vZPJ/1BsR6TSd5iCLM2H4mDCEXEHnw1ZAL5arQmZdHaFKzdlplL18Z1SCLyBurZsyfZs2fH09OTXLlyMW3ak4vsb9++TenSpUmWLBleXl6ULFmS7du3x2G0IvKmWrhmExVbdiNZkZpUa9sjrsMREZHXzCmuAxB5HvsWjbf9bJomPrU60KBKGQDOXLxC+95DWDSmP8Xy5WL47wtp+sl3/L34F5ycHOMqZBF5Q/Xq1YsffvghrsMQkTeYl4crH9Yowumrd9l6NPIFYz4ZU1C/ZC76z9ocB9GJiL1I6ObKgrE/kD1TOvYdOUn9Tl+SNUNaShTyievQROQN4u7uzvLly8mRIwd79+6levXqZMuWjVKlSuHh4cFvv/1G9uzZMQyDpUuXUqdOHW7evImTk77SE5EnkiT2pOt7jTh57hKb9xyI63BEROQ10527b6ihU+aTrUprUpVqTMF6Hdm4+wAA+w6fpGLrz/Au05Qs77Six8DxWEJCbO9zL1iLiXNXkL/OB6Qq1Zjvxk7n3OVrVGr9GalLN+a9zwfa2m/Ze4jsVVszZPJcMlRoTu4a7ZizcmO0Ma3esocSTbviXaYplVp/xuFT558Z7+uwbf8R7tx/QP13SgOwbudflCrkQ6lCPjg5OfJZu8ZcvXmHrfsPv7YYROzFoEGDSJs2LZ6enuTMmZP169cDsGfPHkqWLImXlxdp0qSha9euWCwW2/sMw2DcuHG2K8j79u3L2bNnKVWqFIkSJaJp06a29ps2bSJdunQMGDCA5MmTkylTJmbOnBltTCtWrKBgwYJ4eXlRqlQpDh069Mx4ReT1GrlsNz4fjSdDuxEU6zGZzUcuArD/zDWq9ZtB5g6jyNN5HL2mrMMS+uRu92TNh/Dr2r8p+ukkMrQbwYB52zh/4x7V+80kY/uRtB+xzNZ+27FL5O0ynmFLdpH9gzEU7PYL87cdizamP/46S/kvp5K5wyiq95vJ0Ys3nxlvbKmQLxP1S+YidRKPKLe/X7Uw5fNmxNVZX6qKPG3o5NlkrdiUlEVrU6BWGzbu+guAvYdOUKFFV9KUqEvm8k349IdRWCxPcpiEPpX5ZfZS212u/UdN4dylq1Rs2Y1UxerQqsd3tvZb9hwgW6VmDJ44k/SlG5CrSgvmrFgXbUyrNu2keMOOpClRl4otu3H45Nlnxhtb+nZtS84sGXBwcKBY/tyUKpyP3QePxuo+ROyRcpSI+vfvT65cuXBwcKB48eKULVuWnTt3AuDq6krOnDlxcHDANE0cHR25d+8ed+/ejdUYROyRxh0RVSpZhEbVK5AmZbJY7VdERN5M+kbqDXTqgh+/zFnB1pnDSZMyGRev3CAsPBwAR0cHBvX8gMJ5snPlxm0adO3HxLkr6dqqvu3963b+xbbZI/G7fovSzbuz6+Bxfh3Qk6SJE1GpzWfMW72ZVnXfAeDGnXvcvv+A02unsefQCRp2/YbCPtnJkSldhJgOnDjLh9+MYMGofhTOk53ZKzfS9OPvOLB0Ihev3og23n/7+bd5DPttQbTHfnXbvGd+PjOXr6de5VK4u7na1pkmT/1sYpomx85cpGLxgs/sT+RtdfLkScaMGcPevXvx9vbmwoULtimIHR0dGT58OL6+vvj5+VGjRg3GjRvHJ598Ynv/H3/8wf79+7l8+TKFCxdmx44dzJgxg2TJklGyZElmz55NmzZtALh+/Tq3b9/mypUr7Nq1i5o1a+Lr60vOnDkjxPT333/Tvn17li9fjq+vLzNmzKBu3bqcPHmSCxcuRBvvv/3000/89NNP0R77/fv3o902btw4xo0bR+bMmenduzeNGjV6zk9U5O10+updJv/xN+t+eI80ST24dOufJ+MOB4Mf3qtEoSypuXr3IU1/WsBva//mw5q+tvdvOHSB9T+25uqdh1TsPY09p64woUstknq6Ua3fTBZuP07z8nkBuHnfn7sPAzgy7kP2nb7Gu4MXUjBLarJ7J40Q06HzN+j+yxpmft6AQllSM2/rMVr+vJjdwzpw6daDaOP9t8UxUlAAACXDSURBVBFLdzNy2e5oj/38r91f9eMTkcdOnb/MhNlL2Tp3HN4pk3PxynXCwp7kMIO/+IjCPjm5cuMW9T/8iolzltG19ZO/weu272P7/PH4Xb9FqcYfsvvAUX776SuSeiWiYotuzFu1gVb1qwFw4/Zd7tz7hzMb57Ln4HEadO5NYZ+c5MicPkJMB46fpnPfn5k/9geK+ORg9vJ1NOnal4Mrp3Lxyo1o4/23nyfNZuivs6M99mu7lj3z8wkMCmb/kZN0fLfuM9uKvM2Uo8QsMDCQvXv38tFHH0VYnz9/fk6cOEFISAjvv/8+KVOmfGZfIm8zjTtERCS+0527byBHBweCLSEcP3eJkJBQMqZNRZb0aQAolCc7xfLnwsnJkYxpU9G+UQ227Y/4rLdP2zQmkUdC8mTLSJ5sGalcshCZ06Uhsac7VUr7cvDEuQjt+3V5DxfnBJT1zUf1skVZtHZrpJimLFxDh8Y1KJovF46OjrSq+w4uzgnYc+hEjPH+W8/2Tbm6bV60r2cJCAxiybpttuI0QMXiBdm2/zBb9h7CEhLCkF/nYQkJJSAo+Jn9ibzNHB0dCQ4O5tixY4SEhJApUyayZs0KQJEiRShRogROTk5kypSJTp06sXlzxOlFe/XqRaJEifDx8SFv3rxUrVqVLFmykDhxYmrUqMHff/8dof3333+Pi4sL5cuXp1atWsybF/l3euLEiXTq1InixYvj6OhImzZtcHFxYdeuXTHG+29ffvkl9+/fj/YVne7du3P69Glu3rzJ999/T9u2bfXMKon3HB0MLKFhnLxym5DQMDKkSEzmVEkAKJglNUWze+Pk6ECGFIlpW7kA249fjvD+7nWKkiihC7nSJyd3+uRUzJ+JTKm8SJTQhXcKZObwhZsR2n/VpAwuCZwonSc9VQpmYemuE5Fi+n3DQdpULoBvNm8cHRxoXj4vzgkc2Xf6Wozx/tsn9Ypz/tfu0b5EJPY4OjhgsYRw4uzFxzlBarJk8AagsE8OihXI8ziHSU2HJrXZuu9ghPf3aN+MRB7u5MmWiTzZM1G5VBEyp/cmsacHVcsW4+DxMxHa9+vWDhdnZ8oWLUD1csVZuGZTpJh+m7+S9k1qUyx/bmsOU7+aNYc5eDzGeP+t5wfNubZrWbSv59G9/3Dy5cxKlTJFn6u9yNtKOUrMPvzwQwoUKEC1atUirD906BAPHjxg1qxZlClT5rn6EnmbadwhIiLxne7cfQNlzeDN4M87MmDCLI6fvcg7pYrw02fvkyZlMk5fvMKXP0/ir2OnCQwKJjQsnEK5s0V4f8pkXraf3VxcSJn06WVnbty5Z1tOksgjwh2w6dOk5NqtyNP7XLp6k5nL1zNh9nLbOktoKNdu3aGsb75o441tSzfsIEkiT8r65rOty5k5PRO/70GPnyZw4/ZdmtWsSK4sGUibKnms71/EnmTLlo0RI0bw7bffcvToUapVq8awYcPw9vbm1KlT9OjRg3379hEQEEBoaChFihSJ8P5UqVLZfnZzc4u0fP36ddtykiRJcHd3ty1nzJiRq1evRorp4sWL/P7774wePdq2zmKxcPXqVcqXLx9tvLGlcOHCtp9r1qxJy5YtWbRoEaVLl461fYjYmyypk/Bj64oMXriDE363qZQ/M9+3qkiapB6cuXaXvtM3cuDcdQIsoYSFhVMgc6oI70+R+MnvvquzU6Tlm//425a93F1xd3W2LadPkYhr9x5Fisnv9gPmbjnKpD+eTFUWEhrG9XuPKJ0nfbTxikjcyZoxLYO/+Igfx07j+NkLvFPal596dcY7ZXJOX7jMF4PH89eRU49zmDAK5cke4f0pkz25SMPNxSXCsquLCzfuPMlRkiTyxD2hm205g3cqrt26EymmS1dvMHPpWibMWmxbZwkJ5drNO5QtWiDaeGNb759/4eiZC6yZMhTDMGK9fxF7ohwlep9//jlHjhxh48aNUZ4rXF1dad68Oblz56ZgwYIUKFAg1mMQsRcad4iISHynO3ffUM1qVmDd1CEcXz0VDOgzcgoAH/84lhyZ03Fo2SSub1/At11bYz49J/ELuvfgEf6BQbZlv+u3SJMiaaR26VInp1eHiHfd3t61iKY1KsQY778NmTyXlCUbRft6lpnL1tOiTqVIiU6DKmXYt3AclzfPoU/nlly6eoMiPtmj6UUk/mjRogXbtm3j4sWLGIbBF198AUDnzp3JlSsXp0+f5sGDBwwYMODVziX37uHv/6SAc+nSpSi/8EifPj1ff/11hCvYAwICaN68eYzx/tuAAQPw8PCI9vW8DMN4peMWeVs0Lp2HVd+24MCoThhA/9nWu2R6/von2b2Tsmf4B1z87WP6NCvLq/zG3PcPwj/oybPz/G4/IE0Uz7VNm8yTT+uXiHCXrd/vn9KodO4Y4/23YUt2kaHtiGhfIhK7mtWuzPoZIznx5ywMDPoOmwTAx9+NJGfmDBxePY0be5bT/+MOvMqf33sPHuIfEGhbvnztJmlSRL6wNF3qFPTq2DLC3S539q+iaa1KMcb7b4MnziSFb61oXzH5fsxU1m7dw/JJg0jk4R5jW5H4QjlKZN988w2rV69m7dq1JEqUKMa2ISEhnDt3LsY2IvGBxh0iIhKfqbj7Bjp1wY9New4SbAnB1SUBbi4uOBjWf6pH/oEkck+IR0I3Tp6/zOT5q155fz+Mn4ElJITtfx1h9ZY9NKgSeYqfdg2rM3nBavYePoFpmvgHBrFmyx4e+gfEGO+/ff5+M27uXBjtKyZXbtxmy75DtKzzTqRtfx87TVhYGLfu/kO370dTs3xxcv7r2Rci8c3JkyfZsGEDwcHBuLq64ubmhoOD9Xfz4cOHJEqUCA8PD06cOMH48eNfeX/ffPMNFouFrVu3smLFCpo0aRKpzQcffMCECRPYvXu39Vzi78/KlSt5+PBhjPH+W+/evXn06FG0r+gsWLCAR48eER4eztq1a23P0xKJz05fvcuWIxcJDgnF1dkJV2cnHB5fRPUoyIKnmwsergk4deUOv6078Mr7G7RgO5bQMHae8GPt3+eoWzxnpDbvVSzA1HUH2XfmqvVcEWRh7V9neRhoiTHef+tRvwSXpn4S7Ss6YeHhBFlCCQ0LJ9w0CbKEEhL65Pl6ltAwgiyhmKZJ6OOfw8N1oYjEb6fOX2bTrr8JtlhwdXbG1dXF9rv50D8Az//nMOcuMWnuq08p+MPY37FYQti+/xCrN++iYbXykdq0a1yLyfOWs+fQceu5JCCQ1Zt3WXOYGOL9t14dW3Jr38poX9EZMmkW81ZuYMXkISTzSvzKxyzyNlCOEtnAgQOZNWsW69atI1myiAWjXbt2sW3bNiwWC4GBgQwaNIgbN25QvHjxV/tgROycxh2RhYWFERRsseYw4eEEBVsICQl95WMXEZE3k6ZlfgMFW0LoN3IqJ89fJoGTI8UL5GZM324ADOjRgW7fj2b41IUUyJWVRtXKsnnPoZfeV6pkSUji6UG2Kq1xc3VhZJ+uURZFC/tkZ0y/bvQYOIGzl67i6upMqYJ5KF0kb4zxxqZZKzZQPH/uKJ/n+/ngiRw+dZ4ETo40qFKGn3p+EOv7F7E3wcHBfPnllxw/fpwECRJQqlQpJk6cCMDPP/9Mx44dGTx4MIUKFaJZs2Zs2LDhpfeVOnVqkiRJgre3NwkTJmTChAnkypUrUjtfX18mTZpE165dOX36NG5ubpQpU4Zy5crFGG9sGTlyJB06dMA0TTJnzsykSZOoUKFCrO5DxN5YQkL5bs4WTl25QwJHR4rl8GbY+9bnvH3XsgKfTl7L6OV7yJcpJQ1K5mLr0Usvva+UXu4kdnfFp/N43Fyc+LlDFXKkjXzVe6GsqRnxQTW+mLKec9fv4ebsRPGcaSmZO32M8caWuVuP0W3Catty2jbDebecD2M71wSg8YD5tmcP7zl1lU8nr2Vp32aUyZMhVuMQsSfBFgt9h0/i5LlLJHByonihPIz5tgcAAz//kK7fDmP4b3MpkDsbjapXYPPuAy+9r1TJk+KVyJOsFZvi5urKqH6fkDNL5N+/InlzMvbbHvT4YTRnL/nh6uJCqcJ5KeObP8Z4Y8s3I37FOUEC8tV4z7bu844t6NWxZazuR8SeKEeJrHfv3jg7O5MtW7YI63r37k1wcDDdu3fn3LlzJEiQgHz58rFy5crXMi20iD3RuCOyWcv+pFOfIbblpIVr0KpeVSYOiHq2ARERsW+GpqOMnmEYpv+B6K+Isndb9h6iw9c/c3rttLgO5a3kXrAWpmnqoVoSiWEY5tt07t20aROtWrXCz88vrkOxC4+ngta5QSIxDMO8M/vzuA7jtdl27BIfjl3JkbGd4zqUt1Ky5kN0bpEoGYZhBhxdH9dhxJotew7Q/suBnNkwN65DsQsJfSrr3CAvxd5zFuUor0Y5i7wsjTviN407RET+O5qWWURERERERERERERERETEDqi4KyIiIiIiIiIiIiIiIiJiBzQtcwze9mmZ5fXStMwSHXuf4kxejaY4k+i87dMyy+ulaZklOm/b9IjyYjQ9orws5Szxm3IWeVkad8RvGneIiPx3dOeuiIiIiIiIiIiIiIiIiIgdUHH3LbJl7yGyV20d12GIyFtm06ZNpEuXLq7DEJE3zLZjl8jbZXxchyEib5ktew6QrVKzuA5DROyMchYReRkad4iIiL1ScVdem9MXr9D0k+/IWLE56co1o27nvpy64Bdt+4V/bKVS689IXqIh1Tt8+UJ9df9hDClLNrK9khStR6pSjV/bsYlI3OrYsSM5c+bEwcGBqVOnxtg2ODiY9u3bkyhRIlKnTs2wYcP+myBF5D9150EANb6ZSbYPRpO5wyiq9ZvB7pPRjzuCQ0LpNmE1GduPJPeHYxm3cm+E7dM3HML3k0lkaDuCJgPnc+3uI9u2rUcvUe/7OWRqP5KC3X55bcckInHv9IXLNOnalwxlGpK2ZH3qfvAFp85fjrZ9sMVCpz5DSFWsDpnKNWbU1Pn/YbQi8iZRziIiL0rjDhEReV4q7spr88+DR9QqX5y/l0zk/PqZ+ObNQbNPvo+2fZLEHnRpWZ/P2kUuyj6rr1F9unJz50Lbq0n18jSoUua1HJeIxL0CBQowbtw4Chcu/My23377LadPn+bixYts3LiRwYMHs2bNmv8gShH5L7m7OjOqUw1O/dKVc5O70b1OcVoMWUxoWHiU7Qct2MG56/c4OKoTS/q+y+jle1h/4DxgvSv5h7lbmfFZA85M7kaGlInpOHq57b0JXRLQokI++res8F8cmojEofsP/KlVsSQHVkzlwpYFFMmXi6bd+kbb/sex0zh70Y8Tf85izZShDPttLmu37vkPIxaRN4VyFhF5URp3iIjI81Jx9w0zdMp8WvYcEGFdz0G/0HPQBACmLfmTwg06kapUY3xqtefXBauj7cu9YC3OXrpqW+7Ydxj9x0yzLa/esocSTbviXaYplVp/xuFT52P1WHzz5aRNg2okTexJggROdG1Vn1MX/Lhz/0GU7SuVKESjamVJkyLZK/XlHxjE0vU7aFmncqwej4g9GzRoEI0bR7xw4uOPP6Z79+4ATJkyhdy5c+Pp6UmWLFn45Zfo70QzDIMzZ87Yltu2bUufPn1syytWrKBgwYJ4eXlRqlQpDh06FMtHA126dKFy5cq4uro+s+3vv/9O3759SZIkCblz5+aDDz545pXzIvHFyGW7aTt8aYR1X/2+ni+nrgdg5qbDlPjsVzK0G0Hhjycydd2BaPtK1nwI567fsy13Gb+KH+dutS3/8ddZyn85lcwdRlG930yOXrwZq8fi6uxEdu+kODgYmCY4Ohjc9w/i3qPAKNvP2XKEng1L4uXhSs60yXivUgFmbzkCwNq/zlK3eA5ypU+Os5MjPRuUYscJP87fsB5fkWxpaFbWh4wpE8fqMYi8LYZOnk2LT76NsK7nwDF8NmAMANMWr6FQnXakLFqbPNVaMXne8ih6sUroU5mzF6/Yljv2HsS3I3+zLa/atJPiDTuSpkRdKrbsxuGTZ2P1WIrmz0XbRjVJ6pWIBAmc6Na6EafOX+bO/X+ibD9j6Vq+/PA9kiT2JFfWjLRrXIsZS/+I1ZhE3lbKWZSziLwMjTs07hARiY+c4joAiahJtfIM/GU2D/0D8HRPSFhYGIv+3MqcYdYkJGXSxCwY9S2Z06Vm2/4jNOj6DYV9slMod7YX2s+BE2f58JsRLBjVj8J5sjN75UaafvwdB5ZOxMU5QaT2xZp0we/arSj7alqjPCO+7vLMfW7ff4RUyZOQzCvRC8X6on0tWbed5EkSUaZI3lfej8jb4t1336V///48fPgQT09PwsLCmDdvHosXLwYgZcqUrFixgixZsrBlyxZq1KhB0aJFn+sq86f9/ffftG/fnuXLl+Pr68uMGTOoW7cuJ0+exMXFJVL7/Pnzc+nSpSj7atGiBePGjXvxg33KvXv3uHbtGgUKFLCtK1CgAEuWLHmlfkXeFg1L5mLIwh08DLTg6eZMWHg4S3ed5Pce9QFIkSghs3s1JFNKL3Yc96PZoAUUypqGAplTvdB+Dp2/Qfdf1jDz8wYUypKaeVuP0fLnxewe1gGXBJGHo2V7TcHvzsMo+2pUKjc/d6gS7b7K9prC6at3CQkL572K+UmR2D1Sm/uPgrhx3x+fDClt6/JmTMGqfadty6b5pL2JdeH45dtkTpXkmccrEt81qVmJAeOnR8hpFq7ZzNxR/QFIkdSLhWN/JHP6NGzbd4j6H35Fkbw5KZQnxwvt58Dx03Tu+zPzx/5AEZ8czF6+jiZd+3Jw5VRcnJ0jtS/W4H0uX4v6wpKmNSszst/Hz9zntv2HSJU8Kcm8Il/cce+fh1y/dYd8ObPY1uXPmYUVG7a/wFGJxF/KWZSziLwMjTs07hARiY9U3H3DZPBOScFcWVm2YSct61Rm055DJHR1oVj+XABUL1fM1rasbz4qlyjEjr+OvnBxd8rCNXRoXIOi+az9tqr7Dj//Oo89h05Q1jdfpPZ75o99haOCKzdu8+nA8fz02fuv1M/z9DVz+Xpa1K6MYRivvC+Rt0XGjBkpXLgwixcvpnXr1mzYsIGECRNSokQJAGrVqmVrW758eapWrcrWrVtf+IuSiRMn0qlTJ4oXLw5AmzZtGDBgALt27aJ8+fKR2r+OK+Sf9uiR9RmZiRM/SYQSJ07Mw4dRF41E4pv0KRKTP3MqVu49xbvl8rLlyCXcnJ0omt0bgKqFs9rals6Tngr5M7HrhN8LF3d/33CQNpUL4JvN2m/z8nkZvnQX+05fo3Se9JHabx3c7qWPaevgdgRZQlm59zSW0LAo2/gHWwBIlPDJF7iebi48CrSur1QgMx+MWkG7dwqQJU0Sfl60A8OAwODQl45LJD7J4J2Kgrmzs2zdNlrWq8qm3X+T0M2FYgXyAFCjfAlb27JFC1C5VBF27D/8wl+y/jZ/Je2b1KZY/twAtKpfjSGTZrHn4HHKFi0Qqf2exZNf4ajA7/otPv1hFIN6dY5yu3+AdaaAxJ4etnWJPN156B/wSvsViS+UsyhnEXkZGndo3CEiEh+puPsGalqjPPPXbKZlncrMW72JpjUq2Lb9sW0fA3+ZxZmLVwgPNwkICsYne6YX3selqzeZuXw9E2Y/mYrEEhrKtVt3YuEIIrp19x/qdu5Dx6Y1IxzL6+jr8rWbbN13mLH9ur3SfkTeRi1atGD27Nm0bt2aWbNm0aJFC9u21atX079/f06dOkV4eDgBAQHkyxf5Qo9nuXjxIr///jujR4+2rbNYLFy9ejWGd70+Hh7WJOfBgwe26dAePHiAp6dnnMQj8iZqVCo3i3ac4N1yeVm44ziNSuexbVt34ByDF+7g7LV7hJsmgcEh5Emf4oX34Xf7AXO3HGXSH3/Z1oWEhnH93qNYOYZ/c3V2olHp3JT47FfyZUpJ3owpI2x3d7FeWf8wMBhXZyfbzx5u1vUV8mXiiyalaDtiKQ8DLHSqUQQPV2e8k+ncIfK8mtaqxLxVG2hZrypzV26gac0nj0z5Y+tuBoybzpkLfoSb4QQEBuOTPUsMvUXt0tUbzFy6lgmzFtvWWUJCuXbzdeQ096n7QS86vluPprUqRdnGPaEbAA8e+eP6//PMI+tdRCLyfJSzKGcReRkad2jcISIS36i4+wZqUKUsXw37lSs3brN8w042TPsZgGBLCC17DmDS9z2oXaEECRI40eyT7zGfnjfwKQldXQgICrYt37hzj7SpkgOQLnVyenVoSq8P3n2umHwbduZSNFOJvFurIqP6dI1y270HD6nbuQ81yxd/7n1F53n6mr1iAyUL5iZzujSvtC+Rt1GTJk347LPP8PPzY/HixezcuROA4OBgGjVqxLRp06hXrx4JEiSgfv360Z9bEiYkIODJlaDXr18nXbp0AKRPn56vv/6ar7/++rli8vHx4eLFi1Fua9WqFRMmTHiRQ4wkSZIkpEmThoMHD1KlinUa14MHD+Lj4/NK/Yq8TeqVyEm/GZu4cuchK/eeZs13LQEIDgml7fCljPuoJjWKZCOBkyOthi6O/tzgkoDA4BDb8s37/ngntX4pmTaZJ5/WL8FnDUo+V0ylev6G3+0HUW5rUiYPQ9+v+lz9hIaFc+Hm/UjFXS8PV1J5uXPk4i0q5rdO23z00i1ypUtua/N+1cK8X9V6J9CZa3cZtmQXuZ/aLiIxa1itPF8NmYDf9VssX7+NjTOtRZRgi4UWn/Rn8oAvqF2pNAkSONG0W9/ozy1urgQEBdmWr9++h3cq60Um6VKnoFfHlnzRqeVzxVSkbnsuXb0R5bZ367zD6G8+jXLbvX8eUueDL6hVsVSM+0qS2JPUKZJx+ORZKpfyBeDQybPkzpbxueITEeUsyllEXo7GHRp3iIjENyruvoFSJE1MWd98dOo3nIxpU5ErSwYALCEhBFtCSJ4kMU5OjvyxbR/rd/1Nnmj+aOfPmYV5qzeRJ2sG1u/6m237j1A4T3YA2jWszrs9fqBiiYL45s1JQFAwW/ceonSRvFFe4bVv0fgXPo4HjwKo17kfJQvm4fuPnz29YlhYGCGhYYSGhRFuhhMUbMHRwYEECZyeu69ZKzbwabvGLxyrSHyQIkUKKlSoQLt27cicOTO5c1unErJYLAQHB5MiRQqcnJxYvXo1a9euJW/eqJ9bXbBgQWbNmoWPjw9//vknmzdvxtfXmkh88MEHNGjQgHfeeYdixYoREBDApk2bKFeuXJRXnh89evSljsVisRAeHo5pmoSEhBAUFISzszMODg6R2rZu3ZoffvgBX19fbty4waRJk5gyZcpL7VfkbZQ8UUJK50lPtwmryZgiMTnTJgPAEhpOcEgYyTwT4uTowLoD59h06EK0Bc68GVOwYMdxcqVPzqZDF9lx3I+CWVID8F7FArQetoTy+TJSJGsaAoJD2H7sMiVzp8fTLfLzqXb83P6Fj2Pv6auEhYVTOFsawsLDmbjmL27+40+RrN5Rtm9Wzodhi3dSKEtqbv7jz/QNhxjdqQYAQZZQzt+4R650ybly5yE9Jq2lY/XCeHlY76YJDzexhIYRGhaO+bi9g4OBs5PjC8ct8rZKkdSLskUL8GGfwWRMm4ZcWa05iyUk1JrTJPWy5jRbd7N+x37yZMscZT/5c2Zl3soN5MmWifU79rNt30EK+1inUWzXuBbvfvwNFUsWpmi+XAQEBrFl70HK+OaPMqfZv+y3Fz6OB4/8qdvxC0oW8uH7Hh88s33LulUY9MtMCvvk5Oade0xZsIpffvj8hfcrEl8pZ1HOIvIyNO7QuENEJL6JPKKUN0LTGhXYuPtAhKmHPd0T8nOvTrzX6yfSlm3GvNWbqFW+eLR9DOnVidWb9+BdthlzV22idsUnz5go7JOdMf260WPgBNKWbUa+Ou8zY9m6WD2GZRt2sP/oKaYv/ZOUJRvZXpcf3wE8Z+VGfBs+eW7ErBUbSFa8AR//OJbtfx0lWfEGdPlu1HP1BbD74HGu3LhNwyplYvU4RN4mLVq0YN26dRGmN/P09GTUqFE0bdqUJEmSMGvWLOrWrRttHyNHjmT58uV4eXkxc+ZM6tevb9vm6+vLpEmT6Nq1K0mSJCFbtmxMnTo11o+jatWquLm5sWPHDjp27IibmxtbtmwBYObMmRGucu/fvz9Zs2YlY8aMlC9fns8//5zq1avHekwi9qxR6dxsPnKRRqVz29Z5ujkzsG0lOoxcRpb3R7Ng+3GqF8kWbR8DWlfmj/1nydxhFPO3H6Om75O2hbKmZsQH1fhiynqyvD+aop9OZvaWI7F6DJaQMHpNWUe2D0aT96MJrPv7HHN6NSJNUutUh/O3HaNUzydfsHzZuDSZUnlRoPsv1P1uDl1rF6VyQeuXPMEhoXQcvYIM7UZSpc90fLN707vpk/HFjhOXSdtmOM0GLcTv9gPSthlO4wHzY/V4RN4GzWpVZsPOv2j21HSCnu4J+fmrLrz32Xd4l6zHvJUbqFUx+rv6h3zVhVWbdpKmRD3mrlxPnUqlbduK5M3J2G970OOH0XiXrEfeGq2ZseSPWD2GZeu2sf/ISaYv+YMUvrVsr8uP78SZs2IdReo+uSClT9c2ZE7vTa4qLajW9lM+bdeUqmWLxWpMIm875SzKWURehsYdGneIiMQnRnTTUAgYhmH6H1gZ12GInXIvWAvTNI24jkPePIZhmDr3xl+GYejcIFEyDMO8M1tXWcvLSdZ8iM4tEiXDMMyAo+vjOgyJIwl9KuvcIC9FOUv8ppxFXpbGHfGbxh0iIv8d3bkrIiIiIiIiIiIiIiIiImIHVNwVEREREREREREREREREbEDKu6KiIiIiIiIiIiIiIiIiNgBFXdFREREREREREREREREROyAirsiIiIiIiIiIiIiIiIiInbAME0zrmN4Y7m5ulwPCrakius4xD65ujjfCAwKTh3Xccibx83N7XpQUJDOLfGUq6vrjcDAQJ0bJBI35wTXg0JCdW6Ql+KawOlGoCVE5xaJRDlN/KacRF6Wcpb4TTmLvCyNO+I3jTtERP47Ku6KiIiIiIiIiIiIiIiIiNgBTcssIiIiIiIiIiIiIiIiImIHVNwVEREREREREREREREREbEDKu6KiIiIiIiIiIiIiIiIiNgBFXdFREREREREREREREREROyAirsiIiIiIiIiIiIiIiIiInZAxV0RERERERERERERERERETug4q6IiIiIiIiIiIiIiIiIiB1QcVdERERERERERERERERExA6ouCsiIiIiIiIiIiIiIiIiYgdU3BURERERERERERERERERsQMq7oqIiIiIiIiIiIiIiIiI2AEVd0VERERERERERERERERE7ICKuyIiIiIiIiIiIiIiIiIidkDFXRERERERERERERERERERO6DiroiIiIiIiIiIiIiIiIiIHVBxV0RERERERERERERERETEDqi4KyIiIiIiIiIiIiIiIiJiB1TcFRERERERERERERERERGxAyruioiIiIiIiIiIiIiIiIjYARV3RURERERERERERERERETsgIq7IiIiIiIiIiIiIiIiIiJ2QMVdERERERERERERERERERE7oOKuiIiIiIiIiIiIiIiIiIgdUHFXRERERERERERERERERMQOqLgrIiIiIiIiIiIiIiIiImIHVNwVEREREREREREREREREbEDKu6KiIiIiIiIiIiIiIiIiNgBFXdFREREREREREREREREROyAirsiIiIiIiIiIiIiIiIiInZAxV0RERERERERERERERERETug4q6IiIiIiIiIiIiIiIiIiB1QcVdERERERERERERERERExA6ouCsiIiIiIiIiIiIiIiIiYgdU3BURERERERERERERERERsQMq7oqIiIiIiIiIiIiIiIiI2AEVd0VERERERERERERERERE7ICKuyIiIiIiIiIiIiIiIiIidkDFXRERERERERERERERERERO6DiroiIiIiIiIiIiIiIiIiIHVBxV0RERERERERERERERETEDqi4KyIiIiIiIiIiIiIiIiJiB1TcFRERERERERERERERERGxAyruioiIiIiIiIiIiIiIiIjYARV3RURERERERERERERERETsgIq7IiIiIiIiIiIiIiIiIiJ2QMVdERERERERERERERERERE7oOKuiIiIiIiIiIiIiIiIiIgdUHFXRERERERERERERERERMQOqLgrIiIiIiIiIiIiIiIiImIHVNwVEREREREREREREREREbEDKu6KiIiIiIiIiIiIiIiIiNgBFXdFREREREREREREREREROyAirsiIiIiIiIiIiIiIiIiInZAxV0RERERERERERERERERETug4q6IiIiIiIiIiIiIiIiIiB1QcVdERERERERERERERERExA6ouCsiIiIiIiIiIiIiIiIiYgdU3BURERERERERERERERERsQMq7oqIiIiIiIiIiIiIiIiI2AEVd0VERERERERERERERERE7ICKuyIiIiIiIiIiIiIiIiIidkDFXRERERERERERERERERERO6DiroiIiIiIiIiIiIiIiIiIHVBxV0RERERERERERERERETEDqi4KyIiIiIiIiIiIiIiIiJiB1TcFRERERERERERERERERGxAyruioiIiIiIiIiIiIiIiIjYARV3RURERERERERERERERETsgIq7IiIiIiIiIiIiIiIiIiJ2QMVdERERERERERERERERERE7oOKuiIiIiIiIiIiIiIiIiIgdUHFXRERERERERERERERERMQOqLgrIiIiIiIiIiIiIiIiImIHVNwVEREREREREREREREREbEDKu6KiIiIiIiIiIiIiIiIiNgBFXdFREREREREREREREREROyAirsiIiIiIiIiIiIiIiIiInZAxV0RERERERERERERERERETvwPxljHU7CLDN8AAAAAElFTkSuQmCC\n",
       "datasetInfos": [],
       "metadata": {},
       "removedWidgets": [],
       "type": "image"
      }
     },
     "output_type": "display_data"
    }
   ],
   "source": [
    "y_for_viz = y.unique().sort_values(ascending=True).astype(str).tolist()\n",
    "print(y_for_viz)\n",
    "fig = plt.figure(figsize=(34, 18))\n",
    "plot_tree(regr, \n",
    "            feature_names=X_num.columns,  \n",
    "            class_names=y_num,\n",
    "            filled=True,\n",
    "            fontsize=12\n",
    "            )\n",
    "# plt.title(f\"Decision tree for stability of {cluster_name} products\", size=14)\n",
    "# fig.savefig(os.path.join(path_res, f\"decision_tree_{cluster_name}.png\"))\n",
    "# fig.clf()"
   ]
  },
  {
   "cell_type": "code",
   "execution_count": 0,
   "metadata": {
    "application/vnd.databricks.v1+cell": {
     "cellMetadata": {
      "byteLimit": 2048000,
      "rowLimit": 10000
     },
     "inputWidgets": {},
     "nuid": "e355dba0-b06b-4891-b94f-68e23ddd3f0e",
     "showTitle": false,
     "title": ""
    }
   },
   "outputs": [
    {
     "output_type": "stream",
     "name": "stdout",
     "output_type": "stream",
     "text": [
      "Out[33]: Index(['Emulsifier and oil|Ratio total oil/emulsifier',\n       'Emulsifier and oil|Phospholipids g/100mL',\n       'Total Lipids g/100g product', 'FA_Sat g/100gFA',\n       'FA_Mono unsat g/100gFA', 'FA_Poly unsatg/100gFA',\n       'Pasteurization  homo|T°C Pasto/Homo', 'Pasteurization|T°C Pasto',\n       'Pasteurization|Time Pasto sec', 'Sterilization US homo|T°C Steril US',\n       ...\n       'Protein_Whey rich in milk calcium', 'Protein_Yoghurt powder',\n       'Protein_whey protein hydrolysate', 'Protein_total_amount',\n       'Pasteurization  homo|P Pasto/homo bar first',\n       'Pasteurization  homo|P Pasto/homo bar second',\n       'Sterilization US homo|P Sterilization US bar first',\n       'Sterilization US homo|P Sterilization US bar second',\n       'SterilizationDS homo|P Steril DS first',\n       'SterilizationDS homo|P Steril DS second'],\n      dtype='object', length=112)"
     ]
    }
   ],
   "source": [
    "X_num.columns"
   ]
  },
  {
   "cell_type": "code",
   "execution_count": 0,
   "metadata": {
    "application/vnd.databricks.v1+cell": {
     "cellMetadata": {
      "byteLimit": 2048000,
      "rowLimit": 10000
     },
     "inputWidgets": {},
     "nuid": "389a65ca-9701-45cf-9579-806a8cc574ae",
     "showTitle": false,
     "title": ""
    }
   },
   "outputs": [
    {
     "output_type": "stream",
     "name": "stderr",
     "output_type": "stream",
     "text": [
      "/databricks/python/lib/python3.9/site-packages/sklearn/base.py:450: UserWarning: X does not have valid feature names, but DecisionTreeRegressor was fitted with feature names\n"
     ]
    },
    {
     "output_type": "stream",
     "name": "stdout",
     "output_type": "stream",
     "text": [
      "<Figure size 432x432 with 0 Axes>"
     ]
    }
   ],
   "source": [
    "import dtreeviz \n",
    "\n",
    "viz = dtreeviz.model(regr, X_num, y_num,\n",
    "                target_name=\"target\",\n",
    "                feature_names=X_num.columns)\n",
    "viz.view()\n"
   ]
  },
  {
   "cell_type": "code",
   "execution_count": 0,
   "metadata": {
    "application/vnd.databricks.v1+cell": {
     "cellMetadata": {
      "byteLimit": 2048000,
      "rowLimit": 10000
     },
     "inputWidgets": {},
     "nuid": "e740918f-ab47-4140-9a53-818766c59583",
     "showTitle": false,
     "title": ""
    }
   },
   "outputs": [
    {
     "output_type": "stream",
     "name": "stdout",
     "output_type": "stream",
     "text": [
      "Unexpected exception formatting exception. Falling back to standard exception\n"
     ]
    },
    {
     "output_type": "stream",
     "name": "stderr",
     "output_type": "stream",
     "text": [
      "Traceback (most recent call last):\n  File \"/local_disk0/.ephemeral_nfs/envs/pythonEnv-51535c33-8fdc-47b2-b860-5965d621034b/lib/python3.9/site-packages/graphviz/backend/execute.py\", line 81, in run_check\n    proc = subprocess.run(cmd, **kwargs)\n  File \"/usr/lib/python3.9/subprocess.py\", line 505, in run\n    with Popen(*popenargs, **kwargs) as process:\n  File \"/usr/lib/python3.9/subprocess.py\", line 951, in __init__\n    self._execute_child(args, executable, preexec_fn, close_fds,\n  File \"/usr/lib/python3.9/subprocess.py\", line 1821, in _execute_child\n    raise child_exception_type(errno_num, err_msg, err_filename)\nFileNotFoundError: [Errno 2] No such file or directory: 'dot'\n\nThe above exception was the direct cause of the following exception:\n\nTraceback (most recent call last):\n  File \"/databricks/python/lib/python3.9/site-packages/IPython/core/interactiveshell.py\", line 3378, in run_code\n    exec(code_obj, self.user_global_ns, self.user_ns)\n  File \"<command-2533285189213854>\", line 2, in <module>\n    v.save(os.path.join(path_res, \"decision_tree_reg_all.svg\"))\n  File \"/local_disk0/.ephemeral_nfs/envs/pythonEnv-51535c33-8fdc-47b2-b860-5965d621034b/lib/python3.9/site-packages/dtreeviz/utils.py\", line 294, in save\n    graphviz.backend.execute.run_check(cmd, capture_output=True, check=True, quiet=False)\n  File \"/local_disk0/.ephemeral_nfs/envs/pythonEnv-51535c33-8fdc-47b2-b860-5965d621034b/lib/python3.9/site-packages/graphviz/backend/execute.py\", line 84, in run_check\n    raise ExecutableNotFound(cmd) from e\ngraphviz.backend.execute.ExecutableNotFound: failed to execute 'dot', make sure the Graphviz executables are on your systems' PATH\n\nDuring handling of the above exception, another exception occurred:\n\nTraceback (most recent call last):\n  File \"/databricks/python/lib/python3.9/site-packages/IPython/core/interactiveshell.py\", line 1997, in showtraceback\n    stb = self.InteractiveTB.structured_traceback(\n  File \"/databricks/python/lib/python3.9/site-packages/IPython/core/ultratb.py\", line 1112, in structured_traceback\n    return FormattedTB.structured_traceback(\n  File \"/databricks/python/lib/python3.9/site-packages/IPython/core/ultratb.py\", line 1006, in structured_traceback\n    return VerboseTB.structured_traceback(\n  File \"/databricks/python/lib/python3.9/site-packages/IPython/core/ultratb.py\", line 859, in structured_traceback\n    formatted_exception = self.format_exception_as_a_whole(etype, evalue, etb, number_of_lines_of_context,\n  File \"/databricks/python/lib/python3.9/site-packages/IPython/core/ultratb.py\", line 812, in format_exception_as_a_whole\n    frames.append(self.format_record(r))\n  File \"/databricks/python/lib/python3.9/site-packages/IPython/core/ultratb.py\", line 730, in format_record\n    result += ''.join(_format_traceback_lines(frame_info.lines, Colors, self.has_colors, lvals))\n  File \"/databricks/python/lib/python3.9/site-packages/stack_data/utils.py\", line 145, in cached_property_wrapper\n    value = obj.__dict__[self.func.__name__] = self.func(obj)\n  File \"/databricks/python/lib/python3.9/site-packages/stack_data/core.py\", line 698, in lines\n    pieces = self.included_pieces\n  File \"/databricks/python/lib/python3.9/site-packages/stack_data/utils.py\", line 145, in cached_property_wrapper\n    value = obj.__dict__[self.func.__name__] = self.func(obj)\n  File \"/databricks/python/lib/python3.9/site-packages/stack_data/core.py\", line 649, in included_pieces\n    pos = scope_pieces.index(self.executing_piece)\n  File \"/databricks/python/lib/python3.9/site-packages/stack_data/utils.py\", line 145, in cached_property_wrapper\n    value = obj.__dict__[self.func.__name__] = self.func(obj)\n  File \"/databricks/python/lib/python3.9/site-packages/stack_data/core.py\", line 628, in executing_piece\n    return only(\n  File \"/databricks/python/lib/python3.9/site-packages/executing/executing.py\", line 164, in only\n    raise NotOneValueFound('Expected one value, found 0')\nexecuting.executing.NotOneValueFound: Expected one value, found 0\n"
     ]
    },
    {
     "output_type": "display_data",
     "data": {
      "text/plain": [
       ""
      ]
     },
     "metadata": {
      "application/vnd.databricks.v1+output": {
       "arguments": {},
       "data": "",
       "errorSummary": "<span class='ansi-red-fg'>ExecutableNotFound</span>: failed to execute 'dot', make sure the Graphviz executables are on your systems' PATH",
       "errorTraceType": "ansi",
       "metadata": {},
       "type": "ipynbError"
      }
     },
     "output_type": "display_data"
    }
   ],
   "source": [
    "v = viz.view()\n",
    "v.save(os.path.join(path_res, \"decision_tree_reg_all.svg\"))"
   ]
  },
  {
   "cell_type": "code",
   "execution_count": 0,
   "metadata": {
    "application/vnd.databricks.v1+cell": {
     "cellMetadata": {
      "byteLimit": 2048000,
      "rowLimit": 10000
     },
     "inputWidgets": {},
     "nuid": "41c54818-c6d9-4071-844f-88145ab0e18d",
     "showTitle": false,
     "title": ""
    }
   },
   "outputs": [
    {
     "output_type": "stream",
     "name": "stdout",
     "output_type": "stream",
     "text": [
      "Out[64]: '/local_disk0/.ephemeral_nfs/envs/pythonEnv-51535c33-8fdc-47b2-b860-5965d621034b/bin:/local_disk0/.ephemeral_nfs/cluster_libraries/python/bin:/databricks/.pyenv/bin:/usr/local/nvidia/bin:/databricks/python3/bin:/usr/local/sbin:/usr/local/bin:/usr/sbin:/usr/bin:/sbin:/bin:/snap/bin'"
     ]
    }
   ],
   "source": [
    "os.environ[\"PATH\"]\n",
    "# os.listdir(os.environ[\"PATH\"])\n"
   ]
  },
  {
   "cell_type": "code",
   "execution_count": 0,
   "metadata": {
    "application/vnd.databricks.v1+cell": {
     "cellMetadata": {
      "byteLimit": 2048000,
      "rowLimit": 10000
     },
     "inputWidgets": {},
     "nuid": "524ecd86-76e8-4746-83a1-c1e74371f83a",
     "showTitle": false,
     "title": ""
    }
   },
   "outputs": [
    {
     "output_type": "stream",
     "name": "stdout",
     "output_type": "stream",
     "text": [
      "Out[69]: ['dtreeviz',\n '_pytest',\n 'pip-21.2.4.dist-info',\n 'dtreeviz-2.2.2.dist-info',\n 'exceptiongroup',\n '__pycache__',\n 'pip',\n 'colour.py',\n 'colour-0.1.5.dist-info',\n 'iniconfig',\n 'pytest',\n 'graphviz-0.20.1.dist-info',\n 'graphviz',\n 'testing',\n 'exceptiongroup-1.1.3.dist-info',\n 'pytest-7.4.0.dist-info',\n 'iniconfig-2.0.0.dist-info',\n 'pip-21.2.4.virtualenv',\n '_virtualenv.py',\n '_virtualenv.pth',\n 'py.py',\n 'sites.pth']"
     ]
    }
   ],
   "source": [
    "os.listdir(\"/local_disk0/.ephemeral_nfs/envs/pythonEnv-51535c33-8fdc-47b2-b860-5965d621034b/lib/python3.9/site-packages/\")"
   ]
  },
  {
   "cell_type": "code",
   "execution_count": 0,
   "metadata": {
    "application/vnd.databricks.v1+cell": {
     "cellMetadata": {
      "byteLimit": 2048000,
      "rowLimit": 10000
     },
     "inputWidgets": {},
     "nuid": "f037320d-3768-4fa8-a798-a652e44af4d0",
     "showTitle": false,
     "title": ""
    }
   },
   "outputs": [
    {
     "output_type": "stream",
     "name": "stdout",
     "output_type": "stream",
     "text": [
      "Out[68]: '/local_disk0/.ephemeral_nfs/envs/pythonEnv-51535c33-8fdc-47b2-b860-5965d621034b/bin:/local_disk0/.ephemeral_nfs/cluster_libraries/python/bin:/databricks/.pyenv/bin:/usr/local/nvidia/bin:/databricks/python3/bin:/usr/local/sbin:/usr/local/bin:/usr/sbin:/usr/bin:/sbin:/bin:/snap/bin:/local_disk0/.ephemeral_nfs/envs/pythonEnv-51535c33-8fdc-47b2-b860-5965d621034b/lib/python3.9/site-packages/graphviz'"
     ]
    }
   ],
   "source": [
    "os.environ[\"PATH\"]"
   ]
  },
  {
   "cell_type": "code",
   "execution_count": 0,
   "metadata": {
    "application/vnd.databricks.v1+cell": {
     "cellMetadata": {
      "byteLimit": 2048000,
      "rowLimit": 10000
     },
     "inputWidgets": {},
     "nuid": "44fab54f-db3d-472c-8bcb-eefee346d86f",
     "showTitle": false,
     "title": ""
    }
   },
   "outputs": [],
   "source": [
    "os.environ[\"PATH\"] += os.pathsep + \"/local_disk0/.ephemeral_nfs/envs/pythonEnv-51535c33-8fdc-47b2-b860-5965d621034b/lib/python3.9/site-packages/graphviz\""
   ]
  },
  {
   "cell_type": "code",
   "execution_count": 0,
   "metadata": {
    "application/vnd.databricks.v1+cell": {
     "cellMetadata": {
      "byteLimit": 2048000,
      "rowLimit": 10000
     },
     "inputWidgets": {},
     "nuid": "55f37862-766e-4312-8a86-919ce0f64499",
     "showTitle": false,
     "title": ""
    }
   },
   "outputs": [
    {
     "output_type": "stream",
     "name": "stdout",
     "output_type": "stream",
     "text": [
      "Out[72]: '0.20.1'"
     ]
    }
   ],
   "source": [
    "import graphviz\n",
    "graphviz.__version__"
   ]
  },
  {
   "cell_type": "markdown",
   "metadata": {
    "application/vnd.databricks.v1+cell": {
     "cellMetadata": {
      "byteLimit": 2048000,
      "rowLimit": 10000
     },
     "inputWidgets": {},
     "nuid": "2445daa8-3823-466d-9f94-25b6e54f09d7",
     "showTitle": false,
     "title": ""
    }
   },
   "source": [
    "### loop among the clusters"
   ]
  },
  {
   "cell_type": "code",
   "execution_count": 0,
   "metadata": {
    "application/vnd.databricks.v1+cell": {
     "cellMetadata": {
      "byteLimit": 2048000,
      "rowLimit": 10000
     },
     "inputWidgets": {},
     "nuid": "e8700659-fd0b-44d6-b9a8-da4a9d7e4529",
     "showTitle": false,
     "title": ""
    }
   },
   "outputs": [
    {
     "output_type": "stream",
     "name": "stdout",
     "output_type": "stream",
     "text": [
      "\nnumber of products in cluster category_imf : 16\ntarget\n2.0       7\n1.0       6\n3.0       3\n4.0       0\ndtype: int64\n"
     ]
    },
    {
     "output_type": "stream",
     "name": "stderr",
     "output_type": "stream",
     "text": [
      "<command-3173362489925718>:4: SettingWithCopyWarning: \nA value is trying to be set on a copy of a slice from a DataFrame\n\nSee the caveats in the documentation: https://pandas.pydata.org/pandas-docs/stable/user_guide/indexing.html#returning-a-view-versus-a-copy\n"
     ]
    },
    {
     "output_type": "stream",
     "name": "stdout",
     "output_type": "stream",
     "text": [
      "[2.0, 3.0, 1.0]\ndecision_tree_training... \naccuracy_score = 1.0\n['1.0', '2.0', '3.0']\n\nnumber of products in cluster protein_type_intact : 118\ntarget\n2.0       57\n1.0       34\n3.0       23\n4.0        4\ndtype: int64\n"
     ]
    },
    {
     "output_type": "stream",
     "name": "stderr",
     "output_type": "stream",
     "text": [
      "<command-3173362489925718>:4: SettingWithCopyWarning: \nA value is trying to be set on a copy of a slice from a DataFrame\n\nSee the caveats in the documentation: https://pandas.pydata.org/pandas-docs/stable/user_guide/indexing.html#returning-a-view-versus-a-copy\n"
     ]
    },
    {
     "output_type": "stream",
     "name": "stdout",
     "output_type": "stream",
     "text": [
      "[2.0, 1.0, 3.0, 4.0]\ndecision_tree_training... \naccuracy_score = 0.9152542372881356\n['1.0', '2.0', '3.0', '4.0']\n\nnumber of products in cluster protein_type_hydrolyzed : 8\ntarget\n3.0       6\n2.0       2\n1.0       0\n4.0       0\ndtype: int64\n"
     ]
    },
    {
     "output_type": "stream",
     "name": "stderr",
     "output_type": "stream",
     "text": [
      "<command-3173362489925718>:4: SettingWithCopyWarning: \nA value is trying to be set on a copy of a slice from a DataFrame\n\nSee the caveats in the documentation: https://pandas.pydata.org/pandas-docs/stable/user_guide/indexing.html#returning-a-view-versus-a-copy\n"
     ]
    },
    {
     "output_type": "stream",
     "name": "stdout",
     "output_type": "stream",
     "text": [
      "[3.0, 2.0]\ndecision_tree_training... \naccuracy_score = 1.0\n['2.0', '3.0']\n<Figure size 951.875x900 with 0 Axes><Figure size 951.875x900 with 0 Axes><Figure size 1080x720 with 0 Axes><Figure size 951.875x900 with 0 Axes><Figure size 951.875x900 with 0 Axes><Figure size 1080x720 with 0 Axes><Figure size 951.875x900 with 0 Axes><Figure size 951.875x900 with 0 Axes><Figure size 1080x720 with 0 Axes>"
     ]
    }
   ],
   "source": [
    "for cluster_name in df_filters.index:\n",
    "    df_cluster, path_res = get_cluster(df, cluster_name)\n",
    "    num_prod = len(df_cluster)\n",
    "    print(\"\\nnumber of products in cluster\", cluster_name, \":\", num_prod)\n",
    "    print(df_cluster[[\"target\"]].value_counts())\n",
    "\n",
    "    make_pairplots(df_cluster, path_res, cluster_name)\n",
    "    X, y = process_data(df_cluster)\n",
    "    print(y.unique().tolist())\n",
    "    model = decision_tree_train_pred(X, y)\n",
    "    decision_tree_viz(model, X, y, path_res, cluster_name)\n",
    "    feature_importance_chart(model, X, path_res, cluster_name, num_prod)\n"
   ]
  },
  {
   "cell_type": "code",
   "execution_count": 0,
   "metadata": {
    "application/vnd.databricks.v1+cell": {
     "cellMetadata": {
      "byteLimit": 2048000,
      "rowLimit": 10000
     },
     "inputWidgets": {},
     "nuid": "2f1b970d-170c-4ead-99a4-00f9fe489f6b",
     "showTitle": false,
     "title": ""
    }
   },
   "outputs": [],
   "source": [
    "# from sklearn.feature_selection import VarianceThreshold\n",
    "# sel = VarianceThreshold(threshold=1e-6)\n",
    "# X_num_sel = sel.fit_transform(X_num)\n",
    "# # for understanding: get and visualize the mask\n",
    "# mask = sel.get_support()\n",
    "# plt.matshow(mask.reshape(1,-1), cmap = 'gray_r')\n",
    "# plt.xlabel('Numeric feature selection by variance');\n",
    "# print(\"features with too low variance:\", list(X_num.columns[~mask]))"
   ]
  },
  {
   "cell_type": "code",
   "execution_count": 0,
   "metadata": {
    "application/vnd.databricks.v1+cell": {
     "cellMetadata": {
      "byteLimit": 2048000,
      "rowLimit": 10000
     },
     "inputWidgets": {},
     "nuid": "e12c172c-bd6c-4e3b-85d7-3392e17b88d5",
     "showTitle": false,
     "title": ""
    }
   },
   "outputs": [],
   "source": [
    "# from sklearn.feature_selection import SelectKBest\n",
    "# from sklearn.feature_selection import mutual_info_regression\n",
    "# sel = SelectKBest(score_func = mutual_info_regression, k=20)\n",
    "# sel.fit(X_num, y)\n",
    "# mask = sel.get_support()\n",
    "# plt.matshow(mask.reshape(1,-1), cmap = 'gray_r')\n",
    "# print(\"Top 20 numeric features selected:\")\n",
    "# for feat in list(X_num.columns[mask]):\n",
    "#     print('\\t', feat)\n",
    "# plt.xlabel('Feature selection by mutual information ');"
   ]
  }
 ],
 "metadata": {
  "application/vnd.databricks.v1+notebook": {
   "dashboards": [],
   "language": "python",
   "notebookMetadata": {
    "mostRecentlyExecutedCommandWithImplicitDF": {
     "commandId": 2533285189213847,
     "dataframes": [
      "_sqldf"
     ]
    },
    "pythonIndentUnit": 4
   },
   "notebookName": "sta_data_analysis_visualization_modeling",
   "widgets": {}
  },
  "interpreter": {
   "hash": "ce2b0c9b9c6d490ff67658413ef0a64d5bf5d7c8382b5842f6c2b7940708096a"
  },
  "kernelspec": {
   "display_name": "Python 3 (ipykernel)",
   "language": "python",
   "name": "python3"
  },
  "language_info": {
   "codemirror_mode": {
    "name": "ipython",
    "version": 3
   },
   "file_extension": ".py",
   "mimetype": "text/x-python",
   "name": "python",
   "nbconvert_exporter": "python",
   "pygments_lexer": "ipython3",
   "version": "3.10.11"
  }
 },
 "nbformat": 4,
 "nbformat_minor": 0
}
